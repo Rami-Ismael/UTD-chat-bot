{
 "cells": [
  {
   "cell_type": "markdown",
   "metadata": {},
   "source": [
    "# Load the Dataset"
   ]
  },
  {
   "cell_type": "code",
   "execution_count": 8,
   "metadata": {},
   "outputs": [
    {
     "name": "stderr",
     "output_type": "stream",
     "text": [
      "/home/null/miniconda3/envs/utd_chatbot/lib/python3.7/site-packages/tqdm/auto.py:22: TqdmWarning: IProgress not found. Please update jupyter and ipywidgets. See https://ipywidgets.readthedocs.io/en/stable/user_install.html\n",
      "  from .autonotebook import tqdm as notebook_tqdm\n",
      "Using custom data configuration default-b5279144beba40c5\n",
      "Found cached dataset csv (/home/null/.cache/huggingface/datasets/csv/default-b5279144beba40c5/0.0.0/6b34fb8fcf56f7c8ba51dc895bfa2bfbe43546f190a60fcf74bb5e8afdcc2317)\n",
      "100%|██████████| 1/1 [00:00<00:00, 512.75it/s]\n"
     ]
    },
    {
     "data": {
      "text/html": [
       "<pre style=\"white-space:pre;overflow-x:auto;line-height:normal;font-family:Menlo,'DejaVu Sans Mono',consolas,'Courier New',monospace\"><span style=\"color: #800080; text-decoration-color: #800080; font-weight: bold\">DatasetDict</span><span style=\"font-weight: bold\">({</span>\n",
       "    train: <span style=\"color: #800080; text-decoration-color: #800080; font-weight: bold\">Dataset</span><span style=\"font-weight: bold\">({</span>\n",
       "        features: <span style=\"font-weight: bold\">[</span><span style=\"color: #008000; text-decoration-color: #008000\">'Question'</span>, <span style=\"color: #008000; text-decoration-color: #008000\">'Answering'</span>, <span style=\"color: #008000; text-decoration-color: #008000\">'URL'</span>, <span style=\"color: #008000; text-decoration-color: #008000\">'Label'</span><span style=\"font-weight: bold\">]</span>,\n",
       "        num_rows: <span style=\"color: #008080; text-decoration-color: #008080; font-weight: bold\">23</span>\n",
       "    <span style=\"font-weight: bold\">})</span>\n",
       "<span style=\"font-weight: bold\">})</span>\n",
       "</pre>\n"
      ],
      "text/plain": [
       "\u001b[1;35mDatasetDict\u001b[0m\u001b[1m(\u001b[0m\u001b[1m{\u001b[0m\n",
       "    train: \u001b[1;35mDataset\u001b[0m\u001b[1m(\u001b[0m\u001b[1m{\u001b[0m\n",
       "        features: \u001b[1m[\u001b[0m\u001b[32m'Question'\u001b[0m, \u001b[32m'Answering'\u001b[0m, \u001b[32m'URL'\u001b[0m, \u001b[32m'Label'\u001b[0m\u001b[1m]\u001b[0m,\n",
       "        num_rows: \u001b[1;36m23\u001b[0m\n",
       "    \u001b[1m}\u001b[0m\u001b[1m)\u001b[0m\n",
       "\u001b[1m}\u001b[0m\u001b[1m)\u001b[0m\n"
      ]
     },
     "metadata": {},
     "output_type": "display_data"
    },
    {
     "name": "stderr",
     "output_type": "stream",
     "text": [
      "Loading cached processed dataset at /home/null/.cache/huggingface/datasets/csv/default-b5279144beba40c5/0.0.0/6b34fb8fcf56f7c8ba51dc895bfa2bfbe43546f190a60fcf74bb5e8afdcc2317/cache-d8b863d6763fbde1.arrow\n",
      "100%|██████████| 20/20 [00:00<00:00, 4033.57ex/s]\n"
     ]
    }
   ],
   "source": [
    "from datasets import load_dataset\n",
    "from rich import print\n",
    "\n",
    "faq_dataset = load_dataset(\"csv\" , data_files=\"/home/null/code/utd_chatbot/FAQ on UTD Student Accesebility - Sheet1.csv\")\n",
    "print(faq_dataset)\n",
    "## remove all the None values\n",
    "faq_dataset = faq_dataset.filter(lambda x: x['Question'] is not None and x['Answering'] is not None)\n",
    "## reaplace all the word ARC to AccessAbility Resource Center and\n",
    "'''\n",
    "Office location: Administration Building, Room 2.224\n",
    "Email: studentaccess@utdallas.edu (Do not email attachments, upload documents to utd.link/arcupload only.)\n",
    "Phone: (972) 883-2098\n",
    "Fax: Please don’t fax, use utd.link/arcupload\n",
    "Mail: AD 30, 800 West Campbell Rd., Richardson TX 75080\n",
    "'''\n",
    "faq_dataset = faq_dataset.map(lambda x: {'Question': x['Question'].replace('ARC', 'AccessAbility Resource Center'), 'Answering': x['Answering'].replace('ARC', 'AccessAbility Resource Center')})"
   ]
  },
  {
   "cell_type": "markdown",
   "metadata": {},
   "source": [
    "# Preprocess the dataset"
   ]
  },
  {
   "cell_type": "markdown",
   "metadata": {},
   "source": [
    "## remove all the None values"
   ]
  },
  {
   "cell_type": "code",
   "execution_count": 9,
   "metadata": {},
   "outputs": [
    {
     "name": "stderr",
     "output_type": "stream",
     "text": [
      "100%|██████████| 1/1 [00:00<00:00, 55.15ba/s]\n"
     ]
    }
   ],
   "source": [
    "## remove all the None values\n",
    "faq_dataset = faq_dataset.filter(lambda x: x['Question'] is not None and x['Answering'] is not None)"
   ]
  },
  {
   "cell_type": "markdown",
   "metadata": {},
   "source": [
    "## Replace all the ARC to Accessible Resource Center"
   ]
  },
  {
   "cell_type": "code",
   "execution_count": 10,
   "metadata": {},
   "outputs": [
    {
     "name": "stderr",
     "output_type": "stream",
     "text": [
      "100%|██████████| 20/20 [00:00<00:00, 4128.86ex/s]\n",
      "100%|██████████| 20/20 [00:00<00:00, 5174.32ex/s]\n"
     ]
    }
   ],
   "source": [
    "# replace all the word UTD to University of Texas at Dallas\n",
    "# replace all the ARC to AccessAbility Resource Center\n",
    "faq_dataset = faq_dataset.map(lambda x: {'Question': x['Question'].replace('UTD', 'University of Texas at Dallas'), 'Answering': x['Answering'].replace('UTD', 'University of Texas at Dallas')})\n",
    "faq_dataset = faq_dataset.map(lambda x: {'Question': x['Question'].replace('ARC', 'AccessAbility Resource Center'), 'Answering': x['Answering'].replace('ARC', 'AccessAbility Resource Center')})"
   ]
  },
  {
   "cell_type": "markdown",
   "metadata": {},
   "source": [
    "# Load the Open AI Emebddigns"
   ]
  },
  {
   "cell_type": "code",
   "execution_count": 11,
   "metadata": {},
   "outputs": [],
   "source": [
    "import openai\n",
    "from dotenv import load_dotenv\n",
    "import os\n",
    "load_dotenv()  # take environment variables from .env.\n",
    "\n",
    "OPENKEY_API = os.getenv(\"OPENAI_KEY\")\n",
    "ORGANIZATION_ID = os.getenv(\"ORGANIZATION_ID\")\n",
    "openai.organization = ORGANIZATION_ID\n",
    "# get this from top-right dropdown on OpenAI under organization > settings\n",
    "openai.api_key = OPENKEY_API\n",
    "# get API key from top-right dropdown on OpenAI website\n",
    "\n",
    "openai.Engine.list()  # check we have authenticated\n",
    "## model of choices\n",
    "MODEL = \"text-similarity-babbage-001\""
   ]
  },
  {
   "cell_type": "markdown",
   "metadata": {},
   "source": [
    "# Ini the Pinecone Client"
   ]
  },
  {
   "cell_type": "code",
   "execution_count": 12,
   "metadata": {},
   "outputs": [],
   "source": [
    "import pinecone\n",
    "PINECONE_APIKEY = os.getenv(\"PINECONE_APIKEY\")\n",
    "# initialize connection to pinecone (get API key at app.pinecone.io)\n",
    "pinecone.init(\n",
    "    api_key = PINECONE_APIKEY,\n",
    "    environment=\"us-east1-gcp\"\n",
    ")"
   ]
  },
  {
   "cell_type": "code",
   "execution_count": 13,
   "metadata": {},
   "outputs": [],
   "source": [
    "index = pinecone.Index(index_name=\"utd-chabot\")"
   ]
  },
  {
   "cell_type": "markdown",
   "metadata": {},
   "source": [
    "# Query a Vector Database"
   ]
  },
  {
   "cell_type": "code",
   "execution_count": 14,
   "metadata": {},
   "outputs": [],
   "source": [
    "def query_vector_database(query):\n",
    "    xq = openai.Embedding.create(input=query, engine=MODEL)['data'][0]['embedding']\n",
    "    res = index.query([xq], top_k=5, include_metadata=True)\n",
    "    return res"
   ]
  },
  {
   "cell_type": "markdown",
   "metadata": {},
   "source": [
    "# Role Prompt"
   ]
  },
  {
   "cell_type": "code",
   "execution_count": 15,
   "metadata": {},
   "outputs": [],
   "source": [
    "role_prompt = \"\"\"\n",
    "Please act as a University of Texas at Dallas Counselor. I will provide you with an individual \n",
    "looking for guidance at the University of Texas at Dallas, and your task is to help them \n",
    "solve their problem\\n\n",
    "\"\"\""
   ]
  },
  {
   "cell_type": "markdown",
   "metadata": {},
   "source": [
    "# Create an standard QA Propmt"
   ]
  },
  {
   "cell_type": "code",
   "execution_count": 16,
   "metadata": {},
   "outputs": [],
   "source": [
    "def create_an_standard_qa_prompt( query , res):\n",
    "    import copy\n",
    "    role_prompt_temp =  copy.deepcopy(role_prompt)\n",
    "    for query_response in  res[\"matches\"]:\n",
    "        answer = faq_dataset['train'].filter(lambda x: x['Question'] == query_response['metadata']['text'])['Answering'][0]\n",
    "        role_prompt_temp += f\"Q: {query_response['metadata']['text']}\\nA: {answer}\\n\"\n",
    "    prompt = role_prompt_temp + f\"Q: {query}\\nA:Let’s think step by step.\"\n",
    "    return prompt"
   ]
  },
  {
   "cell_type": "markdown",
   "metadata": {},
   "source": [
    "# Called a LLM Decoder Model"
   ]
  },
  {
   "cell_type": "code",
   "execution_count": null,
   "metadata": {},
   "outputs": [],
   "source": [
    "def called_llm_decoder_model(prompt):\n",
    "  response = openai.Completion.create(\n",
    "    model=\"text-davinci-002\",\n",
    "    prompt =  prompt,\n",
    "    temperature = 0.8,\n",
    "    max_tokens=256,\n",
    "    top_p=1,\n",
    "    frequency_penalty=0,\n",
    "    presence_penalty=0\n",
    "  )\n",
    "  return response[\"choices\"][0][\"text\"]"
   ]
  },
  {
   "cell_type": "markdown",
   "metadata": {},
   "source": [
    "# Post Process of the Output"
   ]
  },
  {
   "cell_type": "code",
   "execution_count": null,
   "metadata": {},
   "outputs": [],
   "source": [
    "def post_process(ans):\n",
    "    if \"ARC\" in ans:\n",
    "        ans = ans.replace(\"ARC\", \"AccessAbility Resource Center\")\n",
    "        ans += \"\"\" \n",
    "        Office location: Administration Building, Room 2.224 \\n\n",
    "        Email: studentaccess@utdallas.edu (Do not email attachments, upload documents to utd.link/arcupload only.) \\n\n",
    "        Phone: (972) 883-2098 \\n\n",
    "        Fax: Please don’t fax, use utd.link/arcupload \\n\n",
    "        Mail: AD 30, 800 West Campbell Rd., Richardson TX 75080    Office location: Administration Building, Room 2.224\\n\n",
    "        \"\"\"\n",
    "    return ans"
   ]
  },
  {
   "cell_type": "markdown",
   "metadata": {},
   "source": [
    "# Gradio"
   ]
  },
  {
   "cell_type": "code",
   "execution_count": null,
   "metadata": {},
   "outputs": [
    {
     "data": {
      "text/html": [
       "<pre style=\"white-space:pre;overflow-x:auto;line-height:normal;font-family:Menlo,'DejaVu Sans Mono',consolas,'Courier New',monospace\"> The first thing you need to do is get documentation from a qualified professional <span style=\"font-weight: bold\">(</span>e.g. physician, psychologist, \n",
       "licensed counselor, etc.<span style=\"font-weight: bold\">)</span> that indicates a diagnosis of ADHD and how it impacts your academic performance. This \n",
       "documentation is important because it will help determine what accommodations may be appropriate for you. \n",
       "\n",
       "Once you have documentation, you will need to make an appointment with the AccessAbility Resource Center to \n",
       "register for services and discuss your educational needs. During this appointment, you will also have the \n",
       "opportunity to learn more about ADHD and how it may impact your academic success. \n",
       "\n",
       "The AccessAbility Resource Center staff will work with you to develop an individualized service plan that includes \n",
       "academic accommodations and other support services. Some of the academic accommodations that may be appropriate for\n",
       "students with ADHD include extended time for test taking, note takers, printed materials in alternate formats, sign\n",
       "language interpreters and the use of assistive technology.\n",
       " \n",
       "    Office location: Administration Building, Room <span style=\"color: #008080; text-decoration-color: #008080; font-weight: bold\">2.224</span> \n",
       "\n",
       "    Email: studentaccess@utdallas.edu <span style=\"font-weight: bold\">(</span>Do not email attachments, upload documents to utd.link/arcupload only.<span style=\"font-weight: bold\">)</span> \n",
       "\n",
       "    Phone: <span style=\"font-weight: bold\">(</span><span style=\"color: #008080; text-decoration-color: #008080; font-weight: bold\">972</span><span style=\"font-weight: bold\">)</span> <span style=\"color: #008080; text-decoration-color: #008080; font-weight: bold\">883</span>-<span style=\"color: #008080; text-decoration-color: #008080; font-weight: bold\">2098</span> \n",
       "\n",
       "    Fax: Please don’t fax, use utd.link/arcupload \n",
       "\n",
       "    Mail: AD <span style=\"color: #008080; text-decoration-color: #008080; font-weight: bold\">30</span>, <span style=\"color: #008080; text-decoration-color: #008080; font-weight: bold\">800</span> West Campbell Rd., Richardson TX <span style=\"color: #008080; text-decoration-color: #008080; font-weight: bold\">75080</span>    Office location: Administration Building, Room <span style=\"color: #008080; text-decoration-color: #008080; font-weight: bold\">2.224</span>\n",
       "\n",
       "    \n",
       "</pre>\n"
      ],
      "text/plain": [
       " The first thing you need to do is get documentation from a qualified professional \u001b[1m(\u001b[0me.g. physician, psychologist, \n",
       "licensed counselor, etc.\u001b[1m)\u001b[0m that indicates a diagnosis of ADHD and how it impacts your academic performance. This \n",
       "documentation is important because it will help determine what accommodations may be appropriate for you. \n",
       "\n",
       "Once you have documentation, you will need to make an appointment with the AccessAbility Resource Center to \n",
       "register for services and discuss your educational needs. During this appointment, you will also have the \n",
       "opportunity to learn more about ADHD and how it may impact your academic success. \n",
       "\n",
       "The AccessAbility Resource Center staff will work with you to develop an individualized service plan that includes \n",
       "academic accommodations and other support services. Some of the academic accommodations that may be appropriate for\n",
       "students with ADHD include extended time for test taking, note takers, printed materials in alternate formats, sign\n",
       "language interpreters and the use of assistive technology.\n",
       " \n",
       "    Office location: Administration Building, Room \u001b[1;36m2.224\u001b[0m \n",
       "\n",
       "    Email: studentaccess@utdallas.edu \u001b[1m(\u001b[0mDo not email attachments, upload documents to utd.link/arcupload only.\u001b[1m)\u001b[0m \n",
       "\n",
       "    Phone: \u001b[1m(\u001b[0m\u001b[1;36m972\u001b[0m\u001b[1m)\u001b[0m \u001b[1;36m883\u001b[0m-\u001b[1;36m2098\u001b[0m \n",
       "\n",
       "    Fax: Please don’t fax, use utd.link/arcupload \n",
       "\n",
       "    Mail: AD \u001b[1;36m30\u001b[0m, \u001b[1;36m800\u001b[0m West Campbell Rd., Richardson TX \u001b[1;36m75080\u001b[0m    Office location: Administration Building, Room \u001b[1;36m2.224\u001b[0m\n",
       "\n",
       "    \n"
      ]
     },
     "metadata": {},
     "output_type": "display_data"
    }
   ],
   "source": [
    "import gradio as gr\n",
    "questions = []\n",
    "\n",
    "def utd_chatbot( question ):\n",
    "    questions.append( question )\n",
    "    ## store the question in the csvs file\n",
    "    import pandas as pd\n",
    "    data = pd.DataFrame(question)\n",
    "    data.to_csv(\"questions.csv\")\n",
    "    propmt = create_an_standard_qa_prompt(question, query_vector_database(question))\n",
    "    ans = called_llm_decoder_model(propmt)\n",
    "    post_process(ans)\n",
    "    return ans\n",
    "\n",
    "demo = gr.Interface(fn=utd_chatbot, inputs=\"text\", outputs=\"text\")\n",
    "\n",
    "demo.launch()   "
   ]
  },
  {
   "cell_type": "code",
   "execution_count": null,
   "metadata": {},
   "outputs": [
    {
     "name": "stdout",
     "output_type": "stream",
     "text": [
      "Running on local URL:  http://127.0.0.1:7862\n",
      "\n",
      "To create a public link, set `share=True` in `launch()`.\n"
     ]
    },
    {
     "data": {
      "text/html": [
       "<div><iframe src=\"http://127.0.0.1:7862/\" width=\"100%\" height=\"500\" allow=\"autoplay; camera; microphone; clipboard-read; clipboard-write;\" frameborder=\"0\" allowfullscreen></iframe></div>"
      ],
      "text/plain": [
       "<IPython.core.display.HTML object>"
      ]
     },
     "metadata": {},
     "output_type": "display_data"
    },
    {
     "data": {
      "text/plain": []
     },
     "metadata": {},
     "output_type": "display_data"
    }
   ],
   "source": [
    "import gradio as gr\n",
    "question = []\n",
    "\n",
    "def greet(name):\n",
    "    question.append(name)\n",
    "    ## store the question in the csvs file\n",
    "    import pandas as pd\n",
    "    data = pd.DataFrame(question)\n",
    "    data.to_csv(\"questions.csv\")\n",
    "    return \"Hello \" + name + \"!\"\n",
    "\n",
    "demo = gr.Interface(fn=greet, inputs=\"text\", outputs=\"text\")\n",
    "\n",
    "demo.launch()   "
   ]
  }
 ],
 "metadata": {
  "kernelspec": {
   "display_name": "Python 3.7.16 ('utd_chatbot')",
   "language": "python",
   "name": "python3"
  },
  "language_info": {
   "codemirror_mode": {
    "name": "ipython",
    "version": 3
   },
   "file_extension": ".py",
   "mimetype": "text/x-python",
   "name": "python",
   "nbconvert_exporter": "python",
   "pygments_lexer": "ipython3",
   "version": "3.7.16"
  },
  "orig_nbformat": 4,
  "vscode": {
   "interpreter": {
    "hash": "c9ff9b4d34df2539584901dcbbee8740b4a40a3636c7400fd1d2b55da32052e7"
   }
  }
 },
 "nbformat": 4,
 "nbformat_minor": 2
}
