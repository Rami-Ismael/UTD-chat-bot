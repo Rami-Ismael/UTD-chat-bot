{
 "cells": [
  {
   "cell_type": "markdown",
   "metadata": {},
   "source": [
    "# Load the Dataset"
   ]
  },
  {
   "cell_type": "code",
   "execution_count": 1,
   "metadata": {},
   "outputs": [
    {
     "ename": "ModuleNotFoundError",
     "evalue": "No module named 'datasets'",
     "output_type": "error",
     "traceback": [
      "\u001b[0;31m---------------------------------------------------------------------------\u001b[0m",
      "\u001b[0;31mModuleNotFoundError\u001b[0m                       Traceback (most recent call last)",
      "Cell \u001b[0;32mIn[1], line 1\u001b[0m\n\u001b[0;32m----> 1\u001b[0m \u001b[38;5;28;01mfrom\u001b[39;00m \u001b[38;5;21;01mdatasets\u001b[39;00m \u001b[38;5;28;01mimport\u001b[39;00m load_dataset\n\u001b[1;32m      2\u001b[0m \u001b[38;5;28;01mfrom\u001b[39;00m \u001b[38;5;21;01mrich\u001b[39;00m \u001b[38;5;28;01mimport\u001b[39;00m \u001b[38;5;28mprint\u001b[39m\n\u001b[1;32m      3\u001b[0m \u001b[38;5;28;01mfrom\u001b[39;00m \u001b[38;5;21;01mrich\u001b[39;00m \u001b[38;5;28;01mimport\u001b[39;00m \u001b[38;5;28mprint\u001b[39m\n",
      "\u001b[0;31mModuleNotFoundError\u001b[0m: No module named 'datasets'"
     ]
    }
   ],
   "source": [
    "from datasets import load_dataset\n",
    "from rich import print\n",
    "from rich import print\n",
    "\n",
    "faq_dataset = load_dataset(\"csv\" , data_files=\"/home/null/code/utd_chatbot/FAQ on UTD Student Accesebility - Sheet1.csv\")\n",
    "print(faq_dataset)\n",
    "## remove all the None values\n",
    "faq_dataset = faq_dataset.filter(lambda x: x['Question'] is not None and x['Answering'] is not None)\n",
    "## reaplace all the word ARC to AccessAbility Resource Center and\n",
    "'''\n",
    "Office location: Administration Building, Room 2.224\n",
    "Email: studentaccess@utdallas.edu (Do not email attachments, upload documents to utd.link/arcupload only.)\n",
    "Phone: (972) 883-2098\n",
    "Fax: Please don’t fax, use utd.link/arcupload\n",
    "Mail: AD 30, 800 West Campbell Rd., Richardson TX 75080\n",
    "'''\n",
    "faq_dataset = faq_dataset.map(lambda x: {'Question': x['Question'].replace('ARC', 'AccessAbility Resource Center'), 'Answering': x['Answering'].replace('ARC', 'AccessAbility Resource Center')})"
   ]
  },
  {
   "cell_type": "markdown",
   "metadata": {},
   "source": [
    "# Preprocess the dataset"
   ]
  },
  {
   "cell_type": "markdown",
   "metadata": {},
   "source": [
    "## remove all the None values"
   ]
  },
  {
   "cell_type": "code",
   "execution_count": 2,
   "metadata": {},
   "outputs": [
    {
     "name": "stderr",
     "output_type": "stream",
     "text": [
      "Loading cached processed dataset at /home/null/.cache/huggingface/datasets/csv/default-b5279144beba40c5/0.0.0/6b34fb8fcf56f7c8ba51dc895bfa2bfbe43546f190a60fcf74bb5e8afdcc2317/cache-f0be635390229960.arrow\n"
     ]
    }
   ],
   "source": [
    "## remove all the None values\n",
    "faq_dataset = faq_dataset.filter(lambda x: x['Question'] is not None and x['Answering'] is not None)"
   ]
  },
  {
   "cell_type": "markdown",
   "metadata": {},
   "source": [
    "## Replace all the ARC to Accessible Resource Center"
   ]
  },
  {
   "cell_type": "code",
   "execution_count": 3,
   "metadata": {},
   "outputs": [
    {
     "name": "stderr",
     "output_type": "stream",
     "text": [
      "Loading cached processed dataset at /home/null/.cache/huggingface/datasets/csv/default-b5279144beba40c5/0.0.0/6b34fb8fcf56f7c8ba51dc895bfa2bfbe43546f190a60fcf74bb5e8afdcc2317/cache-9c8a39eaf810fe9d.arrow\n",
      "Loading cached processed dataset at /home/null/.cache/huggingface/datasets/csv/default-b5279144beba40c5/0.0.0/6b34fb8fcf56f7c8ba51dc895bfa2bfbe43546f190a60fcf74bb5e8afdcc2317/cache-c63ea3f7cd72048e.arrow\n"
     ]
    }
   ],
   "source": [
    "# replace all the word UTD to University of Texas at Dallas\n",
    "# replace all the ARC to AccessAbility Resource Center\n",
    "faq_dataset = faq_dataset.map(lambda x: {'Question': x['Question'].replace('UTD', 'University of Texas at Dallas'), 'Answering': x['Answering'].replace('UTD', 'University of Texas at Dallas')})\n",
    "faq_dataset = faq_dataset.map(lambda x: {'Question': x['Question'].replace('ARC', 'AccessAbility Resource Center'), 'Answering': x['Answering'].replace('ARC', 'AccessAbility Resource Center')})"
   ]
  },
  {
   "cell_type": "markdown",
   "metadata": {},
   "source": [
    "# Load the Open AI Emebddigns"
   ]
  },
  {
   "cell_type": "code",
   "execution_count": 4,
   "metadata": {},
   "outputs": [],
   "source": [
    "import openai\n",
    "from dotenv import load_dotenv\n",
    "import os\n",
    "load_dotenv()  # take environment variables from .env.\n",
    "\n",
    "OPENKEY_API = os.getenv(\"OPENAI_KEY\")\n",
    "ORGANIZATION_ID = os.getenv(\"ORGANIZATION_ID\")\n",
    "openai.organization = ORGANIZATION_ID\n",
    "# get this from top-right dropdown on OpenAI under organization > settings\n",
    "openai.api_key = OPENKEY_API\n",
    "# get API key from top-right dropdown on OpenAI website\n",
    "\n",
    "openai.Engine.list()  # check we have authenticated\n",
    "## model of choices\n",
    "MODEL = \"text-similarity-babbage-001\""
   ]
  },
  {
   "cell_type": "markdown",
   "metadata": {},
   "source": [
    "# Ini the Pinecone Client"
   ]
  },
  {
   "cell_type": "code",
   "execution_count": 3,
   "metadata": {},
   "outputs": [
    {
     "ename": "ModuleNotFoundError",
     "evalue": "No module named 'pinecone'",
     "output_type": "error",
     "traceback": [
      "\u001b[0;31m---------------------------------------------------------------------------\u001b[0m",
      "\u001b[0;31mModuleNotFoundError\u001b[0m                       Traceback (most recent call last)",
      "Cell \u001b[0;32mIn[3], line 1\u001b[0m\n\u001b[0;32m----> 1\u001b[0m \u001b[38;5;28;01mimport\u001b[39;00m \u001b[38;5;21;01mpinecone\u001b[39;00m\n\u001b[1;32m      2\u001b[0m PINECONE_APIKEY \u001b[38;5;241m=\u001b[39m os\u001b[38;5;241m.\u001b[39mgetenv(\u001b[38;5;124m\"\u001b[39m\u001b[38;5;124mPINECONE_APIKEY\u001b[39m\u001b[38;5;124m\"\u001b[39m)\n\u001b[1;32m      3\u001b[0m \u001b[38;5;66;03m# initialize connection to pinecone (get API key at app.pinecone.io)\u001b[39;00m\n",
      "\u001b[0;31mModuleNotFoundError\u001b[0m: No module named 'pinecone'"
     ]
    }
   ],
   "source": [
    "import pinecone\n",
    "PINECONE_APIKEY = os.getenv(\"PINECONE_APIKEY\")\n",
    "# initialize connection to pinecone (get API key at app.pinecone.io)\n",
    "pinecone.init(\n",
    "    api_key = PINECONE_APIKEY,\n",
    "    environment=\"us-east1-gcp\"\n",
    ")"
   ]
  },
  {
   "cell_type": "code",
   "execution_count": 6,
   "metadata": {},
   "outputs": [],
   "source": [
    "index = pinecone.Index(index_name=\"utd-chabot\")"
   ]
  },
  {
   "cell_type": "markdown",
   "metadata": {},
   "source": [
    "# Query a Vector Database"
   ]
  },
  {
   "cell_type": "code",
   "execution_count": 7,
   "metadata": {},
   "outputs": [],
   "source": [
    "def query_vector_database(query):\n",
    "    xq = openai.Embedding.create(input=query, engine=MODEL)['data'][0]['embedding']\n",
    "    res = index.query([xq], top_k=5, include_metadata=True)\n",
    "    return res"
   ]
  },
  {
   "cell_type": "markdown",
   "metadata": {},
   "source": [
    "# Role Prompt"
   ]
  },
  {
   "cell_type": "code",
   "execution_count": 8,
   "metadata": {},
   "outputs": [],
   "source": [
    "role_prompt = \"\"\"\n",
    "Please act as a University of Texas at Dallas Counselor. I will provide you with an individual \n",
    "looking for guidance at the University of Texas at Dallas, and your task is to help them \n",
    "solve their problem\\n\n",
    "\"\"\""
   ]
  },
  {
   "cell_type": "markdown",
   "metadata": {},
   "source": [
    "# Create an standard QA Propmt"
   ]
  },
  {
   "cell_type": "code",
   "execution_count": 9,
   "metadata": {},
   "outputs": [],
   "source": [
    "def create_an_standard_qa_prompt( query , res):\n",
    "    import copy\n",
    "    role_prompt_temp =  copy.deepcopy(role_prompt)\n",
    "    for query_response in  res[\"matches\"]:\n",
    "        try:\n",
    "            answer = faq_dataset['train'].filter(lambda x: x['Question'] == query_response['metadata']['text'])['Answering'][0]\n",
    "            role_prompt_temp += f\"Q: {query_response['metadata']['text']}\\nA: {answer}\\n\"\n",
    "        except:\n",
    "            print(f\"The question {query_response['metadata']['text']} is not in the dataset\")\n",
    "            print(f\"Errors\")\n",
    "            pass\n",
    "    prompt = role_prompt_temp + f\"Q: {query}\\nA:Let’s think step by step.\"\n",
    "    return prompt"
   ]
  },
  {
   "cell_type": "markdown",
   "metadata": {},
   "source": [
    "# Called a LLM Decoder Model"
   ]
  },
  {
   "cell_type": "code",
   "execution_count": 10,
   "metadata": {},
   "outputs": [],
   "source": [
    "def called_llm_decoder_model(prompt):\n",
    "  response = openai.Completion.create(\n",
    "    model=\"text-davinci-002\",\n",
    "    prompt =  prompt,\n",
    "    temperature = 0.8,\n",
    "    max_tokens=256,\n",
    "    top_p=1,\n",
    "    frequency_penalty=0,\n",
    "    presence_penalty=0\n",
    "  )\n",
    "  return response[\"choices\"][0][\"text\"]"
   ]
  },
  {
   "cell_type": "markdown",
   "metadata": {},
   "source": [
    "# Post Process of the Output"
   ]
  },
  {
   "cell_type": "code",
   "execution_count": 11,
   "metadata": {},
   "outputs": [],
   "source": [
    "def post_process(ans):\n",
    "    if \"ARC\" in ans:\n",
    "        ans = ans.replace(\"ARC\", \"AccessAbility Resource Center\")\n",
    "        ans += \"\"\" \n",
    "        Office location: Administration Building, Room 2.224 \\n\n",
    "        Email: studentaccess@utdallas.edu (Do not email attachments, upload documents to utd.link/arcupload only.) \\n\n",
    "        Phone: (972) 883-2098 \\n\n",
    "        Fax: Please don’t fax, use utd.link/arcupload \\n\n",
    "        Mail: AD 30, 800 West Campbell Rd., Richardson TX 75080    Office location: Administration Building, Room 2.224\\n\n",
    "        \"\"\"\n",
    "    return ans"
   ]
  },
  {
   "cell_type": "markdown",
   "metadata": {},
   "source": [
    "# Gradio"
   ]
  },
  {
   "cell_type": "code",
   "execution_count": 12,
   "metadata": {},
   "outputs": [],
   "source": [
    "import gradio as gr\n",
    "questions = []\n",
    "answers = []\n",
    "import random\n",
    "random_value = random.randint(0, 1000)\n",
    "\n",
    "def utd_chatbot( question ):\n",
    "    ## store the question in the csvs file\n",
    "    print(question)\n",
    "    res = query_vector_database(question)\n",
    "    print(res)\n",
    "    propmt = create_an_standard_qa_prompt(question , res)\n",
    "    print(propmt)\n",
    "    ans = called_llm_decoder_model(propmt)\n",
    "    post_process(ans)\n",
    "    try:\n",
    "        import pandas as pd\n",
    "        questions.append( question )\n",
    "        answers.append( ans )\n",
    "        data = pd.DataFrame( {\"questions\": questions, \"answers\": answers} , columns=[\"questions\", \"answers\"] )\n",
    "        data.to_csv(f\"user_response_{random_value}.csv\")\n",
    "    except:\n",
    "        pass\n",
    "    return ans"
   ]
  },
  {
   "cell_type": "code",
   "execution_count": 15,
   "metadata": {},
   "outputs": [
    {
     "name": "stdout",
     "output_type": "stream",
     "text": [
      "Running on local URL:  http://127.0.0.1:7860\n",
      "Running on public URL: https://4296dd86-459a-4b69.gradio.live\n",
      "\n",
      "This share link expires in 72 hours. For free permanent hosting and GPU upgrades (NEW!), check out Spaces: https://huggingface.co/spaces\n"
     ]
    },
    {
     "data": {
      "text/html": [
       "<div><iframe src=\"https://4296dd86-459a-4b69.gradio.live\" width=\"100%\" height=\"500\" allow=\"autoplay; camera; microphone; clipboard-read; clipboard-write;\" frameborder=\"0\" allowfullscreen></iframe></div>"
      ],
      "text/plain": [
       "<IPython.core.display.HTML object>"
      ]
     },
     "metadata": {},
     "output_type": "display_data"
    },
    {
     "data": {
      "text/plain": []
     },
     "execution_count": 15,
     "metadata": {},
     "output_type": "execute_result"
    },
    {
     "data": {
      "text/html": [
       "<pre style=\"white-space:pre;overflow-x:auto;line-height:normal;font-family:Menlo,'DejaVu Sans Mono',consolas,'Courier New',monospace\">Hi can you help me\n",
       "</pre>\n"
      ],
      "text/plain": [
       "Hi can you help me\n"
      ]
     },
     "metadata": {},
     "output_type": "display_data"
    },
    {
     "data": {
      "text/html": [
       "<pre style=\"white-space:pre;overflow-x:auto;line-height:normal;font-family:Menlo,'DejaVu Sans Mono',consolas,'Courier New',monospace\"><span style=\"font-weight: bold\">{</span><span style=\"color: #008000; text-decoration-color: #008000\">'matches'</span>: <span style=\"font-weight: bold\">[{</span><span style=\"color: #008000; text-decoration-color: #008000\">'id'</span>: <span style=\"color: #008000; text-decoration-color: #008000\">'8'</span>,\n",
       "              <span style=\"color: #008000; text-decoration-color: #008000\">'metadata'</span>: <span style=\"font-weight: bold\">{</span><span style=\"color: #008000; text-decoration-color: #008000\">'text'</span>: <span style=\"color: #008000; text-decoration-color: #008000\">'Services and Procedures for Employees'</span><span style=\"font-weight: bold\">}</span>,\n",
       "              <span style=\"color: #008000; text-decoration-color: #008000\">'score'</span>: <span style=\"color: #008080; text-decoration-color: #008080; font-weight: bold\">0.541972876</span>,\n",
       "              <span style=\"color: #008000; text-decoration-color: #008000\">'sparseValues'</span>: <span style=\"font-weight: bold\">{}</span>,\n",
       "              <span style=\"color: #008000; text-decoration-color: #008000\">'values'</span>: <span style=\"font-weight: bold\">[]}</span>,\n",
       "             <span style=\"font-weight: bold\">{</span><span style=\"color: #008000; text-decoration-color: #008000\">'id'</span>: <span style=\"color: #008000; text-decoration-color: #008000\">'11'</span>,\n",
       "              <span style=\"color: #008000; text-decoration-color: #008000\">'metadata'</span>: <span style=\"font-weight: bold\">{</span><span style=\"color: #008000; text-decoration-color: #008000\">'text'</span>: <span style=\"color: #008000; text-decoration-color: #008000\">'Do I have to submit the form for every '</span>\n",
       "                                   <span style=\"color: #008000; text-decoration-color: #008000\">'test, exam or quiz I want to take with '</span>\n",
       "                                   <span style=\"color: #008000; text-decoration-color: #008000\">'you?\\n'</span><span style=\"font-weight: bold\">}</span>,\n",
       "              <span style=\"color: #008000; text-decoration-color: #008000\">'score'</span>: <span style=\"color: #008080; text-decoration-color: #008080; font-weight: bold\">0.586859107</span>,\n",
       "              <span style=\"color: #008000; text-decoration-color: #008000\">'sparseValues'</span>: <span style=\"font-weight: bold\">{}</span>,\n",
       "              <span style=\"color: #008000; text-decoration-color: #008000\">'values'</span>: <span style=\"font-weight: bold\">[]}</span>,\n",
       "             <span style=\"font-weight: bold\">{</span><span style=\"color: #008000; text-decoration-color: #008000\">'id'</span>: <span style=\"color: #008000; text-decoration-color: #008000\">'9'</span>,\n",
       "              <span style=\"color: #008000; text-decoration-color: #008000\">'metadata'</span>: <span style=\"font-weight: bold\">{</span><span style=\"color: #008000; text-decoration-color: #008000\">'text'</span>: <span style=\"color: #008000; text-decoration-color: #008000\">'How do I take a test at the ARC Testing '</span>\n",
       "                                   <span style=\"color: #008000; text-decoration-color: #008000\">'Center?\\n'</span><span style=\"font-weight: bold\">}</span>,\n",
       "              <span style=\"color: #008000; text-decoration-color: #008000\">'score'</span>: <span style=\"color: #008080; text-decoration-color: #008080; font-weight: bold\">0.592423201</span>,\n",
       "              <span style=\"color: #008000; text-decoration-color: #008000\">'sparseValues'</span>: <span style=\"font-weight: bold\">{}</span>,\n",
       "              <span style=\"color: #008000; text-decoration-color: #008000\">'values'</span>: <span style=\"font-weight: bold\">[]}</span>,\n",
       "             <span style=\"font-weight: bold\">{</span><span style=\"color: #008000; text-decoration-color: #008000\">'id'</span>: <span style=\"color: #008000; text-decoration-color: #008000\">'7'</span>,\n",
       "              <span style=\"color: #008000; text-decoration-color: #008000\">'metadata'</span>: <span style=\"font-weight: bold\">{</span><span style=\"color: #008000; text-decoration-color: #008000\">'text'</span>: <span style=\"color: #008000; text-decoration-color: #008000\">'What accommodations and services will I be '</span>\n",
       "                                   <span style=\"color: #008000; text-decoration-color: #008000\">'eligible for?'</span><span style=\"font-weight: bold\">}</span>,\n",
       "              <span style=\"color: #008000; text-decoration-color: #008000\">'score'</span>: <span style=\"color: #008080; text-decoration-color: #008080; font-weight: bold\">0.598665833</span>,\n",
       "              <span style=\"color: #008000; text-decoration-color: #008000\">'sparseValues'</span>: <span style=\"font-weight: bold\">{}</span>,\n",
       "              <span style=\"color: #008000; text-decoration-color: #008000\">'values'</span>: <span style=\"font-weight: bold\">[]}</span>,\n",
       "             <span style=\"font-weight: bold\">{</span><span style=\"color: #008000; text-decoration-color: #008000\">'id'</span>: <span style=\"color: #008000; text-decoration-color: #008000\">'13'</span>,\n",
       "              <span style=\"color: #008000; text-decoration-color: #008000\">'metadata'</span>: <span style=\"font-weight: bold\">{</span><span style=\"color: #008000; text-decoration-color: #008000\">'text'</span>: <span style=\"color: #008000; text-decoration-color: #008000\">'I want to change my reservation or the '</span>\n",
       "                                   <span style=\"color: #008000; text-decoration-color: #008000\">'date of the exam or make a change to a '</span>\n",
       "                                   <span style=\"color: #008000; text-decoration-color: #008000\">'reservation I already submitted. Can I do '</span>\n",
       "                                   <span style=\"color: #008000; text-decoration-color: #008000\">'that?'</span><span style=\"font-weight: bold\">}</span>,\n",
       "              <span style=\"color: #008000; text-decoration-color: #008000\">'score'</span>: <span style=\"color: #008080; text-decoration-color: #008080; font-weight: bold\">0.607571</span>,\n",
       "              <span style=\"color: #008000; text-decoration-color: #008000\">'sparseValues'</span>: <span style=\"font-weight: bold\">{}</span>,\n",
       "              <span style=\"color: #008000; text-decoration-color: #008000\">'values'</span>: <span style=\"font-weight: bold\">[]}]</span>,\n",
       " <span style=\"color: #008000; text-decoration-color: #008000\">'namespace'</span>: <span style=\"color: #008000; text-decoration-color: #008000\">''</span><span style=\"font-weight: bold\">}</span>\n",
       "</pre>\n"
      ],
      "text/plain": [
       "\u001b[1m{\u001b[0m\u001b[32m'matches'\u001b[0m: \u001b[1m[\u001b[0m\u001b[1m{\u001b[0m\u001b[32m'id'\u001b[0m: \u001b[32m'8'\u001b[0m,\n",
       "              \u001b[32m'metadata'\u001b[0m: \u001b[1m{\u001b[0m\u001b[32m'text'\u001b[0m: \u001b[32m'Services and Procedures for Employees'\u001b[0m\u001b[1m}\u001b[0m,\n",
       "              \u001b[32m'score'\u001b[0m: \u001b[1;36m0.541972876\u001b[0m,\n",
       "              \u001b[32m'sparseValues'\u001b[0m: \u001b[1m{\u001b[0m\u001b[1m}\u001b[0m,\n",
       "              \u001b[32m'values'\u001b[0m: \u001b[1m[\u001b[0m\u001b[1m]\u001b[0m\u001b[1m}\u001b[0m,\n",
       "             \u001b[1m{\u001b[0m\u001b[32m'id'\u001b[0m: \u001b[32m'11'\u001b[0m,\n",
       "              \u001b[32m'metadata'\u001b[0m: \u001b[1m{\u001b[0m\u001b[32m'text'\u001b[0m: \u001b[32m'Do I have to submit the form for every '\u001b[0m\n",
       "                                   \u001b[32m'test, exam or quiz I want to take with '\u001b[0m\n",
       "                                   \u001b[32m'you?\\n'\u001b[0m\u001b[1m}\u001b[0m,\n",
       "              \u001b[32m'score'\u001b[0m: \u001b[1;36m0.586859107\u001b[0m,\n",
       "              \u001b[32m'sparseValues'\u001b[0m: \u001b[1m{\u001b[0m\u001b[1m}\u001b[0m,\n",
       "              \u001b[32m'values'\u001b[0m: \u001b[1m[\u001b[0m\u001b[1m]\u001b[0m\u001b[1m}\u001b[0m,\n",
       "             \u001b[1m{\u001b[0m\u001b[32m'id'\u001b[0m: \u001b[32m'9'\u001b[0m,\n",
       "              \u001b[32m'metadata'\u001b[0m: \u001b[1m{\u001b[0m\u001b[32m'text'\u001b[0m: \u001b[32m'How do I take a test at the ARC Testing '\u001b[0m\n",
       "                                   \u001b[32m'Center?\\n'\u001b[0m\u001b[1m}\u001b[0m,\n",
       "              \u001b[32m'score'\u001b[0m: \u001b[1;36m0.592423201\u001b[0m,\n",
       "              \u001b[32m'sparseValues'\u001b[0m: \u001b[1m{\u001b[0m\u001b[1m}\u001b[0m,\n",
       "              \u001b[32m'values'\u001b[0m: \u001b[1m[\u001b[0m\u001b[1m]\u001b[0m\u001b[1m}\u001b[0m,\n",
       "             \u001b[1m{\u001b[0m\u001b[32m'id'\u001b[0m: \u001b[32m'7'\u001b[0m,\n",
       "              \u001b[32m'metadata'\u001b[0m: \u001b[1m{\u001b[0m\u001b[32m'text'\u001b[0m: \u001b[32m'What accommodations and services will I be '\u001b[0m\n",
       "                                   \u001b[32m'eligible for?'\u001b[0m\u001b[1m}\u001b[0m,\n",
       "              \u001b[32m'score'\u001b[0m: \u001b[1;36m0.598665833\u001b[0m,\n",
       "              \u001b[32m'sparseValues'\u001b[0m: \u001b[1m{\u001b[0m\u001b[1m}\u001b[0m,\n",
       "              \u001b[32m'values'\u001b[0m: \u001b[1m[\u001b[0m\u001b[1m]\u001b[0m\u001b[1m}\u001b[0m,\n",
       "             \u001b[1m{\u001b[0m\u001b[32m'id'\u001b[0m: \u001b[32m'13'\u001b[0m,\n",
       "              \u001b[32m'metadata'\u001b[0m: \u001b[1m{\u001b[0m\u001b[32m'text'\u001b[0m: \u001b[32m'I want to change my reservation or the '\u001b[0m\n",
       "                                   \u001b[32m'date of the exam or make a change to a '\u001b[0m\n",
       "                                   \u001b[32m'reservation I already submitted. Can I do '\u001b[0m\n",
       "                                   \u001b[32m'that?'\u001b[0m\u001b[1m}\u001b[0m,\n",
       "              \u001b[32m'score'\u001b[0m: \u001b[1;36m0.607571\u001b[0m,\n",
       "              \u001b[32m'sparseValues'\u001b[0m: \u001b[1m{\u001b[0m\u001b[1m}\u001b[0m,\n",
       "              \u001b[32m'values'\u001b[0m: \u001b[1m[\u001b[0m\u001b[1m]\u001b[0m\u001b[1m}\u001b[0m\u001b[1m]\u001b[0m,\n",
       " \u001b[32m'namespace'\u001b[0m: \u001b[32m''\u001b[0m\u001b[1m}\u001b[0m\n"
      ]
     },
     "metadata": {},
     "output_type": "display_data"
    },
    {
     "name": "stderr",
     "output_type": "stream",
     "text": [
      "Parameter 'function'=<function create_an_standard_qa_prompt.<locals>.<lambda> at 0x7f6024d43d40> of the transform datasets.arrow_dataset.Dataset.filter@2.0.1 couldn't be hashed properly, a random hash was used instead. Make sure your transforms and parameters are serializable with pickle or dill for the dataset fingerprinting and caching to work. If you reuse this transform, the caching mechanism will consider it to be different from the previous calls and recompute everything. This warning is only showed once. Subsequent hashing failures won't be showed.\n",
      "100%|██████████| 1/1 [00:00<00:00, 45.70ba/s]\n",
      "100%|██████████| 1/1 [00:00<00:00, 598.08ba/s]\n",
      "100%|██████████| 1/1 [00:00<00:00, 927.74ba/s]\n"
     ]
    },
    {
     "data": {
      "text/html": [
       "<pre style=\"white-space:pre;overflow-x:auto;line-height:normal;font-family:Menlo,'DejaVu Sans Mono',consolas,'Courier New',monospace\">The question How do I take a test at the ARC Testing Center?\n",
       " is not in the dataset\n",
       "</pre>\n"
      ],
      "text/plain": [
       "The question How do I take a test at the ARC Testing Center?\n",
       " is not in the dataset\n"
      ]
     },
     "metadata": {},
     "output_type": "display_data"
    },
    {
     "data": {
      "text/html": [
       "<pre style=\"white-space:pre;overflow-x:auto;line-height:normal;font-family:Menlo,'DejaVu Sans Mono',consolas,'Courier New',monospace\">Errors\n",
       "</pre>\n"
      ],
      "text/plain": [
       "Errors\n"
      ]
     },
     "metadata": {},
     "output_type": "display_data"
    },
    {
     "name": "stderr",
     "output_type": "stream",
     "text": [
      "100%|██████████| 1/1 [00:00<00:00, 489.47ba/s]\n",
      "100%|██████████| 1/1 [00:00<00:00, 596.71ba/s]\n"
     ]
    },
    {
     "data": {
      "text/html": [
       "<pre style=\"white-space:pre;overflow-x:auto;line-height:normal;font-family:Menlo,'DejaVu Sans Mono',consolas,'Courier New',monospace\">\n",
       "Please act as a University of Texas at Dallas Counselor. I will provide you with an individual \n",
       "looking for guidance at the University of Texas at Dallas, and your task is to help them \n",
       "solve their problem\n",
       "\n",
       "Q: Services and Procedures for Employees\n",
       "A: We are currently working with Human Resources to begin processing accommodations for employees at UT Dallas. We \n",
       "expect to have this fully on-board by mid-October <span style=\"color: #008080; text-decoration-color: #008080; font-weight: bold\">2022</span>. Until then, please continue to request your workplace \n",
       "accommodations via the HR website. \n",
       "Q: Do I have to submit the form for every test, exam or quiz I want to take with you?\n",
       "\n",
       "A: Yes.\n",
       "\n",
       "\n",
       "Q: What accommodations and services will I be eligible for?\n",
       "A: Appropriate and reasonable accommodations are determined on an individual basis. These accommodations may differ\n",
       "from those provided in high school or other colleges. Accommodations frequently used by students with disabilities \n",
       "include extended time for test taking, note takers, printed materials in alternate formats, sign language \n",
       "interpreters and the use of assistive technology.\n",
       "Q: I want to change my reservation or the date of the exam or make a change to a reservation I already submitted. \n",
       "Can I do that?\n",
       "A: If you submitted a reservation for an accommodated test at AccessAbility Resource Center, you may go back to the\n",
       "scheduling link and choose the option to edit or update reservations. \n",
       "\n",
       "Please note that the date or time can be changed only if your professor decided to change the date or time for the \n",
       "entire class. If you are ill or have an emergency and cannot attend, you will need to submit a new reservation for \n",
       "a make-up test at least five days in advance. The professor must approve the new reservation, which is not always \n",
       "guaranteed. If you need to update or change a reservation you made to test outside the AccessAbility Resource \n",
       "Center, please see your professor.\n",
       "Q: Hi can you help me\n",
       "A:Let’s think step by step.\n",
       "</pre>\n"
      ],
      "text/plain": [
       "\n",
       "Please act as a University of Texas at Dallas Counselor. I will provide you with an individual \n",
       "looking for guidance at the University of Texas at Dallas, and your task is to help them \n",
       "solve their problem\n",
       "\n",
       "Q: Services and Procedures for Employees\n",
       "A: We are currently working with Human Resources to begin processing accommodations for employees at UT Dallas. We \n",
       "expect to have this fully on-board by mid-October \u001b[1;36m2022\u001b[0m. Until then, please continue to request your workplace \n",
       "accommodations via the HR website. \n",
       "Q: Do I have to submit the form for every test, exam or quiz I want to take with you?\n",
       "\n",
       "A: Yes.\n",
       "\n",
       "\n",
       "Q: What accommodations and services will I be eligible for?\n",
       "A: Appropriate and reasonable accommodations are determined on an individual basis. These accommodations may differ\n",
       "from those provided in high school or other colleges. Accommodations frequently used by students with disabilities \n",
       "include extended time for test taking, note takers, printed materials in alternate formats, sign language \n",
       "interpreters and the use of assistive technology.\n",
       "Q: I want to change my reservation or the date of the exam or make a change to a reservation I already submitted. \n",
       "Can I do that?\n",
       "A: If you submitted a reservation for an accommodated test at AccessAbility Resource Center, you may go back to the\n",
       "scheduling link and choose the option to edit or update reservations. \n",
       "\n",
       "Please note that the date or time can be changed only if your professor decided to change the date or time for the \n",
       "entire class. If you are ill or have an emergency and cannot attend, you will need to submit a new reservation for \n",
       "a make-up test at least five days in advance. The professor must approve the new reservation, which is not always \n",
       "guaranteed. If you need to update or change a reservation you made to test outside the AccessAbility Resource \n",
       "Center, please see your professor.\n",
       "Q: Hi can you help me\n",
       "A:Let’s think step by step.\n"
      ]
     },
     "metadata": {},
     "output_type": "display_data"
    },
    {
     "data": {
      "text/html": [
       "<pre style=\"white-space:pre;overflow-x:auto;line-height:normal;font-family:Menlo,'DejaVu Sans Mono',consolas,'Courier New',monospace\">I have a disability and I go to UTD - where can I find help?\n",
       "</pre>\n"
      ],
      "text/plain": [
       "I have a disability and I go to UTD - where can I find help?\n"
      ]
     },
     "metadata": {},
     "output_type": "display_data"
    },
    {
     "data": {
      "text/html": [
       "<pre style=\"white-space:pre;overflow-x:auto;line-height:normal;font-family:Menlo,'DejaVu Sans Mono',consolas,'Courier New',monospace\"><span style=\"font-weight: bold\">{</span><span style=\"color: #008000; text-decoration-color: #008000\">'matches'</span>: <span style=\"font-weight: bold\">[{</span><span style=\"color: #008000; text-decoration-color: #008000\">'id'</span>: <span style=\"color: #008000; text-decoration-color: #008000\">'0'</span>,\n",
       "              <span style=\"color: #008000; text-decoration-color: #008000\">'metadata'</span>: <span style=\"font-weight: bold\">{</span><span style=\"color: #008000; text-decoration-color: #008000\">'text'</span>: <span style=\"color: #008000; text-decoration-color: #008000\">'Does UT Dallas provide services for '</span>\n",
       "                                   <span style=\"color: #008000; text-decoration-color: #008000\">'students with disabilities?'</span><span style=\"font-weight: bold\">}</span>,\n",
       "              <span style=\"color: #008000; text-decoration-color: #008000\">'score'</span>: <span style=\"color: #008080; text-decoration-color: #008080; font-weight: bold\">0.266483665</span>,\n",
       "              <span style=\"color: #008000; text-decoration-color: #008000\">'sparseValues'</span>: <span style=\"font-weight: bold\">{}</span>,\n",
       "              <span style=\"color: #008000; text-decoration-color: #008000\">'values'</span>: <span style=\"font-weight: bold\">[]}</span>,\n",
       "             <span style=\"font-weight: bold\">{</span><span style=\"color: #008000; text-decoration-color: #008000\">'id'</span>: <span style=\"color: #008000; text-decoration-color: #008000\">'5'</span>,\n",
       "              <span style=\"color: #008000; text-decoration-color: #008000\">'metadata'</span>: <span style=\"font-weight: bold\">{</span><span style=\"color: #008000; text-decoration-color: #008000\">'text'</span>: <span style=\"color: #008000; text-decoration-color: #008000\">'Who at the University will know about my '</span>\n",
       "                                   <span style=\"color: #008000; text-decoration-color: #008000\">'disability if I register with ARC?'</span><span style=\"font-weight: bold\">}</span>,\n",
       "              <span style=\"color: #008000; text-decoration-color: #008000\">'score'</span>: <span style=\"color: #008080; text-decoration-color: #008080; font-weight: bold\">0.310886264</span>,\n",
       "              <span style=\"color: #008000; text-decoration-color: #008000\">'sparseValues'</span>: <span style=\"font-weight: bold\">{}</span>,\n",
       "              <span style=\"color: #008000; text-decoration-color: #008000\">'values'</span>: <span style=\"font-weight: bold\">[]}</span>,\n",
       "             <span style=\"font-weight: bold\">{</span><span style=\"color: #008000; text-decoration-color: #008000\">'id'</span>: <span style=\"color: #008000; text-decoration-color: #008000\">'7'</span>,\n",
       "              <span style=\"color: #008000; text-decoration-color: #008000\">'metadata'</span>: <span style=\"font-weight: bold\">{</span><span style=\"color: #008000; text-decoration-color: #008000\">'text'</span>: <span style=\"color: #008000; text-decoration-color: #008000\">'What accommodations and services will I be '</span>\n",
       "                                   <span style=\"color: #008000; text-decoration-color: #008000\">'eligible for?'</span><span style=\"font-weight: bold\">}</span>,\n",
       "              <span style=\"color: #008000; text-decoration-color: #008000\">'score'</span>: <span style=\"color: #008080; text-decoration-color: #008080; font-weight: bold\">0.376189113</span>,\n",
       "              <span style=\"color: #008000; text-decoration-color: #008000\">'sparseValues'</span>: <span style=\"font-weight: bold\">{}</span>,\n",
       "              <span style=\"color: #008000; text-decoration-color: #008000\">'values'</span>: <span style=\"font-weight: bold\">[]}</span>,\n",
       "             <span style=\"font-weight: bold\">{</span><span style=\"color: #008000; text-decoration-color: #008000\">'id'</span>: <span style=\"color: #008000; text-decoration-color: #008000\">'1'</span>,\n",
       "              <span style=\"color: #008000; text-decoration-color: #008000\">'metadata'</span>: <span style=\"font-weight: bold\">{</span><span style=\"color: #008000; text-decoration-color: #008000\">'text'</span>: <span style=\"color: #008000; text-decoration-color: #008000\">'Is there a separate admissions procedure '</span>\n",
       "                                   <span style=\"color: #008000; text-decoration-color: #008000\">'for students with disabilities?\\n'</span><span style=\"font-weight: bold\">}</span>,\n",
       "              <span style=\"color: #008000; text-decoration-color: #008000\">'score'</span>: <span style=\"color: #008080; text-decoration-color: #008080; font-weight: bold\">0.402710438</span>,\n",
       "              <span style=\"color: #008000; text-decoration-color: #008000\">'sparseValues'</span>: <span style=\"font-weight: bold\">{}</span>,\n",
       "              <span style=\"color: #008000; text-decoration-color: #008000\">'values'</span>: <span style=\"font-weight: bold\">[]}</span>,\n",
       "             <span style=\"font-weight: bold\">{</span><span style=\"color: #008000; text-decoration-color: #008000\">'id'</span>: <span style=\"color: #008000; text-decoration-color: #008000\">'2'</span>,\n",
       "              <span style=\"color: #008000; text-decoration-color: #008000\">'metadata'</span>: <span style=\"font-weight: bold\">{</span><span style=\"color: #008000; text-decoration-color: #008000\">'text'</span>: <span style=\"color: #008000; text-decoration-color: #008000\">'Should I send my disability documentation '</span>\n",
       "                                   <span style=\"color: #008000; text-decoration-color: #008000\">'with my admissions application?'</span><span style=\"font-weight: bold\">}</span>,\n",
       "              <span style=\"color: #008000; text-decoration-color: #008000\">'score'</span>: <span style=\"color: #008080; text-decoration-color: #008080; font-weight: bold\">0.429699302</span>,\n",
       "              <span style=\"color: #008000; text-decoration-color: #008000\">'sparseValues'</span>: <span style=\"font-weight: bold\">{}</span>,\n",
       "              <span style=\"color: #008000; text-decoration-color: #008000\">'values'</span>: <span style=\"font-weight: bold\">[]}]</span>,\n",
       " <span style=\"color: #008000; text-decoration-color: #008000\">'namespace'</span>: <span style=\"color: #008000; text-decoration-color: #008000\">''</span><span style=\"font-weight: bold\">}</span>\n",
       "</pre>\n"
      ],
      "text/plain": [
       "\u001b[1m{\u001b[0m\u001b[32m'matches'\u001b[0m: \u001b[1m[\u001b[0m\u001b[1m{\u001b[0m\u001b[32m'id'\u001b[0m: \u001b[32m'0'\u001b[0m,\n",
       "              \u001b[32m'metadata'\u001b[0m: \u001b[1m{\u001b[0m\u001b[32m'text'\u001b[0m: \u001b[32m'Does UT Dallas provide services for '\u001b[0m\n",
       "                                   \u001b[32m'students with disabilities?'\u001b[0m\u001b[1m}\u001b[0m,\n",
       "              \u001b[32m'score'\u001b[0m: \u001b[1;36m0.266483665\u001b[0m,\n",
       "              \u001b[32m'sparseValues'\u001b[0m: \u001b[1m{\u001b[0m\u001b[1m}\u001b[0m,\n",
       "              \u001b[32m'values'\u001b[0m: \u001b[1m[\u001b[0m\u001b[1m]\u001b[0m\u001b[1m}\u001b[0m,\n",
       "             \u001b[1m{\u001b[0m\u001b[32m'id'\u001b[0m: \u001b[32m'5'\u001b[0m,\n",
       "              \u001b[32m'metadata'\u001b[0m: \u001b[1m{\u001b[0m\u001b[32m'text'\u001b[0m: \u001b[32m'Who at the University will know about my '\u001b[0m\n",
       "                                   \u001b[32m'disability if I register with ARC?'\u001b[0m\u001b[1m}\u001b[0m,\n",
       "              \u001b[32m'score'\u001b[0m: \u001b[1;36m0.310886264\u001b[0m,\n",
       "              \u001b[32m'sparseValues'\u001b[0m: \u001b[1m{\u001b[0m\u001b[1m}\u001b[0m,\n",
       "              \u001b[32m'values'\u001b[0m: \u001b[1m[\u001b[0m\u001b[1m]\u001b[0m\u001b[1m}\u001b[0m,\n",
       "             \u001b[1m{\u001b[0m\u001b[32m'id'\u001b[0m: \u001b[32m'7'\u001b[0m,\n",
       "              \u001b[32m'metadata'\u001b[0m: \u001b[1m{\u001b[0m\u001b[32m'text'\u001b[0m: \u001b[32m'What accommodations and services will I be '\u001b[0m\n",
       "                                   \u001b[32m'eligible for?'\u001b[0m\u001b[1m}\u001b[0m,\n",
       "              \u001b[32m'score'\u001b[0m: \u001b[1;36m0.376189113\u001b[0m,\n",
       "              \u001b[32m'sparseValues'\u001b[0m: \u001b[1m{\u001b[0m\u001b[1m}\u001b[0m,\n",
       "              \u001b[32m'values'\u001b[0m: \u001b[1m[\u001b[0m\u001b[1m]\u001b[0m\u001b[1m}\u001b[0m,\n",
       "             \u001b[1m{\u001b[0m\u001b[32m'id'\u001b[0m: \u001b[32m'1'\u001b[0m,\n",
       "              \u001b[32m'metadata'\u001b[0m: \u001b[1m{\u001b[0m\u001b[32m'text'\u001b[0m: \u001b[32m'Is there a separate admissions procedure '\u001b[0m\n",
       "                                   \u001b[32m'for students with disabilities?\\n'\u001b[0m\u001b[1m}\u001b[0m,\n",
       "              \u001b[32m'score'\u001b[0m: \u001b[1;36m0.402710438\u001b[0m,\n",
       "              \u001b[32m'sparseValues'\u001b[0m: \u001b[1m{\u001b[0m\u001b[1m}\u001b[0m,\n",
       "              \u001b[32m'values'\u001b[0m: \u001b[1m[\u001b[0m\u001b[1m]\u001b[0m\u001b[1m}\u001b[0m,\n",
       "             \u001b[1m{\u001b[0m\u001b[32m'id'\u001b[0m: \u001b[32m'2'\u001b[0m,\n",
       "              \u001b[32m'metadata'\u001b[0m: \u001b[1m{\u001b[0m\u001b[32m'text'\u001b[0m: \u001b[32m'Should I send my disability documentation '\u001b[0m\n",
       "                                   \u001b[32m'with my admissions application?'\u001b[0m\u001b[1m}\u001b[0m,\n",
       "              \u001b[32m'score'\u001b[0m: \u001b[1;36m0.429699302\u001b[0m,\n",
       "              \u001b[32m'sparseValues'\u001b[0m: \u001b[1m{\u001b[0m\u001b[1m}\u001b[0m,\n",
       "              \u001b[32m'values'\u001b[0m: \u001b[1m[\u001b[0m\u001b[1m]\u001b[0m\u001b[1m}\u001b[0m\u001b[1m]\u001b[0m,\n",
       " \u001b[32m'namespace'\u001b[0m: \u001b[32m''\u001b[0m\u001b[1m}\u001b[0m\n"
      ]
     },
     "metadata": {},
     "output_type": "display_data"
    },
    {
     "name": "stderr",
     "output_type": "stream",
     "text": [
      "100%|██████████| 1/1 [00:00<00:00, 439.75ba/s]\n",
      "100%|██████████| 1/1 [00:00<00:00, 808.93ba/s]\n"
     ]
    },
    {
     "data": {
      "text/html": [
       "<pre style=\"white-space:pre;overflow-x:auto;line-height:normal;font-family:Menlo,'DejaVu Sans Mono',consolas,'Courier New',monospace\">The question Who at the University will know about my disability if I register with ARC? is not in the dataset\n",
       "</pre>\n"
      ],
      "text/plain": [
       "The question Who at the University will know about my disability if I register with ARC? is not in the dataset\n"
      ]
     },
     "metadata": {},
     "output_type": "display_data"
    },
    {
     "data": {
      "text/html": [
       "<pre style=\"white-space:pre;overflow-x:auto;line-height:normal;font-family:Menlo,'DejaVu Sans Mono',consolas,'Courier New',monospace\">Errors\n",
       "</pre>\n"
      ],
      "text/plain": [
       "Errors\n"
      ]
     },
     "metadata": {},
     "output_type": "display_data"
    },
    {
     "name": "stderr",
     "output_type": "stream",
     "text": [
      "100%|██████████| 1/1 [00:00<00:00, 469.11ba/s]\n",
      "100%|██████████| 1/1 [00:00<00:00, 470.95ba/s]\n",
      "100%|██████████| 1/1 [00:00<00:00, 330.68ba/s]\n"
     ]
    },
    {
     "data": {
      "text/html": [
       "<pre style=\"white-space:pre;overflow-x:auto;line-height:normal;font-family:Menlo,'DejaVu Sans Mono',consolas,'Courier New',monospace\">\n",
       "Please act as a University of Texas at Dallas Counselor. I will provide you with an individual \n",
       "looking for guidance at the University of Texas at Dallas, and your task is to help them \n",
       "solve their problem\n",
       "\n",
       "Q: Does UT Dallas provide services for students with disabilities?\n",
       "A: Yes, accommodations and services are provided for students with documented disabilities to provide equal access \n",
       "to educational programs and services in compliance with Section <span style=\"color: #008080; text-decoration-color: #008080; font-weight: bold\">504</span> of the Rehabilitation Act of <span style=\"color: #008080; text-decoration-color: #008080; font-weight: bold\">1973</span>, the \n",
       "Americans with Disabilities Act <span style=\"font-weight: bold\">(</span><span style=\"color: #008080; text-decoration-color: #008080; font-weight: bold\">1990</span><span style=\"font-weight: bold\">)</span>, and UT Dallas policy. \n",
       "\n",
       "The AccessAbility Resource Center <span style=\"font-weight: bold\">(</span>AccessAbility Resource Center<span style=\"font-weight: bold\">)</span> facilitates the provision of services and \n",
       "accommodations for students. Accommodations are determined on an individual basis using the student’s disability \n",
       "documentation and in consultation with the student.\n",
       "Q: What accommodations and services will I be eligible for?\n",
       "A: Appropriate and reasonable accommodations are determined on an individual basis. These accommodations may differ\n",
       "from those provided in high school or other colleges. Accommodations frequently used by students with disabilities \n",
       "include extended time for test taking, note takers, printed materials in alternate formats, sign language \n",
       "interpreters and the use of assistive technology.\n",
       "Q: Is there a separate admissions procedure for students with disabilities?\n",
       "\n",
       "A: No. The admissions process and criteria are the same for all students applying to UT Dallas. Disability status \n",
       "will not be a consideration in admissions decisions.\n",
       "\n",
       "\n",
       "Q: Should I send my disability documentation with my admissions application?\n",
       "A: No. Documentation should be submitted to AccessAbility Resource Center only after you have been admitted to the \n",
       "University and have registered for classes.\n",
       "\n",
       "\n",
       "Q: I have a disability and I go to UTD - where can I find help?\n",
       "A:Let’s think step by step.\n",
       "</pre>\n"
      ],
      "text/plain": [
       "\n",
       "Please act as a University of Texas at Dallas Counselor. I will provide you with an individual \n",
       "looking for guidance at the University of Texas at Dallas, and your task is to help them \n",
       "solve their problem\n",
       "\n",
       "Q: Does UT Dallas provide services for students with disabilities?\n",
       "A: Yes, accommodations and services are provided for students with documented disabilities to provide equal access \n",
       "to educational programs and services in compliance with Section \u001b[1;36m504\u001b[0m of the Rehabilitation Act of \u001b[1;36m1973\u001b[0m, the \n",
       "Americans with Disabilities Act \u001b[1m(\u001b[0m\u001b[1;36m1990\u001b[0m\u001b[1m)\u001b[0m, and UT Dallas policy. \n",
       "\n",
       "The AccessAbility Resource Center \u001b[1m(\u001b[0mAccessAbility Resource Center\u001b[1m)\u001b[0m facilitates the provision of services and \n",
       "accommodations for students. Accommodations are determined on an individual basis using the student’s disability \n",
       "documentation and in consultation with the student.\n",
       "Q: What accommodations and services will I be eligible for?\n",
       "A: Appropriate and reasonable accommodations are determined on an individual basis. These accommodations may differ\n",
       "from those provided in high school or other colleges. Accommodations frequently used by students with disabilities \n",
       "include extended time for test taking, note takers, printed materials in alternate formats, sign language \n",
       "interpreters and the use of assistive technology.\n",
       "Q: Is there a separate admissions procedure for students with disabilities?\n",
       "\n",
       "A: No. The admissions process and criteria are the same for all students applying to UT Dallas. Disability status \n",
       "will not be a consideration in admissions decisions.\n",
       "\n",
       "\n",
       "Q: Should I send my disability documentation with my admissions application?\n",
       "A: No. Documentation should be submitted to AccessAbility Resource Center only after you have been admitted to the \n",
       "University and have registered for classes.\n",
       "\n",
       "\n",
       "Q: I have a disability and I go to UTD - where can I find help?\n",
       "A:Let’s think step by step.\n"
      ]
     },
     "metadata": {},
     "output_type": "display_data"
    },
    {
     "data": {
      "text/html": [
       "<pre style=\"white-space:pre;overflow-x:auto;line-height:normal;font-family:Menlo,'DejaVu Sans Mono',consolas,'Courier New',monospace\">I need help with handicap parking\n",
       "</pre>\n"
      ],
      "text/plain": [
       "I need help with handicap parking\n"
      ]
     },
     "metadata": {},
     "output_type": "display_data"
    },
    {
     "data": {
      "text/html": [
       "<pre style=\"white-space:pre;overflow-x:auto;line-height:normal;font-family:Menlo,'DejaVu Sans Mono',consolas,'Courier New',monospace\"><span style=\"font-weight: bold\">{</span><span style=\"color: #008000; text-decoration-color: #008000\">'matches'</span>: <span style=\"font-weight: bold\">[{</span><span style=\"color: #008000; text-decoration-color: #008000\">'id'</span>: <span style=\"color: #008000; text-decoration-color: #008000\">'3'</span>,\n",
       "              <span style=\"color: #008000; text-decoration-color: #008000\">'metadata'</span>: <span style=\"font-weight: bold\">{</span><span style=\"color: #008000; text-decoration-color: #008000\">'text'</span>: <span style=\"color: #008000; text-decoration-color: #008000\">'What documentation is required to receive '</span>\n",
       "                                   <span style=\"color: #008000; text-decoration-color: #008000\">'disability services?\\n'</span><span style=\"font-weight: bold\">}</span>,\n",
       "              <span style=\"color: #008000; text-decoration-color: #008000\">'score'</span>: <span style=\"color: #008080; text-decoration-color: #008080; font-weight: bold\">0.542762041</span>,\n",
       "              <span style=\"color: #008000; text-decoration-color: #008000\">'sparseValues'</span>: <span style=\"font-weight: bold\">{}</span>,\n",
       "              <span style=\"color: #008000; text-decoration-color: #008000\">'values'</span>: <span style=\"font-weight: bold\">[]}</span>,\n",
       "             <span style=\"font-weight: bold\">{</span><span style=\"color: #008000; text-decoration-color: #008000\">'id'</span>: <span style=\"color: #008000; text-decoration-color: #008000\">'9'</span>,\n",
       "              <span style=\"color: #008000; text-decoration-color: #008000\">'metadata'</span>: <span style=\"font-weight: bold\">{</span><span style=\"color: #008000; text-decoration-color: #008000\">'text'</span>: <span style=\"color: #008000; text-decoration-color: #008000\">'How do I take a test at the ARC Testing '</span>\n",
       "                                   <span style=\"color: #008000; text-decoration-color: #008000\">'Center?\\n'</span><span style=\"font-weight: bold\">}</span>,\n",
       "              <span style=\"color: #008000; text-decoration-color: #008000\">'score'</span>: <span style=\"color: #008080; text-decoration-color: #008080; font-weight: bold\">0.549809694</span>,\n",
       "              <span style=\"color: #008000; text-decoration-color: #008000\">'sparseValues'</span>: <span style=\"font-weight: bold\">{}</span>,\n",
       "              <span style=\"color: #008000; text-decoration-color: #008000\">'values'</span>: <span style=\"font-weight: bold\">[]}</span>,\n",
       "             <span style=\"font-weight: bold\">{</span><span style=\"color: #008000; text-decoration-color: #008000\">'id'</span>: <span style=\"color: #008000; text-decoration-color: #008000\">'8'</span>,\n",
       "              <span style=\"color: #008000; text-decoration-color: #008000\">'metadata'</span>: <span style=\"font-weight: bold\">{</span><span style=\"color: #008000; text-decoration-color: #008000\">'text'</span>: <span style=\"color: #008000; text-decoration-color: #008000\">'Services and Procedures for Employees'</span><span style=\"font-weight: bold\">}</span>,\n",
       "              <span style=\"color: #008000; text-decoration-color: #008000\">'score'</span>: <span style=\"color: #008080; text-decoration-color: #008080; font-weight: bold\">0.550183773</span>,\n",
       "              <span style=\"color: #008000; text-decoration-color: #008000\">'sparseValues'</span>: <span style=\"font-weight: bold\">{}</span>,\n",
       "              <span style=\"color: #008000; text-decoration-color: #008000\">'values'</span>: <span style=\"font-weight: bold\">[]}</span>,\n",
       "             <span style=\"font-weight: bold\">{</span><span style=\"color: #008000; text-decoration-color: #008000\">'id'</span>: <span style=\"color: #008000; text-decoration-color: #008000\">'7'</span>,\n",
       "              <span style=\"color: #008000; text-decoration-color: #008000\">'metadata'</span>: <span style=\"font-weight: bold\">{</span><span style=\"color: #008000; text-decoration-color: #008000\">'text'</span>: <span style=\"color: #008000; text-decoration-color: #008000\">'What accommodations and services will I be '</span>\n",
       "                                   <span style=\"color: #008000; text-decoration-color: #008000\">'eligible for?'</span><span style=\"font-weight: bold\">}</span>,\n",
       "              <span style=\"color: #008000; text-decoration-color: #008000\">'score'</span>: <span style=\"color: #008080; text-decoration-color: #008080; font-weight: bold\">0.552556872</span>,\n",
       "              <span style=\"color: #008000; text-decoration-color: #008000\">'sparseValues'</span>: <span style=\"font-weight: bold\">{}</span>,\n",
       "              <span style=\"color: #008000; text-decoration-color: #008000\">'values'</span>: <span style=\"font-weight: bold\">[]}</span>,\n",
       "             <span style=\"font-weight: bold\">{</span><span style=\"color: #008000; text-decoration-color: #008000\">'id'</span>: <span style=\"color: #008000; text-decoration-color: #008000\">'1'</span>,\n",
       "              <span style=\"color: #008000; text-decoration-color: #008000\">'metadata'</span>: <span style=\"font-weight: bold\">{</span><span style=\"color: #008000; text-decoration-color: #008000\">'text'</span>: <span style=\"color: #008000; text-decoration-color: #008000\">'Is there a separate admissions procedure '</span>\n",
       "                                   <span style=\"color: #008000; text-decoration-color: #008000\">'for students with disabilities?\\n'</span><span style=\"font-weight: bold\">}</span>,\n",
       "              <span style=\"color: #008000; text-decoration-color: #008000\">'score'</span>: <span style=\"color: #008080; text-decoration-color: #008080; font-weight: bold\">0.569590688</span>,\n",
       "              <span style=\"color: #008000; text-decoration-color: #008000\">'sparseValues'</span>: <span style=\"font-weight: bold\">{}</span>,\n",
       "              <span style=\"color: #008000; text-decoration-color: #008000\">'values'</span>: <span style=\"font-weight: bold\">[]}]</span>,\n",
       " <span style=\"color: #008000; text-decoration-color: #008000\">'namespace'</span>: <span style=\"color: #008000; text-decoration-color: #008000\">''</span><span style=\"font-weight: bold\">}</span>\n",
       "</pre>\n"
      ],
      "text/plain": [
       "\u001b[1m{\u001b[0m\u001b[32m'matches'\u001b[0m: \u001b[1m[\u001b[0m\u001b[1m{\u001b[0m\u001b[32m'id'\u001b[0m: \u001b[32m'3'\u001b[0m,\n",
       "              \u001b[32m'metadata'\u001b[0m: \u001b[1m{\u001b[0m\u001b[32m'text'\u001b[0m: \u001b[32m'What documentation is required to receive '\u001b[0m\n",
       "                                   \u001b[32m'disability services?\\n'\u001b[0m\u001b[1m}\u001b[0m,\n",
       "              \u001b[32m'score'\u001b[0m: \u001b[1;36m0.542762041\u001b[0m,\n",
       "              \u001b[32m'sparseValues'\u001b[0m: \u001b[1m{\u001b[0m\u001b[1m}\u001b[0m,\n",
       "              \u001b[32m'values'\u001b[0m: \u001b[1m[\u001b[0m\u001b[1m]\u001b[0m\u001b[1m}\u001b[0m,\n",
       "             \u001b[1m{\u001b[0m\u001b[32m'id'\u001b[0m: \u001b[32m'9'\u001b[0m,\n",
       "              \u001b[32m'metadata'\u001b[0m: \u001b[1m{\u001b[0m\u001b[32m'text'\u001b[0m: \u001b[32m'How do I take a test at the ARC Testing '\u001b[0m\n",
       "                                   \u001b[32m'Center?\\n'\u001b[0m\u001b[1m}\u001b[0m,\n",
       "              \u001b[32m'score'\u001b[0m: \u001b[1;36m0.549809694\u001b[0m,\n",
       "              \u001b[32m'sparseValues'\u001b[0m: \u001b[1m{\u001b[0m\u001b[1m}\u001b[0m,\n",
       "              \u001b[32m'values'\u001b[0m: \u001b[1m[\u001b[0m\u001b[1m]\u001b[0m\u001b[1m}\u001b[0m,\n",
       "             \u001b[1m{\u001b[0m\u001b[32m'id'\u001b[0m: \u001b[32m'8'\u001b[0m,\n",
       "              \u001b[32m'metadata'\u001b[0m: \u001b[1m{\u001b[0m\u001b[32m'text'\u001b[0m: \u001b[32m'Services and Procedures for Employees'\u001b[0m\u001b[1m}\u001b[0m,\n",
       "              \u001b[32m'score'\u001b[0m: \u001b[1;36m0.550183773\u001b[0m,\n",
       "              \u001b[32m'sparseValues'\u001b[0m: \u001b[1m{\u001b[0m\u001b[1m}\u001b[0m,\n",
       "              \u001b[32m'values'\u001b[0m: \u001b[1m[\u001b[0m\u001b[1m]\u001b[0m\u001b[1m}\u001b[0m,\n",
       "             \u001b[1m{\u001b[0m\u001b[32m'id'\u001b[0m: \u001b[32m'7'\u001b[0m,\n",
       "              \u001b[32m'metadata'\u001b[0m: \u001b[1m{\u001b[0m\u001b[32m'text'\u001b[0m: \u001b[32m'What accommodations and services will I be '\u001b[0m\n",
       "                                   \u001b[32m'eligible for?'\u001b[0m\u001b[1m}\u001b[0m,\n",
       "              \u001b[32m'score'\u001b[0m: \u001b[1;36m0.552556872\u001b[0m,\n",
       "              \u001b[32m'sparseValues'\u001b[0m: \u001b[1m{\u001b[0m\u001b[1m}\u001b[0m,\n",
       "              \u001b[32m'values'\u001b[0m: \u001b[1m[\u001b[0m\u001b[1m]\u001b[0m\u001b[1m}\u001b[0m,\n",
       "             \u001b[1m{\u001b[0m\u001b[32m'id'\u001b[0m: \u001b[32m'1'\u001b[0m,\n",
       "              \u001b[32m'metadata'\u001b[0m: \u001b[1m{\u001b[0m\u001b[32m'text'\u001b[0m: \u001b[32m'Is there a separate admissions procedure '\u001b[0m\n",
       "                                   \u001b[32m'for students with disabilities?\\n'\u001b[0m\u001b[1m}\u001b[0m,\n",
       "              \u001b[32m'score'\u001b[0m: \u001b[1;36m0.569590688\u001b[0m,\n",
       "              \u001b[32m'sparseValues'\u001b[0m: \u001b[1m{\u001b[0m\u001b[1m}\u001b[0m,\n",
       "              \u001b[32m'values'\u001b[0m: \u001b[1m[\u001b[0m\u001b[1m]\u001b[0m\u001b[1m}\u001b[0m\u001b[1m]\u001b[0m,\n",
       " \u001b[32m'namespace'\u001b[0m: \u001b[32m''\u001b[0m\u001b[1m}\u001b[0m\n"
      ]
     },
     "metadata": {},
     "output_type": "display_data"
    },
    {
     "name": "stderr",
     "output_type": "stream",
     "text": [
      "100%|██████████| 1/1 [00:00<00:00, 340.89ba/s]\n",
      "100%|██████████| 1/1 [00:00<00:00, 753.56ba/s]\n"
     ]
    },
    {
     "data": {
      "text/html": [
       "<pre style=\"white-space:pre;overflow-x:auto;line-height:normal;font-family:Menlo,'DejaVu Sans Mono',consolas,'Courier New',monospace\">The question How do I take a test at the ARC Testing Center?\n",
       " is not in the dataset\n",
       "</pre>\n"
      ],
      "text/plain": [
       "The question How do I take a test at the ARC Testing Center?\n",
       " is not in the dataset\n"
      ]
     },
     "metadata": {},
     "output_type": "display_data"
    },
    {
     "data": {
      "text/html": [
       "<pre style=\"white-space:pre;overflow-x:auto;line-height:normal;font-family:Menlo,'DejaVu Sans Mono',consolas,'Courier New',monospace\">Errors\n",
       "</pre>\n"
      ],
      "text/plain": [
       "Errors\n"
      ]
     },
     "metadata": {},
     "output_type": "display_data"
    },
    {
     "name": "stderr",
     "output_type": "stream",
     "text": [
      "100%|██████████| 1/1 [00:00<00:00, 499.92ba/s]\n",
      "100%|██████████| 1/1 [00:00<00:00, 492.64ba/s]\n",
      "100%|██████████| 1/1 [00:00<00:00, 531.53ba/s]\n"
     ]
    },
    {
     "data": {
      "text/html": [
       "<pre style=\"white-space:pre;overflow-x:auto;line-height:normal;font-family:Menlo,'DejaVu Sans Mono',consolas,'Courier New',monospace\">\n",
       "Please act as a University of Texas at Dallas Counselor. I will provide you with an individual \n",
       "looking for guidance at the University of Texas at Dallas, and your task is to help them \n",
       "solve their problem\n",
       "\n",
       "Q: What documentation is required to receive disability services?\n",
       "\n",
       "A: Students requesting services must provide current and comprehensive documentation from a qualified professional.\n",
       "The documentation must verify the disability and its impact on a student’s academic performance and functional \n",
       "limitations. \n",
       "\n",
       "Please refer to the Required Documentation Guidelines for complete details. Please note that eligibility guidelines\n",
       "and accommodations may differ from your high school or other colleges you have attended. An individualized \n",
       "education plan <span style=\"font-weight: bold\">(</span>IEP<span style=\"font-weight: bold\">)</span> or Section <span style=\"color: #008080; text-decoration-color: #008080; font-weight: bold\">504</span> plan alone is not sufficient documentation.\n",
       "Q: Services and Procedures for Employees\n",
       "A: We are currently working with Human Resources to begin processing accommodations for employees at UT Dallas. We \n",
       "expect to have this fully on-board by mid-October <span style=\"color: #008080; text-decoration-color: #008080; font-weight: bold\">2022</span>. Until then, please continue to request your workplace \n",
       "accommodations via the HR website. \n",
       "Q: What accommodations and services will I be eligible for?\n",
       "A: Appropriate and reasonable accommodations are determined on an individual basis. These accommodations may differ\n",
       "from those provided in high school or other colleges. Accommodations frequently used by students with disabilities \n",
       "include extended time for test taking, note takers, printed materials in alternate formats, sign language \n",
       "interpreters and the use of assistive technology.\n",
       "Q: Is there a separate admissions procedure for students with disabilities?\n",
       "\n",
       "A: No. The admissions process and criteria are the same for all students applying to UT Dallas. Disability status \n",
       "will not be a consideration in admissions decisions.\n",
       "\n",
       "\n",
       "Q: I need help with handicap parking\n",
       "A:Let’s think step by step.\n",
       "</pre>\n"
      ],
      "text/plain": [
       "\n",
       "Please act as a University of Texas at Dallas Counselor. I will provide you with an individual \n",
       "looking for guidance at the University of Texas at Dallas, and your task is to help them \n",
       "solve their problem\n",
       "\n",
       "Q: What documentation is required to receive disability services?\n",
       "\n",
       "A: Students requesting services must provide current and comprehensive documentation from a qualified professional.\n",
       "The documentation must verify the disability and its impact on a student’s academic performance and functional \n",
       "limitations. \n",
       "\n",
       "Please refer to the Required Documentation Guidelines for complete details. Please note that eligibility guidelines\n",
       "and accommodations may differ from your high school or other colleges you have attended. An individualized \n",
       "education plan \u001b[1m(\u001b[0mIEP\u001b[1m)\u001b[0m or Section \u001b[1;36m504\u001b[0m plan alone is not sufficient documentation.\n",
       "Q: Services and Procedures for Employees\n",
       "A: We are currently working with Human Resources to begin processing accommodations for employees at UT Dallas. We \n",
       "expect to have this fully on-board by mid-October \u001b[1;36m2022\u001b[0m. Until then, please continue to request your workplace \n",
       "accommodations via the HR website. \n",
       "Q: What accommodations and services will I be eligible for?\n",
       "A: Appropriate and reasonable accommodations are determined on an individual basis. These accommodations may differ\n",
       "from those provided in high school or other colleges. Accommodations frequently used by students with disabilities \n",
       "include extended time for test taking, note takers, printed materials in alternate formats, sign language \n",
       "interpreters and the use of assistive technology.\n",
       "Q: Is there a separate admissions procedure for students with disabilities?\n",
       "\n",
       "A: No. The admissions process and criteria are the same for all students applying to UT Dallas. Disability status \n",
       "will not be a consideration in admissions decisions.\n",
       "\n",
       "\n",
       "Q: I need help with handicap parking\n",
       "A:Let’s think step by step.\n"
      ]
     },
     "metadata": {},
     "output_type": "display_data"
    },
    {
     "data": {
      "text/html": [
       "<pre style=\"white-space:pre;overflow-x:auto;line-height:normal;font-family:Menlo,'DejaVu Sans Mono',consolas,'Courier New',monospace\">I need help with handicapped parking\n",
       "</pre>\n"
      ],
      "text/plain": [
       "I need help with handicapped parking\n"
      ]
     },
     "metadata": {},
     "output_type": "display_data"
    },
    {
     "data": {
      "text/html": [
       "<pre style=\"white-space:pre;overflow-x:auto;line-height:normal;font-family:Menlo,'DejaVu Sans Mono',consolas,'Courier New',monospace\"><span style=\"font-weight: bold\">{</span><span style=\"color: #008000; text-decoration-color: #008000\">'matches'</span>: <span style=\"font-weight: bold\">[{</span><span style=\"color: #008000; text-decoration-color: #008000\">'id'</span>: <span style=\"color: #008000; text-decoration-color: #008000\">'3'</span>,\n",
       "              <span style=\"color: #008000; text-decoration-color: #008000\">'metadata'</span>: <span style=\"font-weight: bold\">{</span><span style=\"color: #008000; text-decoration-color: #008000\">'text'</span>: <span style=\"color: #008000; text-decoration-color: #008000\">'What documentation is required to receive '</span>\n",
       "                                   <span style=\"color: #008000; text-decoration-color: #008000\">'disability services?\\n'</span><span style=\"font-weight: bold\">}</span>,\n",
       "              <span style=\"color: #008000; text-decoration-color: #008000\">'score'</span>: <span style=\"color: #008080; text-decoration-color: #008080; font-weight: bold\">0.546582699</span>,\n",
       "              <span style=\"color: #008000; text-decoration-color: #008000\">'sparseValues'</span>: <span style=\"font-weight: bold\">{}</span>,\n",
       "              <span style=\"color: #008000; text-decoration-color: #008000\">'values'</span>: <span style=\"font-weight: bold\">[]}</span>,\n",
       "             <span style=\"font-weight: bold\">{</span><span style=\"color: #008000; text-decoration-color: #008000\">'id'</span>: <span style=\"color: #008000; text-decoration-color: #008000\">'7'</span>,\n",
       "              <span style=\"color: #008000; text-decoration-color: #008000\">'metadata'</span>: <span style=\"font-weight: bold\">{</span><span style=\"color: #008000; text-decoration-color: #008000\">'text'</span>: <span style=\"color: #008000; text-decoration-color: #008000\">'What accommodations and services will I be '</span>\n",
       "                                   <span style=\"color: #008000; text-decoration-color: #008000\">'eligible for?'</span><span style=\"font-weight: bold\">}</span>,\n",
       "              <span style=\"color: #008000; text-decoration-color: #008000\">'score'</span>: <span style=\"color: #008080; text-decoration-color: #008080; font-weight: bold\">0.549007177</span>,\n",
       "              <span style=\"color: #008000; text-decoration-color: #008000\">'sparseValues'</span>: <span style=\"font-weight: bold\">{}</span>,\n",
       "              <span style=\"color: #008000; text-decoration-color: #008000\">'values'</span>: <span style=\"font-weight: bold\">[]}</span>,\n",
       "             <span style=\"font-weight: bold\">{</span><span style=\"color: #008000; text-decoration-color: #008000\">'id'</span>: <span style=\"color: #008000; text-decoration-color: #008000\">'8'</span>,\n",
       "              <span style=\"color: #008000; text-decoration-color: #008000\">'metadata'</span>: <span style=\"font-weight: bold\">{</span><span style=\"color: #008000; text-decoration-color: #008000\">'text'</span>: <span style=\"color: #008000; text-decoration-color: #008000\">'Services and Procedures for Employees'</span><span style=\"font-weight: bold\">}</span>,\n",
       "              <span style=\"color: #008000; text-decoration-color: #008000\">'score'</span>: <span style=\"color: #008080; text-decoration-color: #008080; font-weight: bold\">0.54928422</span>,\n",
       "              <span style=\"color: #008000; text-decoration-color: #008000\">'sparseValues'</span>: <span style=\"font-weight: bold\">{}</span>,\n",
       "              <span style=\"color: #008000; text-decoration-color: #008000\">'values'</span>: <span style=\"font-weight: bold\">[]}</span>,\n",
       "             <span style=\"font-weight: bold\">{</span><span style=\"color: #008000; text-decoration-color: #008000\">'id'</span>: <span style=\"color: #008000; text-decoration-color: #008000\">'1'</span>,\n",
       "              <span style=\"color: #008000; text-decoration-color: #008000\">'metadata'</span>: <span style=\"font-weight: bold\">{</span><span style=\"color: #008000; text-decoration-color: #008000\">'text'</span>: <span style=\"color: #008000; text-decoration-color: #008000\">'Is there a separate admissions procedure '</span>\n",
       "                                   <span style=\"color: #008000; text-decoration-color: #008000\">'for students with disabilities?\\n'</span><span style=\"font-weight: bold\">}</span>,\n",
       "              <span style=\"color: #008000; text-decoration-color: #008000\">'score'</span>: <span style=\"color: #008080; text-decoration-color: #008080; font-weight: bold\">0.551628</span>,\n",
       "              <span style=\"color: #008000; text-decoration-color: #008000\">'sparseValues'</span>: <span style=\"font-weight: bold\">{}</span>,\n",
       "              <span style=\"color: #008000; text-decoration-color: #008000\">'values'</span>: <span style=\"font-weight: bold\">[]}</span>,\n",
       "             <span style=\"font-weight: bold\">{</span><span style=\"color: #008000; text-decoration-color: #008000\">'id'</span>: <span style=\"color: #008000; text-decoration-color: #008000\">'9'</span>,\n",
       "              <span style=\"color: #008000; text-decoration-color: #008000\">'metadata'</span>: <span style=\"font-weight: bold\">{</span><span style=\"color: #008000; text-decoration-color: #008000\">'text'</span>: <span style=\"color: #008000; text-decoration-color: #008000\">'How do I take a test at the ARC Testing '</span>\n",
       "                                   <span style=\"color: #008000; text-decoration-color: #008000\">'Center?\\n'</span><span style=\"font-weight: bold\">}</span>,\n",
       "              <span style=\"color: #008000; text-decoration-color: #008000\">'score'</span>: <span style=\"color: #008080; text-decoration-color: #008080; font-weight: bold\">0.5529809</span>,\n",
       "              <span style=\"color: #008000; text-decoration-color: #008000\">'sparseValues'</span>: <span style=\"font-weight: bold\">{}</span>,\n",
       "              <span style=\"color: #008000; text-decoration-color: #008000\">'values'</span>: <span style=\"font-weight: bold\">[]}]</span>,\n",
       " <span style=\"color: #008000; text-decoration-color: #008000\">'namespace'</span>: <span style=\"color: #008000; text-decoration-color: #008000\">''</span><span style=\"font-weight: bold\">}</span>\n",
       "</pre>\n"
      ],
      "text/plain": [
       "\u001b[1m{\u001b[0m\u001b[32m'matches'\u001b[0m: \u001b[1m[\u001b[0m\u001b[1m{\u001b[0m\u001b[32m'id'\u001b[0m: \u001b[32m'3'\u001b[0m,\n",
       "              \u001b[32m'metadata'\u001b[0m: \u001b[1m{\u001b[0m\u001b[32m'text'\u001b[0m: \u001b[32m'What documentation is required to receive '\u001b[0m\n",
       "                                   \u001b[32m'disability services?\\n'\u001b[0m\u001b[1m}\u001b[0m,\n",
       "              \u001b[32m'score'\u001b[0m: \u001b[1;36m0.546582699\u001b[0m,\n",
       "              \u001b[32m'sparseValues'\u001b[0m: \u001b[1m{\u001b[0m\u001b[1m}\u001b[0m,\n",
       "              \u001b[32m'values'\u001b[0m: \u001b[1m[\u001b[0m\u001b[1m]\u001b[0m\u001b[1m}\u001b[0m,\n",
       "             \u001b[1m{\u001b[0m\u001b[32m'id'\u001b[0m: \u001b[32m'7'\u001b[0m,\n",
       "              \u001b[32m'metadata'\u001b[0m: \u001b[1m{\u001b[0m\u001b[32m'text'\u001b[0m: \u001b[32m'What accommodations and services will I be '\u001b[0m\n",
       "                                   \u001b[32m'eligible for?'\u001b[0m\u001b[1m}\u001b[0m,\n",
       "              \u001b[32m'score'\u001b[0m: \u001b[1;36m0.549007177\u001b[0m,\n",
       "              \u001b[32m'sparseValues'\u001b[0m: \u001b[1m{\u001b[0m\u001b[1m}\u001b[0m,\n",
       "              \u001b[32m'values'\u001b[0m: \u001b[1m[\u001b[0m\u001b[1m]\u001b[0m\u001b[1m}\u001b[0m,\n",
       "             \u001b[1m{\u001b[0m\u001b[32m'id'\u001b[0m: \u001b[32m'8'\u001b[0m,\n",
       "              \u001b[32m'metadata'\u001b[0m: \u001b[1m{\u001b[0m\u001b[32m'text'\u001b[0m: \u001b[32m'Services and Procedures for Employees'\u001b[0m\u001b[1m}\u001b[0m,\n",
       "              \u001b[32m'score'\u001b[0m: \u001b[1;36m0.54928422\u001b[0m,\n",
       "              \u001b[32m'sparseValues'\u001b[0m: \u001b[1m{\u001b[0m\u001b[1m}\u001b[0m,\n",
       "              \u001b[32m'values'\u001b[0m: \u001b[1m[\u001b[0m\u001b[1m]\u001b[0m\u001b[1m}\u001b[0m,\n",
       "             \u001b[1m{\u001b[0m\u001b[32m'id'\u001b[0m: \u001b[32m'1'\u001b[0m,\n",
       "              \u001b[32m'metadata'\u001b[0m: \u001b[1m{\u001b[0m\u001b[32m'text'\u001b[0m: \u001b[32m'Is there a separate admissions procedure '\u001b[0m\n",
       "                                   \u001b[32m'for students with disabilities?\\n'\u001b[0m\u001b[1m}\u001b[0m,\n",
       "              \u001b[32m'score'\u001b[0m: \u001b[1;36m0.551628\u001b[0m,\n",
       "              \u001b[32m'sparseValues'\u001b[0m: \u001b[1m{\u001b[0m\u001b[1m}\u001b[0m,\n",
       "              \u001b[32m'values'\u001b[0m: \u001b[1m[\u001b[0m\u001b[1m]\u001b[0m\u001b[1m}\u001b[0m,\n",
       "             \u001b[1m{\u001b[0m\u001b[32m'id'\u001b[0m: \u001b[32m'9'\u001b[0m,\n",
       "              \u001b[32m'metadata'\u001b[0m: \u001b[1m{\u001b[0m\u001b[32m'text'\u001b[0m: \u001b[32m'How do I take a test at the ARC Testing '\u001b[0m\n",
       "                                   \u001b[32m'Center?\\n'\u001b[0m\u001b[1m}\u001b[0m,\n",
       "              \u001b[32m'score'\u001b[0m: \u001b[1;36m0.5529809\u001b[0m,\n",
       "              \u001b[32m'sparseValues'\u001b[0m: \u001b[1m{\u001b[0m\u001b[1m}\u001b[0m,\n",
       "              \u001b[32m'values'\u001b[0m: \u001b[1m[\u001b[0m\u001b[1m]\u001b[0m\u001b[1m}\u001b[0m\u001b[1m]\u001b[0m,\n",
       " \u001b[32m'namespace'\u001b[0m: \u001b[32m''\u001b[0m\u001b[1m}\u001b[0m\n"
      ]
     },
     "metadata": {},
     "output_type": "display_data"
    },
    {
     "name": "stderr",
     "output_type": "stream",
     "text": [
      "100%|██████████| 1/1 [00:00<00:00, 481.83ba/s]\n",
      "100%|██████████| 1/1 [00:00<00:00, 560.89ba/s]\n",
      "100%|██████████| 1/1 [00:00<00:00, 463.05ba/s]\n",
      "100%|██████████| 1/1 [00:00<00:00, 568.72ba/s]\n",
      "100%|██████████| 1/1 [00:00<00:00, 891.84ba/s]\n"
     ]
    },
    {
     "data": {
      "text/html": [
       "<pre style=\"white-space:pre;overflow-x:auto;line-height:normal;font-family:Menlo,'DejaVu Sans Mono',consolas,'Courier New',monospace\">The question How do I take a test at the ARC Testing Center?\n",
       " is not in the dataset\n",
       "</pre>\n"
      ],
      "text/plain": [
       "The question How do I take a test at the ARC Testing Center?\n",
       " is not in the dataset\n"
      ]
     },
     "metadata": {},
     "output_type": "display_data"
    },
    {
     "data": {
      "text/html": [
       "<pre style=\"white-space:pre;overflow-x:auto;line-height:normal;font-family:Menlo,'DejaVu Sans Mono',consolas,'Courier New',monospace\">Errors\n",
       "</pre>\n"
      ],
      "text/plain": [
       "Errors\n"
      ]
     },
     "metadata": {},
     "output_type": "display_data"
    },
    {
     "data": {
      "text/html": [
       "<pre style=\"white-space:pre;overflow-x:auto;line-height:normal;font-family:Menlo,'DejaVu Sans Mono',consolas,'Courier New',monospace\">\n",
       "Please act as a University of Texas at Dallas Counselor. I will provide you with an individual \n",
       "looking for guidance at the University of Texas at Dallas, and your task is to help them \n",
       "solve their problem\n",
       "\n",
       "Q: What documentation is required to receive disability services?\n",
       "\n",
       "A: Students requesting services must provide current and comprehensive documentation from a qualified professional.\n",
       "The documentation must verify the disability and its impact on a student’s academic performance and functional \n",
       "limitations. \n",
       "\n",
       "Please refer to the Required Documentation Guidelines for complete details. Please note that eligibility guidelines\n",
       "and accommodations may differ from your high school or other colleges you have attended. An individualized \n",
       "education plan <span style=\"font-weight: bold\">(</span>IEP<span style=\"font-weight: bold\">)</span> or Section <span style=\"color: #008080; text-decoration-color: #008080; font-weight: bold\">504</span> plan alone is not sufficient documentation.\n",
       "Q: What accommodations and services will I be eligible for?\n",
       "A: Appropriate and reasonable accommodations are determined on an individual basis. These accommodations may differ\n",
       "from those provided in high school or other colleges. Accommodations frequently used by students with disabilities \n",
       "include extended time for test taking, note takers, printed materials in alternate formats, sign language \n",
       "interpreters and the use of assistive technology.\n",
       "Q: Services and Procedures for Employees\n",
       "A: We are currently working with Human Resources to begin processing accommodations for employees at UT Dallas. We \n",
       "expect to have this fully on-board by mid-October <span style=\"color: #008080; text-decoration-color: #008080; font-weight: bold\">2022</span>. Until then, please continue to request your workplace \n",
       "accommodations via the HR website. \n",
       "Q: Is there a separate admissions procedure for students with disabilities?\n",
       "\n",
       "A: No. The admissions process and criteria are the same for all students applying to UT Dallas. Disability status \n",
       "will not be a consideration in admissions decisions.\n",
       "\n",
       "\n",
       "Q: I need help with handicapped parking\n",
       "A:Let’s think step by step.\n",
       "</pre>\n"
      ],
      "text/plain": [
       "\n",
       "Please act as a University of Texas at Dallas Counselor. I will provide you with an individual \n",
       "looking for guidance at the University of Texas at Dallas, and your task is to help them \n",
       "solve their problem\n",
       "\n",
       "Q: What documentation is required to receive disability services?\n",
       "\n",
       "A: Students requesting services must provide current and comprehensive documentation from a qualified professional.\n",
       "The documentation must verify the disability and its impact on a student’s academic performance and functional \n",
       "limitations. \n",
       "\n",
       "Please refer to the Required Documentation Guidelines for complete details. Please note that eligibility guidelines\n",
       "and accommodations may differ from your high school or other colleges you have attended. An individualized \n",
       "education plan \u001b[1m(\u001b[0mIEP\u001b[1m)\u001b[0m or Section \u001b[1;36m504\u001b[0m plan alone is not sufficient documentation.\n",
       "Q: What accommodations and services will I be eligible for?\n",
       "A: Appropriate and reasonable accommodations are determined on an individual basis. These accommodations may differ\n",
       "from those provided in high school or other colleges. Accommodations frequently used by students with disabilities \n",
       "include extended time for test taking, note takers, printed materials in alternate formats, sign language \n",
       "interpreters and the use of assistive technology.\n",
       "Q: Services and Procedures for Employees\n",
       "A: We are currently working with Human Resources to begin processing accommodations for employees at UT Dallas. We \n",
       "expect to have this fully on-board by mid-October \u001b[1;36m2022\u001b[0m. Until then, please continue to request your workplace \n",
       "accommodations via the HR website. \n",
       "Q: Is there a separate admissions procedure for students with disabilities?\n",
       "\n",
       "A: No. The admissions process and criteria are the same for all students applying to UT Dallas. Disability status \n",
       "will not be a consideration in admissions decisions.\n",
       "\n",
       "\n",
       "Q: I need help with handicapped parking\n",
       "A:Let’s think step by step.\n"
      ]
     },
     "metadata": {},
     "output_type": "display_data"
    },
    {
     "data": {
      "text/html": [
       "<pre style=\"white-space:pre;overflow-x:auto;line-height:normal;font-family:Menlo,'DejaVu Sans Mono',consolas,'Courier New',monospace\">what do i do if I have a disability\n",
       "</pre>\n"
      ],
      "text/plain": [
       "what do i do if I have a disability\n"
      ]
     },
     "metadata": {},
     "output_type": "display_data"
    },
    {
     "data": {
      "text/html": [
       "<pre style=\"white-space:pre;overflow-x:auto;line-height:normal;font-family:Menlo,'DejaVu Sans Mono',consolas,'Courier New',monospace\"><span style=\"font-weight: bold\">{</span><span style=\"color: #008000; text-decoration-color: #008000\">'matches'</span>: <span style=\"font-weight: bold\">[{</span><span style=\"color: #008000; text-decoration-color: #008000\">'id'</span>: <span style=\"color: #008000; text-decoration-color: #008000\">'6'</span>,\n",
       "              <span style=\"color: #008000; text-decoration-color: #008000\">'metadata'</span>: <span style=\"font-weight: bold\">{</span><span style=\"color: #008000; text-decoration-color: #008000\">'text'</span>: <span style=\"color: #008000; text-decoration-color: #008000\">'What happens after my disability '</span>\n",
       "                                   <span style=\"color: #008000; text-decoration-color: #008000\">'documentation is received?'</span><span style=\"font-weight: bold\">}</span>,\n",
       "              <span style=\"color: #008000; text-decoration-color: #008000\">'score'</span>: <span style=\"color: #008080; text-decoration-color: #008080; font-weight: bold\">0.370958209</span>,\n",
       "              <span style=\"color: #008000; text-decoration-color: #008000\">'sparseValues'</span>: <span style=\"font-weight: bold\">{}</span>,\n",
       "              <span style=\"color: #008000; text-decoration-color: #008000\">'values'</span>: <span style=\"font-weight: bold\">[]}</span>,\n",
       "             <span style=\"font-weight: bold\">{</span><span style=\"color: #008000; text-decoration-color: #008000\">'id'</span>: <span style=\"color: #008000; text-decoration-color: #008000\">'7'</span>,\n",
       "              <span style=\"color: #008000; text-decoration-color: #008000\">'metadata'</span>: <span style=\"font-weight: bold\">{</span><span style=\"color: #008000; text-decoration-color: #008000\">'text'</span>: <span style=\"color: #008000; text-decoration-color: #008000\">'What accommodations and services will I be '</span>\n",
       "                                   <span style=\"color: #008000; text-decoration-color: #008000\">'eligible for?'</span><span style=\"font-weight: bold\">}</span>,\n",
       "              <span style=\"color: #008000; text-decoration-color: #008000\">'score'</span>: <span style=\"color: #008080; text-decoration-color: #008080; font-weight: bold\">0.388860822</span>,\n",
       "              <span style=\"color: #008000; text-decoration-color: #008000\">'sparseValues'</span>: <span style=\"font-weight: bold\">{}</span>,\n",
       "              <span style=\"color: #008000; text-decoration-color: #008000\">'values'</span>: <span style=\"font-weight: bold\">[]}</span>,\n",
       "             <span style=\"font-weight: bold\">{</span><span style=\"color: #008000; text-decoration-color: #008000\">'id'</span>: <span style=\"color: #008000; text-decoration-color: #008000\">'3'</span>,\n",
       "              <span style=\"color: #008000; text-decoration-color: #008000\">'metadata'</span>: <span style=\"font-weight: bold\">{</span><span style=\"color: #008000; text-decoration-color: #008000\">'text'</span>: <span style=\"color: #008000; text-decoration-color: #008000\">'What documentation is required to receive '</span>\n",
       "                                   <span style=\"color: #008000; text-decoration-color: #008000\">'disability services?\\n'</span><span style=\"font-weight: bold\">}</span>,\n",
       "              <span style=\"color: #008000; text-decoration-color: #008000\">'score'</span>: <span style=\"color: #008080; text-decoration-color: #008080; font-weight: bold\">0.395330191</span>,\n",
       "              <span style=\"color: #008000; text-decoration-color: #008000\">'sparseValues'</span>: <span style=\"font-weight: bold\">{}</span>,\n",
       "              <span style=\"color: #008000; text-decoration-color: #008000\">'values'</span>: <span style=\"font-weight: bold\">[]}</span>,\n",
       "             <span style=\"font-weight: bold\">{</span><span style=\"color: #008000; text-decoration-color: #008000\">'id'</span>: <span style=\"color: #008000; text-decoration-color: #008000\">'1'</span>,\n",
       "              <span style=\"color: #008000; text-decoration-color: #008000\">'metadata'</span>: <span style=\"font-weight: bold\">{</span><span style=\"color: #008000; text-decoration-color: #008000\">'text'</span>: <span style=\"color: #008000; text-decoration-color: #008000\">'Is there a separate admissions procedure '</span>\n",
       "                                   <span style=\"color: #008000; text-decoration-color: #008000\">'for students with disabilities?\\n'</span><span style=\"font-weight: bold\">}</span>,\n",
       "              <span style=\"color: #008000; text-decoration-color: #008000\">'score'</span>: <span style=\"color: #008080; text-decoration-color: #008080; font-weight: bold\">0.40244174</span>,\n",
       "              <span style=\"color: #008000; text-decoration-color: #008000\">'sparseValues'</span>: <span style=\"font-weight: bold\">{}</span>,\n",
       "              <span style=\"color: #008000; text-decoration-color: #008000\">'values'</span>: <span style=\"font-weight: bold\">[]}</span>,\n",
       "             <span style=\"font-weight: bold\">{</span><span style=\"color: #008000; text-decoration-color: #008000\">'id'</span>: <span style=\"color: #008000; text-decoration-color: #008000\">'2'</span>,\n",
       "              <span style=\"color: #008000; text-decoration-color: #008000\">'metadata'</span>: <span style=\"font-weight: bold\">{</span><span style=\"color: #008000; text-decoration-color: #008000\">'text'</span>: <span style=\"color: #008000; text-decoration-color: #008000\">'Should I send my disability documentation '</span>\n",
       "                                   <span style=\"color: #008000; text-decoration-color: #008000\">'with my admissions application?'</span><span style=\"font-weight: bold\">}</span>,\n",
       "              <span style=\"color: #008000; text-decoration-color: #008000\">'score'</span>: <span style=\"color: #008080; text-decoration-color: #008080; font-weight: bold\">0.427339315</span>,\n",
       "              <span style=\"color: #008000; text-decoration-color: #008000\">'sparseValues'</span>: <span style=\"font-weight: bold\">{}</span>,\n",
       "              <span style=\"color: #008000; text-decoration-color: #008000\">'values'</span>: <span style=\"font-weight: bold\">[]}]</span>,\n",
       " <span style=\"color: #008000; text-decoration-color: #008000\">'namespace'</span>: <span style=\"color: #008000; text-decoration-color: #008000\">''</span><span style=\"font-weight: bold\">}</span>\n",
       "</pre>\n"
      ],
      "text/plain": [
       "\u001b[1m{\u001b[0m\u001b[32m'matches'\u001b[0m: \u001b[1m[\u001b[0m\u001b[1m{\u001b[0m\u001b[32m'id'\u001b[0m: \u001b[32m'6'\u001b[0m,\n",
       "              \u001b[32m'metadata'\u001b[0m: \u001b[1m{\u001b[0m\u001b[32m'text'\u001b[0m: \u001b[32m'What happens after my disability '\u001b[0m\n",
       "                                   \u001b[32m'documentation is received?'\u001b[0m\u001b[1m}\u001b[0m,\n",
       "              \u001b[32m'score'\u001b[0m: \u001b[1;36m0.370958209\u001b[0m,\n",
       "              \u001b[32m'sparseValues'\u001b[0m: \u001b[1m{\u001b[0m\u001b[1m}\u001b[0m,\n",
       "              \u001b[32m'values'\u001b[0m: \u001b[1m[\u001b[0m\u001b[1m]\u001b[0m\u001b[1m}\u001b[0m,\n",
       "             \u001b[1m{\u001b[0m\u001b[32m'id'\u001b[0m: \u001b[32m'7'\u001b[0m,\n",
       "              \u001b[32m'metadata'\u001b[0m: \u001b[1m{\u001b[0m\u001b[32m'text'\u001b[0m: \u001b[32m'What accommodations and services will I be '\u001b[0m\n",
       "                                   \u001b[32m'eligible for?'\u001b[0m\u001b[1m}\u001b[0m,\n",
       "              \u001b[32m'score'\u001b[0m: \u001b[1;36m0.388860822\u001b[0m,\n",
       "              \u001b[32m'sparseValues'\u001b[0m: \u001b[1m{\u001b[0m\u001b[1m}\u001b[0m,\n",
       "              \u001b[32m'values'\u001b[0m: \u001b[1m[\u001b[0m\u001b[1m]\u001b[0m\u001b[1m}\u001b[0m,\n",
       "             \u001b[1m{\u001b[0m\u001b[32m'id'\u001b[0m: \u001b[32m'3'\u001b[0m,\n",
       "              \u001b[32m'metadata'\u001b[0m: \u001b[1m{\u001b[0m\u001b[32m'text'\u001b[0m: \u001b[32m'What documentation is required to receive '\u001b[0m\n",
       "                                   \u001b[32m'disability services?\\n'\u001b[0m\u001b[1m}\u001b[0m,\n",
       "              \u001b[32m'score'\u001b[0m: \u001b[1;36m0.395330191\u001b[0m,\n",
       "              \u001b[32m'sparseValues'\u001b[0m: \u001b[1m{\u001b[0m\u001b[1m}\u001b[0m,\n",
       "              \u001b[32m'values'\u001b[0m: \u001b[1m[\u001b[0m\u001b[1m]\u001b[0m\u001b[1m}\u001b[0m,\n",
       "             \u001b[1m{\u001b[0m\u001b[32m'id'\u001b[0m: \u001b[32m'1'\u001b[0m,\n",
       "              \u001b[32m'metadata'\u001b[0m: \u001b[1m{\u001b[0m\u001b[32m'text'\u001b[0m: \u001b[32m'Is there a separate admissions procedure '\u001b[0m\n",
       "                                   \u001b[32m'for students with disabilities?\\n'\u001b[0m\u001b[1m}\u001b[0m,\n",
       "              \u001b[32m'score'\u001b[0m: \u001b[1;36m0.40244174\u001b[0m,\n",
       "              \u001b[32m'sparseValues'\u001b[0m: \u001b[1m{\u001b[0m\u001b[1m}\u001b[0m,\n",
       "              \u001b[32m'values'\u001b[0m: \u001b[1m[\u001b[0m\u001b[1m]\u001b[0m\u001b[1m}\u001b[0m,\n",
       "             \u001b[1m{\u001b[0m\u001b[32m'id'\u001b[0m: \u001b[32m'2'\u001b[0m,\n",
       "              \u001b[32m'metadata'\u001b[0m: \u001b[1m{\u001b[0m\u001b[32m'text'\u001b[0m: \u001b[32m'Should I send my disability documentation '\u001b[0m\n",
       "                                   \u001b[32m'with my admissions application?'\u001b[0m\u001b[1m}\u001b[0m,\n",
       "              \u001b[32m'score'\u001b[0m: \u001b[1;36m0.427339315\u001b[0m,\n",
       "              \u001b[32m'sparseValues'\u001b[0m: \u001b[1m{\u001b[0m\u001b[1m}\u001b[0m,\n",
       "              \u001b[32m'values'\u001b[0m: \u001b[1m[\u001b[0m\u001b[1m]\u001b[0m\u001b[1m}\u001b[0m\u001b[1m]\u001b[0m,\n",
       " \u001b[32m'namespace'\u001b[0m: \u001b[32m''\u001b[0m\u001b[1m}\u001b[0m\n"
      ]
     },
     "metadata": {},
     "output_type": "display_data"
    },
    {
     "name": "stderr",
     "output_type": "stream",
     "text": [
      "100%|██████████| 1/1 [00:00<00:00, 496.60ba/s]\n",
      "100%|██████████| 1/1 [00:00<00:00, 472.38ba/s]\n",
      "100%|██████████| 1/1 [00:00<00:00, 548.28ba/s]\n",
      "100%|██████████| 1/1 [00:00<00:00, 547.77ba/s]\n",
      "100%|██████████| 1/1 [00:00<00:00, 489.53ba/s]\n"
     ]
    },
    {
     "data": {
      "text/html": [
       "<pre style=\"white-space:pre;overflow-x:auto;line-height:normal;font-family:Menlo,'DejaVu Sans Mono',consolas,'Courier New',monospace\">\n",
       "Please act as a University of Texas at Dallas Counselor. I will provide you with an individual \n",
       "looking for guidance at the University of Texas at Dallas, and your task is to help them \n",
       "solve their problem\n",
       "\n",
       "Q: What happens after my disability documentation is received?\n",
       "A: AccessAbility Resource Center evaluates documentation to determine eligibility for services. An intake \n",
       "appointment is set to identify reasonable accommodations, and an individualized service plan is created to meet the\n",
       "needs of the registered student. \n",
       "\n",
       "Please note academic accommodations are not retroactive.\n",
       "Q: What accommodations and services will I be eligible for?\n",
       "A: Appropriate and reasonable accommodations are determined on an individual basis. These accommodations may differ\n",
       "from those provided in high school or other colleges. Accommodations frequently used by students with disabilities \n",
       "include extended time for test taking, note takers, printed materials in alternate formats, sign language \n",
       "interpreters and the use of assistive technology.\n",
       "Q: What documentation is required to receive disability services?\n",
       "\n",
       "A: Students requesting services must provide current and comprehensive documentation from a qualified professional.\n",
       "The documentation must verify the disability and its impact on a student’s academic performance and functional \n",
       "limitations. \n",
       "\n",
       "Please refer to the Required Documentation Guidelines for complete details. Please note that eligibility guidelines\n",
       "and accommodations may differ from your high school or other colleges you have attended. An individualized \n",
       "education plan <span style=\"font-weight: bold\">(</span>IEP<span style=\"font-weight: bold\">)</span> or Section <span style=\"color: #008080; text-decoration-color: #008080; font-weight: bold\">504</span> plan alone is not sufficient documentation.\n",
       "Q: Is there a separate admissions procedure for students with disabilities?\n",
       "\n",
       "A: No. The admissions process and criteria are the same for all students applying to UT Dallas. Disability status \n",
       "will not be a consideration in admissions decisions.\n",
       "\n",
       "\n",
       "Q: Should I send my disability documentation with my admissions application?\n",
       "A: No. Documentation should be submitted to AccessAbility Resource Center only after you have been admitted to the \n",
       "University and have registered for classes.\n",
       "\n",
       "\n",
       "Q: what do i do if I have a disability\n",
       "A:Let’s think step by step.\n",
       "</pre>\n"
      ],
      "text/plain": [
       "\n",
       "Please act as a University of Texas at Dallas Counselor. I will provide you with an individual \n",
       "looking for guidance at the University of Texas at Dallas, and your task is to help them \n",
       "solve their problem\n",
       "\n",
       "Q: What happens after my disability documentation is received?\n",
       "A: AccessAbility Resource Center evaluates documentation to determine eligibility for services. An intake \n",
       "appointment is set to identify reasonable accommodations, and an individualized service plan is created to meet the\n",
       "needs of the registered student. \n",
       "\n",
       "Please note academic accommodations are not retroactive.\n",
       "Q: What accommodations and services will I be eligible for?\n",
       "A: Appropriate and reasonable accommodations are determined on an individual basis. These accommodations may differ\n",
       "from those provided in high school or other colleges. Accommodations frequently used by students with disabilities \n",
       "include extended time for test taking, note takers, printed materials in alternate formats, sign language \n",
       "interpreters and the use of assistive technology.\n",
       "Q: What documentation is required to receive disability services?\n",
       "\n",
       "A: Students requesting services must provide current and comprehensive documentation from a qualified professional.\n",
       "The documentation must verify the disability and its impact on a student’s academic performance and functional \n",
       "limitations. \n",
       "\n",
       "Please refer to the Required Documentation Guidelines for complete details. Please note that eligibility guidelines\n",
       "and accommodations may differ from your high school or other colleges you have attended. An individualized \n",
       "education plan \u001b[1m(\u001b[0mIEP\u001b[1m)\u001b[0m or Section \u001b[1;36m504\u001b[0m plan alone is not sufficient documentation.\n",
       "Q: Is there a separate admissions procedure for students with disabilities?\n",
       "\n",
       "A: No. The admissions process and criteria are the same for all students applying to UT Dallas. Disability status \n",
       "will not be a consideration in admissions decisions.\n",
       "\n",
       "\n",
       "Q: Should I send my disability documentation with my admissions application?\n",
       "A: No. Documentation should be submitted to AccessAbility Resource Center only after you have been admitted to the \n",
       "University and have registered for classes.\n",
       "\n",
       "\n",
       "Q: what do i do if I have a disability\n",
       "A:Let’s think step by step.\n"
      ]
     },
     "metadata": {},
     "output_type": "display_data"
    },
    {
     "data": {
      "text/html": [
       "<pre style=\"white-space:pre;overflow-x:auto;line-height:normal;font-family:Menlo,'DejaVu Sans Mono',consolas,'Courier New',monospace\">What buildings are wheelchair accessible?\n",
       "</pre>\n"
      ],
      "text/plain": [
       "What buildings are wheelchair accessible?\n"
      ]
     },
     "metadata": {},
     "output_type": "display_data"
    },
    {
     "data": {
      "text/html": [
       "<pre style=\"white-space:pre;overflow-x:auto;line-height:normal;font-family:Menlo,'DejaVu Sans Mono',consolas,'Courier New',monospace\"><span style=\"font-weight: bold\">{</span><span style=\"color: #008000; text-decoration-color: #008000\">'matches'</span>: <span style=\"font-weight: bold\">[{</span><span style=\"color: #008000; text-decoration-color: #008000\">'id'</span>: <span style=\"color: #008000; text-decoration-color: #008000\">'7'</span>,\n",
       "              <span style=\"color: #008000; text-decoration-color: #008000\">'metadata'</span>: <span style=\"font-weight: bold\">{</span><span style=\"color: #008000; text-decoration-color: #008000\">'text'</span>: <span style=\"color: #008000; text-decoration-color: #008000\">'What accommodations and services will I be '</span>\n",
       "                                   <span style=\"color: #008000; text-decoration-color: #008000\">'eligible for?'</span><span style=\"font-weight: bold\">}</span>,\n",
       "              <span style=\"color: #008000; text-decoration-color: #008000\">'score'</span>: <span style=\"color: #008080; text-decoration-color: #008080; font-weight: bold\">0.373433828</span>,\n",
       "              <span style=\"color: #008000; text-decoration-color: #008000\">'sparseValues'</span>: <span style=\"font-weight: bold\">{}</span>,\n",
       "              <span style=\"color: #008000; text-decoration-color: #008000\">'values'</span>: <span style=\"font-weight: bold\">[]}</span>,\n",
       "             <span style=\"font-weight: bold\">{</span><span style=\"color: #008000; text-decoration-color: #008000\">'id'</span>: <span style=\"color: #008000; text-decoration-color: #008000\">'0'</span>,\n",
       "              <span style=\"color: #008000; text-decoration-color: #008000\">'metadata'</span>: <span style=\"font-weight: bold\">{</span><span style=\"color: #008000; text-decoration-color: #008000\">'text'</span>: <span style=\"color: #008000; text-decoration-color: #008000\">'Does UT Dallas provide services for '</span>\n",
       "                                   <span style=\"color: #008000; text-decoration-color: #008000\">'students with disabilities?'</span><span style=\"font-weight: bold\">}</span>,\n",
       "              <span style=\"color: #008000; text-decoration-color: #008000\">'score'</span>: <span style=\"color: #008080; text-decoration-color: #008080; font-weight: bold\">0.440475106</span>,\n",
       "              <span style=\"color: #008000; text-decoration-color: #008000\">'sparseValues'</span>: <span style=\"font-weight: bold\">{}</span>,\n",
       "              <span style=\"color: #008000; text-decoration-color: #008000\">'values'</span>: <span style=\"font-weight: bold\">[]}</span>,\n",
       "             <span style=\"font-weight: bold\">{</span><span style=\"color: #008000; text-decoration-color: #008000\">'id'</span>: <span style=\"color: #008000; text-decoration-color: #008000\">'1'</span>,\n",
       "              <span style=\"color: #008000; text-decoration-color: #008000\">'metadata'</span>: <span style=\"font-weight: bold\">{</span><span style=\"color: #008000; text-decoration-color: #008000\">'text'</span>: <span style=\"color: #008000; text-decoration-color: #008000\">'Is there a separate admissions procedure '</span>\n",
       "                                   <span style=\"color: #008000; text-decoration-color: #008000\">'for students with disabilities?\\n'</span><span style=\"font-weight: bold\">}</span>,\n",
       "              <span style=\"color: #008000; text-decoration-color: #008000\">'score'</span>: <span style=\"color: #008080; text-decoration-color: #008080; font-weight: bold\">0.474895716</span>,\n",
       "              <span style=\"color: #008000; text-decoration-color: #008000\">'sparseValues'</span>: <span style=\"font-weight: bold\">{}</span>,\n",
       "              <span style=\"color: #008000; text-decoration-color: #008000\">'values'</span>: <span style=\"font-weight: bold\">[]}</span>,\n",
       "             <span style=\"font-weight: bold\">{</span><span style=\"color: #008000; text-decoration-color: #008000\">'id'</span>: <span style=\"color: #008000; text-decoration-color: #008000\">'3'</span>,\n",
       "              <span style=\"color: #008000; text-decoration-color: #008000\">'metadata'</span>: <span style=\"font-weight: bold\">{</span><span style=\"color: #008000; text-decoration-color: #008000\">'text'</span>: <span style=\"color: #008000; text-decoration-color: #008000\">'What documentation is required to receive '</span>\n",
       "                                   <span style=\"color: #008000; text-decoration-color: #008000\">'disability services?\\n'</span><span style=\"font-weight: bold\">}</span>,\n",
       "              <span style=\"color: #008000; text-decoration-color: #008000\">'score'</span>: <span style=\"color: #008080; text-decoration-color: #008080; font-weight: bold\">0.488763094</span>,\n",
       "              <span style=\"color: #008000; text-decoration-color: #008000\">'sparseValues'</span>: <span style=\"font-weight: bold\">{}</span>,\n",
       "              <span style=\"color: #008000; text-decoration-color: #008000\">'values'</span>: <span style=\"font-weight: bold\">[]}</span>,\n",
       "             <span style=\"font-weight: bold\">{</span><span style=\"color: #008000; text-decoration-color: #008000\">'id'</span>: <span style=\"color: #008000; text-decoration-color: #008000\">'5'</span>,\n",
       "              <span style=\"color: #008000; text-decoration-color: #008000\">'metadata'</span>: <span style=\"font-weight: bold\">{</span><span style=\"color: #008000; text-decoration-color: #008000\">'text'</span>: <span style=\"color: #008000; text-decoration-color: #008000\">'Who at the University will know about my '</span>\n",
       "                                   <span style=\"color: #008000; text-decoration-color: #008000\">'disability if I register with ARC?'</span><span style=\"font-weight: bold\">}</span>,\n",
       "              <span style=\"color: #008000; text-decoration-color: #008000\">'score'</span>: <span style=\"color: #008080; text-decoration-color: #008080; font-weight: bold\">0.508824944</span>,\n",
       "              <span style=\"color: #008000; text-decoration-color: #008000\">'sparseValues'</span>: <span style=\"font-weight: bold\">{}</span>,\n",
       "              <span style=\"color: #008000; text-decoration-color: #008000\">'values'</span>: <span style=\"font-weight: bold\">[]}]</span>,\n",
       " <span style=\"color: #008000; text-decoration-color: #008000\">'namespace'</span>: <span style=\"color: #008000; text-decoration-color: #008000\">''</span><span style=\"font-weight: bold\">}</span>\n",
       "</pre>\n"
      ],
      "text/plain": [
       "\u001b[1m{\u001b[0m\u001b[32m'matches'\u001b[0m: \u001b[1m[\u001b[0m\u001b[1m{\u001b[0m\u001b[32m'id'\u001b[0m: \u001b[32m'7'\u001b[0m,\n",
       "              \u001b[32m'metadata'\u001b[0m: \u001b[1m{\u001b[0m\u001b[32m'text'\u001b[0m: \u001b[32m'What accommodations and services will I be '\u001b[0m\n",
       "                                   \u001b[32m'eligible for?'\u001b[0m\u001b[1m}\u001b[0m,\n",
       "              \u001b[32m'score'\u001b[0m: \u001b[1;36m0.373433828\u001b[0m,\n",
       "              \u001b[32m'sparseValues'\u001b[0m: \u001b[1m{\u001b[0m\u001b[1m}\u001b[0m,\n",
       "              \u001b[32m'values'\u001b[0m: \u001b[1m[\u001b[0m\u001b[1m]\u001b[0m\u001b[1m}\u001b[0m,\n",
       "             \u001b[1m{\u001b[0m\u001b[32m'id'\u001b[0m: \u001b[32m'0'\u001b[0m,\n",
       "              \u001b[32m'metadata'\u001b[0m: \u001b[1m{\u001b[0m\u001b[32m'text'\u001b[0m: \u001b[32m'Does UT Dallas provide services for '\u001b[0m\n",
       "                                   \u001b[32m'students with disabilities?'\u001b[0m\u001b[1m}\u001b[0m,\n",
       "              \u001b[32m'score'\u001b[0m: \u001b[1;36m0.440475106\u001b[0m,\n",
       "              \u001b[32m'sparseValues'\u001b[0m: \u001b[1m{\u001b[0m\u001b[1m}\u001b[0m,\n",
       "              \u001b[32m'values'\u001b[0m: \u001b[1m[\u001b[0m\u001b[1m]\u001b[0m\u001b[1m}\u001b[0m,\n",
       "             \u001b[1m{\u001b[0m\u001b[32m'id'\u001b[0m: \u001b[32m'1'\u001b[0m,\n",
       "              \u001b[32m'metadata'\u001b[0m: \u001b[1m{\u001b[0m\u001b[32m'text'\u001b[0m: \u001b[32m'Is there a separate admissions procedure '\u001b[0m\n",
       "                                   \u001b[32m'for students with disabilities?\\n'\u001b[0m\u001b[1m}\u001b[0m,\n",
       "              \u001b[32m'score'\u001b[0m: \u001b[1;36m0.474895716\u001b[0m,\n",
       "              \u001b[32m'sparseValues'\u001b[0m: \u001b[1m{\u001b[0m\u001b[1m}\u001b[0m,\n",
       "              \u001b[32m'values'\u001b[0m: \u001b[1m[\u001b[0m\u001b[1m]\u001b[0m\u001b[1m}\u001b[0m,\n",
       "             \u001b[1m{\u001b[0m\u001b[32m'id'\u001b[0m: \u001b[32m'3'\u001b[0m,\n",
       "              \u001b[32m'metadata'\u001b[0m: \u001b[1m{\u001b[0m\u001b[32m'text'\u001b[0m: \u001b[32m'What documentation is required to receive '\u001b[0m\n",
       "                                   \u001b[32m'disability services?\\n'\u001b[0m\u001b[1m}\u001b[0m,\n",
       "              \u001b[32m'score'\u001b[0m: \u001b[1;36m0.488763094\u001b[0m,\n",
       "              \u001b[32m'sparseValues'\u001b[0m: \u001b[1m{\u001b[0m\u001b[1m}\u001b[0m,\n",
       "              \u001b[32m'values'\u001b[0m: \u001b[1m[\u001b[0m\u001b[1m]\u001b[0m\u001b[1m}\u001b[0m,\n",
       "             \u001b[1m{\u001b[0m\u001b[32m'id'\u001b[0m: \u001b[32m'5'\u001b[0m,\n",
       "              \u001b[32m'metadata'\u001b[0m: \u001b[1m{\u001b[0m\u001b[32m'text'\u001b[0m: \u001b[32m'Who at the University will know about my '\u001b[0m\n",
       "                                   \u001b[32m'disability if I register with ARC?'\u001b[0m\u001b[1m}\u001b[0m,\n",
       "              \u001b[32m'score'\u001b[0m: \u001b[1;36m0.508824944\u001b[0m,\n",
       "              \u001b[32m'sparseValues'\u001b[0m: \u001b[1m{\u001b[0m\u001b[1m}\u001b[0m,\n",
       "              \u001b[32m'values'\u001b[0m: \u001b[1m[\u001b[0m\u001b[1m]\u001b[0m\u001b[1m}\u001b[0m\u001b[1m]\u001b[0m,\n",
       " \u001b[32m'namespace'\u001b[0m: \u001b[32m''\u001b[0m\u001b[1m}\u001b[0m\n"
      ]
     },
     "metadata": {},
     "output_type": "display_data"
    },
    {
     "name": "stderr",
     "output_type": "stream",
     "text": [
      "100%|██████████| 1/1 [00:00<00:00, 429.44ba/s]\n",
      "100%|██████████| 1/1 [00:00<00:00, 509.64ba/s]\n",
      "100%|██████████| 1/1 [00:00<00:00, 601.68ba/s]\n",
      "100%|██████████| 1/1 [00:00<00:00, 438.83ba/s]\n",
      "100%|██████████| 1/1 [00:00<00:00, 805.05ba/s]\n"
     ]
    },
    {
     "data": {
      "text/html": [
       "<pre style=\"white-space:pre;overflow-x:auto;line-height:normal;font-family:Menlo,'DejaVu Sans Mono',consolas,'Courier New',monospace\">The question Who at the University will know about my disability if I register with ARC? is not in the dataset\n",
       "</pre>\n"
      ],
      "text/plain": [
       "The question Who at the University will know about my disability if I register with ARC? is not in the dataset\n"
      ]
     },
     "metadata": {},
     "output_type": "display_data"
    },
    {
     "data": {
      "text/html": [
       "<pre style=\"white-space:pre;overflow-x:auto;line-height:normal;font-family:Menlo,'DejaVu Sans Mono',consolas,'Courier New',monospace\">Errors\n",
       "</pre>\n"
      ],
      "text/plain": [
       "Errors\n"
      ]
     },
     "metadata": {},
     "output_type": "display_data"
    },
    {
     "data": {
      "text/html": [
       "<pre style=\"white-space:pre;overflow-x:auto;line-height:normal;font-family:Menlo,'DejaVu Sans Mono',consolas,'Courier New',monospace\">\n",
       "Please act as a University of Texas at Dallas Counselor. I will provide you with an individual \n",
       "looking for guidance at the University of Texas at Dallas, and your task is to help them \n",
       "solve their problem\n",
       "\n",
       "Q: What accommodations and services will I be eligible for?\n",
       "A: Appropriate and reasonable accommodations are determined on an individual basis. These accommodations may differ\n",
       "from those provided in high school or other colleges. Accommodations frequently used by students with disabilities \n",
       "include extended time for test taking, note takers, printed materials in alternate formats, sign language \n",
       "interpreters and the use of assistive technology.\n",
       "Q: Does UT Dallas provide services for students with disabilities?\n",
       "A: Yes, accommodations and services are provided for students with documented disabilities to provide equal access \n",
       "to educational programs and services in compliance with Section <span style=\"color: #008080; text-decoration-color: #008080; font-weight: bold\">504</span> of the Rehabilitation Act of <span style=\"color: #008080; text-decoration-color: #008080; font-weight: bold\">1973</span>, the \n",
       "Americans with Disabilities Act <span style=\"font-weight: bold\">(</span><span style=\"color: #008080; text-decoration-color: #008080; font-weight: bold\">1990</span><span style=\"font-weight: bold\">)</span>, and UT Dallas policy. \n",
       "\n",
       "The AccessAbility Resource Center <span style=\"font-weight: bold\">(</span>AccessAbility Resource Center<span style=\"font-weight: bold\">)</span> facilitates the provision of services and \n",
       "accommodations for students. Accommodations are determined on an individual basis using the student’s disability \n",
       "documentation and in consultation with the student.\n",
       "Q: Is there a separate admissions procedure for students with disabilities?\n",
       "\n",
       "A: No. The admissions process and criteria are the same for all students applying to UT Dallas. Disability status \n",
       "will not be a consideration in admissions decisions.\n",
       "\n",
       "\n",
       "Q: What documentation is required to receive disability services?\n",
       "\n",
       "A: Students requesting services must provide current and comprehensive documentation from a qualified professional.\n",
       "The documentation must verify the disability and its impact on a student’s academic performance and functional \n",
       "limitations. \n",
       "\n",
       "Please refer to the Required Documentation Guidelines for complete details. Please note that eligibility guidelines\n",
       "and accommodations may differ from your high school or other colleges you have attended. An individualized \n",
       "education plan <span style=\"font-weight: bold\">(</span>IEP<span style=\"font-weight: bold\">)</span> or Section <span style=\"color: #008080; text-decoration-color: #008080; font-weight: bold\">504</span> plan alone is not sufficient documentation.\n",
       "Q: What buildings are wheelchair accessible?\n",
       "A:Let’s think step by step.\n",
       "</pre>\n"
      ],
      "text/plain": [
       "\n",
       "Please act as a University of Texas at Dallas Counselor. I will provide you with an individual \n",
       "looking for guidance at the University of Texas at Dallas, and your task is to help them \n",
       "solve their problem\n",
       "\n",
       "Q: What accommodations and services will I be eligible for?\n",
       "A: Appropriate and reasonable accommodations are determined on an individual basis. These accommodations may differ\n",
       "from those provided in high school or other colleges. Accommodations frequently used by students with disabilities \n",
       "include extended time for test taking, note takers, printed materials in alternate formats, sign language \n",
       "interpreters and the use of assistive technology.\n",
       "Q: Does UT Dallas provide services for students with disabilities?\n",
       "A: Yes, accommodations and services are provided for students with documented disabilities to provide equal access \n",
       "to educational programs and services in compliance with Section \u001b[1;36m504\u001b[0m of the Rehabilitation Act of \u001b[1;36m1973\u001b[0m, the \n",
       "Americans with Disabilities Act \u001b[1m(\u001b[0m\u001b[1;36m1990\u001b[0m\u001b[1m)\u001b[0m, and UT Dallas policy. \n",
       "\n",
       "The AccessAbility Resource Center \u001b[1m(\u001b[0mAccessAbility Resource Center\u001b[1m)\u001b[0m facilitates the provision of services and \n",
       "accommodations for students. Accommodations are determined on an individual basis using the student’s disability \n",
       "documentation and in consultation with the student.\n",
       "Q: Is there a separate admissions procedure for students with disabilities?\n",
       "\n",
       "A: No. The admissions process and criteria are the same for all students applying to UT Dallas. Disability status \n",
       "will not be a consideration in admissions decisions.\n",
       "\n",
       "\n",
       "Q: What documentation is required to receive disability services?\n",
       "\n",
       "A: Students requesting services must provide current and comprehensive documentation from a qualified professional.\n",
       "The documentation must verify the disability and its impact on a student’s academic performance and functional \n",
       "limitations. \n",
       "\n",
       "Please refer to the Required Documentation Guidelines for complete details. Please note that eligibility guidelines\n",
       "and accommodations may differ from your high school or other colleges you have attended. An individualized \n",
       "education plan \u001b[1m(\u001b[0mIEP\u001b[1m)\u001b[0m or Section \u001b[1;36m504\u001b[0m plan alone is not sufficient documentation.\n",
       "Q: What buildings are wheelchair accessible?\n",
       "A:Let’s think step by step.\n"
      ]
     },
     "metadata": {},
     "output_type": "display_data"
    },
    {
     "data": {
      "text/html": [
       "<pre style=\"white-space:pre;overflow-x:auto;line-height:normal;font-family:Menlo,'DejaVu Sans Mono',consolas,'Courier New',monospace\">What accommodations are there for people with ADHD?\n",
       "</pre>\n"
      ],
      "text/plain": [
       "What accommodations are there for people with ADHD?\n"
      ]
     },
     "metadata": {},
     "output_type": "display_data"
    },
    {
     "data": {
      "text/html": [
       "<pre style=\"white-space:pre;overflow-x:auto;line-height:normal;font-family:Menlo,'DejaVu Sans Mono',consolas,'Courier New',monospace\"><span style=\"font-weight: bold\">{</span><span style=\"color: #008000; text-decoration-color: #008000\">'matches'</span>: <span style=\"font-weight: bold\">[{</span><span style=\"color: #008000; text-decoration-color: #008000\">'id'</span>: <span style=\"color: #008000; text-decoration-color: #008000\">'7'</span>,\n",
       "              <span style=\"color: #008000; text-decoration-color: #008000\">'metadata'</span>: <span style=\"font-weight: bold\">{</span><span style=\"color: #008000; text-decoration-color: #008000\">'text'</span>: <span style=\"color: #008000; text-decoration-color: #008000\">'What accommodations and services will I be '</span>\n",
       "                                   <span style=\"color: #008000; text-decoration-color: #008000\">'eligible for?'</span><span style=\"font-weight: bold\">}</span>,\n",
       "              <span style=\"color: #008000; text-decoration-color: #008000\">'score'</span>: <span style=\"color: #008080; text-decoration-color: #008080; font-weight: bold\">0.274712801</span>,\n",
       "              <span style=\"color: #008000; text-decoration-color: #008000\">'sparseValues'</span>: <span style=\"font-weight: bold\">{}</span>,\n",
       "              <span style=\"color: #008000; text-decoration-color: #008000\">'values'</span>: <span style=\"font-weight: bold\">[]}</span>,\n",
       "             <span style=\"font-weight: bold\">{</span><span style=\"color: #008000; text-decoration-color: #008000\">'id'</span>: <span style=\"color: #008000; text-decoration-color: #008000\">'1'</span>,\n",
       "              <span style=\"color: #008000; text-decoration-color: #008000\">'metadata'</span>: <span style=\"font-weight: bold\">{</span><span style=\"color: #008000; text-decoration-color: #008000\">'text'</span>: <span style=\"color: #008000; text-decoration-color: #008000\">'Is there a separate admissions procedure '</span>\n",
       "                                   <span style=\"color: #008000; text-decoration-color: #008000\">'for students with disabilities?\\n'</span><span style=\"font-weight: bold\">}</span>,\n",
       "              <span style=\"color: #008000; text-decoration-color: #008000\">'score'</span>: <span style=\"color: #008080; text-decoration-color: #008080; font-weight: bold\">0.413166881</span>,\n",
       "              <span style=\"color: #008000; text-decoration-color: #008000\">'sparseValues'</span>: <span style=\"font-weight: bold\">{}</span>,\n",
       "              <span style=\"color: #008000; text-decoration-color: #008000\">'values'</span>: <span style=\"font-weight: bold\">[]}</span>,\n",
       "             <span style=\"font-weight: bold\">{</span><span style=\"color: #008000; text-decoration-color: #008000\">'id'</span>: <span style=\"color: #008000; text-decoration-color: #008000\">'0'</span>,\n",
       "              <span style=\"color: #008000; text-decoration-color: #008000\">'metadata'</span>: <span style=\"font-weight: bold\">{</span><span style=\"color: #008000; text-decoration-color: #008000\">'text'</span>: <span style=\"color: #008000; text-decoration-color: #008000\">'Does UT Dallas provide services for '</span>\n",
       "                                   <span style=\"color: #008000; text-decoration-color: #008000\">'students with disabilities?'</span><span style=\"font-weight: bold\">}</span>,\n",
       "              <span style=\"color: #008000; text-decoration-color: #008000\">'score'</span>: <span style=\"color: #008080; text-decoration-color: #008080; font-weight: bold\">0.417292</span>,\n",
       "              <span style=\"color: #008000; text-decoration-color: #008000\">'sparseValues'</span>: <span style=\"font-weight: bold\">{}</span>,\n",
       "              <span style=\"color: #008000; text-decoration-color: #008000\">'values'</span>: <span style=\"font-weight: bold\">[]}</span>,\n",
       "             <span style=\"font-weight: bold\">{</span><span style=\"color: #008000; text-decoration-color: #008000\">'id'</span>: <span style=\"color: #008000; text-decoration-color: #008000\">'17'</span>,\n",
       "              <span style=\"color: #008000; text-decoration-color: #008000\">'metadata'</span>: <span style=\"font-weight: bold\">{</span><span style=\"color: #008000; text-decoration-color: #008000\">'text'</span>: <span style=\"color: #008000; text-decoration-color: #008000\">'My professor gives a pop quiz or short '</span>\n",
       "                                   <span style=\"color: #008000; text-decoration-color: #008000\">'test during part of the class period. How '</span>\n",
       "                                   <span style=\"color: #008000; text-decoration-color: #008000\">'does this work with my accommodations?\\n'</span><span style=\"font-weight: bold\">}</span>,\n",
       "              <span style=\"color: #008000; text-decoration-color: #008000\">'score'</span>: <span style=\"color: #008080; text-decoration-color: #008080; font-weight: bold\">0.435002804</span>,\n",
       "              <span style=\"color: #008000; text-decoration-color: #008000\">'sparseValues'</span>: <span style=\"font-weight: bold\">{}</span>,\n",
       "              <span style=\"color: #008000; text-decoration-color: #008000\">'values'</span>: <span style=\"font-weight: bold\">[]}</span>,\n",
       "             <span style=\"font-weight: bold\">{</span><span style=\"color: #008000; text-decoration-color: #008000\">'id'</span>: <span style=\"color: #008000; text-decoration-color: #008000\">'6'</span>,\n",
       "              <span style=\"color: #008000; text-decoration-color: #008000\">'metadata'</span>: <span style=\"font-weight: bold\">{</span><span style=\"color: #008000; text-decoration-color: #008000\">'text'</span>: <span style=\"color: #008000; text-decoration-color: #008000\">'What happens after my disability '</span>\n",
       "                                   <span style=\"color: #008000; text-decoration-color: #008000\">'documentation is received?'</span><span style=\"font-weight: bold\">}</span>,\n",
       "              <span style=\"color: #008000; text-decoration-color: #008000\">'score'</span>: <span style=\"color: #008080; text-decoration-color: #008080; font-weight: bold\">0.448929787</span>,\n",
       "              <span style=\"color: #008000; text-decoration-color: #008000\">'sparseValues'</span>: <span style=\"font-weight: bold\">{}</span>,\n",
       "              <span style=\"color: #008000; text-decoration-color: #008000\">'values'</span>: <span style=\"font-weight: bold\">[]}]</span>,\n",
       " <span style=\"color: #008000; text-decoration-color: #008000\">'namespace'</span>: <span style=\"color: #008000; text-decoration-color: #008000\">''</span><span style=\"font-weight: bold\">}</span>\n",
       "</pre>\n"
      ],
      "text/plain": [
       "\u001b[1m{\u001b[0m\u001b[32m'matches'\u001b[0m: \u001b[1m[\u001b[0m\u001b[1m{\u001b[0m\u001b[32m'id'\u001b[0m: \u001b[32m'7'\u001b[0m,\n",
       "              \u001b[32m'metadata'\u001b[0m: \u001b[1m{\u001b[0m\u001b[32m'text'\u001b[0m: \u001b[32m'What accommodations and services will I be '\u001b[0m\n",
       "                                   \u001b[32m'eligible for?'\u001b[0m\u001b[1m}\u001b[0m,\n",
       "              \u001b[32m'score'\u001b[0m: \u001b[1;36m0.274712801\u001b[0m,\n",
       "              \u001b[32m'sparseValues'\u001b[0m: \u001b[1m{\u001b[0m\u001b[1m}\u001b[0m,\n",
       "              \u001b[32m'values'\u001b[0m: \u001b[1m[\u001b[0m\u001b[1m]\u001b[0m\u001b[1m}\u001b[0m,\n",
       "             \u001b[1m{\u001b[0m\u001b[32m'id'\u001b[0m: \u001b[32m'1'\u001b[0m,\n",
       "              \u001b[32m'metadata'\u001b[0m: \u001b[1m{\u001b[0m\u001b[32m'text'\u001b[0m: \u001b[32m'Is there a separate admissions procedure '\u001b[0m\n",
       "                                   \u001b[32m'for students with disabilities?\\n'\u001b[0m\u001b[1m}\u001b[0m,\n",
       "              \u001b[32m'score'\u001b[0m: \u001b[1;36m0.413166881\u001b[0m,\n",
       "              \u001b[32m'sparseValues'\u001b[0m: \u001b[1m{\u001b[0m\u001b[1m}\u001b[0m,\n",
       "              \u001b[32m'values'\u001b[0m: \u001b[1m[\u001b[0m\u001b[1m]\u001b[0m\u001b[1m}\u001b[0m,\n",
       "             \u001b[1m{\u001b[0m\u001b[32m'id'\u001b[0m: \u001b[32m'0'\u001b[0m,\n",
       "              \u001b[32m'metadata'\u001b[0m: \u001b[1m{\u001b[0m\u001b[32m'text'\u001b[0m: \u001b[32m'Does UT Dallas provide services for '\u001b[0m\n",
       "                                   \u001b[32m'students with disabilities?'\u001b[0m\u001b[1m}\u001b[0m,\n",
       "              \u001b[32m'score'\u001b[0m: \u001b[1;36m0.417292\u001b[0m,\n",
       "              \u001b[32m'sparseValues'\u001b[0m: \u001b[1m{\u001b[0m\u001b[1m}\u001b[0m,\n",
       "              \u001b[32m'values'\u001b[0m: \u001b[1m[\u001b[0m\u001b[1m]\u001b[0m\u001b[1m}\u001b[0m,\n",
       "             \u001b[1m{\u001b[0m\u001b[32m'id'\u001b[0m: \u001b[32m'17'\u001b[0m,\n",
       "              \u001b[32m'metadata'\u001b[0m: \u001b[1m{\u001b[0m\u001b[32m'text'\u001b[0m: \u001b[32m'My professor gives a pop quiz or short '\u001b[0m\n",
       "                                   \u001b[32m'test during part of the class period. How '\u001b[0m\n",
       "                                   \u001b[32m'does this work with my accommodations?\\n'\u001b[0m\u001b[1m}\u001b[0m,\n",
       "              \u001b[32m'score'\u001b[0m: \u001b[1;36m0.435002804\u001b[0m,\n",
       "              \u001b[32m'sparseValues'\u001b[0m: \u001b[1m{\u001b[0m\u001b[1m}\u001b[0m,\n",
       "              \u001b[32m'values'\u001b[0m: \u001b[1m[\u001b[0m\u001b[1m]\u001b[0m\u001b[1m}\u001b[0m,\n",
       "             \u001b[1m{\u001b[0m\u001b[32m'id'\u001b[0m: \u001b[32m'6'\u001b[0m,\n",
       "              \u001b[32m'metadata'\u001b[0m: \u001b[1m{\u001b[0m\u001b[32m'text'\u001b[0m: \u001b[32m'What happens after my disability '\u001b[0m\n",
       "                                   \u001b[32m'documentation is received?'\u001b[0m\u001b[1m}\u001b[0m,\n",
       "              \u001b[32m'score'\u001b[0m: \u001b[1;36m0.448929787\u001b[0m,\n",
       "              \u001b[32m'sparseValues'\u001b[0m: \u001b[1m{\u001b[0m\u001b[1m}\u001b[0m,\n",
       "              \u001b[32m'values'\u001b[0m: \u001b[1m[\u001b[0m\u001b[1m]\u001b[0m\u001b[1m}\u001b[0m\u001b[1m]\u001b[0m,\n",
       " \u001b[32m'namespace'\u001b[0m: \u001b[32m''\u001b[0m\u001b[1m}\u001b[0m\n"
      ]
     },
     "metadata": {},
     "output_type": "display_data"
    },
    {
     "name": "stderr",
     "output_type": "stream",
     "text": [
      "100%|██████████| 1/1 [00:00<00:00, 365.20ba/s]\n",
      "100%|██████████| 1/1 [00:00<00:00, 334.05ba/s]\n",
      "100%|██████████| 1/1 [00:00<00:00, 424.14ba/s]\n",
      "100%|██████████| 1/1 [00:00<00:00, 441.97ba/s]\n",
      "100%|██████████| 1/1 [00:00<00:00, 390.79ba/s]\n"
     ]
    },
    {
     "data": {
      "text/html": [
       "<pre style=\"white-space:pre;overflow-x:auto;line-height:normal;font-family:Menlo,'DejaVu Sans Mono',consolas,'Courier New',monospace\">\n",
       "Please act as a University of Texas at Dallas Counselor. I will provide you with an individual \n",
       "looking for guidance at the University of Texas at Dallas, and your task is to help them \n",
       "solve their problem\n",
       "\n",
       "Q: What accommodations and services will I be eligible for?\n",
       "A: Appropriate and reasonable accommodations are determined on an individual basis. These accommodations may differ\n",
       "from those provided in high school or other colleges. Accommodations frequently used by students with disabilities \n",
       "include extended time for test taking, note takers, printed materials in alternate formats, sign language \n",
       "interpreters and the use of assistive technology.\n",
       "Q: Is there a separate admissions procedure for students with disabilities?\n",
       "\n",
       "A: No. The admissions process and criteria are the same for all students applying to UT Dallas. Disability status \n",
       "will not be a consideration in admissions decisions.\n",
       "\n",
       "\n",
       "Q: Does UT Dallas provide services for students with disabilities?\n",
       "A: Yes, accommodations and services are provided for students with documented disabilities to provide equal access \n",
       "to educational programs and services in compliance with Section <span style=\"color: #008080; text-decoration-color: #008080; font-weight: bold\">504</span> of the Rehabilitation Act of <span style=\"color: #008080; text-decoration-color: #008080; font-weight: bold\">1973</span>, the \n",
       "Americans with Disabilities Act <span style=\"font-weight: bold\">(</span><span style=\"color: #008080; text-decoration-color: #008080; font-weight: bold\">1990</span><span style=\"font-weight: bold\">)</span>, and UT Dallas policy. \n",
       "\n",
       "The AccessAbility Resource Center <span style=\"font-weight: bold\">(</span>AccessAbility Resource Center<span style=\"font-weight: bold\">)</span> facilitates the provision of services and \n",
       "accommodations for students. Accommodations are determined on an individual basis using the student’s disability \n",
       "documentation and in consultation with the student.\n",
       "Q: My professor gives a pop quiz or short test during part of the class period. How does this work with my \n",
       "accommodations?\n",
       "\n",
       "A: Quizzes can be complicated to accommodate, especially if you do not know about them in advance. It’s important \n",
       "to work out the details early in the semester when you see on your syllabus that there will be quizzes in addition \n",
       "to regular exams. \n",
       "\n",
       "Many students decide not to use their accommodations on quizzes since they are typically short, and students would \n",
       "have to leave class to go to their eligible testing center. However, it is your choice, and if you do need to use \n",
       "your accommodations, they should be made available to you. \n",
       "\n",
       "If you decide you want to use your testing accommodations for quizzes and you know about them in advance, ask the \n",
       "professor if you can take the quiz earlier or later than the class period in a location they provide. If you are \n",
       "eligible to test at the AccessAbility Resource Center, then you may submit the appropriate test scheduling form. \n",
       "\n",
       "If you need a reader, scribe, digital text or any other accommodations that require significant lead time, it is \n",
       "extremely important to discuss these accommodations with the AccessAbility Resource Center and your professors as \n",
       "soon as possible for quizzes especially pop quizzes. \n",
       "\n",
       "The quizzes often are given after class starts; for example, if the class starts at <span style=\"color: #008080; text-decoration-color: #008080; font-weight: bold\">10</span> a.m., the test might begin \n",
       "at <span style=\"color: #00ff00; text-decoration-color: #00ff00; font-weight: bold\">10:30</span> a.m. If you are eligible to take the test at the AccessAbility Resource Center Testing Center, you are \n",
       "required to start all tests, exams or quizzes on the hour <span style=\"font-weight: bold\">(</span>e.g., <span style=\"color: #008080; text-decoration-color: #008080; font-weight: bold\">9</span> a.m., <span style=\"color: #008080; text-decoration-color: #008080; font-weight: bold\">10</span> a.m., etc.<span style=\"font-weight: bold\">)</span>. In this situation, you \n",
       "will need to get clearance from the professor to take the quiz at any time the AccessAbility Resource Center \n",
       "Testing Center is open the same date the class takes the quiz or test. \n",
       "\n",
       "If you schedule the test earlier or later than the class with the AccessAbility Resource Center and the professor \n",
       "approves, you will need to begin the test promptly at the start time you reserved. In other words, you cannot \n",
       "schedule a test at <span style=\"color: #008080; text-decoration-color: #008080; font-weight: bold\">10</span> a.m. in the AccessAbility Resource Center then show up at <span style=\"color: #00ff00; text-decoration-color: #00ff00; font-weight: bold\">10:30</span> a.m. to take the quiz when \n",
       "the rest of the class starts. If you are more than <span style=\"color: #008080; text-decoration-color: #008080; font-weight: bold\">15</span> minutes late for your scheduled testing time, you will not be\n",
       "allowed to test. \n",
       "\n",
       "Some professors like to discuss the questions on the quiz during class when students are finished. If you arrange \n",
       "to take the quiz after the class due to an accommodation, you must leave the classroom when such discussions occur.\n",
       "\n",
       "Faculty are sometimes using quizzes to check attendance <span style=\"font-weight: bold\">(</span>possibly by using clickers<span style=\"font-weight: bold\">)</span>. If this is the case, contact \n",
       "the AccessAbility Resource Center as early as possible so we can work with you and the instructor to identify \n",
       "accommodation options.\n",
       "Q: What happens after my disability documentation is received?\n",
       "A: AccessAbility Resource Center evaluates documentation to determine eligibility for services. An intake \n",
       "appointment is set to identify reasonable accommodations, and an individualized service plan is created to meet the\n",
       "needs of the registered student. \n",
       "\n",
       "Please note academic accommodations are not retroactive.\n",
       "Q: What accommodations are there for people with ADHD?\n",
       "A:Let’s think step by step.\n",
       "</pre>\n"
      ],
      "text/plain": [
       "\n",
       "Please act as a University of Texas at Dallas Counselor. I will provide you with an individual \n",
       "looking for guidance at the University of Texas at Dallas, and your task is to help them \n",
       "solve their problem\n",
       "\n",
       "Q: What accommodations and services will I be eligible for?\n",
       "A: Appropriate and reasonable accommodations are determined on an individual basis. These accommodations may differ\n",
       "from those provided in high school or other colleges. Accommodations frequently used by students with disabilities \n",
       "include extended time for test taking, note takers, printed materials in alternate formats, sign language \n",
       "interpreters and the use of assistive technology.\n",
       "Q: Is there a separate admissions procedure for students with disabilities?\n",
       "\n",
       "A: No. The admissions process and criteria are the same for all students applying to UT Dallas. Disability status \n",
       "will not be a consideration in admissions decisions.\n",
       "\n",
       "\n",
       "Q: Does UT Dallas provide services for students with disabilities?\n",
       "A: Yes, accommodations and services are provided for students with documented disabilities to provide equal access \n",
       "to educational programs and services in compliance with Section \u001b[1;36m504\u001b[0m of the Rehabilitation Act of \u001b[1;36m1973\u001b[0m, the \n",
       "Americans with Disabilities Act \u001b[1m(\u001b[0m\u001b[1;36m1990\u001b[0m\u001b[1m)\u001b[0m, and UT Dallas policy. \n",
       "\n",
       "The AccessAbility Resource Center \u001b[1m(\u001b[0mAccessAbility Resource Center\u001b[1m)\u001b[0m facilitates the provision of services and \n",
       "accommodations for students. Accommodations are determined on an individual basis using the student’s disability \n",
       "documentation and in consultation with the student.\n",
       "Q: My professor gives a pop quiz or short test during part of the class period. How does this work with my \n",
       "accommodations?\n",
       "\n",
       "A: Quizzes can be complicated to accommodate, especially if you do not know about them in advance. It’s important \n",
       "to work out the details early in the semester when you see on your syllabus that there will be quizzes in addition \n",
       "to regular exams. \n",
       "\n",
       "Many students decide not to use their accommodations on quizzes since they are typically short, and students would \n",
       "have to leave class to go to their eligible testing center. However, it is your choice, and if you do need to use \n",
       "your accommodations, they should be made available to you. \n",
       "\n",
       "If you decide you want to use your testing accommodations for quizzes and you know about them in advance, ask the \n",
       "professor if you can take the quiz earlier or later than the class period in a location they provide. If you are \n",
       "eligible to test at the AccessAbility Resource Center, then you may submit the appropriate test scheduling form. \n",
       "\n",
       "If you need a reader, scribe, digital text or any other accommodations that require significant lead time, it is \n",
       "extremely important to discuss these accommodations with the AccessAbility Resource Center and your professors as \n",
       "soon as possible for quizzes especially pop quizzes. \n",
       "\n",
       "The quizzes often are given after class starts; for example, if the class starts at \u001b[1;36m10\u001b[0m a.m., the test might begin \n",
       "at \u001b[1;92m10:30\u001b[0m a.m. If you are eligible to take the test at the AccessAbility Resource Center Testing Center, you are \n",
       "required to start all tests, exams or quizzes on the hour \u001b[1m(\u001b[0me.g., \u001b[1;36m9\u001b[0m a.m., \u001b[1;36m10\u001b[0m a.m., etc.\u001b[1m)\u001b[0m. In this situation, you \n",
       "will need to get clearance from the professor to take the quiz at any time the AccessAbility Resource Center \n",
       "Testing Center is open the same date the class takes the quiz or test. \n",
       "\n",
       "If you schedule the test earlier or later than the class with the AccessAbility Resource Center and the professor \n",
       "approves, you will need to begin the test promptly at the start time you reserved. In other words, you cannot \n",
       "schedule a test at \u001b[1;36m10\u001b[0m a.m. in the AccessAbility Resource Center then show up at \u001b[1;92m10:30\u001b[0m a.m. to take the quiz when \n",
       "the rest of the class starts. If you are more than \u001b[1;36m15\u001b[0m minutes late for your scheduled testing time, you will not be\n",
       "allowed to test. \n",
       "\n",
       "Some professors like to discuss the questions on the quiz during class when students are finished. If you arrange \n",
       "to take the quiz after the class due to an accommodation, you must leave the classroom when such discussions occur.\n",
       "\n",
       "Faculty are sometimes using quizzes to check attendance \u001b[1m(\u001b[0mpossibly by using clickers\u001b[1m)\u001b[0m. If this is the case, contact \n",
       "the AccessAbility Resource Center as early as possible so we can work with you and the instructor to identify \n",
       "accommodation options.\n",
       "Q: What happens after my disability documentation is received?\n",
       "A: AccessAbility Resource Center evaluates documentation to determine eligibility for services. An intake \n",
       "appointment is set to identify reasonable accommodations, and an individualized service plan is created to meet the\n",
       "needs of the registered student. \n",
       "\n",
       "Please note academic accommodations are not retroactive.\n",
       "Q: What accommodations are there for people with ADHD?\n",
       "A:Let’s think step by step.\n"
      ]
     },
     "metadata": {},
     "output_type": "display_data"
    },
    {
     "data": {
      "text/html": [
       "<pre style=\"white-space:pre;overflow-x:auto;line-height:normal;font-family:Menlo,'DejaVu Sans Mono',consolas,'Courier New',monospace\">I have a disability and I go to UTD - where can I find help?\n",
       "</pre>\n"
      ],
      "text/plain": [
       "I have a disability and I go to UTD - where can I find help?\n"
      ]
     },
     "metadata": {},
     "output_type": "display_data"
    },
    {
     "data": {
      "text/html": [
       "<pre style=\"white-space:pre;overflow-x:auto;line-height:normal;font-family:Menlo,'DejaVu Sans Mono',consolas,'Courier New',monospace\"><span style=\"font-weight: bold\">{</span><span style=\"color: #008000; text-decoration-color: #008000\">'matches'</span>: <span style=\"font-weight: bold\">[{</span><span style=\"color: #008000; text-decoration-color: #008000\">'id'</span>: <span style=\"color: #008000; text-decoration-color: #008000\">'0'</span>,\n",
       "              <span style=\"color: #008000; text-decoration-color: #008000\">'metadata'</span>: <span style=\"font-weight: bold\">{</span><span style=\"color: #008000; text-decoration-color: #008000\">'text'</span>: <span style=\"color: #008000; text-decoration-color: #008000\">'Does UT Dallas provide services for '</span>\n",
       "                                   <span style=\"color: #008000; text-decoration-color: #008000\">'students with disabilities?'</span><span style=\"font-weight: bold\">}</span>,\n",
       "              <span style=\"color: #008000; text-decoration-color: #008000\">'score'</span>: <span style=\"color: #008080; text-decoration-color: #008080; font-weight: bold\">0.266483665</span>,\n",
       "              <span style=\"color: #008000; text-decoration-color: #008000\">'sparseValues'</span>: <span style=\"font-weight: bold\">{}</span>,\n",
       "              <span style=\"color: #008000; text-decoration-color: #008000\">'values'</span>: <span style=\"font-weight: bold\">[]}</span>,\n",
       "             <span style=\"font-weight: bold\">{</span><span style=\"color: #008000; text-decoration-color: #008000\">'id'</span>: <span style=\"color: #008000; text-decoration-color: #008000\">'5'</span>,\n",
       "              <span style=\"color: #008000; text-decoration-color: #008000\">'metadata'</span>: <span style=\"font-weight: bold\">{</span><span style=\"color: #008000; text-decoration-color: #008000\">'text'</span>: <span style=\"color: #008000; text-decoration-color: #008000\">'Who at the University will know about my '</span>\n",
       "                                   <span style=\"color: #008000; text-decoration-color: #008000\">'disability if I register with ARC?'</span><span style=\"font-weight: bold\">}</span>,\n",
       "              <span style=\"color: #008000; text-decoration-color: #008000\">'score'</span>: <span style=\"color: #008080; text-decoration-color: #008080; font-weight: bold\">0.310886264</span>,\n",
       "              <span style=\"color: #008000; text-decoration-color: #008000\">'sparseValues'</span>: <span style=\"font-weight: bold\">{}</span>,\n",
       "              <span style=\"color: #008000; text-decoration-color: #008000\">'values'</span>: <span style=\"font-weight: bold\">[]}</span>,\n",
       "             <span style=\"font-weight: bold\">{</span><span style=\"color: #008000; text-decoration-color: #008000\">'id'</span>: <span style=\"color: #008000; text-decoration-color: #008000\">'7'</span>,\n",
       "              <span style=\"color: #008000; text-decoration-color: #008000\">'metadata'</span>: <span style=\"font-weight: bold\">{</span><span style=\"color: #008000; text-decoration-color: #008000\">'text'</span>: <span style=\"color: #008000; text-decoration-color: #008000\">'What accommodations and services will I be '</span>\n",
       "                                   <span style=\"color: #008000; text-decoration-color: #008000\">'eligible for?'</span><span style=\"font-weight: bold\">}</span>,\n",
       "              <span style=\"color: #008000; text-decoration-color: #008000\">'score'</span>: <span style=\"color: #008080; text-decoration-color: #008080; font-weight: bold\">0.376189113</span>,\n",
       "              <span style=\"color: #008000; text-decoration-color: #008000\">'sparseValues'</span>: <span style=\"font-weight: bold\">{}</span>,\n",
       "              <span style=\"color: #008000; text-decoration-color: #008000\">'values'</span>: <span style=\"font-weight: bold\">[]}</span>,\n",
       "             <span style=\"font-weight: bold\">{</span><span style=\"color: #008000; text-decoration-color: #008000\">'id'</span>: <span style=\"color: #008000; text-decoration-color: #008000\">'1'</span>,\n",
       "              <span style=\"color: #008000; text-decoration-color: #008000\">'metadata'</span>: <span style=\"font-weight: bold\">{</span><span style=\"color: #008000; text-decoration-color: #008000\">'text'</span>: <span style=\"color: #008000; text-decoration-color: #008000\">'Is there a separate admissions procedure '</span>\n",
       "                                   <span style=\"color: #008000; text-decoration-color: #008000\">'for students with disabilities?\\n'</span><span style=\"font-weight: bold\">}</span>,\n",
       "              <span style=\"color: #008000; text-decoration-color: #008000\">'score'</span>: <span style=\"color: #008080; text-decoration-color: #008080; font-weight: bold\">0.402710438</span>,\n",
       "              <span style=\"color: #008000; text-decoration-color: #008000\">'sparseValues'</span>: <span style=\"font-weight: bold\">{}</span>,\n",
       "              <span style=\"color: #008000; text-decoration-color: #008000\">'values'</span>: <span style=\"font-weight: bold\">[]}</span>,\n",
       "             <span style=\"font-weight: bold\">{</span><span style=\"color: #008000; text-decoration-color: #008000\">'id'</span>: <span style=\"color: #008000; text-decoration-color: #008000\">'2'</span>,\n",
       "              <span style=\"color: #008000; text-decoration-color: #008000\">'metadata'</span>: <span style=\"font-weight: bold\">{</span><span style=\"color: #008000; text-decoration-color: #008000\">'text'</span>: <span style=\"color: #008000; text-decoration-color: #008000\">'Should I send my disability documentation '</span>\n",
       "                                   <span style=\"color: #008000; text-decoration-color: #008000\">'with my admissions application?'</span><span style=\"font-weight: bold\">}</span>,\n",
       "              <span style=\"color: #008000; text-decoration-color: #008000\">'score'</span>: <span style=\"color: #008080; text-decoration-color: #008080; font-weight: bold\">0.429699302</span>,\n",
       "              <span style=\"color: #008000; text-decoration-color: #008000\">'sparseValues'</span>: <span style=\"font-weight: bold\">{}</span>,\n",
       "              <span style=\"color: #008000; text-decoration-color: #008000\">'values'</span>: <span style=\"font-weight: bold\">[]}]</span>,\n",
       " <span style=\"color: #008000; text-decoration-color: #008000\">'namespace'</span>: <span style=\"color: #008000; text-decoration-color: #008000\">''</span><span style=\"font-weight: bold\">}</span>\n",
       "</pre>\n"
      ],
      "text/plain": [
       "\u001b[1m{\u001b[0m\u001b[32m'matches'\u001b[0m: \u001b[1m[\u001b[0m\u001b[1m{\u001b[0m\u001b[32m'id'\u001b[0m: \u001b[32m'0'\u001b[0m,\n",
       "              \u001b[32m'metadata'\u001b[0m: \u001b[1m{\u001b[0m\u001b[32m'text'\u001b[0m: \u001b[32m'Does UT Dallas provide services for '\u001b[0m\n",
       "                                   \u001b[32m'students with disabilities?'\u001b[0m\u001b[1m}\u001b[0m,\n",
       "              \u001b[32m'score'\u001b[0m: \u001b[1;36m0.266483665\u001b[0m,\n",
       "              \u001b[32m'sparseValues'\u001b[0m: \u001b[1m{\u001b[0m\u001b[1m}\u001b[0m,\n",
       "              \u001b[32m'values'\u001b[0m: \u001b[1m[\u001b[0m\u001b[1m]\u001b[0m\u001b[1m}\u001b[0m,\n",
       "             \u001b[1m{\u001b[0m\u001b[32m'id'\u001b[0m: \u001b[32m'5'\u001b[0m,\n",
       "              \u001b[32m'metadata'\u001b[0m: \u001b[1m{\u001b[0m\u001b[32m'text'\u001b[0m: \u001b[32m'Who at the University will know about my '\u001b[0m\n",
       "                                   \u001b[32m'disability if I register with ARC?'\u001b[0m\u001b[1m}\u001b[0m,\n",
       "              \u001b[32m'score'\u001b[0m: \u001b[1;36m0.310886264\u001b[0m,\n",
       "              \u001b[32m'sparseValues'\u001b[0m: \u001b[1m{\u001b[0m\u001b[1m}\u001b[0m,\n",
       "              \u001b[32m'values'\u001b[0m: \u001b[1m[\u001b[0m\u001b[1m]\u001b[0m\u001b[1m}\u001b[0m,\n",
       "             \u001b[1m{\u001b[0m\u001b[32m'id'\u001b[0m: \u001b[32m'7'\u001b[0m,\n",
       "              \u001b[32m'metadata'\u001b[0m: \u001b[1m{\u001b[0m\u001b[32m'text'\u001b[0m: \u001b[32m'What accommodations and services will I be '\u001b[0m\n",
       "                                   \u001b[32m'eligible for?'\u001b[0m\u001b[1m}\u001b[0m,\n",
       "              \u001b[32m'score'\u001b[0m: \u001b[1;36m0.376189113\u001b[0m,\n",
       "              \u001b[32m'sparseValues'\u001b[0m: \u001b[1m{\u001b[0m\u001b[1m}\u001b[0m,\n",
       "              \u001b[32m'values'\u001b[0m: \u001b[1m[\u001b[0m\u001b[1m]\u001b[0m\u001b[1m}\u001b[0m,\n",
       "             \u001b[1m{\u001b[0m\u001b[32m'id'\u001b[0m: \u001b[32m'1'\u001b[0m,\n",
       "              \u001b[32m'metadata'\u001b[0m: \u001b[1m{\u001b[0m\u001b[32m'text'\u001b[0m: \u001b[32m'Is there a separate admissions procedure '\u001b[0m\n",
       "                                   \u001b[32m'for students with disabilities?\\n'\u001b[0m\u001b[1m}\u001b[0m,\n",
       "              \u001b[32m'score'\u001b[0m: \u001b[1;36m0.402710438\u001b[0m,\n",
       "              \u001b[32m'sparseValues'\u001b[0m: \u001b[1m{\u001b[0m\u001b[1m}\u001b[0m,\n",
       "              \u001b[32m'values'\u001b[0m: \u001b[1m[\u001b[0m\u001b[1m]\u001b[0m\u001b[1m}\u001b[0m,\n",
       "             \u001b[1m{\u001b[0m\u001b[32m'id'\u001b[0m: \u001b[32m'2'\u001b[0m,\n",
       "              \u001b[32m'metadata'\u001b[0m: \u001b[1m{\u001b[0m\u001b[32m'text'\u001b[0m: \u001b[32m'Should I send my disability documentation '\u001b[0m\n",
       "                                   \u001b[32m'with my admissions application?'\u001b[0m\u001b[1m}\u001b[0m,\n",
       "              \u001b[32m'score'\u001b[0m: \u001b[1;36m0.429699302\u001b[0m,\n",
       "              \u001b[32m'sparseValues'\u001b[0m: \u001b[1m{\u001b[0m\u001b[1m}\u001b[0m,\n",
       "              \u001b[32m'values'\u001b[0m: \u001b[1m[\u001b[0m\u001b[1m]\u001b[0m\u001b[1m}\u001b[0m\u001b[1m]\u001b[0m,\n",
       " \u001b[32m'namespace'\u001b[0m: \u001b[32m''\u001b[0m\u001b[1m}\u001b[0m\n"
      ]
     },
     "metadata": {},
     "output_type": "display_data"
    },
    {
     "name": "stderr",
     "output_type": "stream",
     "text": [
      "100%|██████████| 1/1 [00:00<00:00, 492.69ba/s]\n",
      "100%|██████████| 1/1 [00:00<00:00, 758.88ba/s]\n"
     ]
    },
    {
     "data": {
      "text/html": [
       "<pre style=\"white-space:pre;overflow-x:auto;line-height:normal;font-family:Menlo,'DejaVu Sans Mono',consolas,'Courier New',monospace\">The question Who at the University will know about my disability if I register with ARC? is not in the dataset\n",
       "</pre>\n"
      ],
      "text/plain": [
       "The question Who at the University will know about my disability if I register with ARC? is not in the dataset\n"
      ]
     },
     "metadata": {},
     "output_type": "display_data"
    },
    {
     "data": {
      "text/html": [
       "<pre style=\"white-space:pre;overflow-x:auto;line-height:normal;font-family:Menlo,'DejaVu Sans Mono',consolas,'Courier New',monospace\">Errors\n",
       "</pre>\n"
      ],
      "text/plain": [
       "Errors\n"
      ]
     },
     "metadata": {},
     "output_type": "display_data"
    },
    {
     "name": "stderr",
     "output_type": "stream",
     "text": [
      "100%|██████████| 1/1 [00:00<00:00, 562.47ba/s]\n",
      "100%|██████████| 1/1 [00:00<00:00, 559.46ba/s]\n",
      "100%|██████████| 1/1 [00:00<00:00, 662.61ba/s]\n"
     ]
    },
    {
     "data": {
      "text/html": [
       "<pre style=\"white-space:pre;overflow-x:auto;line-height:normal;font-family:Menlo,'DejaVu Sans Mono',consolas,'Courier New',monospace\">\n",
       "Please act as a University of Texas at Dallas Counselor. I will provide you with an individual \n",
       "looking for guidance at the University of Texas at Dallas, and your task is to help them \n",
       "solve their problem\n",
       "\n",
       "Q: Does UT Dallas provide services for students with disabilities?\n",
       "A: Yes, accommodations and services are provided for students with documented disabilities to provide equal access \n",
       "to educational programs and services in compliance with Section <span style=\"color: #008080; text-decoration-color: #008080; font-weight: bold\">504</span> of the Rehabilitation Act of <span style=\"color: #008080; text-decoration-color: #008080; font-weight: bold\">1973</span>, the \n",
       "Americans with Disabilities Act <span style=\"font-weight: bold\">(</span><span style=\"color: #008080; text-decoration-color: #008080; font-weight: bold\">1990</span><span style=\"font-weight: bold\">)</span>, and UT Dallas policy. \n",
       "\n",
       "The AccessAbility Resource Center <span style=\"font-weight: bold\">(</span>AccessAbility Resource Center<span style=\"font-weight: bold\">)</span> facilitates the provision of services and \n",
       "accommodations for students. Accommodations are determined on an individual basis using the student’s disability \n",
       "documentation and in consultation with the student.\n",
       "Q: What accommodations and services will I be eligible for?\n",
       "A: Appropriate and reasonable accommodations are determined on an individual basis. These accommodations may differ\n",
       "from those provided in high school or other colleges. Accommodations frequently used by students with disabilities \n",
       "include extended time for test taking, note takers, printed materials in alternate formats, sign language \n",
       "interpreters and the use of assistive technology.\n",
       "Q: Is there a separate admissions procedure for students with disabilities?\n",
       "\n",
       "A: No. The admissions process and criteria are the same for all students applying to UT Dallas. Disability status \n",
       "will not be a consideration in admissions decisions.\n",
       "\n",
       "\n",
       "Q: Should I send my disability documentation with my admissions application?\n",
       "A: No. Documentation should be submitted to AccessAbility Resource Center only after you have been admitted to the \n",
       "University and have registered for classes.\n",
       "\n",
       "\n",
       "Q: I have a disability and I go to UTD - where can I find help?\n",
       "A:Let’s think step by step.\n",
       "</pre>\n"
      ],
      "text/plain": [
       "\n",
       "Please act as a University of Texas at Dallas Counselor. I will provide you with an individual \n",
       "looking for guidance at the University of Texas at Dallas, and your task is to help them \n",
       "solve their problem\n",
       "\n",
       "Q: Does UT Dallas provide services for students with disabilities?\n",
       "A: Yes, accommodations and services are provided for students with documented disabilities to provide equal access \n",
       "to educational programs and services in compliance with Section \u001b[1;36m504\u001b[0m of the Rehabilitation Act of \u001b[1;36m1973\u001b[0m, the \n",
       "Americans with Disabilities Act \u001b[1m(\u001b[0m\u001b[1;36m1990\u001b[0m\u001b[1m)\u001b[0m, and UT Dallas policy. \n",
       "\n",
       "The AccessAbility Resource Center \u001b[1m(\u001b[0mAccessAbility Resource Center\u001b[1m)\u001b[0m facilitates the provision of services and \n",
       "accommodations for students. Accommodations are determined on an individual basis using the student’s disability \n",
       "documentation and in consultation with the student.\n",
       "Q: What accommodations and services will I be eligible for?\n",
       "A: Appropriate and reasonable accommodations are determined on an individual basis. These accommodations may differ\n",
       "from those provided in high school or other colleges. Accommodations frequently used by students with disabilities \n",
       "include extended time for test taking, note takers, printed materials in alternate formats, sign language \n",
       "interpreters and the use of assistive technology.\n",
       "Q: Is there a separate admissions procedure for students with disabilities?\n",
       "\n",
       "A: No. The admissions process and criteria are the same for all students applying to UT Dallas. Disability status \n",
       "will not be a consideration in admissions decisions.\n",
       "\n",
       "\n",
       "Q: Should I send my disability documentation with my admissions application?\n",
       "A: No. Documentation should be submitted to AccessAbility Resource Center only after you have been admitted to the \n",
       "University and have registered for classes.\n",
       "\n",
       "\n",
       "Q: I have a disability and I go to UTD - where can I find help?\n",
       "A:Let’s think step by step.\n"
      ]
     },
     "metadata": {},
     "output_type": "display_data"
    }
   ],
   "source": [
    "## Lauch of Gradio\n",
    "demo = gr.Interface(fn=utd_chatbot, inputs=\"text\", outputs=\"text\")\n",
    "demo.launch( share = True )   "
   ]
  },
  {
   "cell_type": "code",
   "execution_count": 14,
   "metadata": {},
   "outputs": [
    {
     "name": "stdout",
     "output_type": "stream",
     "text": [
      "Closing server running on port: 7860\n"
     ]
    }
   ],
   "source": [
    "# Close the a demo\n",
    "demo.close()"
   ]
  }
 ],
 "metadata": {
  "kernelspec": {
   "display_name": "Python 3 (ipykernel)",
   "language": "python",
   "name": "python3"
  },
  "language_info": {
   "codemirror_mode": {
    "name": "ipython",
    "version": 3
   },
   "file_extension": ".py",
   "mimetype": "text/x-python",
   "name": "python",
   "nbconvert_exporter": "python",
   "pygments_lexer": "ipython3",
   "version": "3.10.10"
  },
  "vscode": {
   "interpreter": {
    "hash": "c9ff9b4d34df2539584901dcbbee8740b4a40a3636c7400fd1d2b55da32052e7"
   }
  }
 },
 "nbformat": 4,
 "nbformat_minor": 2
}
