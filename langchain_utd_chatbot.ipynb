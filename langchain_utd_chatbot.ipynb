{
  "cells": [
    {
      "attachments": {},
      "cell_type": "markdown",
      "metadata": {},
      "source": [
        "# Setting environment variables"
      ]
    },
    {
      "cell_type": "code",
      "execution_count": 3,
      "metadata": {
        "id": "Z0uIKfZGaq3z"
      },
      "outputs": [
        {
          "data": {
            "text/plain": [
              "<OpenAIObject list at 0x7fbdb8af0090> JSON: {\n",
              "  \"data\": [\n",
              "    {\n",
              "      \"created\": null,\n",
              "      \"id\": \"babbage\",\n",
              "      \"object\": \"engine\",\n",
              "      \"owner\": \"openai\",\n",
              "      \"permissions\": null,\n",
              "      \"ready\": true\n",
              "    },\n",
              "    {\n",
              "      \"created\": null,\n",
              "      \"id\": \"davinci\",\n",
              "      \"object\": \"engine\",\n",
              "      \"owner\": \"openai\",\n",
              "      \"permissions\": null,\n",
              "      \"ready\": true\n",
              "    },\n",
              "    {\n",
              "      \"created\": null,\n",
              "      \"id\": \"text-davinci-edit-001\",\n",
              "      \"object\": \"engine\",\n",
              "      \"owner\": \"openai\",\n",
              "      \"permissions\": null,\n",
              "      \"ready\": true\n",
              "    },\n",
              "    {\n",
              "      \"created\": null,\n",
              "      \"id\": \"gpt-3.5-turbo-0301\",\n",
              "      \"object\": \"engine\",\n",
              "      \"owner\": \"openai\",\n",
              "      \"permissions\": null,\n",
              "      \"ready\": true\n",
              "    },\n",
              "    {\n",
              "      \"created\": null,\n",
              "      \"id\": \"text-davinci-003\",\n",
              "      \"object\": \"engine\",\n",
              "      \"owner\": \"openai-internal\",\n",
              "      \"permissions\": null,\n",
              "      \"ready\": true\n",
              "    },\n",
              "    {\n",
              "      \"created\": null,\n",
              "      \"id\": \"babbage-code-search-code\",\n",
              "      \"object\": \"engine\",\n",
              "      \"owner\": \"openai-dev\",\n",
              "      \"permissions\": null,\n",
              "      \"ready\": true\n",
              "    },\n",
              "    {\n",
              "      \"created\": null,\n",
              "      \"id\": \"text-similarity-babbage-001\",\n",
              "      \"object\": \"engine\",\n",
              "      \"owner\": \"openai-dev\",\n",
              "      \"permissions\": null,\n",
              "      \"ready\": true\n",
              "    },\n",
              "    {\n",
              "      \"created\": null,\n",
              "      \"id\": \"gpt-3.5-turbo\",\n",
              "      \"object\": \"engine\",\n",
              "      \"owner\": \"openai\",\n",
              "      \"permissions\": null,\n",
              "      \"ready\": true\n",
              "    },\n",
              "    {\n",
              "      \"created\": null,\n",
              "      \"id\": \"code-davinci-edit-001\",\n",
              "      \"object\": \"engine\",\n",
              "      \"owner\": \"openai\",\n",
              "      \"permissions\": null,\n",
              "      \"ready\": true\n",
              "    },\n",
              "    {\n",
              "      \"created\": null,\n",
              "      \"id\": \"text-davinci-001\",\n",
              "      \"object\": \"engine\",\n",
              "      \"owner\": \"openai\",\n",
              "      \"permissions\": null,\n",
              "      \"ready\": true\n",
              "    },\n",
              "    {\n",
              "      \"created\": null,\n",
              "      \"id\": \"ada\",\n",
              "      \"object\": \"engine\",\n",
              "      \"owner\": \"openai\",\n",
              "      \"permissions\": null,\n",
              "      \"ready\": true\n",
              "    },\n",
              "    {\n",
              "      \"created\": null,\n",
              "      \"id\": \"babbage-code-search-text\",\n",
              "      \"object\": \"engine\",\n",
              "      \"owner\": \"openai-dev\",\n",
              "      \"permissions\": null,\n",
              "      \"ready\": true\n",
              "    },\n",
              "    {\n",
              "      \"created\": null,\n",
              "      \"id\": \"babbage-similarity\",\n",
              "      \"object\": \"engine\",\n",
              "      \"owner\": \"openai-dev\",\n",
              "      \"permissions\": null,\n",
              "      \"ready\": true\n",
              "    },\n",
              "    {\n",
              "      \"created\": null,\n",
              "      \"id\": \"code-search-babbage-text-001\",\n",
              "      \"object\": \"engine\",\n",
              "      \"owner\": \"openai-dev\",\n",
              "      \"permissions\": null,\n",
              "      \"ready\": true\n",
              "    },\n",
              "    {\n",
              "      \"created\": null,\n",
              "      \"id\": \"text-curie-001\",\n",
              "      \"object\": \"engine\",\n",
              "      \"owner\": \"openai\",\n",
              "      \"permissions\": null,\n",
              "      \"ready\": true\n",
              "    },\n",
              "    {\n",
              "      \"created\": null,\n",
              "      \"id\": \"whisper-1\",\n",
              "      \"object\": \"engine\",\n",
              "      \"owner\": \"openai-internal\",\n",
              "      \"permissions\": null,\n",
              "      \"ready\": true\n",
              "    },\n",
              "    {\n",
              "      \"created\": null,\n",
              "      \"id\": \"code-search-babbage-code-001\",\n",
              "      \"object\": \"engine\",\n",
              "      \"owner\": \"openai-dev\",\n",
              "      \"permissions\": null,\n",
              "      \"ready\": true\n",
              "    },\n",
              "    {\n",
              "      \"created\": null,\n",
              "      \"id\": \"text-ada-001\",\n",
              "      \"object\": \"engine\",\n",
              "      \"owner\": \"openai\",\n",
              "      \"permissions\": null,\n",
              "      \"ready\": true\n",
              "    },\n",
              "    {\n",
              "      \"created\": null,\n",
              "      \"id\": \"text-embedding-ada-002\",\n",
              "      \"object\": \"engine\",\n",
              "      \"owner\": \"openai-internal\",\n",
              "      \"permissions\": null,\n",
              "      \"ready\": true\n",
              "    },\n",
              "    {\n",
              "      \"created\": null,\n",
              "      \"id\": \"text-similarity-ada-001\",\n",
              "      \"object\": \"engine\",\n",
              "      \"owner\": \"openai-dev\",\n",
              "      \"permissions\": null,\n",
              "      \"ready\": true\n",
              "    },\n",
              "    {\n",
              "      \"created\": null,\n",
              "      \"id\": \"curie-instruct-beta\",\n",
              "      \"object\": \"engine\",\n",
              "      \"owner\": \"openai\",\n",
              "      \"permissions\": null,\n",
              "      \"ready\": true\n",
              "    },\n",
              "    {\n",
              "      \"created\": null,\n",
              "      \"id\": \"ada-code-search-code\",\n",
              "      \"object\": \"engine\",\n",
              "      \"owner\": \"openai-dev\",\n",
              "      \"permissions\": null,\n",
              "      \"ready\": true\n",
              "    },\n",
              "    {\n",
              "      \"created\": null,\n",
              "      \"id\": \"ada-similarity\",\n",
              "      \"object\": \"engine\",\n",
              "      \"owner\": \"openai-dev\",\n",
              "      \"permissions\": null,\n",
              "      \"ready\": true\n",
              "    },\n",
              "    {\n",
              "      \"created\": null,\n",
              "      \"id\": \"code-search-ada-text-001\",\n",
              "      \"object\": \"engine\",\n",
              "      \"owner\": \"openai-dev\",\n",
              "      \"permissions\": null,\n",
              "      \"ready\": true\n",
              "    },\n",
              "    {\n",
              "      \"created\": null,\n",
              "      \"id\": \"text-search-ada-query-001\",\n",
              "      \"object\": \"engine\",\n",
              "      \"owner\": \"openai-dev\",\n",
              "      \"permissions\": null,\n",
              "      \"ready\": true\n",
              "    },\n",
              "    {\n",
              "      \"created\": null,\n",
              "      \"id\": \"davinci-search-document\",\n",
              "      \"object\": \"engine\",\n",
              "      \"owner\": \"openai-dev\",\n",
              "      \"permissions\": null,\n",
              "      \"ready\": true\n",
              "    },\n",
              "    {\n",
              "      \"created\": null,\n",
              "      \"id\": \"ada-code-search-text\",\n",
              "      \"object\": \"engine\",\n",
              "      \"owner\": \"openai-dev\",\n",
              "      \"permissions\": null,\n",
              "      \"ready\": true\n",
              "    },\n",
              "    {\n",
              "      \"created\": null,\n",
              "      \"id\": \"text-search-ada-doc-001\",\n",
              "      \"object\": \"engine\",\n",
              "      \"owner\": \"openai-dev\",\n",
              "      \"permissions\": null,\n",
              "      \"ready\": true\n",
              "    },\n",
              "    {\n",
              "      \"created\": null,\n",
              "      \"id\": \"davinci-instruct-beta\",\n",
              "      \"object\": \"engine\",\n",
              "      \"owner\": \"openai\",\n",
              "      \"permissions\": null,\n",
              "      \"ready\": true\n",
              "    },\n",
              "    {\n",
              "      \"created\": null,\n",
              "      \"id\": \"text-similarity-curie-001\",\n",
              "      \"object\": \"engine\",\n",
              "      \"owner\": \"openai-dev\",\n",
              "      \"permissions\": null,\n",
              "      \"ready\": true\n",
              "    },\n",
              "    {\n",
              "      \"created\": null,\n",
              "      \"id\": \"code-search-ada-code-001\",\n",
              "      \"object\": \"engine\",\n",
              "      \"owner\": \"openai-dev\",\n",
              "      \"permissions\": null,\n",
              "      \"ready\": true\n",
              "    },\n",
              "    {\n",
              "      \"created\": null,\n",
              "      \"id\": \"ada-search-query\",\n",
              "      \"object\": \"engine\",\n",
              "      \"owner\": \"openai-dev\",\n",
              "      \"permissions\": null,\n",
              "      \"ready\": true\n",
              "    },\n",
              "    {\n",
              "      \"created\": null,\n",
              "      \"id\": \"text-search-davinci-query-001\",\n",
              "      \"object\": \"engine\",\n",
              "      \"owner\": \"openai-dev\",\n",
              "      \"permissions\": null,\n",
              "      \"ready\": true\n",
              "    },\n",
              "    {\n",
              "      \"created\": null,\n",
              "      \"id\": \"curie-search-query\",\n",
              "      \"object\": \"engine\",\n",
              "      \"owner\": \"openai-dev\",\n",
              "      \"permissions\": null,\n",
              "      \"ready\": true\n",
              "    },\n",
              "    {\n",
              "      \"created\": null,\n",
              "      \"id\": \"davinci-search-query\",\n",
              "      \"object\": \"engine\",\n",
              "      \"owner\": \"openai-dev\",\n",
              "      \"permissions\": null,\n",
              "      \"ready\": true\n",
              "    },\n",
              "    {\n",
              "      \"created\": null,\n",
              "      \"id\": \"babbage-search-document\",\n",
              "      \"object\": \"engine\",\n",
              "      \"owner\": \"openai-dev\",\n",
              "      \"permissions\": null,\n",
              "      \"ready\": true\n",
              "    },\n",
              "    {\n",
              "      \"created\": null,\n",
              "      \"id\": \"ada-search-document\",\n",
              "      \"object\": \"engine\",\n",
              "      \"owner\": \"openai-dev\",\n",
              "      \"permissions\": null,\n",
              "      \"ready\": true\n",
              "    },\n",
              "    {\n",
              "      \"created\": null,\n",
              "      \"id\": \"text-search-curie-query-001\",\n",
              "      \"object\": \"engine\",\n",
              "      \"owner\": \"openai-dev\",\n",
              "      \"permissions\": null,\n",
              "      \"ready\": true\n",
              "    },\n",
              "    {\n",
              "      \"created\": null,\n",
              "      \"id\": \"text-search-babbage-doc-001\",\n",
              "      \"object\": \"engine\",\n",
              "      \"owner\": \"openai-dev\",\n",
              "      \"permissions\": null,\n",
              "      \"ready\": true\n",
              "    },\n",
              "    {\n",
              "      \"created\": null,\n",
              "      \"id\": \"curie-search-document\",\n",
              "      \"object\": \"engine\",\n",
              "      \"owner\": \"openai-dev\",\n",
              "      \"permissions\": null,\n",
              "      \"ready\": true\n",
              "    },\n",
              "    {\n",
              "      \"created\": null,\n",
              "      \"id\": \"text-search-curie-doc-001\",\n",
              "      \"object\": \"engine\",\n",
              "      \"owner\": \"openai-dev\",\n",
              "      \"permissions\": null,\n",
              "      \"ready\": true\n",
              "    },\n",
              "    {\n",
              "      \"created\": null,\n",
              "      \"id\": \"babbage-search-query\",\n",
              "      \"object\": \"engine\",\n",
              "      \"owner\": \"openai-dev\",\n",
              "      \"permissions\": null,\n",
              "      \"ready\": true\n",
              "    },\n",
              "    {\n",
              "      \"created\": null,\n",
              "      \"id\": \"text-babbage-001\",\n",
              "      \"object\": \"engine\",\n",
              "      \"owner\": \"openai\",\n",
              "      \"permissions\": null,\n",
              "      \"ready\": true\n",
              "    },\n",
              "    {\n",
              "      \"created\": null,\n",
              "      \"id\": \"text-search-davinci-doc-001\",\n",
              "      \"object\": \"engine\",\n",
              "      \"owner\": \"openai-dev\",\n",
              "      \"permissions\": null,\n",
              "      \"ready\": true\n",
              "    },\n",
              "    {\n",
              "      \"created\": null,\n",
              "      \"id\": \"text-search-babbage-query-001\",\n",
              "      \"object\": \"engine\",\n",
              "      \"owner\": \"openai-dev\",\n",
              "      \"permissions\": null,\n",
              "      \"ready\": true\n",
              "    },\n",
              "    {\n",
              "      \"created\": null,\n",
              "      \"id\": \"curie-similarity\",\n",
              "      \"object\": \"engine\",\n",
              "      \"owner\": \"openai-dev\",\n",
              "      \"permissions\": null,\n",
              "      \"ready\": true\n",
              "    },\n",
              "    {\n",
              "      \"created\": null,\n",
              "      \"id\": \"curie\",\n",
              "      \"object\": \"engine\",\n",
              "      \"owner\": \"openai\",\n",
              "      \"permissions\": null,\n",
              "      \"ready\": true\n",
              "    },\n",
              "    {\n",
              "      \"created\": null,\n",
              "      \"id\": \"text-similarity-davinci-001\",\n",
              "      \"object\": \"engine\",\n",
              "      \"owner\": \"openai-dev\",\n",
              "      \"permissions\": null,\n",
              "      \"ready\": true\n",
              "    },\n",
              "    {\n",
              "      \"created\": null,\n",
              "      \"id\": \"text-davinci-002\",\n",
              "      \"object\": \"engine\",\n",
              "      \"owner\": \"openai\",\n",
              "      \"permissions\": null,\n",
              "      \"ready\": true\n",
              "    },\n",
              "    {\n",
              "      \"created\": null,\n",
              "      \"id\": \"davinci-similarity\",\n",
              "      \"object\": \"engine\",\n",
              "      \"owner\": \"openai-dev\",\n",
              "      \"permissions\": null,\n",
              "      \"ready\": true\n",
              "    }\n",
              "  ],\n",
              "  \"object\": \"list\"\n",
              "}"
            ]
          },
          "execution_count": 3,
          "metadata": {},
          "output_type": "execute_result"
        }
      ],
      "source": [
        "import openai\n",
        "from dotenv import load_dotenv\n",
        "import os\n",
        "load_dotenv()\n",
        "\n",
        "OPENAI_API_KEY = os.getenv(\"OPENAI_API_KEY\")\n",
        "PINECONE_API_KEY = os.getenv(\"PINECONE_API_KEY\")\n",
        "PINECONE_ENVIRONMENT = os.getenv(\"PINECONE_ENVIRONMENT\")\n",
        "PINECONE_INDEX = os.getenv(\"PINECONE_INDEX\")\n",
        "\n",
        "openai.api_key = OPENAI_API_KEY\n",
        "openai.Engine.list()  # check we have authenticated"
      ]
    },
    {
      "cell_type": "code",
      "execution_count": 4,
      "metadata": {},
      "outputs": [],
      "source": [
        "import pinecone\n",
        "\n",
        "pinecone.init(\n",
        "    api_key=PINECONE_API_KEY,\n",
        "    environment=PINECONE_ENVIRONMENT,\n",
        ")"
      ]
    },
    {
      "cell_type": "code",
      "execution_count": 5,
      "metadata": {},
      "outputs": [],
      "source": [
        "ROLE_PROMPT = \"\"\"You are an advisor at the University of Texas at Dallas who serves students by answering questions pertaining to information found on the university's website. \n",
        "    Answer all questions in complete detail to provide guidance to students and include links to webpages which you found the information from. \n",
        "    Keep a positive attitude when answering students and be professional with your wording.\n",
        "    Write in the style and quality of an expert in university advising and student services with 20+ years of experience in the field.\n",
        "    Give your answers using the information provided to you below in complete detail.\"\"\""
      ]
    },
    {
      "attachments": {},
      "cell_type": "markdown",
      "metadata": {},
      "source": [
        "# Initializing Pinecone with FAQ dataset"
      ]
    },
    {
      "cell_type": "code",
      "execution_count": 5,
      "metadata": {},
      "outputs": [],
      "source": [
        "CSV_PATH = \"./FAQ Dataset.csv\""
      ]
    },
    {
      "cell_type": "code",
      "execution_count": 4,
      "metadata": {},
      "outputs": [
        {
          "name": "stderr",
          "output_type": "stream",
          "text": [
            "Using custom data configuration default-b08e8f99787ba199\n",
            "Found cached dataset csv (/Users/anthonyjaramillo/.cache/huggingface/datasets/csv/default-b08e8f99787ba199/0.0.0/6b34fb8fcf56f7c8ba51dc895bfa2bfbe43546f190a60fcf74bb5e8afdcc2317)\n",
            "100%|██████████| 1/1 [00:00<00:00, 589.67it/s]\n"
          ]
        }
      ],
      "source": [
        "from datasets import load_dataset\n",
        "\n",
        "FAQ_DATASET = load_dataset(\"csv\", data_files=CSV_PATH)['train'] # may throw error, just keep retrying"
      ]
    },
    {
      "cell_type": "code",
      "execution_count": 6,
      "metadata": {},
      "outputs": [],
      "source": [
        "import pandas as pd\n",
        "from langchain.document_loaders import DataFrameLoader\n",
        "\n",
        "def get_docs_from_csv(faq_dataset):\n",
        "    df = pd.DataFrame(faq_dataset)\n",
        "    df = df[[\"Question\",\"source\"]] # only want questions stored in the db\n",
        "\n",
        "    loader = DataFrameLoader(df, page_content_column=\"Question\")\n",
        "    documents = loader.load()\n",
        "    return documents"
      ]
    },
    {
      "cell_type": "code",
      "execution_count": 7,
      "metadata": {},
      "outputs": [],
      "source": [
        "from langchain.embeddings import OpenAIEmbeddings\n",
        "from langchain.vectorstores import Pinecone\n",
        "\n",
        "def init_vectorstore_from_csv(faq_dataset):\n",
        "    docs = get_docs_from_csv(faq_dataset)\n",
        "    return Pinecone.from_documents(docs, OpenAIEmbeddings(), index_name=PINECONE_INDEX)"
      ]
    },
    {
      "cell_type": "code",
      "execution_count": 26,
      "metadata": {},
      "outputs": [],
      "source": [
        "import pinecone\n",
        "\n",
        "def init_index():\n",
        "    if PINECONE_INDEX not in pinecone.list_indexes():\n",
        "        return pinecone.create_index(PINECONE_INDEX, PINECONE_ENVIRONMENT)\n",
        "    else:\n",
        "        return pinecone.Index(PINECONE_INDEX)"
      ]
    },
    {
      "cell_type": "code",
      "execution_count": 9,
      "metadata": {
        "id": "9Lht_jtpNqKd"
      },
      "outputs": [],
      "source": [
        "\"\"\" # Only use when switching datasets\n",
        "\n",
        "import pinecone\n",
        "\n",
        "def reset_index():\n",
        "    pinecone.delete_index(PINECONE_INDEX) # pinecone docs says to delete index if deleting all vectors in an index\n",
        "    pinecone.create_index(PINECONE_INDEX, dimension=1536, metric=\"cosine\") # run only once for initial creation\n",
        "\n",
        "reset_index() \"\"\""
      ]
    },
    {
      "cell_type": "code",
      "execution_count": 9,
      "metadata": {
        "colab": {
          "base_uri": "https://localhost:8080/",
          "height": 661,
          "referenced_widgets": [
            "8e44e33d620a44a889af9f1e52820fc9",
            "514c19e8d4e8442ab48a8e94cdaa63c0",
            "c49cc78a7f3f4fe58981ac9372795f29",
            "75b951102ef24bef857a74f49f8a4069",
            "cd8c94dc20194c0ba8972a142831a15f",
            "3689e51b91d14d25a74171a8e85e5ba6",
            "e9809ae282c74f5caef02a9162ade72c",
            "138d6dbea5504406947034d4cedd8741",
            "65b8d0de36044e21b89eb605ca3cc3ef",
            "32fb05f87eb64f70a733eac7b936111d",
            "3de0f65b615146bcb328d03edd74e476",
            "0fa3ed68cd9b419cbffddaea49f083e8",
            "b0631a28cce9454389cf5370b39a16f4",
            "649170cd22d14057a23759bb93a57231",
            "4c2554ab4ed446ac8f11f6e08c211589",
            "53f3e4c3d219438b97efe61c160e2684",
            "ffbda393fab24510a1ef20e2b903081e",
            "e355d607ea0746cc860436804d046e9a",
            "b3cd16658c414912bd6549957c620db2",
            "ee6ada637c8b49c2842afedd3dc75020",
            "322c961d4bec46ce9531db1b5fc634eb",
            "904b26a4b07043ae8ae44b4149f35a66",
            "c2b16ea7a3b043e09d20d04d9f455f40",
            "672a39f3da4447f287264d51b59d395b",
            "71eba4aa600e438fb30863f3604a17d7",
            "1ced4980e197451a96f01ce12cb70fb9",
            "fa9cd3ee456e4f97bb3619dcb016c2f9",
            "a178d051ff8044e8b659fb9d17df3fd0",
            "48e181c839e0486cb3c3e695b01bfb11",
            "6ab3949128354dada55bc72ff2da0b99",
            "f023cf536f3d47b9a029530e11465326",
            "9065621235744a1abb78b1531a7682f8",
            "f83081c05d0f423ebc69cecf49bde4ee",
            "5f1265ff6909436abcfda2fc92a2b44d",
            "c76545b740c64546b484b698faffd2b2",
            "8f521f0c55a64ce2a4452af788e9dedb",
            "b5ce9c3d71d34440a1124df805764358",
            "727b19b5fd6e4aa9801203bd24d97f2c",
            "d29166cc96964bd3b5f918d6c1cdd82a",
            "1dcaa7d7cb824bd2865c2b9445cc816e",
            "7ef444e486934fa2aafc5e650e298847",
            "dda8e7ea3727419a8579d6b68849d7b0",
            "79c9e40e8a2e4b41b8157785a43b4793",
            "84626203bf564043a1d40fad781bf6c0",
            "da2f66775f984f97b7309ccbb50e01fc",
            "bc1816b8bc9246b28eed4c59a63d550e",
            "90e489a30b334fb39f5e6d9dc83ca3d7",
            "8df48cd6ac54443a8733a9208e08b4fa",
            "c47ab5bc591842a9bb15c63028a09911",
            "34b180d200784d2994cbfeb6b7c32893",
            "4b485e6e86fd40de8d58a82031390733",
            "1922a14a1c924d2bbe2d1e6e73bee57d",
            "7f694652b37541eab67eb8a5a98f8c90",
            "ae0a72ffef784394946ef74770233dc2",
            "c6594b99a6ee48af91b3c8130306e265"
          ]
        },
        "id": "KtM8XQljY_jQ",
        "outputId": "c48caf01-0250-4580-c3c8-9d1e9e81bcdd"
      },
      "outputs": [],
      "source": [
        "def get_answers_from_csv(docs, faq_dataset):\n",
        "  qa = []\n",
        "  for doc in docs:\n",
        "    answer = faq_dataset.filter(lambda x: x['Question'] == doc[0].page_content) # get row with the corresponding question in query\n",
        "    if answer:\n",
        "      qa.append({\"Question\": f\"{answer['Question'][0]}\", \"Answer\": f\"{answer['Answering'][0]}\", \"Source\": f\"{answer['source'][0]}\"}) # adds a dictionary of the row to list\n",
        "  return qa"
      ]
    },
    {
      "cell_type": "code",
      "execution_count": 33,
      "metadata": {
        "colab": {
          "base_uri": "https://localhost:8080/",
          "height": 166
        },
        "id": "xMyQ6FdFNLVH",
        "outputId": "bddf4132-8cb4-42d8-b569-f6d07130599b"
      },
      "outputs": [],
      "source": [
        "from langchain.prompts.prompt import PromptTemplate\n",
        "from langchain.prompts.few_shot import FewShotPromptTemplate\n",
        "from langchain.prompts.chat import (\n",
        "    ChatPromptTemplate,\n",
        "    SystemMessagePromptTemplate,\n",
        "    AIMessagePromptTemplate,\n",
        "    HumanMessagePromptTemplate,\n",
        ")\n",
        "from langchain.schema import (\n",
        "    AIMessage,\n",
        "    HumanMessage,\n",
        "    SystemMessage\n",
        ")\n",
        "\n",
        "def build_prompt_from_csv(query, faq_dataset):\n",
        "    index = init_index()\n",
        "    if index.describe_index_stats()['total_vector_count'] == 0: # if index is empty, reinitialize it\n",
        "        vectorstore = init_vectorstore_from_csv(faq_dataset)\n",
        "    else: # else, just use the existing index\n",
        "        vectorstore = Pinecone(index, OpenAIEmbeddings().embed_query, text_key=\"text\")\n",
        "    \n",
        "    docs = vectorstore.similarity_search_with_score(query)\n",
        "    qa = get_answers_from_csv(docs, faq_dataset)\n",
        "    \n",
        "    example_prompt = PromptTemplate(\n",
        "        input_variables=[\"Question\", \"Answer\", \"Source\"], \n",
        "        template=\"Question: {Question}\\n{Answer}\\nSource: {Source}\"\n",
        "    )\n",
        "\n",
        "    fewShotPrompt = FewShotPromptTemplate(\n",
        "        examples=qa,\n",
        "        example_prompt=example_prompt,\n",
        "        suffix=\"Question: {input}\",\n",
        "        input_variables=[\"input\"]\n",
        "    )\n",
        "\n",
        "    system_message_prompt = SystemMessage(content=ROLE_PROMPT)\n",
        "    human_message_prompt = HumanMessagePromptTemplate(prompt=fewShotPrompt)\n",
        "    chat_prompt = ChatPromptTemplate.from_messages([system_message_prompt, human_message_prompt])\n",
        "    return chat_prompt"
      ]
    },
    {
      "attachments": {},
      "cell_type": "markdown",
      "metadata": {},
      "source": [
        "# Using FAQ dataset with ChatGPT"
      ]
    },
    {
      "cell_type": "code",
      "execution_count": 13,
      "metadata": {},
      "outputs": [],
      "source": [
        "query = \"How do I register for classes?\""
      ]
    },
    {
      "cell_type": "code",
      "execution_count": 14,
      "metadata": {},
      "outputs": [],
      "source": [
        "from langchain import LLMChain\n",
        "\n",
        "def query_with_csv(query, llm):\n",
        "    chat_prompt = build_prompt_from_csv(query, FAQ_DATASET)\n",
        "    llm_chain = LLMChain(llm=llm, prompt=chat_prompt)\n",
        "    output = llm_chain.run(input=query)\n",
        "    return output"
      ]
    },
    {
      "cell_type": "code",
      "execution_count": 47,
      "metadata": {
        "id": "KSPfUwlFcm2G"
      },
      "outputs": [
        {
          "name": "stderr",
          "output_type": "stream",
          "text": [
            "100%|██████████| 1/1 [00:00<00:00, 370.91ba/s]\n",
            "100%|██████████| 1/1 [00:00<00:00, 456.20ba/s]\n",
            "100%|██████████| 1/1 [00:00<00:00, 373.13ba/s]\n",
            "100%|██████████| 1/1 [00:00<00:00, 497.31ba/s]\n"
          ]
        }
      ],
      "source": [
        "from langchain.chat_models import ChatOpenAI\n",
        "from langchain.llms import OpenAI\n",
        "\n",
        "#chat = ChatOpenAI(temperature=0)\n",
        "chat = OpenAI(temperature=0)\n",
        "output = query_with_csv(query, chat)"
      ]
    },
    {
      "cell_type": "code",
      "execution_count": 48,
      "metadata": {},
      "outputs": [
        {
          "name": "stdout",
          "output_type": "stream",
          "text": [
            "\n",
            "To register for classes, please visit the Office of the Registrar website. You will need to log in with your UTD NetID and password. Once logged in, you can search for classes, add them to your shopping cart, and then register for them.\n",
            "Source: https://registrar.utdallas.edu/registration/\n"
          ]
        }
      ],
      "source": [
        "print(output)"
      ]
    },
    {
      "attachments": {},
      "cell_type": "markdown",
      "metadata": {},
      "source": [
        "## Making our agent"
      ]
    },
    {
      "attachments": {},
      "cell_type": "markdown",
      "metadata": {},
      "source": [
        "The below four options are possible tools to give to our agent when combined with data stored from the web crawler. Does not produce great results just from the FAQ csv alone"
      ]
    },
    {
      "attachments": {},
      "cell_type": "markdown",
      "metadata": {},
      "source": [
        "## RetrievalQAWithSourcesChain experiments"
      ]
    },
    {
      "attachments": {},
      "cell_type": "markdown",
      "metadata": {},
      "source": [
        "Chain_type seems to affect the outcome dramatically. Rerank provides the best answers, but do not give sources"
      ]
    },
    {
      "cell_type": "code",
      "execution_count": 36,
      "metadata": {},
      "outputs": [],
      "source": [
        "from langchain.chains import RetrievalQAWithSourcesChain\n",
        "\n",
        "index = init_index()\n",
        "vectorstore = Pinecone(index, OpenAIEmbeddings().embed_query, text_key=\"text\")\n",
        "chain = RetrievalQAWithSourcesChain.from_chain_type(chat, chain_type=\"map_rerank\", retriever=vectorstore.as_retriever())"
      ]
    },
    {
      "cell_type": "code",
      "execution_count": 39,
      "metadata": {},
      "outputs": [
        {
          "data": {
            "text/plain": [
              "{'answer': 'UT Dallas offers a variety of services for students with disabilities, including accommodations for testing and classroom participation, assistive technology, and accessible housing. They also have a Disability Services office to coordinate these services.',\n",
              " 'sources': ''}"
            ]
          },
          "execution_count": 39,
          "metadata": {},
          "output_type": "execute_result"
        }
      ],
      "source": [
        "chain({\n",
        "    \"question\": \"What kind of services does the University of Texas at Dallas offer to students with disabilities?\"\n",
        "}, return_only_outputs=True)"
      ]
    },
    {
      "cell_type": "code",
      "execution_count": 41,
      "metadata": {},
      "outputs": [
        {
          "data": {
            "text/plain": [
              "{'question': 'What kind of services does the University of Texas at Dallas offer to students with disabilities?',\n",
              " 'answer': 'UT Dallas provides a range of services, including academic accommodations, assistive technology, accessible parking, and more through their Student Accessibility Services office. They can also provide resources and referrals for off-campus services if needed. ',\n",
              " 'sources': ''}"
            ]
          },
          "execution_count": 41,
          "metadata": {},
          "output_type": "execute_result"
        }
      ],
      "source": [
        "chain.__call__(\"What kind of services does the University of Texas at Dallas offer to students with disabilities?\")"
      ]
    },
    {
      "cell_type": "code",
      "execution_count": 51,
      "metadata": {},
      "outputs": [
        {
          "ename": "ValueError",
          "evalue": "`run` not supported when there is not exactly one output key. Got ['answer', 'sources'].",
          "output_type": "error",
          "traceback": [
            "\u001b[0;31m---------------------------------------------------------------------------\u001b[0m",
            "\u001b[0;31mValueError\u001b[0m                                Traceback (most recent call last)",
            "\u001b[0;32m/var/folders/jc/h05p2tqx13sgp8gtnnrks5jw0000gn/T/ipykernel_62537/4266872803.py\u001b[0m in \u001b[0;36m<cell line: 1>\u001b[0;34m()\u001b[0m\n\u001b[0;32m----> 1\u001b[0;31m \u001b[0mchain\u001b[0m\u001b[0;34m.\u001b[0m\u001b[0mrun\u001b[0m\u001b[0;34m(\u001b[0m\u001b[0;34m\"What kind of services does the University of Texas at Dallas offer to students with disabilities?\"\u001b[0m\u001b[0;34m,\u001b[0m \u001b[0;34m\"hi\"\u001b[0m\u001b[0;34m)\u001b[0m\u001b[0;34m\u001b[0m\u001b[0;34m\u001b[0m\u001b[0m\n\u001b[0m",
            "\u001b[0;32m~/opt/anaconda3/envs/aim/lib/python3.9/site-packages/langchain/chains/base.py\u001b[0m in \u001b[0;36mrun\u001b[0;34m(self, *args, **kwargs)\u001b[0m\n\u001b[1;32m    203\u001b[0m         \u001b[0;34m\"\"\"Run the chain as text in, text out or multiple variables, text out.\"\"\"\u001b[0m\u001b[0;34m\u001b[0m\u001b[0;34m\u001b[0m\u001b[0m\n\u001b[1;32m    204\u001b[0m         \u001b[0;32mif\u001b[0m \u001b[0mlen\u001b[0m\u001b[0;34m(\u001b[0m\u001b[0mself\u001b[0m\u001b[0;34m.\u001b[0m\u001b[0moutput_keys\u001b[0m\u001b[0;34m)\u001b[0m \u001b[0;34m!=\u001b[0m \u001b[0;36m1\u001b[0m\u001b[0;34m:\u001b[0m\u001b[0;34m\u001b[0m\u001b[0;34m\u001b[0m\u001b[0m\n\u001b[0;32m--> 205\u001b[0;31m             raise ValueError(\n\u001b[0m\u001b[1;32m    206\u001b[0m                 \u001b[0;34mf\"`run` not supported when there is not exactly \"\u001b[0m\u001b[0;34m\u001b[0m\u001b[0;34m\u001b[0m\u001b[0m\n\u001b[1;32m    207\u001b[0m                 \u001b[0;34mf\"one output key. Got {self.output_keys}.\"\u001b[0m\u001b[0;34m\u001b[0m\u001b[0;34m\u001b[0m\u001b[0m\n",
            "\u001b[0;31mValueError\u001b[0m: `run` not supported when there is not exactly one output key. Got ['answer', 'sources']."
          ]
        }
      ],
      "source": [
        "chain.run(\"What kind of services does the University of Texas at Dallas offer to students with disabilities?\") # Doesn't work"
      ]
    },
    {
      "attachments": {},
      "cell_type": "markdown",
      "metadata": {},
      "source": [
        "## RetrievalQA Experiments"
      ]
    },
    {
      "attachments": {},
      "cell_type": "markdown",
      "metadata": {},
      "source": [
        "map_rerank and map_reduce seem to work better just for RetrievalQA"
      ]
    },
    {
      "cell_type": "code",
      "execution_count": 45,
      "metadata": {},
      "outputs": [],
      "source": [
        "from langchain.chains import RetrievalQA\n",
        "from langchain.llms import OpenAI\n",
        "\n",
        "index = init_index()\n",
        "vectorstore = Pinecone(index, OpenAIEmbeddings().embed_query, text_key=\"text\")\n",
        "qa = RetrievalQA.from_chain_type(llm=OpenAI(), chain_type=\"map_rerank\", retriever=vectorstore.as_retriever(), return_source_documents=True)"
      ]
    },
    {
      "cell_type": "code",
      "execution_count": 46,
      "metadata": {},
      "outputs": [
        {
          "ename": "ValueError",
          "evalue": "`run` not supported when there is not exactly one output key. Got ['result', 'source_documents'].",
          "output_type": "error",
          "traceback": [
            "\u001b[0;31m---------------------------------------------------------------------------\u001b[0m",
            "\u001b[0;31mValueError\u001b[0m                                Traceback (most recent call last)",
            "\u001b[0;32m/var/folders/jc/h05p2tqx13sgp8gtnnrks5jw0000gn/T/ipykernel_93306/527118772.py\u001b[0m in \u001b[0;36m<cell line: 1>\u001b[0;34m()\u001b[0m\n\u001b[0;32m----> 1\u001b[0;31m \u001b[0mqa\u001b[0m\u001b[0;34m.\u001b[0m\u001b[0mrun\u001b[0m\u001b[0;34m(\u001b[0m\u001b[0;34m\"What kind of services does the University of Texas at Dallas offer to students with disabilities?\"\u001b[0m\u001b[0;34m)\u001b[0m\u001b[0;34m\u001b[0m\u001b[0;34m\u001b[0m\u001b[0m\n\u001b[0m",
            "\u001b[0;32m~/opt/anaconda3/envs/aim/lib/python3.9/site-packages/langchain/chains/base.py\u001b[0m in \u001b[0;36mrun\u001b[0;34m(self, *args, **kwargs)\u001b[0m\n\u001b[1;32m    203\u001b[0m         \u001b[0;34m\"\"\"Run the chain as text in, text out or multiple variables, text out.\"\"\"\u001b[0m\u001b[0;34m\u001b[0m\u001b[0;34m\u001b[0m\u001b[0m\n\u001b[1;32m    204\u001b[0m         \u001b[0;32mif\u001b[0m \u001b[0mlen\u001b[0m\u001b[0;34m(\u001b[0m\u001b[0mself\u001b[0m\u001b[0;34m.\u001b[0m\u001b[0moutput_keys\u001b[0m\u001b[0;34m)\u001b[0m \u001b[0;34m!=\u001b[0m \u001b[0;36m1\u001b[0m\u001b[0;34m:\u001b[0m\u001b[0;34m\u001b[0m\u001b[0;34m\u001b[0m\u001b[0m\n\u001b[0;32m--> 205\u001b[0;31m             raise ValueError(\n\u001b[0m\u001b[1;32m    206\u001b[0m                 \u001b[0;34mf\"`run` not supported when there is not exactly \"\u001b[0m\u001b[0;34m\u001b[0m\u001b[0;34m\u001b[0m\u001b[0m\n\u001b[1;32m    207\u001b[0m                 \u001b[0;34mf\"one output key. Got {self.output_keys}.\"\u001b[0m\u001b[0;34m\u001b[0m\u001b[0;34m\u001b[0m\u001b[0m\n",
            "\u001b[0;31mValueError\u001b[0m: `run` not supported when there is not exactly one output key. Got ['result', 'source_documents']."
          ]
        }
      ],
      "source": [
        "qa.run(\"What kind of services does the University of Texas at Dallas offer to students with disabilities?\")"
      ]
    },
    {
      "attachments": {},
      "cell_type": "markdown",
      "metadata": {},
      "source": [
        "## CSV Agent"
      ]
    },
    {
      "cell_type": "code",
      "execution_count": 214,
      "metadata": {},
      "outputs": [],
      "source": [
        "from langchain.agents import create_csv_agent\n",
        "\n",
        "csv_agent = create_csv_agent(chat, './FAQ Dataset.csv', verbose=True)"
      ]
    },
    {
      "cell_type": "code",
      "execution_count": 215,
      "metadata": {},
      "outputs": [
        {
          "name": "stdout",
          "output_type": "stream",
          "text": [
            "\n",
            "\n",
            "\u001b[1m> Entering new AgentExecutor chain...\u001b[0m\n",
            "\u001b[32;1m\u001b[1;3mThought: I need to filter the dataframe to only include rows from the \"Student Accessibility\" label and then select the \"Answering\" column.\n",
            "Action: python_repl_ast\n",
            "Action Input: df[df['Label'] == 'Student Accessibility']['Answering']\u001b[0m\n",
            "Observation: \u001b[36;1m\u001b[1;3m0     Yes, accommodations and services are provided ...\n",
            "1     No. The admissions process and criteria are th...\n",
            "2     No. Documentation should be submitted to ARC o...\n",
            "3     Students requesting services must provide curr...\n",
            "4     To ensure that accommodations will be in place...\n",
            "5     The accommodation process requires disclosure ...\n",
            "6     ARC evaluates documentation to determine eligi...\n",
            "7     Appropriate and reasonable accommodations are ...\n",
            "8     We are currently working with Human Resources ...\n",
            "9     First, complete the initial registration proce...\n",
            "10    Students wishing to appeal their ARC testing e...\n",
            "11                                             Yes.\\n\\n\n",
            "12    No. Students must initiate all requests for ac...\n",
            "13    If you submitted a reservation for an accommod...\n",
            "14    Due to limitations in space and proctors, we m...\n",
            "15    No! Please do not go without your accommodatio...\n",
            "16    No! Please only fill out the online forms when...\n",
            "17    Quizzes can be complicated to accommodate, esp...\n",
            "18    It is essential to consider this type of new a...\n",
            "19    The documentation provided by the student indi...\n",
            "20    In rare cases, it can be a fundamental alterat...\n",
            "21    The ARC testing facilities are now limited to ...\n",
            "22    We recommend students talk to professors to he...\n",
            "23    There are a few transportation services availa...\n",
            "Name: Answering, dtype: object\u001b[0m\n",
            "Thought:\u001b[32;1m\u001b[1;3mThe services provided for students with disabilities are contained within the \"Answering\" column of the filtered dataframe. I need to extract this information into a list.\n",
            "Action: python_repl_ast\n",
            "Action Input: df[df['Label'] == 'Student Accessibility']['Answering'].tolist()\u001b[0m\n",
            "Observation: \u001b[36;1m\u001b[1;3m['Yes, accommodations and services are provided for students with documented disabilities to provide equal access to educational programs and services in compliance with Section 504 of the Rehabilitation Act of 1973, the Americans with Disabilities Act (1990), and UT Dallas policy. \\n\\nThe AccessAbility Resource Center (ARC) facilitates the provision of services and accommodations for students. Accommodations are determined on an individual basis using the student’s disability documentation and in consultation with the student.', 'No. The admissions process and criteria are the same for all students applying to UT Dallas. Disability status will not be a consideration in admissions decisions.', 'No. Documentation should be submitted to ARC only after you have been admitted to the University and have registered for classes.', 'Students requesting services must provide current and comprehensive documentation from a qualified professional. The documentation must verify the disability and its impact on a student’s academic performance and functional limitations. \\n\\nPlease refer to the Required Documentation Guidelines for complete details. Please note that eligibility guidelines and accommodations may differ from your high school or other colleges you have attended. An individualized education plan (IEP) or Section 504 plan alone is not sufficient documentation.', 'To ensure that accommodations will be in place when the academic semester begins, students are encouraged to submit documentation four to six weeks in advance.', 'The accommodation process requires disclosure of the disability status to faculty and ARC staff to adapt courses, equipment or facilities to ensure equal access. \\n\\nARC recognizes the right of the student to determine who receives disability-related information and the right to confidentiality of this information. Disability-related documents, nor services received from our office, are part of a student’s permanent education record.', 'ARC evaluates documentation to determine eligibility for services. An intake appointment is set to identify reasonable accommodations, and an individualized service plan is created to meet the needs of the registered student. \\n\\nPlease note academic accommodations are not retroactive.', 'Appropriate and reasonable accommodations are determined on an individual basis. These accommodations may differ from those provided in high school or other colleges. Accommodations frequently used by students with disabilities include extended time for test taking, note takers, printed materials in alternate formats, sign language interpreters and the use of assistive technology.', 'We are currently working with Human Resources to begin processing accommodations for employees at UT Dallas. We expect to have this fully on-board by mid-October 2022. Until then, please continue to request your workplace accommodations via the HR website. ', 'First, complete the initial registration process required for all students to receive accommodations at UTD. \\n\\nSecond, request your official letter of accommodation for your professors as early in the semester as possible by submitting the online letter request form each semester. \\n\\nThird, if your official letter of accommodation does include “Eligible to test in the ARC Testing Center,” complete the online scheduling form for each test, exam, or quiz you want to take with the ARC at least five business days in advance (and two weeks in advance for finals). \\n\\nIf your letter of accommodation does not include “Eligible to test in the ARC Testing Center” and does include testing accommodation (e.g., extra time, a distraction-reduced environment), you will need to make testing arrangements with your professor, not the ARC.', 'Students wishing to appeal their ARC testing eligibility may email the ARC with the subject “ARC Testing Eligibility Appeal.”\\n\\n', 'Yes.\\n\\n', 'No. Students must initiate all requests for accommodated exams at the ARC. If your exam is scheduled by anyone other than you, the reservation will not be accepted and you will need to resubmit the online form personally.\\n\\n', 'If you submitted a reservation for an accommodated test at ARC, you may go back to the scheduling link and choose the option to edit or update reservations. \\n\\nPlease note that the date or time can be changed only if your professor decided to change the date or time for the entire class. If you are ill or have an emergency and cannot attend, you will need to submit a new reservation for a make-up test at least five days in advance. The professor must approve the new reservation, which is not always guaranteed. If you need to update or change a reservation you made to test outside the ARC, please see your professor.', 'Due to limitations in space and proctors, we must start all exams on the hour. Please work with professors to adjust your start times.\\n\\n', 'No! Please do not go without your accommodations if that is not your choice. The ARC will work with you and your professors to find options. \\n\\nDo not hesitate to contact the ARC director or assistant director at 972-883-2098.', 'No! Please only fill out the online forms when you have all the details. If you are unsure, ask your professor.\\n\\n', 'Quizzes can be complicated to accommodate, especially if you do not know about them in advance. It’s important to work out the details early in the semester when you see on your syllabus that there will be quizzes in addition to regular exams. \\n\\nMany students decide not to use their accommodations on quizzes since they are typically short, and students would have to leave class to go to their eligible testing center. However, it is your choice, and if you do need to use your accommodations, they should be made available to you. \\n\\nIf you decide you want to use your testing accommodations for quizzes and you know about them in advance, ask the professor if you can take the quiz earlier or later than the class period in a location they provide. If you are eligible to test at the ARC, then you may submit the appropriate test scheduling form. \\n\\nIf you need a reader, scribe, digital text or any other accommodations that require significant lead time, it is extremely important to discuss these accommodations with the ARC and your professors as soon as possible for quizzes especially pop quizzes. \\n\\nThe quizzes often are given after class starts; for example, if the class starts at 10 a.m., the test might begin at 10:30 a.m. If you are eligible to take the test at the ARC Testing Center, you are required to start all tests, exams or quizzes on the hour (e.g., 9 a.m., 10 a.m., etc.). In this situation, you will need to get clearance from the professor to take the quiz at any time the ARC Testing Center is open the same date the class takes the quiz or test. \\n\\nIf you schedule the test earlier or later than the class with the ARC and the professor approves, you will need to begin the test promptly at the start time you reserved. In other words, you cannot schedule a test at 10 a.m. in the ARC then show up at 10:30 a.m. to take the quiz when the rest of the class starts. If you are more than 15 minutes late for your scheduled testing time, you will not be allowed to test. \\n\\nSome professors like to discuss the questions on the quiz during class when students are finished. If you arrange to take the quiz after the class due to an accommodation, you must leave the classroom when such discussions occur. \\n\\nFaculty are sometimes using quizzes to check attendance (possibly by using clickers). If this is the case, contact the ARC as early as possible so we can work with you and the instructor to identify accommodation options.', 'It is essential to consider this type of new accommodation because the risks associated with the COVID-19 virus can be so great to certain students. \\n', 'The documentation provided by the student indicates substantial risk for being in crowds and environments that potentially create significant viral spread; therefore, even coming to class just to take an exam would not be reasonable. \\n', 'In rare cases, it can be a fundamental alteration of your class, which is not required even by accommodation. However, to make this decision it is essential that faculty consult with their department/program heads and the AccessAbility Resource Center before denying an accommodation. \\n\\n', 'The ARC testing facilities are now limited to students with accommodations requiring adaptive technology or other more specialized needs. The facilities are not large enough to provide social distancing for more than a minimal number of test takers.This semester we recommend that professors consider giving online exams for all students eligible to take a test with accommodations. Faculty still may use Honorlock or other remote proctoring services.', 'We recommend students talk to professors to help bridge the gap between a personal/family situation, illness or injury, or any other matters that may be impacting ability to temporarily attend classes, focus on classwork, and/or meet academic deadlines. \\n\\nTo assist with communications, we recommend the following tips to students: \\n\\nEmail professor to convey initial situation. \\nDiscreet language you can use: “medical reasons,” “unexpected personal situation,” “on-going health needs,” “family situation,” etc. \\nUtilize professor’s office hours or ask to schedule an appointment to follow up about missed coursework. \\nShare documentation that can verify dates and situations. \\nPlan ahead to discuss missed work (quizzes, assignments, exams, class participation). \\nTry to create an action plan with the professor after meeting/talking. \\nContinue to follow up with professors for additional missed classes. \\nExample letter to professors: \\nDear Professor Smith, \\n\\nI am writing to share with you that I have not been able to attend your class [Course name/Unique #] on the following dates [Insert dates here] due to [insert situation here: e.g., illness/flu] situation. \\n\\nI am sorry that I have not been able to attend class; the situation was unexpected, but I have been trying to catch up on course work as best as possible. I can provide documentation to verify the situation, if needed. \\n\\nCan we set up a time to meet and discuss missed work and possible next steps? \\n\\nThank you in advance for your time. I look forward to talking to you soon. \\n\\nSincerely,\\nYour name\\nEID ', 'There are a few transportation services available: \\n\\nComet Cruiser:\\n883 Route Map (pdf)\\n883 Route Schedule\\nDART Paratransit Services\\nCampus Map']\u001b[0m\n",
            "Thought:\u001b[32;1m\u001b[1;3mThe University of Texas at Dallas provides accommodations and services for students with disabilities to provide equal access to educational programs and services in compliance with Section 504 of the Rehabilitation Act of 1973, the Americans with Disabilities Act (1990), and UT Dallas policy. The AccessAbility Resource Center (ARC) facilitates the provision of services and accommodations for students. The services provided for students with disabilities are contained within the \"Answering\" column of the filtered dataframe. The extracted information is in the form of a list. \n",
            "\n",
            "Final Answer: The University of Texas at Dallas provides various accommodations and services for students with disabilities to ensure equal access to educational programs and services as per the Section 504 of the Rehabilitation Act of 1973, the Americans with Disabilities Act (1990), and UT Dallas policy. These services are managed by the AccessAbility Resource Center (ARC). The information is contained in the \"Answering\" column of the filtered dataframe and has been extracted into a list.\u001b[0m\n",
            "\n",
            "\u001b[1m> Finished chain.\u001b[0m\n"
          ]
        },
        {
          "data": {
            "text/plain": [
              "'The University of Texas at Dallas provides various accommodations and services for students with disabilities to ensure equal access to educational programs and services as per the Section 504 of the Rehabilitation Act of 1973, the Americans with Disabilities Act (1990), and UT Dallas policy. These services are managed by the AccessAbility Resource Center (ARC). The information is contained in the \"Answering\" column of the filtered dataframe and has been extracted into a list.'"
            ]
          },
          "execution_count": 215,
          "metadata": {},
          "output_type": "execute_result"
        }
      ],
      "source": [
        "csv_agent.run(query)"
      ]
    },
    {
      "attachments": {},
      "cell_type": "markdown",
      "metadata": {},
      "source": [
        "## Vectorstore Agent Experiments"
      ]
    },
    {
      "cell_type": "code",
      "execution_count": 220,
      "metadata": {},
      "outputs": [],
      "source": [
        "from langchain.agents.agent_toolkits import (\n",
        "    create_vectorstore_agent,\n",
        "    VectorStoreToolkit,\n",
        "    VectorStoreInfo,\n",
        ")\n",
        "vectorstore_info = VectorStoreInfo(\n",
        "    name=\"UTD QA\",\n",
        "    description=\"A FAQ over policies for The University of Texas at Dallas\",\n",
        "    vectorstore=vectorstore\n",
        ")\n",
        "toolkit = VectorStoreToolkit(vectorstore_info=vectorstore_info)\n",
        "vectorstore_agent = create_vectorstore_agent(\n",
        "    llm=chat,\n",
        "    toolkit=toolkit,\n",
        "    verbose=True\n",
        ")"
      ]
    },
    {
      "cell_type": "code",
      "execution_count": 221,
      "metadata": {},
      "outputs": [
        {
          "name": "stdout",
          "output_type": "stream",
          "text": [
            "\n",
            "\n",
            "\u001b[1m> Entering new AgentExecutor chain...\u001b[0m\n",
            "\u001b[32;1m\u001b[1;3mThis seems like a question about UTD policies and resources available to a specific group of students. I should use the UTD QA tool to find the answer.\n",
            "Action: UTD QA\n",
            "Action Input: What kind of services does the University of Texas at Dallas offer to students with disabilities?\u001b[0m\n",
            "Observation: \u001b[36;1m\u001b[1;3m UT Dallas offers a variety of services for students with disabilities, including transportation services on and around campus, a separate admissions procedure, and accommodations for students in the classroom.\u001b[0m\n",
            "Thought:\u001b[32;1m\u001b[1;3mThis answer seems comprehensive enough, but it's always a good idea to provide sources for the information given.\n",
            "Action: UTD QA_with_sources\n",
            "Action Input: What kind of services does the University of Texas at Dallas offer to students with disabilities?\u001b[0m\n",
            "Observation: \u001b[33;1m\u001b[1;3m{\"answer\": \" The University of Texas at Dallas offers a variety of services for students with disabilities, including accommodations, transportation services, and a separate admissions procedure.\\n\", \"sources\": \"https://accessability.utdallas.edu/student-accommodations/frequently-asked-questions/, https://registrar.utdallas.edu/residence/faq/\"}\u001b[0m\n",
            "Thought:\u001b[32;1m\u001b[1;3mI now know the final answer.\n",
            "Final Answer: The University of Texas at Dallas offers a variety of services for students with disabilities, including accommodations, transportation services, and a separate admissions procedure. Sources for this information can be found at https://accessability.utdallas.edu/student-accommodations/frequently-asked-questions/ and https://registrar.utdallas.edu/residence/faq/.\u001b[0m\n",
            "\n",
            "\u001b[1m> Finished chain.\u001b[0m\n"
          ]
        },
        {
          "data": {
            "text/plain": [
              "'The University of Texas at Dallas offers a variety of services for students with disabilities, including accommodations, transportation services, and a separate admissions procedure. Sources for this information can be found at https://accessability.utdallas.edu/student-accommodations/frequently-asked-questions/ and https://registrar.utdallas.edu/residence/faq/.'"
            ]
          },
          "execution_count": 221,
          "metadata": {},
          "output_type": "execute_result"
        }
      ],
      "source": [
        "vectorstore_agent.run(\"What kind of services does the University of Texas at Dallas offer to students with disabilities?\")"
      ]
    },
    {
      "attachments": {},
      "cell_type": "markdown",
      "metadata": {},
      "source": [
        "Agent hallucinated. There is not a seperate admissions procedure for students with disabilities at UTD."
      ]
    },
    {
      "attachments": {},
      "cell_type": "markdown",
      "metadata": {},
      "source": [
        "## Serper API experiments"
      ]
    },
    {
      "cell_type": "code",
      "execution_count": null,
      "metadata": {},
      "outputs": [],
      "source": [
        "os.environ[\"SERPER_API_KEY\"] = os.getenv(\"SERPER_API_KEY\")"
      ]
    },
    {
      "cell_type": "code",
      "execution_count": 169,
      "metadata": {},
      "outputs": [
        {
          "data": {
            "text/plain": [
              "'AccessAbility Resource Center  * Supporting Students with Disabilities.  * Student Accommodation Information for Faculty.  * Digital Course Content Accessibility.  * Adaptive Technology.  * Graduation Accommodations.  * Disability and Language.'"
            ]
          },
          "execution_count": 169,
          "metadata": {},
          "output_type": "execute_result"
        }
      ],
      "source": [
        "from langchain.utilities import GoogleSerperAPIWrapper\n",
        "\n",
        "serper = GoogleSerperAPIWrapper()\n",
        "serper.run(query)"
      ]
    },
    {
      "attachments": {},
      "cell_type": "markdown",
      "metadata": {},
      "source": [
        "## SerPapi API experiments"
      ]
    },
    {
      "attachments": {},
      "cell_type": "markdown",
      "metadata": {},
      "source": [
        "Not good"
      ]
    },
    {
      "cell_type": "code",
      "execution_count": 146,
      "metadata": {},
      "outputs": [
        {
          "data": {
            "text/plain": [
              "'The University of Texas at Dallas is a public research university in Richardson, Texas. It is one of the largest public universities in the Dallas area and the northernmost institution of the University of …New content will be added above the current area of focus upon selectionThe University of Texas at Dallas is a public research university in Richardson, Texas. It is one of the largest public universities in the Dallas area and the northernmost institution of the University of Texas system. It was initially founded in 1961 as a private research arm of Texas Instruments.Wikipediautdallas.edu'"
            ]
          },
          "execution_count": 146,
          "metadata": {},
          "output_type": "execute_result"
        }
      ],
      "source": [
        "from langchain.utilities import SerpAPIWrapper\n",
        "\n",
        "params = {\n",
        "    \"engine\": \"bing\",\n",
        "    \"gl\": \"us\",\n",
        "    \"hl\": \"en\",\n",
        "}\n",
        "serpapi = SerpAPIWrapper(params=params)\n",
        "serpapi.run(query)"
      ]
    },
    {
      "attachments": {},
      "cell_type": "markdown",
      "metadata": {},
      "source": [
        "## Conversational agent for chat models experiments"
      ]
    },
    {
      "cell_type": "code",
      "execution_count": 171,
      "metadata": {},
      "outputs": [],
      "source": [
        "from langchain.agents import load_tools, Tool\n",
        "from langchain.memory import ConversationBufferMemory\n",
        "from langchain.agents import initialize_agent\n",
        "from langchain.agents import AgentType"
      ]
    },
    {
      "cell_type": "code",
      "execution_count": 203,
      "metadata": {},
      "outputs": [],
      "source": [
        "openapi_format_instructions = \"\"\"First, follow the instructons below:\n",
        "\n",
        "Question: the input question you must answer\n",
        "Thought: I will use the LLMChain tool first to try and answer the question. If the answer is insufficient, I will defer to other tools\n",
        "Action: The action to take is the LLMChain tool in [{tool_names}]\n",
        "Action Input: what to instruct the AI Action representative.\n",
        "Observation: The Agent's response\n",
        "\n",
        "Second, follow the format as shown below:\n",
        "Question: the input question you must answer\n",
        "Thought: you should always think about what to do\n",
        "Action: the action to take, should be one of [{tool_names}]\n",
        "Action Input: what to instruct the AI Action representative.\n",
        "Observation: The Agent's response\n",
        "... (this Thought/Action/Action Input/Observation can repeat N times)\n",
        "Thought: I now know the final answer. User can't see any of my observations, API responses, links, or tools.\n",
        "Final Answer: the final answer to the original input question with the right amount of detail\n",
        "\n",
        "When responding with your Final Answer, remember that the person you are responding to CANNOT see any of your \n",
        "Thought/Action/Action Input/Observations, so if there is any relevant information there you need to include it explicitly in your response.\"\"\""
      ]
    },
    {
      "cell_type": "code",
      "execution_count": 209,
      "metadata": {},
      "outputs": [],
      "source": [
        "tools = [\n",
        "    Tool(\n",
        "        name = \"LLMChain\",\n",
        "        func = llm_chain.run,\n",
        "        description = \"Use this to answer questions about the University of Texas at Dallas. If output does not answer the user's question, use the Google search tool\"\n",
        "    ),\n",
        "    Tool(\n",
        "        name = \"Google search\",\n",
        "        func = serper.run,\n",
        "        description = \"Useful for when the LLMChain does not provide a sufficient answer\"\n",
        "    )\n",
        "]"
      ]
    },
    {
      "cell_type": "code",
      "execution_count": 222,
      "metadata": {},
      "outputs": [],
      "source": [
        "memory = ConversationBufferMemory(memory_key=\"chat_history\", return_messages=True)\n",
        "agent_chain = initialize_agent(tools, chat, agent=AgentType.CHAT_CONVERSATIONAL_REACT_DESCRIPTION, verbose=True, memory=memory,\n",
        "                               agent_kwargs={\"format_instructions\": openapi_format_instructions})"
      ]
    },
    {
      "cell_type": "code",
      "execution_count": 223,
      "metadata": {},
      "outputs": [
        {
          "name": "stdout",
          "output_type": "stream",
          "text": [
            "\n",
            "\n",
            "\u001b[1m> Entering new AgentExecutor chain...\u001b[0m\n",
            "\u001b[32;1m\u001b[1;3m{\n",
            "    \"action\": \"Google search\",\n",
            "    \"action_input\": \"University of Texas at Dallas services for students with disabilities\"\n",
            "}\u001b[0m\n",
            "Observation: \u001b[33;1m\u001b[1;3mWelcome to the AccessAbility Resource Center! We provide disability and accessibility services to students and employees at the University of Texas at Dallas. Contact for: Student disability accommodations; campus accessibility resources for students. ... Contact for: Campus resources and services for students. D., pHCLE (972-721-5056; iacosta@udallas.edu). The Director assists in an informal resolution of the complaint or guides the complainant to the appropriate ... The guidelines below are intended to allow SDS to determine eligibility for services and appropriate accommodations. SDS staff are available at (972) 721-5056 ... The office that provides advocacy and arranges for academic support and campus accessibility for students with disabilities is usually called Disability ... Disability Services for Students (DSS) works in partnership with students, faculty, staff, and guests of the University to eliminate or ... While UT Southwestern does not require students to have long-term disability insurance, it is very strongly recommended. The University of Texas at Austin is a bold, ambitious leader, providing a first-class education and the tools of discovery to more than 51000 students. The goal of Disability Services is to provide students with disabilities educational opportunities equal to those of their non-disabled peers. Disability ... “Any student requesting academic accommodations based on a disability is required to register with the Office of Disability Services (ODS) each semester. This ...\u001b[0m\n",
            "Thought:\u001b[32;1m\u001b[1;3m{\n",
            "    \"action\": \"Final Answer\",\n",
            "    \"action_input\": \"The University of Texas at Dallas provides a variety of resources and services for students with disabilities through the AccessAbility Resource Center, including disability accommodations, campus accessibility resources, advocacy, academic support, and tools for equal educational opportunities. Students requesting accommodations based on a disability are required to register each semester with the Office of Disability Services.\"\n",
            "}\u001b[0m\n",
            "\n",
            "\u001b[1m> Finished chain.\u001b[0m\n"
          ]
        },
        {
          "data": {
            "text/plain": [
              "'The University of Texas at Dallas provides a variety of resources and services for students with disabilities through the AccessAbility Resource Center, including disability accommodations, campus accessibility resources, advocacy, academic support, and tools for equal educational opportunities. Students requesting accommodations based on a disability are required to register each semester with the Office of Disability Services.'"
            ]
          },
          "execution_count": 223,
          "metadata": {},
          "output_type": "execute_result"
        }
      ],
      "source": [
        "agent_chain.run(query)"
      ]
    },
    {
      "attachments": {},
      "cell_type": "markdown",
      "metadata": {},
      "source": [
        "## "
      ]
    },
    {
      "attachments": {},
      "cell_type": "markdown",
      "metadata": {},
      "source": [
        "# Initializing Pinecone with Web Crawler data "
      ]
    },
    {
      "cell_type": "code",
      "execution_count": 176,
      "metadata": {},
      "outputs": [],
      "source": [
        "# Only use when switching datasets\n",
        "\n",
        "import pinecone\n",
        "\n",
        "def reset_index():\n",
        "    pinecone.delete_index(PINECONE_INDEX) # pinecone docs says to delete index if deleting all vectors in an index\n",
        "    pinecone.create_index(PINECONE_INDEX, dimension=1536, metric=\"cosine\") # run only once for initial creation\n",
        "\n",
        "#reset_index()"
      ]
    },
    {
      "cell_type": "code",
      "execution_count": 6,
      "metadata": {},
      "outputs": [
        {
          "data": {
            "text/plain": [
              "['chatbot-faq']"
            ]
          },
          "execution_count": 6,
          "metadata": {},
          "output_type": "execute_result"
        }
      ],
      "source": [
        "pinecone.list_indexes()"
      ]
    },
    {
      "cell_type": "code",
      "execution_count": 7,
      "metadata": {},
      "outputs": [],
      "source": [
        "index = pinecone.Index('chatbot-faq')"
      ]
    },
    {
      "cell_type": "code",
      "execution_count": 8,
      "metadata": {},
      "outputs": [
        {
          "data": {
            "text/plain": [
              "{'dimension': 1536,\n",
              " 'index_fullness': 0.0,\n",
              " 'namespaces': {'': {'vector_count': 1009}},\n",
              " 'total_vector_count': 1009}"
            ]
          },
          "execution_count": 8,
          "metadata": {},
          "output_type": "execute_result"
        }
      ],
      "source": [
        "index.describe_index_stats()"
      ]
    },
    {
      "cell_type": "code",
      "execution_count": 9,
      "metadata": {},
      "outputs": [],
      "source": [
        "from langchain.vectorstores import Pinecone\n",
        "from langchain.embeddings import OpenAIEmbeddings\n",
        "\n",
        "vectorstore = Pinecone(index, OpenAIEmbeddings().embed_query, text_key=\"text\")"
      ]
    },
    {
      "attachments": {},
      "cell_type": "markdown",
      "metadata": {},
      "source": [
        "## Conversation Retrieval Chain"
      ]
    },
    {
      "cell_type": "code",
      "execution_count": 41,
      "metadata": {},
      "outputs": [],
      "source": [
        "from langchain.llms import OpenAI\n",
        "from langchain.chains import ConversationalRetrievalChain\n",
        "\n",
        "conv_chain = ConversationalRetrievalChain.from_llm(\n",
        "    OpenAI(temperature=0), \n",
        "    vectorstore.as_retriever(),\n",
        "    return_source_documents=True\n",
        ")"
      ]
    },
    {
      "cell_type": "code",
      "execution_count": 43,
      "metadata": {},
      "outputs": [],
      "source": [
        "chat_history = []\n",
        "query = \"How long until I graduate?\"\n",
        "result = conv_chain({\"question\": query, \"chat_history\": chat_history}) # not sure why it wont work"
      ]
    },
    {
      "cell_type": "code",
      "execution_count": 44,
      "metadata": {},
      "outputs": [
        {
          "data": {
            "text/plain": [
              "{'question': 'How long until I graduate?',\n",
              " 'chat_history': [],\n",
              " 'answer': ' It depends on many variables such as the number of classes you take each semester, enrollment in summer classes, having to repeat classes, missing prerequisites, etc. To determine a possible graduation timeline, consider the following: 1. How many hours of degree requirements remain? 2. How many hours will you take each semester? 3. Can I complete all necessary prerequisites by taking ___ hours each semester? Using your degree plan and flowchart, you can make a tentative plan for classes that you will take each semester until graduation.',\n",
              " 'source_documents': [Document(page_content='Undergraduate Advising\\n>  Advising FAQ\\n\\n$(document).ready(function(){\\n$(\".accordion\").accordion({\\nactive: false,\\ncollapsible: true,\\nheightStyle: \\'content\\'\\n});\\n});\\n\\nAdvising Links\\n\\nAdvising\\nAdvisors\\nProspective Students\\nDegree Resources\\nGraduate Level Courses\\nAdvising FAQ\\nStudent Resources\\n\\nAdvising FAQ\\n\\nSection Links\\n\\nRegistration and Course Selection\\n\\nAcademic Standing\\n\\nTransferring Credits\\n\\nPolicies\\n\\nFast Track\\n\\nFirst Time Freshman\\n\\nMajor/Minor Requirements\\n\\nGraduation\\n\\nInternational and Study Abroad\\n\\nRegistration and Course Selection\\nBack To Top\\n\\nHow long until I graduate?+\\nThere are many variables that impact your graduation timeline such as the number of classes you take each semester, enrollment in summer classes, having to repeat classes, missing prerequisites, etc. To determine a possible graduation timeline, consider the following:\\n1. How many hours of degree requirements remain?\\nUsing your degree plan, you can add up the hours of all classes that remain to figure out', metadata={'faq': False, 'source': 'https://engineering.utdallas.edu/engineering/academics/undergraduate-majors/undergrad-advising/advising-faq/'}),\n",
              "  Document(page_content='Undergraduate Advising\\n>  Advising FAQ\\n\\n$(document).ready(function(){\\n$(\".accordion\").accordion({\\nactive: false,\\ncollapsible: true,\\nheightStyle: \\'content\\'\\n});\\n});\\n\\nAdvising Links\\n\\nAdvising\\nAdvisors\\nProspective Students\\nDegree Resources\\nGraduate Level Courses\\nAdvising FAQ\\nStudent Resources\\n\\nAdvising FAQ\\n\\nSection Links\\n\\nRegistration and Course Selection\\n\\nAcademic Standing\\n\\nTransferring Credits\\n\\nPolicies\\n\\nFast Track\\n\\nFirst Time Freshman\\n\\nMajor/Minor Requirements\\n\\nGraduation\\n\\nInternational and Study Abroad\\n\\nRegistration and Course Selection\\nBack To Top\\n\\nHow long until I graduate?+\\nThere are many variables that impact your graduation timeline such as the number of classes you take each semester, enrollment in summer classes, having to repeat classes, missing prerequisites, etc. To determine a possible graduation timeline, consider the following:\\n1. How many hours of degree requirements remain?\\nUsing your degree plan, you can add up the hours of all classes that remain to figure out', metadata={'faq': False, 'source': 'https://engineering.utdallas.edu/academics/undergraduate-majors/undergrad-advising/advising-faq/'}),\n",
              "  Document(page_content='having to repeat classes, missing prerequisites, etc. To determine a possible graduation timeline, consider the following:\\n1. How many hours of degree requirements remain?\\nUsing your degree plan, you can add up the hours of all classes that remain to figure out this number. 2. How many hours will you take each semester? Remember that 18 is the maximum for fall/spring, and 15 is the max for summer.\\n3. Can I complete all necessary prerequisites by taking ___ hours each semester? Using your flowchart, you can make a tentative plan for classes that you will take each semester until graduation to make sure', metadata={'faq': False, 'source': 'https://engineering.utdallas.edu/engineering/academics/undergraduate-majors/undergrad-advising/advising-faq/'}),\n",
              "  Document(page_content='having to repeat classes, missing prerequisites, etc. To determine a possible graduation timeline, consider the following:\\n1. How many hours of degree requirements remain?\\nUsing your degree plan, you can add up the hours of all classes that remain to figure out this number. 2. How many hours will you take each semester? Remember that 18 is the maximum for fall/spring, and 15 is the max for summer.\\n3. Can I complete all necessary prerequisites by taking ___ hours each semester? Using your flowchart, you can make a tentative plan for classes that you will take each semester until graduation to make sure', metadata={'faq': False, 'source': 'https://engineering.utdallas.edu/academics/undergraduate-majors/undergrad-advising/advising-faq/'})]}"
            ]
          },
          "execution_count": 44,
          "metadata": {},
          "output_type": "execute_result"
        }
      ],
      "source": [
        "result"
      ]
    },
    {
      "attachments": {},
      "cell_type": "markdown",
      "metadata": {},
      "source": [
        "## Question Answering with Sources"
      ]
    },
    {
      "cell_type": "code",
      "execution_count": 195,
      "metadata": {},
      "outputs": [],
      "source": [
        "query = \"How long until I graduate?\"\n",
        "docs = vectorstore.similarity_search(query)"
      ]
    },
    {
      "cell_type": "code",
      "execution_count": 196,
      "metadata": {},
      "outputs": [
        {
          "data": {
            "text/plain": [
              "{'output_text': ' The length of time until graduation depends on many variables such as the number of classes taken each semester, enrollment in summer classes, having to repeat classes, missing prerequisites, etc.\\nSOURCES: https://engineering.utdallas.edu/engineering/academics/undergraduate-majors/undergrad-advising/advising-faq/, https://engineering.utdallas.edu/academics/undergraduate-majors/undergrad-advising/advising-faq/'}"
            ]
          },
          "execution_count": 196,
          "metadata": {},
          "output_type": "execute_result"
        }
      ],
      "source": [
        "from langchain.chains.qa_with_sources import load_qa_with_sources_chain\n",
        "\n",
        "chain = load_qa_with_sources_chain(OpenAI(temperature=0), chain_type=\"stuff\")\n",
        "query = \"How long until I graduate?\"\n",
        "chain({\"input_documents\": docs, \"question\": query}, return_only_outputs=True)"
      ]
    },
    {
      "attachments": {},
      "cell_type": "markdown",
      "metadata": {},
      "source": [
        "## Retrieval Question/Answering"
      ]
    },
    {
      "cell_type": "code",
      "execution_count": 10,
      "metadata": {},
      "outputs": [],
      "source": [
        "from langchain.prompts import PromptTemplate\n",
        "\n",
        "prompt_template = ROLE_PROMPT + \"\"\"\n",
        "\n",
        "{context}\n",
        "\n",
        "Question: {question}\n",
        "Answer truthfully, do not make up answers or sources: \"\"\"\n",
        "PROMPT = PromptTemplate(\n",
        "    template=prompt_template, input_variables=[\"context\", \"question\"]\n",
        ")"
      ]
    },
    {
      "cell_type": "code",
      "execution_count": 12,
      "metadata": {},
      "outputs": [],
      "source": [
        "from langchain.chains import RetrievalQA\n",
        "from langchain.llms import OpenAI\n",
        "\n",
        "chain_type_kwargs = {\"prompt\": PROMPT}\n",
        "qa = RetrievalQA.from_chain_type(\n",
        "    llm=OpenAI(),\n",
        "    chain_type=\"stuff\",\n",
        "    retriever=vectorstore.as_retriever(),\n",
        "    #chain_type_kwargs=chain_type_kwargs,\n",
        "    #return_source_documents=True\n",
        ")"
      ]
    },
    {
      "cell_type": "code",
      "execution_count": 200,
      "metadata": {},
      "outputs": [],
      "source": [
        "result = qa({\"query\": \"How long until I graduate?\"})"
      ]
    },
    {
      "cell_type": "code",
      "execution_count": 201,
      "metadata": {},
      "outputs": [
        {
          "data": {
            "text/plain": [
              "{'query': 'How long until I graduate?',\n",
              " 'result': '\\n\\nThe amount of time it takes to complete your degree requirements and graduate depends on a variety of factors, such as the number of classes you take each semester, whether or not you have to repeat classes, or if you need to complete any prerequisites. To determine a possible timeline for your graduation, it is important to consider how many hours of degree requirements remain, how many hours you will take each semester, and if you can complete all necessary prerequisites by taking a certain number of hours each semester. \\n\\nTo begin, take a look at your degree plan and add up the hours of all classes remaining to figure out the total number of hours needed for graduation. Then, make sure to keep in mind the maximum hours for fall/spring is 18, and for summer is 15. Using your degree flowchart, you can make a tentative plan for classes that you will take each semester until graduation. \\n\\nFor more information on advising and registration, please review the University of Texas at Dallas’s website for Undergraduate Advising: https://www.utdallas.edu/services/advising/undergraduate/index.php. You can also contact your academic advisor or visit the Academic Advising page: https://www.utdallas',\n",
              " 'source_documents': [Document(page_content='Undergraduate Advising\\n>  Advising FAQ\\n\\n$(document).ready(function(){\\n$(\".accordion\").accordion({\\nactive: false,\\ncollapsible: true,\\nheightStyle: \\'content\\'\\n});\\n});\\n\\nAdvising Links\\n\\nAdvising\\nAdvisors\\nProspective Students\\nDegree Resources\\nGraduate Level Courses\\nAdvising FAQ\\nStudent Resources\\n\\nAdvising FAQ\\n\\nSection Links\\n\\nRegistration and Course Selection\\n\\nAcademic Standing\\n\\nTransferring Credits\\n\\nPolicies\\n\\nFast Track\\n\\nFirst Time Freshman\\n\\nMajor/Minor Requirements\\n\\nGraduation\\n\\nInternational and Study Abroad\\n\\nRegistration and Course Selection\\nBack To Top\\n\\nHow long until I graduate?+\\nThere are many variables that impact your graduation timeline such as the number of classes you take each semester, enrollment in summer classes, having to repeat classes, missing prerequisites, etc. To determine a possible graduation timeline, consider the following:\\n1. How many hours of degree requirements remain?\\nUsing your degree plan, you can add up the hours of all classes that remain to figure out', metadata={'faq': False, 'source': 'https://engineering.utdallas.edu/engineering/academics/undergraduate-majors/undergrad-advising/advising-faq/'}),\n",
              "  Document(page_content='Undergraduate Advising\\n>  Advising FAQ\\n\\n$(document).ready(function(){\\n$(\".accordion\").accordion({\\nactive: false,\\ncollapsible: true,\\nheightStyle: \\'content\\'\\n});\\n});\\n\\nAdvising Links\\n\\nAdvising\\nAdvisors\\nProspective Students\\nDegree Resources\\nGraduate Level Courses\\nAdvising FAQ\\nStudent Resources\\n\\nAdvising FAQ\\n\\nSection Links\\n\\nRegistration and Course Selection\\n\\nAcademic Standing\\n\\nTransferring Credits\\n\\nPolicies\\n\\nFast Track\\n\\nFirst Time Freshman\\n\\nMajor/Minor Requirements\\n\\nGraduation\\n\\nInternational and Study Abroad\\n\\nRegistration and Course Selection\\nBack To Top\\n\\nHow long until I graduate?+\\nThere are many variables that impact your graduation timeline such as the number of classes you take each semester, enrollment in summer classes, having to repeat classes, missing prerequisites, etc. To determine a possible graduation timeline, consider the following:\\n1. How many hours of degree requirements remain?\\nUsing your degree plan, you can add up the hours of all classes that remain to figure out', metadata={'faq': False, 'source': 'https://engineering.utdallas.edu/academics/undergraduate-majors/undergrad-advising/advising-faq/'}),\n",
              "  Document(page_content='having to repeat classes, missing prerequisites, etc. To determine a possible graduation timeline, consider the following:\\n1. How many hours of degree requirements remain?\\nUsing your degree plan, you can add up the hours of all classes that remain to figure out this number. 2. How many hours will you take each semester? Remember that 18 is the maximum for fall/spring, and 15 is the max for summer.\\n3. Can I complete all necessary prerequisites by taking ___ hours each semester? Using your flowchart, you can make a tentative plan for classes that you will take each semester until graduation to make sure', metadata={'faq': False, 'source': 'https://engineering.utdallas.edu/engineering/academics/undergraduate-majors/undergrad-advising/advising-faq/'}),\n",
              "  Document(page_content='having to repeat classes, missing prerequisites, etc. To determine a possible graduation timeline, consider the following:\\n1. How many hours of degree requirements remain?\\nUsing your degree plan, you can add up the hours of all classes that remain to figure out this number. 2. How many hours will you take each semester? Remember that 18 is the maximum for fall/spring, and 15 is the max for summer.\\n3. Can I complete all necessary prerequisites by taking ___ hours each semester? Using your flowchart, you can make a tentative plan for classes that you will take each semester until graduation to make sure', metadata={'faq': False, 'source': 'https://engineering.utdallas.edu/academics/undergraduate-majors/undergrad-advising/advising-faq/'})]}"
            ]
          },
          "execution_count": 201,
          "metadata": {},
          "output_type": "execute_result"
        }
      ],
      "source": [
        "result"
      ]
    },
    {
      "cell_type": "code",
      "execution_count": 150,
      "metadata": {},
      "outputs": [
        {
          "name": "stdout",
          "output_type": "stream",
          "text": [
            "\n",
            "Comet Giving Days is a University of Texas at Dallas annual campaign which raises funds for student scholarships and university initiatives. The 2021 Comet Giving Days will take place from April 11th - April 16th. For more information, please visit the UTD Comet Giving Days website.\n"
          ]
        }
      ],
      "source": [
        "print(result['result'])"
      ]
    },
    {
      "attachments": {},
      "cell_type": "markdown",
      "metadata": {},
      "source": [
        "## Agent with Vectorstore"
      ]
    },
    {
      "cell_type": "code",
      "execution_count": 49,
      "metadata": {},
      "outputs": [],
      "source": [
        "from langchain.agents import Tool, initialize_agent, AgentType\n",
        "from langchain.memory import ConversationBufferMemory\n",
        "from langchain.chat_models import ChatOpenAI\n",
        "from langchain.utilities import GoogleSerperAPIWrapper\n",
        "\n",
        "search = GoogleSerperAPIWrapper()\n",
        "tools = [\n",
        "    Tool(\n",
        "        name = \"QA\",\n",
        "        func = conv_chain.run,\n",
        "        description = \"Useful to answer academic questions about the University of Texas at Dallas\"\n",
        "    ),\n",
        "    Tool(\n",
        "        name = \"Search\",\n",
        "        func = search.run,\n",
        "        description = \"Use this to double check if a website link is valid\"\n",
        "    )\n",
        "]"
      ]
    },
    {
      "cell_type": "code",
      "execution_count": 15,
      "metadata": {},
      "outputs": [],
      "source": [
        "memory = ConversationBufferMemory(memory_key=\"chat_history\", return_messages=True)"
      ]
    },
    {
      "cell_type": "code",
      "execution_count": 16,
      "metadata": {},
      "outputs": [],
      "source": [
        "chat = ChatOpenAI()"
      ]
    },
    {
      "cell_type": "code",
      "execution_count": 50,
      "metadata": {},
      "outputs": [],
      "source": [
        "agent = initialize_agent(tools, chat, agent=AgentType.CHAT_CONVERSATIONAL_REACT_DESCRIPTION, verbose=True, memory=memory)"
      ]
    },
    {
      "cell_type": "code",
      "execution_count": 51,
      "metadata": {},
      "outputs": [
        {
          "name": "stdout",
          "output_type": "stream",
          "text": [
            "\n",
            "\n",
            "\u001b[1m> Entering new AgentExecutor chain...\u001b[0m\n",
            "\u001b[32;1m\u001b[1;3m{\n",
            "    \"action\": \"Search\",\n",
            "    \"action_input\": \"https://engineering.utdallas.edu/engineering/academics/undergraduate-majors/undergrad-advising/advising-faq/\"\n",
            "}\u001b[0m\n",
            "Observation: \u001b[33;1m\u001b[1;3mVisit our Frequently Asked Questions (FAQ) page. For information about courses and prerequisites, review our degree plans and flowcharts. For ... Advising FAQ. Section Links. Registration and Course Selection; Academic Standing ... Major/Minor Requirements; Graduation; International and Study Abroad. Open the Sections Below to Find Your Assigned Advisor. Please email all registration requests to ecs_registration@utdallas.edu. Advisors for Biomedical ... Undergraduate Majors · Advising · Advisors · Prospective Students · Degree Resources · Graduate ... The department reviews the master's degree plans and approves. Undergraduate Majors · Advising · Advisors · Prospective Students · Degree ... Professor Jorge Cobb Director of Graduate Advising Office: ECS 4.208 972-883-2749 ; Professor Tim Farage Graduate Academic Advisor Office: ECS 3.609 972-883-4836 Transfer + · Meet with your assigned UT Dallas academic advisor based on last name and major when you first start at the community college. Jonsson School Home > Academics > Undergraduate Majors > Office of Undergraduate Advising > Fast Track Admissions: S.E.. Software Engineering ... COVID-19. UTD is here to support you in your time of need. · Academic Support. Did you know that the Computer Science Department has its own ... Contact your academic advising department, based on the school in which you are ... ECS Advising (https://engineering.utdallas.edu/engineering/academics/ ...\u001b[0m\n",
            "Thought:\u001b[32;1m\u001b[1;3m{\n",
            "    \"action\": \"Final Answer\",\n",
            "    \"action_input\": \"Based on the website you provided, I was not able to determine the specific details of what you are asking for. If you provide me with more information or a specific question, I would be happy to try and assist you.\"\n",
            "}\u001b[0m\n",
            "\n",
            "\u001b[1m> Finished chain.\u001b[0m\n"
          ]
        },
        {
          "data": {
            "text/plain": [
              "'Based on the website you provided, I was not able to determine the specific details of what you are asking for. If you provide me with more information or a specific question, I would be happy to try and assist you.'"
            ]
          },
          "execution_count": 51,
          "metadata": {},
          "output_type": "execute_result"
        }
      ],
      "source": [
        "agent.run(input=\"https://engineering.utdallas.edu/engineering/academics/undergraduate-majors/undergrad-advising/advising-faq/\")"
      ]
    }
  ],
  "metadata": {
    "colab": {
      "provenance": []
    },
    "kernelspec": {
      "display_name": "Python 3",
      "name": "python3"
    },
    "language_info": {
      "codemirror_mode": {
        "name": "ipython",
        "version": 3
      },
      "file_extension": ".py",
      "mimetype": "text/x-python",
      "name": "python",
      "nbconvert_exporter": "python",
      "pygments_lexer": "ipython3",
      "version": "3.9.16"
    },
    "widgets": {
      "application/vnd.jupyter.widget-state+json": {
        "0fa3ed68cd9b419cbffddaea49f083e8": {
          "model_module": "@jupyter-widgets/controls",
          "model_module_version": "1.5.0",
          "model_name": "HBoxModel",
          "state": {
            "_dom_classes": [],
            "_model_module": "@jupyter-widgets/controls",
            "_model_module_version": "1.5.0",
            "_model_name": "HBoxModel",
            "_view_count": null,
            "_view_module": "@jupyter-widgets/controls",
            "_view_module_version": "1.5.0",
            "_view_name": "HBoxView",
            "box_style": "",
            "children": [
              "IPY_MODEL_b0631a28cce9454389cf5370b39a16f4",
              "IPY_MODEL_649170cd22d14057a23759bb93a57231",
              "IPY_MODEL_4c2554ab4ed446ac8f11f6e08c211589"
            ],
            "layout": "IPY_MODEL_53f3e4c3d219438b97efe61c160e2684"
          }
        },
        "138d6dbea5504406947034d4cedd8741": {
          "model_module": "@jupyter-widgets/base",
          "model_module_version": "1.2.0",
          "model_name": "LayoutModel",
          "state": {
            "_model_module": "@jupyter-widgets/base",
            "_model_module_version": "1.2.0",
            "_model_name": "LayoutModel",
            "_view_count": null,
            "_view_module": "@jupyter-widgets/base",
            "_view_module_version": "1.2.0",
            "_view_name": "LayoutView",
            "align_content": null,
            "align_items": null,
            "align_self": null,
            "border": null,
            "bottom": null,
            "display": null,
            "flex": null,
            "flex_flow": null,
            "grid_area": null,
            "grid_auto_columns": null,
            "grid_auto_flow": null,
            "grid_auto_rows": null,
            "grid_column": null,
            "grid_gap": null,
            "grid_row": null,
            "grid_template_areas": null,
            "grid_template_columns": null,
            "grid_template_rows": null,
            "height": null,
            "justify_content": null,
            "justify_items": null,
            "left": null,
            "margin": null,
            "max_height": null,
            "max_width": null,
            "min_height": null,
            "min_width": null,
            "object_fit": null,
            "object_position": null,
            "order": null,
            "overflow": null,
            "overflow_x": null,
            "overflow_y": null,
            "padding": null,
            "right": null,
            "top": null,
            "visibility": null,
            "width": null
          }
        },
        "139776c5ac854b68bb5ddf2f6598ad49": {
          "model_module": "@jupyter-widgets/controls",
          "model_module_version": "1.5.0",
          "model_name": "HTMLModel",
          "state": {
            "_dom_classes": [],
            "_model_module": "@jupyter-widgets/controls",
            "_model_module_version": "1.5.0",
            "_model_name": "HTMLModel",
            "_view_count": null,
            "_view_module": "@jupyter-widgets/controls",
            "_view_module_version": "1.5.0",
            "_view_name": "HTMLView",
            "description": "",
            "description_tooltip": null,
            "layout": "IPY_MODEL_372fbd32f7604fca889e335bbb6cfd43",
            "placeholder": "​",
            "style": "IPY_MODEL_38f1a75eee5242f7822bd602b0e83066",
            "value": " 1/1 [00:00&lt;00:00, 19.72it/s]"
          }
        },
        "1922a14a1c924d2bbe2d1e6e73bee57d": {
          "model_module": "@jupyter-widgets/base",
          "model_module_version": "1.2.0",
          "model_name": "LayoutModel",
          "state": {
            "_model_module": "@jupyter-widgets/base",
            "_model_module_version": "1.2.0",
            "_model_name": "LayoutModel",
            "_view_count": null,
            "_view_module": "@jupyter-widgets/base",
            "_view_module_version": "1.2.0",
            "_view_name": "LayoutView",
            "align_content": null,
            "align_items": null,
            "align_self": null,
            "border": null,
            "bottom": null,
            "display": null,
            "flex": null,
            "flex_flow": null,
            "grid_area": null,
            "grid_auto_columns": null,
            "grid_auto_flow": null,
            "grid_auto_rows": null,
            "grid_column": null,
            "grid_gap": null,
            "grid_row": null,
            "grid_template_areas": null,
            "grid_template_columns": null,
            "grid_template_rows": null,
            "height": null,
            "justify_content": null,
            "justify_items": null,
            "left": null,
            "margin": null,
            "max_height": null,
            "max_width": null,
            "min_height": null,
            "min_width": null,
            "object_fit": null,
            "object_position": null,
            "order": null,
            "overflow": null,
            "overflow_x": null,
            "overflow_y": null,
            "padding": null,
            "right": null,
            "top": null,
            "visibility": null,
            "width": null
          }
        },
        "1ced4980e197451a96f01ce12cb70fb9": {
          "model_module": "@jupyter-widgets/controls",
          "model_module_version": "1.5.0",
          "model_name": "HTMLModel",
          "state": {
            "_dom_classes": [],
            "_model_module": "@jupyter-widgets/controls",
            "_model_module_version": "1.5.0",
            "_model_name": "HTMLModel",
            "_view_count": null,
            "_view_module": "@jupyter-widgets/controls",
            "_view_module_version": "1.5.0",
            "_view_name": "HTMLView",
            "description": "",
            "description_tooltip": null,
            "layout": "IPY_MODEL_9065621235744a1abb78b1531a7682f8",
            "placeholder": "​",
            "style": "IPY_MODEL_f83081c05d0f423ebc69cecf49bde4ee",
            "value": " 0/156 [00:00&lt;?, ? examples/s]"
          }
        },
        "1dcaa7d7cb824bd2865c2b9445cc816e": {
          "model_module": "@jupyter-widgets/controls",
          "model_module_version": "1.5.0",
          "model_name": "DescriptionStyleModel",
          "state": {
            "_model_module": "@jupyter-widgets/controls",
            "_model_module_version": "1.5.0",
            "_model_name": "DescriptionStyleModel",
            "_view_count": null,
            "_view_module": "@jupyter-widgets/base",
            "_view_module_version": "1.2.0",
            "_view_name": "StyleView",
            "description_width": ""
          }
        },
        "1dec84c7945043d4807160e37b2ad285": {
          "model_module": "@jupyter-widgets/controls",
          "model_module_version": "1.5.0",
          "model_name": "HTMLModel",
          "state": {
            "_dom_classes": [],
            "_model_module": "@jupyter-widgets/controls",
            "_model_module_version": "1.5.0",
            "_model_name": "HTMLModel",
            "_view_count": null,
            "_view_module": "@jupyter-widgets/controls",
            "_view_module_version": "1.5.0",
            "_view_name": "HTMLView",
            "description": "",
            "description_tooltip": null,
            "layout": "IPY_MODEL_f4866e9b16c74e20b3004ce5841937a6",
            "placeholder": "​",
            "style": "IPY_MODEL_69c89a821eb84e1a9b6ac156b9a60b0d",
            "value": "100%"
          }
        },
        "1e3434cfdd1743dfbbf1b4b05b9b8d18": {
          "model_module": "@jupyter-widgets/base",
          "model_module_version": "1.2.0",
          "model_name": "LayoutModel",
          "state": {
            "_model_module": "@jupyter-widgets/base",
            "_model_module_version": "1.2.0",
            "_model_name": "LayoutModel",
            "_view_count": null,
            "_view_module": "@jupyter-widgets/base",
            "_view_module_version": "1.2.0",
            "_view_name": "LayoutView",
            "align_content": null,
            "align_items": null,
            "align_self": null,
            "border": null,
            "bottom": null,
            "display": null,
            "flex": null,
            "flex_flow": null,
            "grid_area": null,
            "grid_auto_columns": null,
            "grid_auto_flow": null,
            "grid_auto_rows": null,
            "grid_column": null,
            "grid_gap": null,
            "grid_row": null,
            "grid_template_areas": null,
            "grid_template_columns": null,
            "grid_template_rows": null,
            "height": null,
            "justify_content": null,
            "justify_items": null,
            "left": null,
            "margin": null,
            "max_height": null,
            "max_width": null,
            "min_height": null,
            "min_width": null,
            "object_fit": null,
            "object_position": null,
            "order": null,
            "overflow": null,
            "overflow_x": null,
            "overflow_y": null,
            "padding": null,
            "right": null,
            "top": null,
            "visibility": null,
            "width": null
          }
        },
        "322c961d4bec46ce9531db1b5fc634eb": {
          "model_module": "@jupyter-widgets/base",
          "model_module_version": "1.2.0",
          "model_name": "LayoutModel",
          "state": {
            "_model_module": "@jupyter-widgets/base",
            "_model_module_version": "1.2.0",
            "_model_name": "LayoutModel",
            "_view_count": null,
            "_view_module": "@jupyter-widgets/base",
            "_view_module_version": "1.2.0",
            "_view_name": "LayoutView",
            "align_content": null,
            "align_items": null,
            "align_self": null,
            "border": null,
            "bottom": null,
            "display": null,
            "flex": null,
            "flex_flow": null,
            "grid_area": null,
            "grid_auto_columns": null,
            "grid_auto_flow": null,
            "grid_auto_rows": null,
            "grid_column": null,
            "grid_gap": null,
            "grid_row": null,
            "grid_template_areas": null,
            "grid_template_columns": null,
            "grid_template_rows": null,
            "height": null,
            "justify_content": null,
            "justify_items": null,
            "left": null,
            "margin": null,
            "max_height": null,
            "max_width": null,
            "min_height": null,
            "min_width": null,
            "object_fit": null,
            "object_position": null,
            "order": null,
            "overflow": null,
            "overflow_x": null,
            "overflow_y": null,
            "padding": null,
            "right": null,
            "top": null,
            "visibility": null,
            "width": null
          }
        },
        "32fb05f87eb64f70a733eac7b936111d": {
          "model_module": "@jupyter-widgets/base",
          "model_module_version": "1.2.0",
          "model_name": "LayoutModel",
          "state": {
            "_model_module": "@jupyter-widgets/base",
            "_model_module_version": "1.2.0",
            "_model_name": "LayoutModel",
            "_view_count": null,
            "_view_module": "@jupyter-widgets/base",
            "_view_module_version": "1.2.0",
            "_view_name": "LayoutView",
            "align_content": null,
            "align_items": null,
            "align_self": null,
            "border": null,
            "bottom": null,
            "display": null,
            "flex": null,
            "flex_flow": null,
            "grid_area": null,
            "grid_auto_columns": null,
            "grid_auto_flow": null,
            "grid_auto_rows": null,
            "grid_column": null,
            "grid_gap": null,
            "grid_row": null,
            "grid_template_areas": null,
            "grid_template_columns": null,
            "grid_template_rows": null,
            "height": null,
            "justify_content": null,
            "justify_items": null,
            "left": null,
            "margin": null,
            "max_height": null,
            "max_width": null,
            "min_height": null,
            "min_width": null,
            "object_fit": null,
            "object_position": null,
            "order": null,
            "overflow": null,
            "overflow_x": null,
            "overflow_y": null,
            "padding": null,
            "right": null,
            "top": null,
            "visibility": null,
            "width": null
          }
        },
        "34b180d200784d2994cbfeb6b7c32893": {
          "model_module": "@jupyter-widgets/base",
          "model_module_version": "1.2.0",
          "model_name": "LayoutModel",
          "state": {
            "_model_module": "@jupyter-widgets/base",
            "_model_module_version": "1.2.0",
            "_model_name": "LayoutModel",
            "_view_count": null,
            "_view_module": "@jupyter-widgets/base",
            "_view_module_version": "1.2.0",
            "_view_name": "LayoutView",
            "align_content": null,
            "align_items": null,
            "align_self": null,
            "border": null,
            "bottom": null,
            "display": null,
            "flex": null,
            "flex_flow": null,
            "grid_area": null,
            "grid_auto_columns": null,
            "grid_auto_flow": null,
            "grid_auto_rows": null,
            "grid_column": null,
            "grid_gap": null,
            "grid_row": null,
            "grid_template_areas": null,
            "grid_template_columns": null,
            "grid_template_rows": null,
            "height": null,
            "justify_content": null,
            "justify_items": null,
            "left": null,
            "margin": null,
            "max_height": null,
            "max_width": null,
            "min_height": null,
            "min_width": null,
            "object_fit": null,
            "object_position": null,
            "order": null,
            "overflow": null,
            "overflow_x": null,
            "overflow_y": null,
            "padding": null,
            "right": null,
            "top": null,
            "visibility": null,
            "width": null
          }
        },
        "3689e51b91d14d25a74171a8e85e5ba6": {
          "model_module": "@jupyter-widgets/base",
          "model_module_version": "1.2.0",
          "model_name": "LayoutModel",
          "state": {
            "_model_module": "@jupyter-widgets/base",
            "_model_module_version": "1.2.0",
            "_model_name": "LayoutModel",
            "_view_count": null,
            "_view_module": "@jupyter-widgets/base",
            "_view_module_version": "1.2.0",
            "_view_name": "LayoutView",
            "align_content": null,
            "align_items": null,
            "align_self": null,
            "border": null,
            "bottom": null,
            "display": null,
            "flex": null,
            "flex_flow": null,
            "grid_area": null,
            "grid_auto_columns": null,
            "grid_auto_flow": null,
            "grid_auto_rows": null,
            "grid_column": null,
            "grid_gap": null,
            "grid_row": null,
            "grid_template_areas": null,
            "grid_template_columns": null,
            "grid_template_rows": null,
            "height": null,
            "justify_content": null,
            "justify_items": null,
            "left": null,
            "margin": null,
            "max_height": null,
            "max_width": null,
            "min_height": null,
            "min_width": null,
            "object_fit": null,
            "object_position": null,
            "order": null,
            "overflow": null,
            "overflow_x": null,
            "overflow_y": null,
            "padding": null,
            "right": null,
            "top": null,
            "visibility": null,
            "width": null
          }
        },
        "372fbd32f7604fca889e335bbb6cfd43": {
          "model_module": "@jupyter-widgets/base",
          "model_module_version": "1.2.0",
          "model_name": "LayoutModel",
          "state": {
            "_model_module": "@jupyter-widgets/base",
            "_model_module_version": "1.2.0",
            "_model_name": "LayoutModel",
            "_view_count": null,
            "_view_module": "@jupyter-widgets/base",
            "_view_module_version": "1.2.0",
            "_view_name": "LayoutView",
            "align_content": null,
            "align_items": null,
            "align_self": null,
            "border": null,
            "bottom": null,
            "display": null,
            "flex": null,
            "flex_flow": null,
            "grid_area": null,
            "grid_auto_columns": null,
            "grid_auto_flow": null,
            "grid_auto_rows": null,
            "grid_column": null,
            "grid_gap": null,
            "grid_row": null,
            "grid_template_areas": null,
            "grid_template_columns": null,
            "grid_template_rows": null,
            "height": null,
            "justify_content": null,
            "justify_items": null,
            "left": null,
            "margin": null,
            "max_height": null,
            "max_width": null,
            "min_height": null,
            "min_width": null,
            "object_fit": null,
            "object_position": null,
            "order": null,
            "overflow": null,
            "overflow_x": null,
            "overflow_y": null,
            "padding": null,
            "right": null,
            "top": null,
            "visibility": null,
            "width": null
          }
        },
        "38f1a75eee5242f7822bd602b0e83066": {
          "model_module": "@jupyter-widgets/controls",
          "model_module_version": "1.5.0",
          "model_name": "DescriptionStyleModel",
          "state": {
            "_model_module": "@jupyter-widgets/controls",
            "_model_module_version": "1.5.0",
            "_model_name": "DescriptionStyleModel",
            "_view_count": null,
            "_view_module": "@jupyter-widgets/base",
            "_view_module_version": "1.2.0",
            "_view_name": "StyleView",
            "description_width": ""
          }
        },
        "3de0f65b615146bcb328d03edd74e476": {
          "model_module": "@jupyter-widgets/controls",
          "model_module_version": "1.5.0",
          "model_name": "DescriptionStyleModel",
          "state": {
            "_model_module": "@jupyter-widgets/controls",
            "_model_module_version": "1.5.0",
            "_model_name": "DescriptionStyleModel",
            "_view_count": null,
            "_view_module": "@jupyter-widgets/base",
            "_view_module_version": "1.2.0",
            "_view_name": "StyleView",
            "description_width": ""
          }
        },
        "48e181c839e0486cb3c3e695b01bfb11": {
          "model_module": "@jupyter-widgets/controls",
          "model_module_version": "1.5.0",
          "model_name": "DescriptionStyleModel",
          "state": {
            "_model_module": "@jupyter-widgets/controls",
            "_model_module_version": "1.5.0",
            "_model_name": "DescriptionStyleModel",
            "_view_count": null,
            "_view_module": "@jupyter-widgets/base",
            "_view_module_version": "1.2.0",
            "_view_name": "StyleView",
            "description_width": ""
          }
        },
        "4b485e6e86fd40de8d58a82031390733": {
          "model_module": "@jupyter-widgets/controls",
          "model_module_version": "1.5.0",
          "model_name": "DescriptionStyleModel",
          "state": {
            "_model_module": "@jupyter-widgets/controls",
            "_model_module_version": "1.5.0",
            "_model_name": "DescriptionStyleModel",
            "_view_count": null,
            "_view_module": "@jupyter-widgets/base",
            "_view_module_version": "1.2.0",
            "_view_name": "StyleView",
            "description_width": ""
          }
        },
        "4c2554ab4ed446ac8f11f6e08c211589": {
          "model_module": "@jupyter-widgets/controls",
          "model_module_version": "1.5.0",
          "model_name": "HTMLModel",
          "state": {
            "_dom_classes": [],
            "_model_module": "@jupyter-widgets/controls",
            "_model_module_version": "1.5.0",
            "_model_name": "HTMLModel",
            "_view_count": null,
            "_view_module": "@jupyter-widgets/controls",
            "_view_module_version": "1.5.0",
            "_view_name": "HTMLView",
            "description": "",
            "description_tooltip": null,
            "layout": "IPY_MODEL_322c961d4bec46ce9531db1b5fc634eb",
            "placeholder": "​",
            "style": "IPY_MODEL_904b26a4b07043ae8ae44b4149f35a66",
            "value": " 0/156 [00:00&lt;?, ? examples/s]"
          }
        },
        "514c19e8d4e8442ab48a8e94cdaa63c0": {
          "model_module": "@jupyter-widgets/controls",
          "model_module_version": "1.5.0",
          "model_name": "HTMLModel",
          "state": {
            "_dom_classes": [],
            "_model_module": "@jupyter-widgets/controls",
            "_model_module_version": "1.5.0",
            "_model_name": "HTMLModel",
            "_view_count": null,
            "_view_module": "@jupyter-widgets/controls",
            "_view_module_version": "1.5.0",
            "_view_name": "HTMLView",
            "description": "",
            "description_tooltip": null,
            "layout": "IPY_MODEL_3689e51b91d14d25a74171a8e85e5ba6",
            "placeholder": "​",
            "style": "IPY_MODEL_e9809ae282c74f5caef02a9162ade72c",
            "value": "Filter:   0%"
          }
        },
        "53f3e4c3d219438b97efe61c160e2684": {
          "model_module": "@jupyter-widgets/base",
          "model_module_version": "1.2.0",
          "model_name": "LayoutModel",
          "state": {
            "_model_module": "@jupyter-widgets/base",
            "_model_module_version": "1.2.0",
            "_model_name": "LayoutModel",
            "_view_count": null,
            "_view_module": "@jupyter-widgets/base",
            "_view_module_version": "1.2.0",
            "_view_name": "LayoutView",
            "align_content": null,
            "align_items": null,
            "align_self": null,
            "border": null,
            "bottom": null,
            "display": null,
            "flex": null,
            "flex_flow": null,
            "grid_area": null,
            "grid_auto_columns": null,
            "grid_auto_flow": null,
            "grid_auto_rows": null,
            "grid_column": null,
            "grid_gap": null,
            "grid_row": null,
            "grid_template_areas": null,
            "grid_template_columns": null,
            "grid_template_rows": null,
            "height": null,
            "justify_content": null,
            "justify_items": null,
            "left": null,
            "margin": null,
            "max_height": null,
            "max_width": null,
            "min_height": null,
            "min_width": null,
            "object_fit": null,
            "object_position": null,
            "order": null,
            "overflow": null,
            "overflow_x": null,
            "overflow_y": null,
            "padding": null,
            "right": null,
            "top": null,
            "visibility": "hidden",
            "width": null
          }
        },
        "5f1265ff6909436abcfda2fc92a2b44d": {
          "model_module": "@jupyter-widgets/controls",
          "model_module_version": "1.5.0",
          "model_name": "HBoxModel",
          "state": {
            "_dom_classes": [],
            "_model_module": "@jupyter-widgets/controls",
            "_model_module_version": "1.5.0",
            "_model_name": "HBoxModel",
            "_view_count": null,
            "_view_module": "@jupyter-widgets/controls",
            "_view_module_version": "1.5.0",
            "_view_name": "HBoxView",
            "box_style": "",
            "children": [
              "IPY_MODEL_c76545b740c64546b484b698faffd2b2",
              "IPY_MODEL_8f521f0c55a64ce2a4452af788e9dedb",
              "IPY_MODEL_b5ce9c3d71d34440a1124df805764358"
            ],
            "layout": "IPY_MODEL_727b19b5fd6e4aa9801203bd24d97f2c"
          }
        },
        "649170cd22d14057a23759bb93a57231": {
          "model_module": "@jupyter-widgets/controls",
          "model_module_version": "1.5.0",
          "model_name": "FloatProgressModel",
          "state": {
            "_dom_classes": [],
            "_model_module": "@jupyter-widgets/controls",
            "_model_module_version": "1.5.0",
            "_model_name": "FloatProgressModel",
            "_view_count": null,
            "_view_module": "@jupyter-widgets/controls",
            "_view_module_version": "1.5.0",
            "_view_name": "ProgressView",
            "bar_style": "",
            "description": "",
            "description_tooltip": null,
            "layout": "IPY_MODEL_b3cd16658c414912bd6549957c620db2",
            "max": 156,
            "min": 0,
            "orientation": "horizontal",
            "style": "IPY_MODEL_ee6ada637c8b49c2842afedd3dc75020",
            "value": 156
          }
        },
        "65b8d0de36044e21b89eb605ca3cc3ef": {
          "model_module": "@jupyter-widgets/controls",
          "model_module_version": "1.5.0",
          "model_name": "ProgressStyleModel",
          "state": {
            "_model_module": "@jupyter-widgets/controls",
            "_model_module_version": "1.5.0",
            "_model_name": "ProgressStyleModel",
            "_view_count": null,
            "_view_module": "@jupyter-widgets/base",
            "_view_module_version": "1.2.0",
            "_view_name": "StyleView",
            "bar_color": null,
            "description_width": ""
          }
        },
        "672a39f3da4447f287264d51b59d395b": {
          "model_module": "@jupyter-widgets/controls",
          "model_module_version": "1.5.0",
          "model_name": "HTMLModel",
          "state": {
            "_dom_classes": [],
            "_model_module": "@jupyter-widgets/controls",
            "_model_module_version": "1.5.0",
            "_model_name": "HTMLModel",
            "_view_count": null,
            "_view_module": "@jupyter-widgets/controls",
            "_view_module_version": "1.5.0",
            "_view_name": "HTMLView",
            "description": "",
            "description_tooltip": null,
            "layout": "IPY_MODEL_a178d051ff8044e8b659fb9d17df3fd0",
            "placeholder": "​",
            "style": "IPY_MODEL_48e181c839e0486cb3c3e695b01bfb11",
            "value": "Filter:   0%"
          }
        },
        "69297820b9e84a5f96663d664a199d2e": {
          "model_module": "@jupyter-widgets/controls",
          "model_module_version": "1.5.0",
          "model_name": "HBoxModel",
          "state": {
            "_dom_classes": [],
            "_model_module": "@jupyter-widgets/controls",
            "_model_module_version": "1.5.0",
            "_model_name": "HBoxModel",
            "_view_count": null,
            "_view_module": "@jupyter-widgets/controls",
            "_view_module_version": "1.5.0",
            "_view_name": "HBoxView",
            "box_style": "",
            "children": [
              "IPY_MODEL_1dec84c7945043d4807160e37b2ad285",
              "IPY_MODEL_ac583b1f78044af5a2225bd39997e3b3",
              "IPY_MODEL_139776c5ac854b68bb5ddf2f6598ad49"
            ],
            "layout": "IPY_MODEL_1e3434cfdd1743dfbbf1b4b05b9b8d18"
          }
        },
        "69c89a821eb84e1a9b6ac156b9a60b0d": {
          "model_module": "@jupyter-widgets/controls",
          "model_module_version": "1.5.0",
          "model_name": "DescriptionStyleModel",
          "state": {
            "_model_module": "@jupyter-widgets/controls",
            "_model_module_version": "1.5.0",
            "_model_name": "DescriptionStyleModel",
            "_view_count": null,
            "_view_module": "@jupyter-widgets/base",
            "_view_module_version": "1.2.0",
            "_view_name": "StyleView",
            "description_width": ""
          }
        },
        "6ab3949128354dada55bc72ff2da0b99": {
          "model_module": "@jupyter-widgets/base",
          "model_module_version": "1.2.0",
          "model_name": "LayoutModel",
          "state": {
            "_model_module": "@jupyter-widgets/base",
            "_model_module_version": "1.2.0",
            "_model_name": "LayoutModel",
            "_view_count": null,
            "_view_module": "@jupyter-widgets/base",
            "_view_module_version": "1.2.0",
            "_view_name": "LayoutView",
            "align_content": null,
            "align_items": null,
            "align_self": null,
            "border": null,
            "bottom": null,
            "display": null,
            "flex": null,
            "flex_flow": null,
            "grid_area": null,
            "grid_auto_columns": null,
            "grid_auto_flow": null,
            "grid_auto_rows": null,
            "grid_column": null,
            "grid_gap": null,
            "grid_row": null,
            "grid_template_areas": null,
            "grid_template_columns": null,
            "grid_template_rows": null,
            "height": null,
            "justify_content": null,
            "justify_items": null,
            "left": null,
            "margin": null,
            "max_height": null,
            "max_width": null,
            "min_height": null,
            "min_width": null,
            "object_fit": null,
            "object_position": null,
            "order": null,
            "overflow": null,
            "overflow_x": null,
            "overflow_y": null,
            "padding": null,
            "right": null,
            "top": null,
            "visibility": null,
            "width": null
          }
        },
        "71eba4aa600e438fb30863f3604a17d7": {
          "model_module": "@jupyter-widgets/controls",
          "model_module_version": "1.5.0",
          "model_name": "FloatProgressModel",
          "state": {
            "_dom_classes": [],
            "_model_module": "@jupyter-widgets/controls",
            "_model_module_version": "1.5.0",
            "_model_name": "FloatProgressModel",
            "_view_count": null,
            "_view_module": "@jupyter-widgets/controls",
            "_view_module_version": "1.5.0",
            "_view_name": "ProgressView",
            "bar_style": "",
            "description": "",
            "description_tooltip": null,
            "layout": "IPY_MODEL_6ab3949128354dada55bc72ff2da0b99",
            "max": 156,
            "min": 0,
            "orientation": "horizontal",
            "style": "IPY_MODEL_f023cf536f3d47b9a029530e11465326",
            "value": 156
          }
        },
        "727b19b5fd6e4aa9801203bd24d97f2c": {
          "model_module": "@jupyter-widgets/base",
          "model_module_version": "1.2.0",
          "model_name": "LayoutModel",
          "state": {
            "_model_module": "@jupyter-widgets/base",
            "_model_module_version": "1.2.0",
            "_model_name": "LayoutModel",
            "_view_count": null,
            "_view_module": "@jupyter-widgets/base",
            "_view_module_version": "1.2.0",
            "_view_name": "LayoutView",
            "align_content": null,
            "align_items": null,
            "align_self": null,
            "border": null,
            "bottom": null,
            "display": null,
            "flex": null,
            "flex_flow": null,
            "grid_area": null,
            "grid_auto_columns": null,
            "grid_auto_flow": null,
            "grid_auto_rows": null,
            "grid_column": null,
            "grid_gap": null,
            "grid_row": null,
            "grid_template_areas": null,
            "grid_template_columns": null,
            "grid_template_rows": null,
            "height": null,
            "justify_content": null,
            "justify_items": null,
            "left": null,
            "margin": null,
            "max_height": null,
            "max_width": null,
            "min_height": null,
            "min_width": null,
            "object_fit": null,
            "object_position": null,
            "order": null,
            "overflow": null,
            "overflow_x": null,
            "overflow_y": null,
            "padding": null,
            "right": null,
            "top": null,
            "visibility": "hidden",
            "width": null
          }
        },
        "75b951102ef24bef857a74f49f8a4069": {
          "model_module": "@jupyter-widgets/controls",
          "model_module_version": "1.5.0",
          "model_name": "HTMLModel",
          "state": {
            "_dom_classes": [],
            "_model_module": "@jupyter-widgets/controls",
            "_model_module_version": "1.5.0",
            "_model_name": "HTMLModel",
            "_view_count": null,
            "_view_module": "@jupyter-widgets/controls",
            "_view_module_version": "1.5.0",
            "_view_name": "HTMLView",
            "description": "",
            "description_tooltip": null,
            "layout": "IPY_MODEL_32fb05f87eb64f70a733eac7b936111d",
            "placeholder": "​",
            "style": "IPY_MODEL_3de0f65b615146bcb328d03edd74e476",
            "value": " 0/156 [00:00&lt;?, ? examples/s]"
          }
        },
        "79c9e40e8a2e4b41b8157785a43b4793": {
          "model_module": "@jupyter-widgets/base",
          "model_module_version": "1.2.0",
          "model_name": "LayoutModel",
          "state": {
            "_model_module": "@jupyter-widgets/base",
            "_model_module_version": "1.2.0",
            "_model_name": "LayoutModel",
            "_view_count": null,
            "_view_module": "@jupyter-widgets/base",
            "_view_module_version": "1.2.0",
            "_view_name": "LayoutView",
            "align_content": null,
            "align_items": null,
            "align_self": null,
            "border": null,
            "bottom": null,
            "display": null,
            "flex": null,
            "flex_flow": null,
            "grid_area": null,
            "grid_auto_columns": null,
            "grid_auto_flow": null,
            "grid_auto_rows": null,
            "grid_column": null,
            "grid_gap": null,
            "grid_row": null,
            "grid_template_areas": null,
            "grid_template_columns": null,
            "grid_template_rows": null,
            "height": null,
            "justify_content": null,
            "justify_items": null,
            "left": null,
            "margin": null,
            "max_height": null,
            "max_width": null,
            "min_height": null,
            "min_width": null,
            "object_fit": null,
            "object_position": null,
            "order": null,
            "overflow": null,
            "overflow_x": null,
            "overflow_y": null,
            "padding": null,
            "right": null,
            "top": null,
            "visibility": null,
            "width": null
          }
        },
        "7db53e1bfc304918b53238038323c309": {
          "model_module": "@jupyter-widgets/base",
          "model_module_version": "1.2.0",
          "model_name": "LayoutModel",
          "state": {
            "_model_module": "@jupyter-widgets/base",
            "_model_module_version": "1.2.0",
            "_model_name": "LayoutModel",
            "_view_count": null,
            "_view_module": "@jupyter-widgets/base",
            "_view_module_version": "1.2.0",
            "_view_name": "LayoutView",
            "align_content": null,
            "align_items": null,
            "align_self": null,
            "border": null,
            "bottom": null,
            "display": null,
            "flex": null,
            "flex_flow": null,
            "grid_area": null,
            "grid_auto_columns": null,
            "grid_auto_flow": null,
            "grid_auto_rows": null,
            "grid_column": null,
            "grid_gap": null,
            "grid_row": null,
            "grid_template_areas": null,
            "grid_template_columns": null,
            "grid_template_rows": null,
            "height": null,
            "justify_content": null,
            "justify_items": null,
            "left": null,
            "margin": null,
            "max_height": null,
            "max_width": null,
            "min_height": null,
            "min_width": null,
            "object_fit": null,
            "object_position": null,
            "order": null,
            "overflow": null,
            "overflow_x": null,
            "overflow_y": null,
            "padding": null,
            "right": null,
            "top": null,
            "visibility": null,
            "width": null
          }
        },
        "7ef444e486934fa2aafc5e650e298847": {
          "model_module": "@jupyter-widgets/base",
          "model_module_version": "1.2.0",
          "model_name": "LayoutModel",
          "state": {
            "_model_module": "@jupyter-widgets/base",
            "_model_module_version": "1.2.0",
            "_model_name": "LayoutModel",
            "_view_count": null,
            "_view_module": "@jupyter-widgets/base",
            "_view_module_version": "1.2.0",
            "_view_name": "LayoutView",
            "align_content": null,
            "align_items": null,
            "align_self": null,
            "border": null,
            "bottom": null,
            "display": null,
            "flex": null,
            "flex_flow": null,
            "grid_area": null,
            "grid_auto_columns": null,
            "grid_auto_flow": null,
            "grid_auto_rows": null,
            "grid_column": null,
            "grid_gap": null,
            "grid_row": null,
            "grid_template_areas": null,
            "grid_template_columns": null,
            "grid_template_rows": null,
            "height": null,
            "justify_content": null,
            "justify_items": null,
            "left": null,
            "margin": null,
            "max_height": null,
            "max_width": null,
            "min_height": null,
            "min_width": null,
            "object_fit": null,
            "object_position": null,
            "order": null,
            "overflow": null,
            "overflow_x": null,
            "overflow_y": null,
            "padding": null,
            "right": null,
            "top": null,
            "visibility": null,
            "width": null
          }
        },
        "7f694652b37541eab67eb8a5a98f8c90": {
          "model_module": "@jupyter-widgets/controls",
          "model_module_version": "1.5.0",
          "model_name": "ProgressStyleModel",
          "state": {
            "_model_module": "@jupyter-widgets/controls",
            "_model_module_version": "1.5.0",
            "_model_name": "ProgressStyleModel",
            "_view_count": null,
            "_view_module": "@jupyter-widgets/base",
            "_view_module_version": "1.2.0",
            "_view_name": "StyleView",
            "bar_color": null,
            "description_width": ""
          }
        },
        "84626203bf564043a1d40fad781bf6c0": {
          "model_module": "@jupyter-widgets/controls",
          "model_module_version": "1.5.0",
          "model_name": "DescriptionStyleModel",
          "state": {
            "_model_module": "@jupyter-widgets/controls",
            "_model_module_version": "1.5.0",
            "_model_name": "DescriptionStyleModel",
            "_view_count": null,
            "_view_module": "@jupyter-widgets/base",
            "_view_module_version": "1.2.0",
            "_view_name": "StyleView",
            "description_width": ""
          }
        },
        "8df48cd6ac54443a8733a9208e08b4fa": {
          "model_module": "@jupyter-widgets/controls",
          "model_module_version": "1.5.0",
          "model_name": "HTMLModel",
          "state": {
            "_dom_classes": [],
            "_model_module": "@jupyter-widgets/controls",
            "_model_module_version": "1.5.0",
            "_model_name": "HTMLModel",
            "_view_count": null,
            "_view_module": "@jupyter-widgets/controls",
            "_view_module_version": "1.5.0",
            "_view_name": "HTMLView",
            "description": "",
            "description_tooltip": null,
            "layout": "IPY_MODEL_ae0a72ffef784394946ef74770233dc2",
            "placeholder": "​",
            "style": "IPY_MODEL_c6594b99a6ee48af91b3c8130306e265",
            "value": " 0/156 [00:00&lt;?, ? examples/s]"
          }
        },
        "8e44e33d620a44a889af9f1e52820fc9": {
          "model_module": "@jupyter-widgets/controls",
          "model_module_version": "1.5.0",
          "model_name": "HBoxModel",
          "state": {
            "_dom_classes": [],
            "_model_module": "@jupyter-widgets/controls",
            "_model_module_version": "1.5.0",
            "_model_name": "HBoxModel",
            "_view_count": null,
            "_view_module": "@jupyter-widgets/controls",
            "_view_module_version": "1.5.0",
            "_view_name": "HBoxView",
            "box_style": "",
            "children": [
              "IPY_MODEL_514c19e8d4e8442ab48a8e94cdaa63c0",
              "IPY_MODEL_c49cc78a7f3f4fe58981ac9372795f29",
              "IPY_MODEL_75b951102ef24bef857a74f49f8a4069"
            ],
            "layout": "IPY_MODEL_cd8c94dc20194c0ba8972a142831a15f"
          }
        },
        "8f521f0c55a64ce2a4452af788e9dedb": {
          "model_module": "@jupyter-widgets/controls",
          "model_module_version": "1.5.0",
          "model_name": "FloatProgressModel",
          "state": {
            "_dom_classes": [],
            "_model_module": "@jupyter-widgets/controls",
            "_model_module_version": "1.5.0",
            "_model_name": "FloatProgressModel",
            "_view_count": null,
            "_view_module": "@jupyter-widgets/controls",
            "_view_module_version": "1.5.0",
            "_view_name": "ProgressView",
            "bar_style": "",
            "description": "",
            "description_tooltip": null,
            "layout": "IPY_MODEL_7ef444e486934fa2aafc5e650e298847",
            "max": 156,
            "min": 0,
            "orientation": "horizontal",
            "style": "IPY_MODEL_dda8e7ea3727419a8579d6b68849d7b0",
            "value": 156
          }
        },
        "904b26a4b07043ae8ae44b4149f35a66": {
          "model_module": "@jupyter-widgets/controls",
          "model_module_version": "1.5.0",
          "model_name": "DescriptionStyleModel",
          "state": {
            "_model_module": "@jupyter-widgets/controls",
            "_model_module_version": "1.5.0",
            "_model_name": "DescriptionStyleModel",
            "_view_count": null,
            "_view_module": "@jupyter-widgets/base",
            "_view_module_version": "1.2.0",
            "_view_name": "StyleView",
            "description_width": ""
          }
        },
        "9065621235744a1abb78b1531a7682f8": {
          "model_module": "@jupyter-widgets/base",
          "model_module_version": "1.2.0",
          "model_name": "LayoutModel",
          "state": {
            "_model_module": "@jupyter-widgets/base",
            "_model_module_version": "1.2.0",
            "_model_name": "LayoutModel",
            "_view_count": null,
            "_view_module": "@jupyter-widgets/base",
            "_view_module_version": "1.2.0",
            "_view_name": "LayoutView",
            "align_content": null,
            "align_items": null,
            "align_self": null,
            "border": null,
            "bottom": null,
            "display": null,
            "flex": null,
            "flex_flow": null,
            "grid_area": null,
            "grid_auto_columns": null,
            "grid_auto_flow": null,
            "grid_auto_rows": null,
            "grid_column": null,
            "grid_gap": null,
            "grid_row": null,
            "grid_template_areas": null,
            "grid_template_columns": null,
            "grid_template_rows": null,
            "height": null,
            "justify_content": null,
            "justify_items": null,
            "left": null,
            "margin": null,
            "max_height": null,
            "max_width": null,
            "min_height": null,
            "min_width": null,
            "object_fit": null,
            "object_position": null,
            "order": null,
            "overflow": null,
            "overflow_x": null,
            "overflow_y": null,
            "padding": null,
            "right": null,
            "top": null,
            "visibility": null,
            "width": null
          }
        },
        "90e489a30b334fb39f5e6d9dc83ca3d7": {
          "model_module": "@jupyter-widgets/controls",
          "model_module_version": "1.5.0",
          "model_name": "FloatProgressModel",
          "state": {
            "_dom_classes": [],
            "_model_module": "@jupyter-widgets/controls",
            "_model_module_version": "1.5.0",
            "_model_name": "FloatProgressModel",
            "_view_count": null,
            "_view_module": "@jupyter-widgets/controls",
            "_view_module_version": "1.5.0",
            "_view_name": "ProgressView",
            "bar_style": "",
            "description": "",
            "description_tooltip": null,
            "layout": "IPY_MODEL_1922a14a1c924d2bbe2d1e6e73bee57d",
            "max": 156,
            "min": 0,
            "orientation": "horizontal",
            "style": "IPY_MODEL_7f694652b37541eab67eb8a5a98f8c90",
            "value": 156
          }
        },
        "a178d051ff8044e8b659fb9d17df3fd0": {
          "model_module": "@jupyter-widgets/base",
          "model_module_version": "1.2.0",
          "model_name": "LayoutModel",
          "state": {
            "_model_module": "@jupyter-widgets/base",
            "_model_module_version": "1.2.0",
            "_model_name": "LayoutModel",
            "_view_count": null,
            "_view_module": "@jupyter-widgets/base",
            "_view_module_version": "1.2.0",
            "_view_name": "LayoutView",
            "align_content": null,
            "align_items": null,
            "align_self": null,
            "border": null,
            "bottom": null,
            "display": null,
            "flex": null,
            "flex_flow": null,
            "grid_area": null,
            "grid_auto_columns": null,
            "grid_auto_flow": null,
            "grid_auto_rows": null,
            "grid_column": null,
            "grid_gap": null,
            "grid_row": null,
            "grid_template_areas": null,
            "grid_template_columns": null,
            "grid_template_rows": null,
            "height": null,
            "justify_content": null,
            "justify_items": null,
            "left": null,
            "margin": null,
            "max_height": null,
            "max_width": null,
            "min_height": null,
            "min_width": null,
            "object_fit": null,
            "object_position": null,
            "order": null,
            "overflow": null,
            "overflow_x": null,
            "overflow_y": null,
            "padding": null,
            "right": null,
            "top": null,
            "visibility": null,
            "width": null
          }
        },
        "a6d11741b8444003a1cff90c5247c631": {
          "model_module": "@jupyter-widgets/controls",
          "model_module_version": "1.5.0",
          "model_name": "ProgressStyleModel",
          "state": {
            "_model_module": "@jupyter-widgets/controls",
            "_model_module_version": "1.5.0",
            "_model_name": "ProgressStyleModel",
            "_view_count": null,
            "_view_module": "@jupyter-widgets/base",
            "_view_module_version": "1.2.0",
            "_view_name": "StyleView",
            "bar_color": null,
            "description_width": ""
          }
        },
        "ac583b1f78044af5a2225bd39997e3b3": {
          "model_module": "@jupyter-widgets/controls",
          "model_module_version": "1.5.0",
          "model_name": "FloatProgressModel",
          "state": {
            "_dom_classes": [],
            "_model_module": "@jupyter-widgets/controls",
            "_model_module_version": "1.5.0",
            "_model_name": "FloatProgressModel",
            "_view_count": null,
            "_view_module": "@jupyter-widgets/controls",
            "_view_module_version": "1.5.0",
            "_view_name": "ProgressView",
            "bar_style": "success",
            "description": "",
            "description_tooltip": null,
            "layout": "IPY_MODEL_7db53e1bfc304918b53238038323c309",
            "max": 1,
            "min": 0,
            "orientation": "horizontal",
            "style": "IPY_MODEL_a6d11741b8444003a1cff90c5247c631",
            "value": 1
          }
        },
        "ae0a72ffef784394946ef74770233dc2": {
          "model_module": "@jupyter-widgets/base",
          "model_module_version": "1.2.0",
          "model_name": "LayoutModel",
          "state": {
            "_model_module": "@jupyter-widgets/base",
            "_model_module_version": "1.2.0",
            "_model_name": "LayoutModel",
            "_view_count": null,
            "_view_module": "@jupyter-widgets/base",
            "_view_module_version": "1.2.0",
            "_view_name": "LayoutView",
            "align_content": null,
            "align_items": null,
            "align_self": null,
            "border": null,
            "bottom": null,
            "display": null,
            "flex": null,
            "flex_flow": null,
            "grid_area": null,
            "grid_auto_columns": null,
            "grid_auto_flow": null,
            "grid_auto_rows": null,
            "grid_column": null,
            "grid_gap": null,
            "grid_row": null,
            "grid_template_areas": null,
            "grid_template_columns": null,
            "grid_template_rows": null,
            "height": null,
            "justify_content": null,
            "justify_items": null,
            "left": null,
            "margin": null,
            "max_height": null,
            "max_width": null,
            "min_height": null,
            "min_width": null,
            "object_fit": null,
            "object_position": null,
            "order": null,
            "overflow": null,
            "overflow_x": null,
            "overflow_y": null,
            "padding": null,
            "right": null,
            "top": null,
            "visibility": null,
            "width": null
          }
        },
        "b0631a28cce9454389cf5370b39a16f4": {
          "model_module": "@jupyter-widgets/controls",
          "model_module_version": "1.5.0",
          "model_name": "HTMLModel",
          "state": {
            "_dom_classes": [],
            "_model_module": "@jupyter-widgets/controls",
            "_model_module_version": "1.5.0",
            "_model_name": "HTMLModel",
            "_view_count": null,
            "_view_module": "@jupyter-widgets/controls",
            "_view_module_version": "1.5.0",
            "_view_name": "HTMLView",
            "description": "",
            "description_tooltip": null,
            "layout": "IPY_MODEL_ffbda393fab24510a1ef20e2b903081e",
            "placeholder": "​",
            "style": "IPY_MODEL_e355d607ea0746cc860436804d046e9a",
            "value": "Filter:   0%"
          }
        },
        "b3cd16658c414912bd6549957c620db2": {
          "model_module": "@jupyter-widgets/base",
          "model_module_version": "1.2.0",
          "model_name": "LayoutModel",
          "state": {
            "_model_module": "@jupyter-widgets/base",
            "_model_module_version": "1.2.0",
            "_model_name": "LayoutModel",
            "_view_count": null,
            "_view_module": "@jupyter-widgets/base",
            "_view_module_version": "1.2.0",
            "_view_name": "LayoutView",
            "align_content": null,
            "align_items": null,
            "align_self": null,
            "border": null,
            "bottom": null,
            "display": null,
            "flex": null,
            "flex_flow": null,
            "grid_area": null,
            "grid_auto_columns": null,
            "grid_auto_flow": null,
            "grid_auto_rows": null,
            "grid_column": null,
            "grid_gap": null,
            "grid_row": null,
            "grid_template_areas": null,
            "grid_template_columns": null,
            "grid_template_rows": null,
            "height": null,
            "justify_content": null,
            "justify_items": null,
            "left": null,
            "margin": null,
            "max_height": null,
            "max_width": null,
            "min_height": null,
            "min_width": null,
            "object_fit": null,
            "object_position": null,
            "order": null,
            "overflow": null,
            "overflow_x": null,
            "overflow_y": null,
            "padding": null,
            "right": null,
            "top": null,
            "visibility": null,
            "width": null
          }
        },
        "b5ce9c3d71d34440a1124df805764358": {
          "model_module": "@jupyter-widgets/controls",
          "model_module_version": "1.5.0",
          "model_name": "HTMLModel",
          "state": {
            "_dom_classes": [],
            "_model_module": "@jupyter-widgets/controls",
            "_model_module_version": "1.5.0",
            "_model_name": "HTMLModel",
            "_view_count": null,
            "_view_module": "@jupyter-widgets/controls",
            "_view_module_version": "1.5.0",
            "_view_name": "HTMLView",
            "description": "",
            "description_tooltip": null,
            "layout": "IPY_MODEL_79c9e40e8a2e4b41b8157785a43b4793",
            "placeholder": "​",
            "style": "IPY_MODEL_84626203bf564043a1d40fad781bf6c0",
            "value": " 0/156 [00:00&lt;?, ? examples/s]"
          }
        },
        "bc1816b8bc9246b28eed4c59a63d550e": {
          "model_module": "@jupyter-widgets/controls",
          "model_module_version": "1.5.0",
          "model_name": "HTMLModel",
          "state": {
            "_dom_classes": [],
            "_model_module": "@jupyter-widgets/controls",
            "_model_module_version": "1.5.0",
            "_model_name": "HTMLModel",
            "_view_count": null,
            "_view_module": "@jupyter-widgets/controls",
            "_view_module_version": "1.5.0",
            "_view_name": "HTMLView",
            "description": "",
            "description_tooltip": null,
            "layout": "IPY_MODEL_34b180d200784d2994cbfeb6b7c32893",
            "placeholder": "​",
            "style": "IPY_MODEL_4b485e6e86fd40de8d58a82031390733",
            "value": "Filter:   0%"
          }
        },
        "c2b16ea7a3b043e09d20d04d9f455f40": {
          "model_module": "@jupyter-widgets/controls",
          "model_module_version": "1.5.0",
          "model_name": "HBoxModel",
          "state": {
            "_dom_classes": [],
            "_model_module": "@jupyter-widgets/controls",
            "_model_module_version": "1.5.0",
            "_model_name": "HBoxModel",
            "_view_count": null,
            "_view_module": "@jupyter-widgets/controls",
            "_view_module_version": "1.5.0",
            "_view_name": "HBoxView",
            "box_style": "",
            "children": [
              "IPY_MODEL_672a39f3da4447f287264d51b59d395b",
              "IPY_MODEL_71eba4aa600e438fb30863f3604a17d7",
              "IPY_MODEL_1ced4980e197451a96f01ce12cb70fb9"
            ],
            "layout": "IPY_MODEL_fa9cd3ee456e4f97bb3619dcb016c2f9"
          }
        },
        "c47ab5bc591842a9bb15c63028a09911": {
          "model_module": "@jupyter-widgets/base",
          "model_module_version": "1.2.0",
          "model_name": "LayoutModel",
          "state": {
            "_model_module": "@jupyter-widgets/base",
            "_model_module_version": "1.2.0",
            "_model_name": "LayoutModel",
            "_view_count": null,
            "_view_module": "@jupyter-widgets/base",
            "_view_module_version": "1.2.0",
            "_view_name": "LayoutView",
            "align_content": null,
            "align_items": null,
            "align_self": null,
            "border": null,
            "bottom": null,
            "display": null,
            "flex": null,
            "flex_flow": null,
            "grid_area": null,
            "grid_auto_columns": null,
            "grid_auto_flow": null,
            "grid_auto_rows": null,
            "grid_column": null,
            "grid_gap": null,
            "grid_row": null,
            "grid_template_areas": null,
            "grid_template_columns": null,
            "grid_template_rows": null,
            "height": null,
            "justify_content": null,
            "justify_items": null,
            "left": null,
            "margin": null,
            "max_height": null,
            "max_width": null,
            "min_height": null,
            "min_width": null,
            "object_fit": null,
            "object_position": null,
            "order": null,
            "overflow": null,
            "overflow_x": null,
            "overflow_y": null,
            "padding": null,
            "right": null,
            "top": null,
            "visibility": "hidden",
            "width": null
          }
        },
        "c49cc78a7f3f4fe58981ac9372795f29": {
          "model_module": "@jupyter-widgets/controls",
          "model_module_version": "1.5.0",
          "model_name": "FloatProgressModel",
          "state": {
            "_dom_classes": [],
            "_model_module": "@jupyter-widgets/controls",
            "_model_module_version": "1.5.0",
            "_model_name": "FloatProgressModel",
            "_view_count": null,
            "_view_module": "@jupyter-widgets/controls",
            "_view_module_version": "1.5.0",
            "_view_name": "ProgressView",
            "bar_style": "",
            "description": "",
            "description_tooltip": null,
            "layout": "IPY_MODEL_138d6dbea5504406947034d4cedd8741",
            "max": 156,
            "min": 0,
            "orientation": "horizontal",
            "style": "IPY_MODEL_65b8d0de36044e21b89eb605ca3cc3ef",
            "value": 156
          }
        },
        "c6594b99a6ee48af91b3c8130306e265": {
          "model_module": "@jupyter-widgets/controls",
          "model_module_version": "1.5.0",
          "model_name": "DescriptionStyleModel",
          "state": {
            "_model_module": "@jupyter-widgets/controls",
            "_model_module_version": "1.5.0",
            "_model_name": "DescriptionStyleModel",
            "_view_count": null,
            "_view_module": "@jupyter-widgets/base",
            "_view_module_version": "1.2.0",
            "_view_name": "StyleView",
            "description_width": ""
          }
        },
        "c76545b740c64546b484b698faffd2b2": {
          "model_module": "@jupyter-widgets/controls",
          "model_module_version": "1.5.0",
          "model_name": "HTMLModel",
          "state": {
            "_dom_classes": [],
            "_model_module": "@jupyter-widgets/controls",
            "_model_module_version": "1.5.0",
            "_model_name": "HTMLModel",
            "_view_count": null,
            "_view_module": "@jupyter-widgets/controls",
            "_view_module_version": "1.5.0",
            "_view_name": "HTMLView",
            "description": "",
            "description_tooltip": null,
            "layout": "IPY_MODEL_d29166cc96964bd3b5f918d6c1cdd82a",
            "placeholder": "​",
            "style": "IPY_MODEL_1dcaa7d7cb824bd2865c2b9445cc816e",
            "value": "Filter:   0%"
          }
        },
        "cd8c94dc20194c0ba8972a142831a15f": {
          "model_module": "@jupyter-widgets/base",
          "model_module_version": "1.2.0",
          "model_name": "LayoutModel",
          "state": {
            "_model_module": "@jupyter-widgets/base",
            "_model_module_version": "1.2.0",
            "_model_name": "LayoutModel",
            "_view_count": null,
            "_view_module": "@jupyter-widgets/base",
            "_view_module_version": "1.2.0",
            "_view_name": "LayoutView",
            "align_content": null,
            "align_items": null,
            "align_self": null,
            "border": null,
            "bottom": null,
            "display": null,
            "flex": null,
            "flex_flow": null,
            "grid_area": null,
            "grid_auto_columns": null,
            "grid_auto_flow": null,
            "grid_auto_rows": null,
            "grid_column": null,
            "grid_gap": null,
            "grid_row": null,
            "grid_template_areas": null,
            "grid_template_columns": null,
            "grid_template_rows": null,
            "height": null,
            "justify_content": null,
            "justify_items": null,
            "left": null,
            "margin": null,
            "max_height": null,
            "max_width": null,
            "min_height": null,
            "min_width": null,
            "object_fit": null,
            "object_position": null,
            "order": null,
            "overflow": null,
            "overflow_x": null,
            "overflow_y": null,
            "padding": null,
            "right": null,
            "top": null,
            "visibility": "hidden",
            "width": null
          }
        },
        "d29166cc96964bd3b5f918d6c1cdd82a": {
          "model_module": "@jupyter-widgets/base",
          "model_module_version": "1.2.0",
          "model_name": "LayoutModel",
          "state": {
            "_model_module": "@jupyter-widgets/base",
            "_model_module_version": "1.2.0",
            "_model_name": "LayoutModel",
            "_view_count": null,
            "_view_module": "@jupyter-widgets/base",
            "_view_module_version": "1.2.0",
            "_view_name": "LayoutView",
            "align_content": null,
            "align_items": null,
            "align_self": null,
            "border": null,
            "bottom": null,
            "display": null,
            "flex": null,
            "flex_flow": null,
            "grid_area": null,
            "grid_auto_columns": null,
            "grid_auto_flow": null,
            "grid_auto_rows": null,
            "grid_column": null,
            "grid_gap": null,
            "grid_row": null,
            "grid_template_areas": null,
            "grid_template_columns": null,
            "grid_template_rows": null,
            "height": null,
            "justify_content": null,
            "justify_items": null,
            "left": null,
            "margin": null,
            "max_height": null,
            "max_width": null,
            "min_height": null,
            "min_width": null,
            "object_fit": null,
            "object_position": null,
            "order": null,
            "overflow": null,
            "overflow_x": null,
            "overflow_y": null,
            "padding": null,
            "right": null,
            "top": null,
            "visibility": null,
            "width": null
          }
        },
        "da2f66775f984f97b7309ccbb50e01fc": {
          "model_module": "@jupyter-widgets/controls",
          "model_module_version": "1.5.0",
          "model_name": "HBoxModel",
          "state": {
            "_dom_classes": [],
            "_model_module": "@jupyter-widgets/controls",
            "_model_module_version": "1.5.0",
            "_model_name": "HBoxModel",
            "_view_count": null,
            "_view_module": "@jupyter-widgets/controls",
            "_view_module_version": "1.5.0",
            "_view_name": "HBoxView",
            "box_style": "",
            "children": [
              "IPY_MODEL_bc1816b8bc9246b28eed4c59a63d550e",
              "IPY_MODEL_90e489a30b334fb39f5e6d9dc83ca3d7",
              "IPY_MODEL_8df48cd6ac54443a8733a9208e08b4fa"
            ],
            "layout": "IPY_MODEL_c47ab5bc591842a9bb15c63028a09911"
          }
        },
        "dda8e7ea3727419a8579d6b68849d7b0": {
          "model_module": "@jupyter-widgets/controls",
          "model_module_version": "1.5.0",
          "model_name": "ProgressStyleModel",
          "state": {
            "_model_module": "@jupyter-widgets/controls",
            "_model_module_version": "1.5.0",
            "_model_name": "ProgressStyleModel",
            "_view_count": null,
            "_view_module": "@jupyter-widgets/base",
            "_view_module_version": "1.2.0",
            "_view_name": "StyleView",
            "bar_color": null,
            "description_width": ""
          }
        },
        "e355d607ea0746cc860436804d046e9a": {
          "model_module": "@jupyter-widgets/controls",
          "model_module_version": "1.5.0",
          "model_name": "DescriptionStyleModel",
          "state": {
            "_model_module": "@jupyter-widgets/controls",
            "_model_module_version": "1.5.0",
            "_model_name": "DescriptionStyleModel",
            "_view_count": null,
            "_view_module": "@jupyter-widgets/base",
            "_view_module_version": "1.2.0",
            "_view_name": "StyleView",
            "description_width": ""
          }
        },
        "e9809ae282c74f5caef02a9162ade72c": {
          "model_module": "@jupyter-widgets/controls",
          "model_module_version": "1.5.0",
          "model_name": "DescriptionStyleModel",
          "state": {
            "_model_module": "@jupyter-widgets/controls",
            "_model_module_version": "1.5.0",
            "_model_name": "DescriptionStyleModel",
            "_view_count": null,
            "_view_module": "@jupyter-widgets/base",
            "_view_module_version": "1.2.0",
            "_view_name": "StyleView",
            "description_width": ""
          }
        },
        "ee6ada637c8b49c2842afedd3dc75020": {
          "model_module": "@jupyter-widgets/controls",
          "model_module_version": "1.5.0",
          "model_name": "ProgressStyleModel",
          "state": {
            "_model_module": "@jupyter-widgets/controls",
            "_model_module_version": "1.5.0",
            "_model_name": "ProgressStyleModel",
            "_view_count": null,
            "_view_module": "@jupyter-widgets/base",
            "_view_module_version": "1.2.0",
            "_view_name": "StyleView",
            "bar_color": null,
            "description_width": ""
          }
        },
        "f023cf536f3d47b9a029530e11465326": {
          "model_module": "@jupyter-widgets/controls",
          "model_module_version": "1.5.0",
          "model_name": "ProgressStyleModel",
          "state": {
            "_model_module": "@jupyter-widgets/controls",
            "_model_module_version": "1.5.0",
            "_model_name": "ProgressStyleModel",
            "_view_count": null,
            "_view_module": "@jupyter-widgets/base",
            "_view_module_version": "1.2.0",
            "_view_name": "StyleView",
            "bar_color": null,
            "description_width": ""
          }
        },
        "f4866e9b16c74e20b3004ce5841937a6": {
          "model_module": "@jupyter-widgets/base",
          "model_module_version": "1.2.0",
          "model_name": "LayoutModel",
          "state": {
            "_model_module": "@jupyter-widgets/base",
            "_model_module_version": "1.2.0",
            "_model_name": "LayoutModel",
            "_view_count": null,
            "_view_module": "@jupyter-widgets/base",
            "_view_module_version": "1.2.0",
            "_view_name": "LayoutView",
            "align_content": null,
            "align_items": null,
            "align_self": null,
            "border": null,
            "bottom": null,
            "display": null,
            "flex": null,
            "flex_flow": null,
            "grid_area": null,
            "grid_auto_columns": null,
            "grid_auto_flow": null,
            "grid_auto_rows": null,
            "grid_column": null,
            "grid_gap": null,
            "grid_row": null,
            "grid_template_areas": null,
            "grid_template_columns": null,
            "grid_template_rows": null,
            "height": null,
            "justify_content": null,
            "justify_items": null,
            "left": null,
            "margin": null,
            "max_height": null,
            "max_width": null,
            "min_height": null,
            "min_width": null,
            "object_fit": null,
            "object_position": null,
            "order": null,
            "overflow": null,
            "overflow_x": null,
            "overflow_y": null,
            "padding": null,
            "right": null,
            "top": null,
            "visibility": null,
            "width": null
          }
        },
        "f83081c05d0f423ebc69cecf49bde4ee": {
          "model_module": "@jupyter-widgets/controls",
          "model_module_version": "1.5.0",
          "model_name": "DescriptionStyleModel",
          "state": {
            "_model_module": "@jupyter-widgets/controls",
            "_model_module_version": "1.5.0",
            "_model_name": "DescriptionStyleModel",
            "_view_count": null,
            "_view_module": "@jupyter-widgets/base",
            "_view_module_version": "1.2.0",
            "_view_name": "StyleView",
            "description_width": ""
          }
        },
        "fa9cd3ee456e4f97bb3619dcb016c2f9": {
          "model_module": "@jupyter-widgets/base",
          "model_module_version": "1.2.0",
          "model_name": "LayoutModel",
          "state": {
            "_model_module": "@jupyter-widgets/base",
            "_model_module_version": "1.2.0",
            "_model_name": "LayoutModel",
            "_view_count": null,
            "_view_module": "@jupyter-widgets/base",
            "_view_module_version": "1.2.0",
            "_view_name": "LayoutView",
            "align_content": null,
            "align_items": null,
            "align_self": null,
            "border": null,
            "bottom": null,
            "display": null,
            "flex": null,
            "flex_flow": null,
            "grid_area": null,
            "grid_auto_columns": null,
            "grid_auto_flow": null,
            "grid_auto_rows": null,
            "grid_column": null,
            "grid_gap": null,
            "grid_row": null,
            "grid_template_areas": null,
            "grid_template_columns": null,
            "grid_template_rows": null,
            "height": null,
            "justify_content": null,
            "justify_items": null,
            "left": null,
            "margin": null,
            "max_height": null,
            "max_width": null,
            "min_height": null,
            "min_width": null,
            "object_fit": null,
            "object_position": null,
            "order": null,
            "overflow": null,
            "overflow_x": null,
            "overflow_y": null,
            "padding": null,
            "right": null,
            "top": null,
            "visibility": "hidden",
            "width": null
          }
        },
        "ffbda393fab24510a1ef20e2b903081e": {
          "model_module": "@jupyter-widgets/base",
          "model_module_version": "1.2.0",
          "model_name": "LayoutModel",
          "state": {
            "_model_module": "@jupyter-widgets/base",
            "_model_module_version": "1.2.0",
            "_model_name": "LayoutModel",
            "_view_count": null,
            "_view_module": "@jupyter-widgets/base",
            "_view_module_version": "1.2.0",
            "_view_name": "LayoutView",
            "align_content": null,
            "align_items": null,
            "align_self": null,
            "border": null,
            "bottom": null,
            "display": null,
            "flex": null,
            "flex_flow": null,
            "grid_area": null,
            "grid_auto_columns": null,
            "grid_auto_flow": null,
            "grid_auto_rows": null,
            "grid_column": null,
            "grid_gap": null,
            "grid_row": null,
            "grid_template_areas": null,
            "grid_template_columns": null,
            "grid_template_rows": null,
            "height": null,
            "justify_content": null,
            "justify_items": null,
            "left": null,
            "margin": null,
            "max_height": null,
            "max_width": null,
            "min_height": null,
            "min_width": null,
            "object_fit": null,
            "object_position": null,
            "order": null,
            "overflow": null,
            "overflow_x": null,
            "overflow_y": null,
            "padding": null,
            "right": null,
            "top": null,
            "visibility": null,
            "width": null
          }
        }
      }
    }
  },
  "nbformat": 4,
  "nbformat_minor": 0
}
