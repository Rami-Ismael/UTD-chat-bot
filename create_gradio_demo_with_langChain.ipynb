{
 "cells": [
  {
   "cell_type": "markdown",
   "metadata": {},
   "source": [
    "# Import all your libraries"
   ]
  },
  {
   "cell_type": "code",
   "execution_count": 1,
   "metadata": {},
   "outputs": [],
   "source": [
    "from langchain.embeddings.openai import OpenAIEmbeddings\n",
    "from langchain.vectorstores.faiss import FAISS"
   ]
  },
  {
   "cell_type": "code",
   "execution_count": 2,
   "metadata": {},
   "outputs": [
    {
     "name": "stdout",
     "output_type": "stream",
     "text": [
      "UTDFAQ.csv not found in current directory\n",
      "UTDFAQ.csv not found in current directory\n",
      "UTDFAQ.csv not found in current directory\n",
      "UTDFAQ.csv not found in current directory\n",
      "UTDFAQ.csv not found in current directory\n",
      "UTDFAQ.csv not found in current directory\n",
      "UTDFAQ.csv not found in current directory\n",
      "UTDFAQ.csv not found in current directory\n",
      "UTDFAQ.csv not found in current directory\n",
      "UTDFAQ.csv not found in current directory\n",
      "UTDFAQ.csv not found in current directory\n",
      "UTDFAQ.csv not found in current directory\n",
      "UTDFAQ.csv not found in current directory\n",
      "UTDFAQ.csv not found in current directory\n",
      "UTDFAQ.csv not found in current directory\n",
      "UTDFAQ.csv not found in current directory\n",
      "UTDFAQ.csv not found in current directory\n",
      "UTDFAQ.csv not found in current directory\n",
      "UTDFAQ.csv not found in current directory\n",
      "UTDFAQ.csv not found in current directory\n",
      "UTDFAQ.csv not found in current directory\n",
      "UTDFAQ.csv not found in current directory\n",
      "UTDFAQ.csv not found in current directory\n",
      "UTDFAQ.csv not found in current directory\n",
      "UTDFAQ.csv not found in current directory\n",
      "UTDFAQ.csv not found in current directory\n",
      "UTDFAQ.csv not found in current directory\n",
      "FAQ Dataset.csv\n"
     ]
    }
   ],
   "source": [
    "import os\n",
    "\n",
    "faq = None\n",
    "for path in os.listdir():\n",
    "    if path == \"UTDFAQ.csv\":\n",
    "        faq = path\n",
    "    else:\n",
    "        print(\"UTDFAQ.csv not found in current directory\")\n",
    "        faq = \"FAQ Dataset.csv\"\n",
    "print(faq)"
   ]
  },
  {
   "cell_type": "markdown",
   "metadata": {},
   "source": [
    "# Load the Dataset"
   ]
  },
  {
   "cell_type": "code",
   "execution_count": 3,
   "metadata": {},
   "outputs": [
    {
     "name": "stderr",
     "output_type": "stream",
     "text": [
      "Using custom data configuration default-f6363160e39d07a2\n",
      "Found cached dataset csv (/Users/ari/.cache/huggingface/datasets/csv/default-f6363160e39d07a2/0.0.0/6b34fb8fcf56f7c8ba51dc895bfa2bfbe43546f190a60fcf74bb5e8afdcc2317)\n"
     ]
    },
    {
     "data": {
      "application/vnd.jupyter.widget-view+json": {
       "model_id": "aef5862ac6fd47a59eb283b64179d0a1",
       "version_major": 2,
       "version_minor": 0
      },
      "text/plain": [
       "  0%|          | 0/1 [00:00<?, ?it/s]"
      ]
     },
     "metadata": {},
     "output_type": "display_data"
    },
    {
     "data": {
      "text/html": [
       "<pre style=\"white-space:pre;overflow-x:auto;line-height:normal;font-family:Menlo,'DejaVu Sans Mono',consolas,'Courier New',monospace\"><span style=\"color: #800080; text-decoration-color: #800080; font-weight: bold\">DatasetDict</span><span style=\"font-weight: bold\">({</span>\n",
       "    train: <span style=\"color: #800080; text-decoration-color: #800080; font-weight: bold\">Dataset</span><span style=\"font-weight: bold\">({</span>\n",
       "        features: <span style=\"font-weight: bold\">[</span><span style=\"color: #008000; text-decoration-color: #008000\">'Question'</span>, <span style=\"color: #008000; text-decoration-color: #008000\">'Answering'</span>, <span style=\"color: #008000; text-decoration-color: #008000\">'URL'</span>, <span style=\"color: #008000; text-decoration-color: #008000\">'Label'</span><span style=\"font-weight: bold\">]</span>,\n",
       "        num_rows: <span style=\"color: #008080; text-decoration-color: #008080; font-weight: bold\">156</span>\n",
       "    <span style=\"font-weight: bold\">})</span>\n",
       "<span style=\"font-weight: bold\">})</span>\n",
       "</pre>\n"
      ],
      "text/plain": [
       "\u001b[1;35mDatasetDict\u001b[0m\u001b[1m(\u001b[0m\u001b[1m{\u001b[0m\n",
       "    train: \u001b[1;35mDataset\u001b[0m\u001b[1m(\u001b[0m\u001b[1m{\u001b[0m\n",
       "        features: \u001b[1m[\u001b[0m\u001b[32m'Question'\u001b[0m, \u001b[32m'Answering'\u001b[0m, \u001b[32m'URL'\u001b[0m, \u001b[32m'Label'\u001b[0m\u001b[1m]\u001b[0m,\n",
       "        num_rows: \u001b[1;36m156\u001b[0m\n",
       "    \u001b[1m}\u001b[0m\u001b[1m)\u001b[0m\n",
       "\u001b[1m}\u001b[0m\u001b[1m)\u001b[0m\n"
      ]
     },
     "metadata": {},
     "output_type": "display_data"
    },
    {
     "name": "stderr",
     "output_type": "stream",
     "text": [
      "Loading cached processed dataset at /Users/ari/.cache/huggingface/datasets/csv/default-f6363160e39d07a2/0.0.0/6b34fb8fcf56f7c8ba51dc895bfa2bfbe43546f190a60fcf74bb5e8afdcc2317/cache-79d26849bb509e6c.arrow\n",
      "Loading cached processed dataset at /Users/ari/.cache/huggingface/datasets/csv/default-f6363160e39d07a2/0.0.0/6b34fb8fcf56f7c8ba51dc895bfa2bfbe43546f190a60fcf74bb5e8afdcc2317/cache-3c3de7752cc9bcfa.arrow\n"
     ]
    }
   ],
   "source": [
    "from datasets import load_dataset\n",
    "from rich import print\n",
    "from rich import print\n",
    "\n",
    "faq_dataset = load_dataset(\n",
    "    \"csv\", data_files=faq)\n",
    "print(faq_dataset)\n",
    "## remove all the None values\n",
    "faq_dataset = faq_dataset.filter(lambda x: x['Question'] is not None and x['Answering'] is not None)\n",
    "## reaplace all the word ARC to AccessAbility Resource Center and\n",
    "'''\n",
    "Office location: Administration Building, Room 2.224\n",
    "Email: studentaccess@utdallas.edu (Do not email attachments, upload documents to utd.link/arcupload only.)\n",
    "Phone: (972) 883-2098\n",
    "Fax: Please don’t fax, use utd.link/arcupload\n",
    "Mail: AD 30, 800 West Campbell Rd., Richardson TX 75080\n",
    "'''\n",
    "faq_dataset = faq_dataset.map(lambda x: {'Question': x['Question'].replace('ARC', 'AccessAbility Resource Center'), 'Answering': x['Answering'].replace('ARC', 'AccessAbility Resource Center')})"
   ]
  },
  {
   "cell_type": "markdown",
   "metadata": {},
   "source": [
    "# Preprocess the dataset"
   ]
  },
  {
   "cell_type": "markdown",
   "metadata": {},
   "source": [
    "## remove all the None values"
   ]
  },
  {
   "cell_type": "code",
   "execution_count": 4,
   "metadata": {},
   "outputs": [
    {
     "name": "stderr",
     "output_type": "stream",
     "text": [
      "Loading cached processed dataset at /Users/ari/.cache/huggingface/datasets/csv/default-f6363160e39d07a2/0.0.0/6b34fb8fcf56f7c8ba51dc895bfa2bfbe43546f190a60fcf74bb5e8afdcc2317/cache-1cc77a86e02a6b2d.arrow\n"
     ]
    }
   ],
   "source": [
    "## remove all the None values\n",
    "faq_dataset = faq_dataset.filter(lambda x: x['Question'] is not None and x['Answering'] is not None)"
   ]
  },
  {
   "cell_type": "markdown",
   "metadata": {},
   "source": [
    "## Replace all the ARC to Accessible Resource Center"
   ]
  },
  {
   "cell_type": "code",
   "execution_count": 5,
   "metadata": {},
   "outputs": [
    {
     "name": "stderr",
     "output_type": "stream",
     "text": [
      "Loading cached processed dataset at /Users/ari/.cache/huggingface/datasets/csv/default-f6363160e39d07a2/0.0.0/6b34fb8fcf56f7c8ba51dc895bfa2bfbe43546f190a60fcf74bb5e8afdcc2317/cache-0c2613c99a3d25b9.arrow\n",
      "Loading cached processed dataset at /Users/ari/.cache/huggingface/datasets/csv/default-f6363160e39d07a2/0.0.0/6b34fb8fcf56f7c8ba51dc895bfa2bfbe43546f190a60fcf74bb5e8afdcc2317/cache-24aaac9deca3d92a.arrow\n"
     ]
    }
   ],
   "source": [
    "# replace all the word UTD to University of Texas at Dallas\n",
    "# replace all the ARC to AccessAbility Resource Center\n",
    "faq_dataset = faq_dataset.map(lambda x: {'Question': x['Question'].replace('UTD', 'University of Texas at Dallas'), 'Answering': x['Answering'].replace('UTD', 'University of Texas at Dallas')})\n",
    "faq_dataset = faq_dataset.map(lambda x: {'Question': x['Question'].replace('ARC', 'AccessAbility Resource Center'), 'Answering': x['Answering'].replace('ARC', 'AccessAbility Resource Center')})"
   ]
  },
  {
   "cell_type": "markdown",
   "metadata": {},
   "source": [
    "# Load the Open AI Emebddigns"
   ]
  },
  {
   "cell_type": "code",
   "execution_count": 6,
   "metadata": {},
   "outputs": [
    {
     "data": {
      "text/html": [
       "<pre style=\"white-space:pre;overflow-x:auto;line-height:normal;font-family:Menlo,'DejaVu Sans Mono',consolas,'Courier New',monospace\"><span style=\"font-weight: bold\">&lt;</span><span style=\"color: #ff00ff; text-decoration-color: #ff00ff; font-weight: bold\">OpenAIObject</span><span style=\"color: #000000; text-decoration-color: #000000\"> list at </span><span style=\"color: #008080; text-decoration-color: #008080; font-weight: bold\">0x158992270</span><span style=\"font-weight: bold\">&gt;</span> JSON: <span style=\"font-weight: bold\">{</span>\n",
       "  <span style=\"color: #008000; text-decoration-color: #008000\">\"data\"</span>: <span style=\"font-weight: bold\">[</span>\n",
       "    <span style=\"font-weight: bold\">{</span>\n",
       "      <span style=\"color: #008000; text-decoration-color: #008000\">\"created\"</span>: null,\n",
       "      <span style=\"color: #008000; text-decoration-color: #008000\">\"id\"</span>: <span style=\"color: #008000; text-decoration-color: #008000\">\"babbage\"</span>,\n",
       "      <span style=\"color: #008000; text-decoration-color: #008000\">\"object\"</span>: <span style=\"color: #008000; text-decoration-color: #008000\">\"engine\"</span>,\n",
       "      <span style=\"color: #008000; text-decoration-color: #008000\">\"owner\"</span>: <span style=\"color: #008000; text-decoration-color: #008000\">\"openai\"</span>,\n",
       "      <span style=\"color: #008000; text-decoration-color: #008000\">\"permissions\"</span>: null,\n",
       "      <span style=\"color: #008000; text-decoration-color: #008000\">\"ready\"</span>: true\n",
       "    <span style=\"font-weight: bold\">}</span>,\n",
       "    <span style=\"font-weight: bold\">{</span>\n",
       "      <span style=\"color: #008000; text-decoration-color: #008000\">\"created\"</span>: null,\n",
       "      <span style=\"color: #008000; text-decoration-color: #008000\">\"id\"</span>: <span style=\"color: #008000; text-decoration-color: #008000\">\"davinci\"</span>,\n",
       "      <span style=\"color: #008000; text-decoration-color: #008000\">\"object\"</span>: <span style=\"color: #008000; text-decoration-color: #008000\">\"engine\"</span>,\n",
       "      <span style=\"color: #008000; text-decoration-color: #008000\">\"owner\"</span>: <span style=\"color: #008000; text-decoration-color: #008000\">\"openai\"</span>,\n",
       "      <span style=\"color: #008000; text-decoration-color: #008000\">\"permissions\"</span>: null,\n",
       "      <span style=\"color: #008000; text-decoration-color: #008000\">\"ready\"</span>: true\n",
       "    <span style=\"font-weight: bold\">}</span>,\n",
       "    <span style=\"font-weight: bold\">{</span>\n",
       "      <span style=\"color: #008000; text-decoration-color: #008000\">\"created\"</span>: null,\n",
       "      <span style=\"color: #008000; text-decoration-color: #008000\">\"id\"</span>: <span style=\"color: #008000; text-decoration-color: #008000\">\"text-davinci-edit-001\"</span>,\n",
       "      <span style=\"color: #008000; text-decoration-color: #008000\">\"object\"</span>: <span style=\"color: #008000; text-decoration-color: #008000\">\"engine\"</span>,\n",
       "      <span style=\"color: #008000; text-decoration-color: #008000\">\"owner\"</span>: <span style=\"color: #008000; text-decoration-color: #008000\">\"openai\"</span>,\n",
       "      <span style=\"color: #008000; text-decoration-color: #008000\">\"permissions\"</span>: null,\n",
       "      <span style=\"color: #008000; text-decoration-color: #008000\">\"ready\"</span>: true\n",
       "    <span style=\"font-weight: bold\">}</span>,\n",
       "    <span style=\"font-weight: bold\">{</span>\n",
       "      <span style=\"color: #008000; text-decoration-color: #008000\">\"created\"</span>: null,\n",
       "      <span style=\"color: #008000; text-decoration-color: #008000\">\"id\"</span>: <span style=\"color: #008000; text-decoration-color: #008000\">\"babbage-code-search-code\"</span>,\n",
       "      <span style=\"color: #008000; text-decoration-color: #008000\">\"object\"</span>: <span style=\"color: #008000; text-decoration-color: #008000\">\"engine\"</span>,\n",
       "      <span style=\"color: #008000; text-decoration-color: #008000\">\"owner\"</span>: <span style=\"color: #008000; text-decoration-color: #008000\">\"openai-dev\"</span>,\n",
       "      <span style=\"color: #008000; text-decoration-color: #008000\">\"permissions\"</span>: null,\n",
       "      <span style=\"color: #008000; text-decoration-color: #008000\">\"ready\"</span>: true\n",
       "    <span style=\"font-weight: bold\">}</span>,\n",
       "    <span style=\"font-weight: bold\">{</span>\n",
       "      <span style=\"color: #008000; text-decoration-color: #008000\">\"created\"</span>: null,\n",
       "      <span style=\"color: #008000; text-decoration-color: #008000\">\"id\"</span>: <span style=\"color: #008000; text-decoration-color: #008000\">\"text-similarity-babbage-001\"</span>,\n",
       "      <span style=\"color: #008000; text-decoration-color: #008000\">\"object\"</span>: <span style=\"color: #008000; text-decoration-color: #008000\">\"engine\"</span>,\n",
       "      <span style=\"color: #008000; text-decoration-color: #008000\">\"owner\"</span>: <span style=\"color: #008000; text-decoration-color: #008000\">\"openai-dev\"</span>,\n",
       "      <span style=\"color: #008000; text-decoration-color: #008000\">\"permissions\"</span>: null,\n",
       "      <span style=\"color: #008000; text-decoration-color: #008000\">\"ready\"</span>: true\n",
       "    <span style=\"font-weight: bold\">}</span>,\n",
       "    <span style=\"font-weight: bold\">{</span>\n",
       "      <span style=\"color: #008000; text-decoration-color: #008000\">\"created\"</span>: null,\n",
       "      <span style=\"color: #008000; text-decoration-color: #008000\">\"id\"</span>: <span style=\"color: #008000; text-decoration-color: #008000\">\"gpt-3.5-turbo\"</span>,\n",
       "      <span style=\"color: #008000; text-decoration-color: #008000\">\"object\"</span>: <span style=\"color: #008000; text-decoration-color: #008000\">\"engine\"</span>,\n",
       "      <span style=\"color: #008000; text-decoration-color: #008000\">\"owner\"</span>: <span style=\"color: #008000; text-decoration-color: #008000\">\"openai\"</span>,\n",
       "      <span style=\"color: #008000; text-decoration-color: #008000\">\"permissions\"</span>: null,\n",
       "      <span style=\"color: #008000; text-decoration-color: #008000\">\"ready\"</span>: true\n",
       "    <span style=\"font-weight: bold\">}</span>,\n",
       "    <span style=\"font-weight: bold\">{</span>\n",
       "      <span style=\"color: #008000; text-decoration-color: #008000\">\"created\"</span>: null,\n",
       "      <span style=\"color: #008000; text-decoration-color: #008000\">\"id\"</span>: <span style=\"color: #008000; text-decoration-color: #008000\">\"code-davinci-edit-001\"</span>,\n",
       "      <span style=\"color: #008000; text-decoration-color: #008000\">\"object\"</span>: <span style=\"color: #008000; text-decoration-color: #008000\">\"engine\"</span>,\n",
       "      <span style=\"color: #008000; text-decoration-color: #008000\">\"owner\"</span>: <span style=\"color: #008000; text-decoration-color: #008000\">\"openai\"</span>,\n",
       "      <span style=\"color: #008000; text-decoration-color: #008000\">\"permissions\"</span>: null,\n",
       "      <span style=\"color: #008000; text-decoration-color: #008000\">\"ready\"</span>: true\n",
       "    <span style=\"font-weight: bold\">}</span>,\n",
       "    <span style=\"font-weight: bold\">{</span>\n",
       "      <span style=\"color: #008000; text-decoration-color: #008000\">\"created\"</span>: null,\n",
       "      <span style=\"color: #008000; text-decoration-color: #008000\">\"id\"</span>: <span style=\"color: #008000; text-decoration-color: #008000\">\"text-davinci-001\"</span>,\n",
       "      <span style=\"color: #008000; text-decoration-color: #008000\">\"object\"</span>: <span style=\"color: #008000; text-decoration-color: #008000\">\"engine\"</span>,\n",
       "      <span style=\"color: #008000; text-decoration-color: #008000\">\"owner\"</span>: <span style=\"color: #008000; text-decoration-color: #008000\">\"openai\"</span>,\n",
       "      <span style=\"color: #008000; text-decoration-color: #008000\">\"permissions\"</span>: null,\n",
       "      <span style=\"color: #008000; text-decoration-color: #008000\">\"ready\"</span>: true\n",
       "    <span style=\"font-weight: bold\">}</span>,\n",
       "    <span style=\"font-weight: bold\">{</span>\n",
       "      <span style=\"color: #008000; text-decoration-color: #008000\">\"created\"</span>: null,\n",
       "      <span style=\"color: #008000; text-decoration-color: #008000\">\"id\"</span>: <span style=\"color: #008000; text-decoration-color: #008000\">\"ada\"</span>,\n",
       "      <span style=\"color: #008000; text-decoration-color: #008000\">\"object\"</span>: <span style=\"color: #008000; text-decoration-color: #008000\">\"engine\"</span>,\n",
       "      <span style=\"color: #008000; text-decoration-color: #008000\">\"owner\"</span>: <span style=\"color: #008000; text-decoration-color: #008000\">\"openai\"</span>,\n",
       "      <span style=\"color: #008000; text-decoration-color: #008000\">\"permissions\"</span>: null,\n",
       "      <span style=\"color: #008000; text-decoration-color: #008000\">\"ready\"</span>: true\n",
       "    <span style=\"font-weight: bold\">}</span>,\n",
       "    <span style=\"font-weight: bold\">{</span>\n",
       "      <span style=\"color: #008000; text-decoration-color: #008000\">\"created\"</span>: null,\n",
       "      <span style=\"color: #008000; text-decoration-color: #008000\">\"id\"</span>: <span style=\"color: #008000; text-decoration-color: #008000\">\"babbage-code-search-text\"</span>,\n",
       "      <span style=\"color: #008000; text-decoration-color: #008000\">\"object\"</span>: <span style=\"color: #008000; text-decoration-color: #008000\">\"engine\"</span>,\n",
       "      <span style=\"color: #008000; text-decoration-color: #008000\">\"owner\"</span>: <span style=\"color: #008000; text-decoration-color: #008000\">\"openai-dev\"</span>,\n",
       "      <span style=\"color: #008000; text-decoration-color: #008000\">\"permissions\"</span>: null,\n",
       "      <span style=\"color: #008000; text-decoration-color: #008000\">\"ready\"</span>: true\n",
       "    <span style=\"font-weight: bold\">}</span>,\n",
       "    <span style=\"font-weight: bold\">{</span>\n",
       "      <span style=\"color: #008000; text-decoration-color: #008000\">\"created\"</span>: null,\n",
       "      <span style=\"color: #008000; text-decoration-color: #008000\">\"id\"</span>: <span style=\"color: #008000; text-decoration-color: #008000\">\"babbage-similarity\"</span>,\n",
       "      <span style=\"color: #008000; text-decoration-color: #008000\">\"object\"</span>: <span style=\"color: #008000; text-decoration-color: #008000\">\"engine\"</span>,\n",
       "      <span style=\"color: #008000; text-decoration-color: #008000\">\"owner\"</span>: <span style=\"color: #008000; text-decoration-color: #008000\">\"openai-dev\"</span>,\n",
       "      <span style=\"color: #008000; text-decoration-color: #008000\">\"permissions\"</span>: null,\n",
       "      <span style=\"color: #008000; text-decoration-color: #008000\">\"ready\"</span>: true\n",
       "    <span style=\"font-weight: bold\">}</span>,\n",
       "    <span style=\"font-weight: bold\">{</span>\n",
       "      <span style=\"color: #008000; text-decoration-color: #008000\">\"created\"</span>: null,\n",
       "      <span style=\"color: #008000; text-decoration-color: #008000\">\"id\"</span>: <span style=\"color: #008000; text-decoration-color: #008000\">\"gpt-3.5-turbo-0301\"</span>,\n",
       "      <span style=\"color: #008000; text-decoration-color: #008000\">\"object\"</span>: <span style=\"color: #008000; text-decoration-color: #008000\">\"engine\"</span>,\n",
       "      <span style=\"color: #008000; text-decoration-color: #008000\">\"owner\"</span>: <span style=\"color: #008000; text-decoration-color: #008000\">\"openai\"</span>,\n",
       "      <span style=\"color: #008000; text-decoration-color: #008000\">\"permissions\"</span>: null,\n",
       "      <span style=\"color: #008000; text-decoration-color: #008000\">\"ready\"</span>: true\n",
       "    <span style=\"font-weight: bold\">}</span>,\n",
       "    <span style=\"font-weight: bold\">{</span>\n",
       "      <span style=\"color: #008000; text-decoration-color: #008000\">\"created\"</span>: null,\n",
       "      <span style=\"color: #008000; text-decoration-color: #008000\">\"id\"</span>: <span style=\"color: #008000; text-decoration-color: #008000\">\"code-search-babbage-text-001\"</span>,\n",
       "      <span style=\"color: #008000; text-decoration-color: #008000\">\"object\"</span>: <span style=\"color: #008000; text-decoration-color: #008000\">\"engine\"</span>,\n",
       "      <span style=\"color: #008000; text-decoration-color: #008000\">\"owner\"</span>: <span style=\"color: #008000; text-decoration-color: #008000\">\"openai-dev\"</span>,\n",
       "      <span style=\"color: #008000; text-decoration-color: #008000\">\"permissions\"</span>: null,\n",
       "      <span style=\"color: #008000; text-decoration-color: #008000\">\"ready\"</span>: true\n",
       "    <span style=\"font-weight: bold\">}</span>,\n",
       "    <span style=\"font-weight: bold\">{</span>\n",
       "      <span style=\"color: #008000; text-decoration-color: #008000\">\"created\"</span>: null,\n",
       "      <span style=\"color: #008000; text-decoration-color: #008000\">\"id\"</span>: <span style=\"color: #008000; text-decoration-color: #008000\">\"text-curie-001\"</span>,\n",
       "      <span style=\"color: #008000; text-decoration-color: #008000\">\"object\"</span>: <span style=\"color: #008000; text-decoration-color: #008000\">\"engine\"</span>,\n",
       "      <span style=\"color: #008000; text-decoration-color: #008000\">\"owner\"</span>: <span style=\"color: #008000; text-decoration-color: #008000\">\"openai\"</span>,\n",
       "      <span style=\"color: #008000; text-decoration-color: #008000\">\"permissions\"</span>: null,\n",
       "      <span style=\"color: #008000; text-decoration-color: #008000\">\"ready\"</span>: true\n",
       "    <span style=\"font-weight: bold\">}</span>,\n",
       "    <span style=\"font-weight: bold\">{</span>\n",
       "      <span style=\"color: #008000; text-decoration-color: #008000\">\"created\"</span>: null,\n",
       "      <span style=\"color: #008000; text-decoration-color: #008000\">\"id\"</span>: <span style=\"color: #008000; text-decoration-color: #008000\">\"whisper-1\"</span>,\n",
       "      <span style=\"color: #008000; text-decoration-color: #008000\">\"object\"</span>: <span style=\"color: #008000; text-decoration-color: #008000\">\"engine\"</span>,\n",
       "      <span style=\"color: #008000; text-decoration-color: #008000\">\"owner\"</span>: <span style=\"color: #008000; text-decoration-color: #008000\">\"openai-internal\"</span>,\n",
       "      <span style=\"color: #008000; text-decoration-color: #008000\">\"permissions\"</span>: null,\n",
       "      <span style=\"color: #008000; text-decoration-color: #008000\">\"ready\"</span>: true\n",
       "    <span style=\"font-weight: bold\">}</span>,\n",
       "    <span style=\"font-weight: bold\">{</span>\n",
       "      <span style=\"color: #008000; text-decoration-color: #008000\">\"created\"</span>: null,\n",
       "      <span style=\"color: #008000; text-decoration-color: #008000\">\"id\"</span>: <span style=\"color: #008000; text-decoration-color: #008000\">\"code-search-babbage-code-001\"</span>,\n",
       "      <span style=\"color: #008000; text-decoration-color: #008000\">\"object\"</span>: <span style=\"color: #008000; text-decoration-color: #008000\">\"engine\"</span>,\n",
       "      <span style=\"color: #008000; text-decoration-color: #008000\">\"owner\"</span>: <span style=\"color: #008000; text-decoration-color: #008000\">\"openai-dev\"</span>,\n",
       "      <span style=\"color: #008000; text-decoration-color: #008000\">\"permissions\"</span>: null,\n",
       "      <span style=\"color: #008000; text-decoration-color: #008000\">\"ready\"</span>: true\n",
       "    <span style=\"font-weight: bold\">}</span>,\n",
       "    <span style=\"font-weight: bold\">{</span>\n",
       "      <span style=\"color: #008000; text-decoration-color: #008000\">\"created\"</span>: null,\n",
       "      <span style=\"color: #008000; text-decoration-color: #008000\">\"id\"</span>: <span style=\"color: #008000; text-decoration-color: #008000\">\"text-davinci-003\"</span>,\n",
       "      <span style=\"color: #008000; text-decoration-color: #008000\">\"object\"</span>: <span style=\"color: #008000; text-decoration-color: #008000\">\"engine\"</span>,\n",
       "      <span style=\"color: #008000; text-decoration-color: #008000\">\"owner\"</span>: <span style=\"color: #008000; text-decoration-color: #008000\">\"openai-internal\"</span>,\n",
       "      <span style=\"color: #008000; text-decoration-color: #008000\">\"permissions\"</span>: null,\n",
       "      <span style=\"color: #008000; text-decoration-color: #008000\">\"ready\"</span>: true\n",
       "    <span style=\"font-weight: bold\">}</span>,\n",
       "    <span style=\"font-weight: bold\">{</span>\n",
       "      <span style=\"color: #008000; text-decoration-color: #008000\">\"created\"</span>: null,\n",
       "      <span style=\"color: #008000; text-decoration-color: #008000\">\"id\"</span>: <span style=\"color: #008000; text-decoration-color: #008000\">\"text-ada-001\"</span>,\n",
       "      <span style=\"color: #008000; text-decoration-color: #008000\">\"object\"</span>: <span style=\"color: #008000; text-decoration-color: #008000\">\"engine\"</span>,\n",
       "      <span style=\"color: #008000; text-decoration-color: #008000\">\"owner\"</span>: <span style=\"color: #008000; text-decoration-color: #008000\">\"openai\"</span>,\n",
       "      <span style=\"color: #008000; text-decoration-color: #008000\">\"permissions\"</span>: null,\n",
       "      <span style=\"color: #008000; text-decoration-color: #008000\">\"ready\"</span>: true\n",
       "    <span style=\"font-weight: bold\">}</span>,\n",
       "    <span style=\"font-weight: bold\">{</span>\n",
       "      <span style=\"color: #008000; text-decoration-color: #008000\">\"created\"</span>: null,\n",
       "      <span style=\"color: #008000; text-decoration-color: #008000\">\"id\"</span>: <span style=\"color: #008000; text-decoration-color: #008000\">\"text-embedding-ada-002\"</span>,\n",
       "      <span style=\"color: #008000; text-decoration-color: #008000\">\"object\"</span>: <span style=\"color: #008000; text-decoration-color: #008000\">\"engine\"</span>,\n",
       "      <span style=\"color: #008000; text-decoration-color: #008000\">\"owner\"</span>: <span style=\"color: #008000; text-decoration-color: #008000\">\"openai-internal\"</span>,\n",
       "      <span style=\"color: #008000; text-decoration-color: #008000\">\"permissions\"</span>: null,\n",
       "      <span style=\"color: #008000; text-decoration-color: #008000\">\"ready\"</span>: true\n",
       "    <span style=\"font-weight: bold\">}</span>,\n",
       "    <span style=\"font-weight: bold\">{</span>\n",
       "      <span style=\"color: #008000; text-decoration-color: #008000\">\"created\"</span>: null,\n",
       "      <span style=\"color: #008000; text-decoration-color: #008000\">\"id\"</span>: <span style=\"color: #008000; text-decoration-color: #008000\">\"text-similarity-ada-001\"</span>,\n",
       "      <span style=\"color: #008000; text-decoration-color: #008000\">\"object\"</span>: <span style=\"color: #008000; text-decoration-color: #008000\">\"engine\"</span>,\n",
       "      <span style=\"color: #008000; text-decoration-color: #008000\">\"owner\"</span>: <span style=\"color: #008000; text-decoration-color: #008000\">\"openai-dev\"</span>,\n",
       "      <span style=\"color: #008000; text-decoration-color: #008000\">\"permissions\"</span>: null,\n",
       "      <span style=\"color: #008000; text-decoration-color: #008000\">\"ready\"</span>: true\n",
       "    <span style=\"font-weight: bold\">}</span>,\n",
       "    <span style=\"font-weight: bold\">{</span>\n",
       "      <span style=\"color: #008000; text-decoration-color: #008000\">\"created\"</span>: null,\n",
       "      <span style=\"color: #008000; text-decoration-color: #008000\">\"id\"</span>: <span style=\"color: #008000; text-decoration-color: #008000\">\"curie-instruct-beta\"</span>,\n",
       "      <span style=\"color: #008000; text-decoration-color: #008000\">\"object\"</span>: <span style=\"color: #008000; text-decoration-color: #008000\">\"engine\"</span>,\n",
       "      <span style=\"color: #008000; text-decoration-color: #008000\">\"owner\"</span>: <span style=\"color: #008000; text-decoration-color: #008000\">\"openai\"</span>,\n",
       "      <span style=\"color: #008000; text-decoration-color: #008000\">\"permissions\"</span>: null,\n",
       "      <span style=\"color: #008000; text-decoration-color: #008000\">\"ready\"</span>: true\n",
       "    <span style=\"font-weight: bold\">}</span>,\n",
       "    <span style=\"font-weight: bold\">{</span>\n",
       "      <span style=\"color: #008000; text-decoration-color: #008000\">\"created\"</span>: null,\n",
       "      <span style=\"color: #008000; text-decoration-color: #008000\">\"id\"</span>: <span style=\"color: #008000; text-decoration-color: #008000\">\"ada-code-search-code\"</span>,\n",
       "      <span style=\"color: #008000; text-decoration-color: #008000\">\"object\"</span>: <span style=\"color: #008000; text-decoration-color: #008000\">\"engine\"</span>,\n",
       "      <span style=\"color: #008000; text-decoration-color: #008000\">\"owner\"</span>: <span style=\"color: #008000; text-decoration-color: #008000\">\"openai-dev\"</span>,\n",
       "      <span style=\"color: #008000; text-decoration-color: #008000\">\"permissions\"</span>: null,\n",
       "      <span style=\"color: #008000; text-decoration-color: #008000\">\"ready\"</span>: true\n",
       "    <span style=\"font-weight: bold\">}</span>,\n",
       "    <span style=\"font-weight: bold\">{</span>\n",
       "      <span style=\"color: #008000; text-decoration-color: #008000\">\"created\"</span>: null,\n",
       "      <span style=\"color: #008000; text-decoration-color: #008000\">\"id\"</span>: <span style=\"color: #008000; text-decoration-color: #008000\">\"ada-similarity\"</span>,\n",
       "      <span style=\"color: #008000; text-decoration-color: #008000\">\"object\"</span>: <span style=\"color: #008000; text-decoration-color: #008000\">\"engine\"</span>,\n",
       "      <span style=\"color: #008000; text-decoration-color: #008000\">\"owner\"</span>: <span style=\"color: #008000; text-decoration-color: #008000\">\"openai-dev\"</span>,\n",
       "      <span style=\"color: #008000; text-decoration-color: #008000\">\"permissions\"</span>: null,\n",
       "      <span style=\"color: #008000; text-decoration-color: #008000\">\"ready\"</span>: true\n",
       "    <span style=\"font-weight: bold\">}</span>,\n",
       "    <span style=\"font-weight: bold\">{</span>\n",
       "      <span style=\"color: #008000; text-decoration-color: #008000\">\"created\"</span>: null,\n",
       "      <span style=\"color: #008000; text-decoration-color: #008000\">\"id\"</span>: <span style=\"color: #008000; text-decoration-color: #008000\">\"code-search-ada-text-001\"</span>,\n",
       "      <span style=\"color: #008000; text-decoration-color: #008000\">\"object\"</span>: <span style=\"color: #008000; text-decoration-color: #008000\">\"engine\"</span>,\n",
       "      <span style=\"color: #008000; text-decoration-color: #008000\">\"owner\"</span>: <span style=\"color: #008000; text-decoration-color: #008000\">\"openai-dev\"</span>,\n",
       "      <span style=\"color: #008000; text-decoration-color: #008000\">\"permissions\"</span>: null,\n",
       "      <span style=\"color: #008000; text-decoration-color: #008000\">\"ready\"</span>: true\n",
       "    <span style=\"font-weight: bold\">}</span>,\n",
       "    <span style=\"font-weight: bold\">{</span>\n",
       "      <span style=\"color: #008000; text-decoration-color: #008000\">\"created\"</span>: null,\n",
       "      <span style=\"color: #008000; text-decoration-color: #008000\">\"id\"</span>: <span style=\"color: #008000; text-decoration-color: #008000\">\"text-search-ada-query-001\"</span>,\n",
       "      <span style=\"color: #008000; text-decoration-color: #008000\">\"object\"</span>: <span style=\"color: #008000; text-decoration-color: #008000\">\"engine\"</span>,\n",
       "      <span style=\"color: #008000; text-decoration-color: #008000\">\"owner\"</span>: <span style=\"color: #008000; text-decoration-color: #008000\">\"openai-dev\"</span>,\n",
       "      <span style=\"color: #008000; text-decoration-color: #008000\">\"permissions\"</span>: null,\n",
       "      <span style=\"color: #008000; text-decoration-color: #008000\">\"ready\"</span>: true\n",
       "    <span style=\"font-weight: bold\">}</span>,\n",
       "    <span style=\"font-weight: bold\">{</span>\n",
       "      <span style=\"color: #008000; text-decoration-color: #008000\">\"created\"</span>: null,\n",
       "      <span style=\"color: #008000; text-decoration-color: #008000\">\"id\"</span>: <span style=\"color: #008000; text-decoration-color: #008000\">\"davinci-search-document\"</span>,\n",
       "      <span style=\"color: #008000; text-decoration-color: #008000\">\"object\"</span>: <span style=\"color: #008000; text-decoration-color: #008000\">\"engine\"</span>,\n",
       "      <span style=\"color: #008000; text-decoration-color: #008000\">\"owner\"</span>: <span style=\"color: #008000; text-decoration-color: #008000\">\"openai-dev\"</span>,\n",
       "      <span style=\"color: #008000; text-decoration-color: #008000\">\"permissions\"</span>: null,\n",
       "      <span style=\"color: #008000; text-decoration-color: #008000\">\"ready\"</span>: true\n",
       "    <span style=\"font-weight: bold\">}</span>,\n",
       "    <span style=\"font-weight: bold\">{</span>\n",
       "      <span style=\"color: #008000; text-decoration-color: #008000\">\"created\"</span>: null,\n",
       "      <span style=\"color: #008000; text-decoration-color: #008000\">\"id\"</span>: <span style=\"color: #008000; text-decoration-color: #008000\">\"ada-code-search-text\"</span>,\n",
       "      <span style=\"color: #008000; text-decoration-color: #008000\">\"object\"</span>: <span style=\"color: #008000; text-decoration-color: #008000\">\"engine\"</span>,\n",
       "      <span style=\"color: #008000; text-decoration-color: #008000\">\"owner\"</span>: <span style=\"color: #008000; text-decoration-color: #008000\">\"openai-dev\"</span>,\n",
       "      <span style=\"color: #008000; text-decoration-color: #008000\">\"permissions\"</span>: null,\n",
       "      <span style=\"color: #008000; text-decoration-color: #008000\">\"ready\"</span>: true\n",
       "    <span style=\"font-weight: bold\">}</span>,\n",
       "    <span style=\"font-weight: bold\">{</span>\n",
       "      <span style=\"color: #008000; text-decoration-color: #008000\">\"created\"</span>: null,\n",
       "      <span style=\"color: #008000; text-decoration-color: #008000\">\"id\"</span>: <span style=\"color: #008000; text-decoration-color: #008000\">\"text-search-ada-doc-001\"</span>,\n",
       "      <span style=\"color: #008000; text-decoration-color: #008000\">\"object\"</span>: <span style=\"color: #008000; text-decoration-color: #008000\">\"engine\"</span>,\n",
       "      <span style=\"color: #008000; text-decoration-color: #008000\">\"owner\"</span>: <span style=\"color: #008000; text-decoration-color: #008000\">\"openai-dev\"</span>,\n",
       "      <span style=\"color: #008000; text-decoration-color: #008000\">\"permissions\"</span>: null,\n",
       "      <span style=\"color: #008000; text-decoration-color: #008000\">\"ready\"</span>: true\n",
       "    <span style=\"font-weight: bold\">}</span>,\n",
       "    <span style=\"font-weight: bold\">{</span>\n",
       "      <span style=\"color: #008000; text-decoration-color: #008000\">\"created\"</span>: null,\n",
       "      <span style=\"color: #008000; text-decoration-color: #008000\">\"id\"</span>: <span style=\"color: #008000; text-decoration-color: #008000\">\"davinci-instruct-beta\"</span>,\n",
       "      <span style=\"color: #008000; text-decoration-color: #008000\">\"object\"</span>: <span style=\"color: #008000; text-decoration-color: #008000\">\"engine\"</span>,\n",
       "      <span style=\"color: #008000; text-decoration-color: #008000\">\"owner\"</span>: <span style=\"color: #008000; text-decoration-color: #008000\">\"openai\"</span>,\n",
       "      <span style=\"color: #008000; text-decoration-color: #008000\">\"permissions\"</span>: null,\n",
       "      <span style=\"color: #008000; text-decoration-color: #008000\">\"ready\"</span>: true\n",
       "    <span style=\"font-weight: bold\">}</span>,\n",
       "    <span style=\"font-weight: bold\">{</span>\n",
       "      <span style=\"color: #008000; text-decoration-color: #008000\">\"created\"</span>: null,\n",
       "      <span style=\"color: #008000; text-decoration-color: #008000\">\"id\"</span>: <span style=\"color: #008000; text-decoration-color: #008000\">\"text-similarity-curie-001\"</span>,\n",
       "      <span style=\"color: #008000; text-decoration-color: #008000\">\"object\"</span>: <span style=\"color: #008000; text-decoration-color: #008000\">\"engine\"</span>,\n",
       "      <span style=\"color: #008000; text-decoration-color: #008000\">\"owner\"</span>: <span style=\"color: #008000; text-decoration-color: #008000\">\"openai-dev\"</span>,\n",
       "      <span style=\"color: #008000; text-decoration-color: #008000\">\"permissions\"</span>: null,\n",
       "      <span style=\"color: #008000; text-decoration-color: #008000\">\"ready\"</span>: true\n",
       "    <span style=\"font-weight: bold\">}</span>,\n",
       "    <span style=\"font-weight: bold\">{</span>\n",
       "      <span style=\"color: #008000; text-decoration-color: #008000\">\"created\"</span>: null,\n",
       "      <span style=\"color: #008000; text-decoration-color: #008000\">\"id\"</span>: <span style=\"color: #008000; text-decoration-color: #008000\">\"code-search-ada-code-001\"</span>,\n",
       "      <span style=\"color: #008000; text-decoration-color: #008000\">\"object\"</span>: <span style=\"color: #008000; text-decoration-color: #008000\">\"engine\"</span>,\n",
       "      <span style=\"color: #008000; text-decoration-color: #008000\">\"owner\"</span>: <span style=\"color: #008000; text-decoration-color: #008000\">\"openai-dev\"</span>,\n",
       "      <span style=\"color: #008000; text-decoration-color: #008000\">\"permissions\"</span>: null,\n",
       "      <span style=\"color: #008000; text-decoration-color: #008000\">\"ready\"</span>: true\n",
       "    <span style=\"font-weight: bold\">}</span>,\n",
       "    <span style=\"font-weight: bold\">{</span>\n",
       "      <span style=\"color: #008000; text-decoration-color: #008000\">\"created\"</span>: null,\n",
       "      <span style=\"color: #008000; text-decoration-color: #008000\">\"id\"</span>: <span style=\"color: #008000; text-decoration-color: #008000\">\"ada-search-query\"</span>,\n",
       "      <span style=\"color: #008000; text-decoration-color: #008000\">\"object\"</span>: <span style=\"color: #008000; text-decoration-color: #008000\">\"engine\"</span>,\n",
       "      <span style=\"color: #008000; text-decoration-color: #008000\">\"owner\"</span>: <span style=\"color: #008000; text-decoration-color: #008000\">\"openai-dev\"</span>,\n",
       "      <span style=\"color: #008000; text-decoration-color: #008000\">\"permissions\"</span>: null,\n",
       "      <span style=\"color: #008000; text-decoration-color: #008000\">\"ready\"</span>: true\n",
       "    <span style=\"font-weight: bold\">}</span>,\n",
       "    <span style=\"font-weight: bold\">{</span>\n",
       "      <span style=\"color: #008000; text-decoration-color: #008000\">\"created\"</span>: null,\n",
       "      <span style=\"color: #008000; text-decoration-color: #008000\">\"id\"</span>: <span style=\"color: #008000; text-decoration-color: #008000\">\"text-search-davinci-query-001\"</span>,\n",
       "      <span style=\"color: #008000; text-decoration-color: #008000\">\"object\"</span>: <span style=\"color: #008000; text-decoration-color: #008000\">\"engine\"</span>,\n",
       "      <span style=\"color: #008000; text-decoration-color: #008000\">\"owner\"</span>: <span style=\"color: #008000; text-decoration-color: #008000\">\"openai-dev\"</span>,\n",
       "      <span style=\"color: #008000; text-decoration-color: #008000\">\"permissions\"</span>: null,\n",
       "      <span style=\"color: #008000; text-decoration-color: #008000\">\"ready\"</span>: true\n",
       "    <span style=\"font-weight: bold\">}</span>,\n",
       "    <span style=\"font-weight: bold\">{</span>\n",
       "      <span style=\"color: #008000; text-decoration-color: #008000\">\"created\"</span>: null,\n",
       "      <span style=\"color: #008000; text-decoration-color: #008000\">\"id\"</span>: <span style=\"color: #008000; text-decoration-color: #008000\">\"curie-search-query\"</span>,\n",
       "      <span style=\"color: #008000; text-decoration-color: #008000\">\"object\"</span>: <span style=\"color: #008000; text-decoration-color: #008000\">\"engine\"</span>,\n",
       "      <span style=\"color: #008000; text-decoration-color: #008000\">\"owner\"</span>: <span style=\"color: #008000; text-decoration-color: #008000\">\"openai-dev\"</span>,\n",
       "      <span style=\"color: #008000; text-decoration-color: #008000\">\"permissions\"</span>: null,\n",
       "      <span style=\"color: #008000; text-decoration-color: #008000\">\"ready\"</span>: true\n",
       "    <span style=\"font-weight: bold\">}</span>,\n",
       "    <span style=\"font-weight: bold\">{</span>\n",
       "      <span style=\"color: #008000; text-decoration-color: #008000\">\"created\"</span>: null,\n",
       "      <span style=\"color: #008000; text-decoration-color: #008000\">\"id\"</span>: <span style=\"color: #008000; text-decoration-color: #008000\">\"davinci-search-query\"</span>,\n",
       "      <span style=\"color: #008000; text-decoration-color: #008000\">\"object\"</span>: <span style=\"color: #008000; text-decoration-color: #008000\">\"engine\"</span>,\n",
       "      <span style=\"color: #008000; text-decoration-color: #008000\">\"owner\"</span>: <span style=\"color: #008000; text-decoration-color: #008000\">\"openai-dev\"</span>,\n",
       "      <span style=\"color: #008000; text-decoration-color: #008000\">\"permissions\"</span>: null,\n",
       "      <span style=\"color: #008000; text-decoration-color: #008000\">\"ready\"</span>: true\n",
       "    <span style=\"font-weight: bold\">}</span>,\n",
       "    <span style=\"font-weight: bold\">{</span>\n",
       "      <span style=\"color: #008000; text-decoration-color: #008000\">\"created\"</span>: null,\n",
       "      <span style=\"color: #008000; text-decoration-color: #008000\">\"id\"</span>: <span style=\"color: #008000; text-decoration-color: #008000\">\"babbage-search-document\"</span>,\n",
       "      <span style=\"color: #008000; text-decoration-color: #008000\">\"object\"</span>: <span style=\"color: #008000; text-decoration-color: #008000\">\"engine\"</span>,\n",
       "      <span style=\"color: #008000; text-decoration-color: #008000\">\"owner\"</span>: <span style=\"color: #008000; text-decoration-color: #008000\">\"openai-dev\"</span>,\n",
       "      <span style=\"color: #008000; text-decoration-color: #008000\">\"permissions\"</span>: null,\n",
       "      <span style=\"color: #008000; text-decoration-color: #008000\">\"ready\"</span>: true\n",
       "    <span style=\"font-weight: bold\">}</span>,\n",
       "    <span style=\"font-weight: bold\">{</span>\n",
       "      <span style=\"color: #008000; text-decoration-color: #008000\">\"created\"</span>: null,\n",
       "      <span style=\"color: #008000; text-decoration-color: #008000\">\"id\"</span>: <span style=\"color: #008000; text-decoration-color: #008000\">\"ada-search-document\"</span>,\n",
       "      <span style=\"color: #008000; text-decoration-color: #008000\">\"object\"</span>: <span style=\"color: #008000; text-decoration-color: #008000\">\"engine\"</span>,\n",
       "      <span style=\"color: #008000; text-decoration-color: #008000\">\"owner\"</span>: <span style=\"color: #008000; text-decoration-color: #008000\">\"openai-dev\"</span>,\n",
       "      <span style=\"color: #008000; text-decoration-color: #008000\">\"permissions\"</span>: null,\n",
       "      <span style=\"color: #008000; text-decoration-color: #008000\">\"ready\"</span>: true\n",
       "    <span style=\"font-weight: bold\">}</span>,\n",
       "    <span style=\"font-weight: bold\">{</span>\n",
       "      <span style=\"color: #008000; text-decoration-color: #008000\">\"created\"</span>: null,\n",
       "      <span style=\"color: #008000; text-decoration-color: #008000\">\"id\"</span>: <span style=\"color: #008000; text-decoration-color: #008000\">\"text-search-curie-query-001\"</span>,\n",
       "      <span style=\"color: #008000; text-decoration-color: #008000\">\"object\"</span>: <span style=\"color: #008000; text-decoration-color: #008000\">\"engine\"</span>,\n",
       "      <span style=\"color: #008000; text-decoration-color: #008000\">\"owner\"</span>: <span style=\"color: #008000; text-decoration-color: #008000\">\"openai-dev\"</span>,\n",
       "      <span style=\"color: #008000; text-decoration-color: #008000\">\"permissions\"</span>: null,\n",
       "      <span style=\"color: #008000; text-decoration-color: #008000\">\"ready\"</span>: true\n",
       "    <span style=\"font-weight: bold\">}</span>,\n",
       "    <span style=\"font-weight: bold\">{</span>\n",
       "      <span style=\"color: #008000; text-decoration-color: #008000\">\"created\"</span>: null,\n",
       "      <span style=\"color: #008000; text-decoration-color: #008000\">\"id\"</span>: <span style=\"color: #008000; text-decoration-color: #008000\">\"text-search-babbage-doc-001\"</span>,\n",
       "      <span style=\"color: #008000; text-decoration-color: #008000\">\"object\"</span>: <span style=\"color: #008000; text-decoration-color: #008000\">\"engine\"</span>,\n",
       "      <span style=\"color: #008000; text-decoration-color: #008000\">\"owner\"</span>: <span style=\"color: #008000; text-decoration-color: #008000\">\"openai-dev\"</span>,\n",
       "      <span style=\"color: #008000; text-decoration-color: #008000\">\"permissions\"</span>: null,\n",
       "      <span style=\"color: #008000; text-decoration-color: #008000\">\"ready\"</span>: true\n",
       "    <span style=\"font-weight: bold\">}</span>,\n",
       "    <span style=\"font-weight: bold\">{</span>\n",
       "      <span style=\"color: #008000; text-decoration-color: #008000\">\"created\"</span>: null,\n",
       "      <span style=\"color: #008000; text-decoration-color: #008000\">\"id\"</span>: <span style=\"color: #008000; text-decoration-color: #008000\">\"curie-search-document\"</span>,\n",
       "      <span style=\"color: #008000; text-decoration-color: #008000\">\"object\"</span>: <span style=\"color: #008000; text-decoration-color: #008000\">\"engine\"</span>,\n",
       "      <span style=\"color: #008000; text-decoration-color: #008000\">\"owner\"</span>: <span style=\"color: #008000; text-decoration-color: #008000\">\"openai-dev\"</span>,\n",
       "      <span style=\"color: #008000; text-decoration-color: #008000\">\"permissions\"</span>: null,\n",
       "      <span style=\"color: #008000; text-decoration-color: #008000\">\"ready\"</span>: true\n",
       "    <span style=\"font-weight: bold\">}</span>,\n",
       "    <span style=\"font-weight: bold\">{</span>\n",
       "      <span style=\"color: #008000; text-decoration-color: #008000\">\"created\"</span>: null,\n",
       "      <span style=\"color: #008000; text-decoration-color: #008000\">\"id\"</span>: <span style=\"color: #008000; text-decoration-color: #008000\">\"text-search-curie-doc-001\"</span>,\n",
       "      <span style=\"color: #008000; text-decoration-color: #008000\">\"object\"</span>: <span style=\"color: #008000; text-decoration-color: #008000\">\"engine\"</span>,\n",
       "      <span style=\"color: #008000; text-decoration-color: #008000\">\"owner\"</span>: <span style=\"color: #008000; text-decoration-color: #008000\">\"openai-dev\"</span>,\n",
       "      <span style=\"color: #008000; text-decoration-color: #008000\">\"permissions\"</span>: null,\n",
       "      <span style=\"color: #008000; text-decoration-color: #008000\">\"ready\"</span>: true\n",
       "    <span style=\"font-weight: bold\">}</span>,\n",
       "    <span style=\"font-weight: bold\">{</span>\n",
       "      <span style=\"color: #008000; text-decoration-color: #008000\">\"created\"</span>: null,\n",
       "      <span style=\"color: #008000; text-decoration-color: #008000\">\"id\"</span>: <span style=\"color: #008000; text-decoration-color: #008000\">\"babbage-search-query\"</span>,\n",
       "      <span style=\"color: #008000; text-decoration-color: #008000\">\"object\"</span>: <span style=\"color: #008000; text-decoration-color: #008000\">\"engine\"</span>,\n",
       "      <span style=\"color: #008000; text-decoration-color: #008000\">\"owner\"</span>: <span style=\"color: #008000; text-decoration-color: #008000\">\"openai-dev\"</span>,\n",
       "      <span style=\"color: #008000; text-decoration-color: #008000\">\"permissions\"</span>: null,\n",
       "      <span style=\"color: #008000; text-decoration-color: #008000\">\"ready\"</span>: true\n",
       "    <span style=\"font-weight: bold\">}</span>,\n",
       "    <span style=\"font-weight: bold\">{</span>\n",
       "      <span style=\"color: #008000; text-decoration-color: #008000\">\"created\"</span>: null,\n",
       "      <span style=\"color: #008000; text-decoration-color: #008000\">\"id\"</span>: <span style=\"color: #008000; text-decoration-color: #008000\">\"text-babbage-001\"</span>,\n",
       "      <span style=\"color: #008000; text-decoration-color: #008000\">\"object\"</span>: <span style=\"color: #008000; text-decoration-color: #008000\">\"engine\"</span>,\n",
       "      <span style=\"color: #008000; text-decoration-color: #008000\">\"owner\"</span>: <span style=\"color: #008000; text-decoration-color: #008000\">\"openai\"</span>,\n",
       "      <span style=\"color: #008000; text-decoration-color: #008000\">\"permissions\"</span>: null,\n",
       "      <span style=\"color: #008000; text-decoration-color: #008000\">\"ready\"</span>: true\n",
       "    <span style=\"font-weight: bold\">}</span>,\n",
       "    <span style=\"font-weight: bold\">{</span>\n",
       "      <span style=\"color: #008000; text-decoration-color: #008000\">\"created\"</span>: null,\n",
       "      <span style=\"color: #008000; text-decoration-color: #008000\">\"id\"</span>: <span style=\"color: #008000; text-decoration-color: #008000\">\"gpt-4\"</span>,\n",
       "      <span style=\"color: #008000; text-decoration-color: #008000\">\"object\"</span>: <span style=\"color: #008000; text-decoration-color: #008000\">\"engine\"</span>,\n",
       "      <span style=\"color: #008000; text-decoration-color: #008000\">\"owner\"</span>: <span style=\"color: #008000; text-decoration-color: #008000\">\"openai\"</span>,\n",
       "      <span style=\"color: #008000; text-decoration-color: #008000\">\"permissions\"</span>: null,\n",
       "      <span style=\"color: #008000; text-decoration-color: #008000\">\"ready\"</span>: true\n",
       "    <span style=\"font-weight: bold\">}</span>,\n",
       "    <span style=\"font-weight: bold\">{</span>\n",
       "      <span style=\"color: #008000; text-decoration-color: #008000\">\"created\"</span>: null,\n",
       "      <span style=\"color: #008000; text-decoration-color: #008000\">\"id\"</span>: <span style=\"color: #008000; text-decoration-color: #008000\">\"text-search-davinci-doc-001\"</span>,\n",
       "      <span style=\"color: #008000; text-decoration-color: #008000\">\"object\"</span>: <span style=\"color: #008000; text-decoration-color: #008000\">\"engine\"</span>,\n",
       "      <span style=\"color: #008000; text-decoration-color: #008000\">\"owner\"</span>: <span style=\"color: #008000; text-decoration-color: #008000\">\"openai-dev\"</span>,\n",
       "      <span style=\"color: #008000; text-decoration-color: #008000\">\"permissions\"</span>: null,\n",
       "      <span style=\"color: #008000; text-decoration-color: #008000\">\"ready\"</span>: true\n",
       "    <span style=\"font-weight: bold\">}</span>,\n",
       "    <span style=\"font-weight: bold\">{</span>\n",
       "      <span style=\"color: #008000; text-decoration-color: #008000\">\"created\"</span>: null,\n",
       "      <span style=\"color: #008000; text-decoration-color: #008000\">\"id\"</span>: <span style=\"color: #008000; text-decoration-color: #008000\">\"gpt-4-0314\"</span>,\n",
       "      <span style=\"color: #008000; text-decoration-color: #008000\">\"object\"</span>: <span style=\"color: #008000; text-decoration-color: #008000\">\"engine\"</span>,\n",
       "      <span style=\"color: #008000; text-decoration-color: #008000\">\"owner\"</span>: <span style=\"color: #008000; text-decoration-color: #008000\">\"openai\"</span>,\n",
       "      <span style=\"color: #008000; text-decoration-color: #008000\">\"permissions\"</span>: null,\n",
       "      <span style=\"color: #008000; text-decoration-color: #008000\">\"ready\"</span>: true\n",
       "    <span style=\"font-weight: bold\">}</span>,\n",
       "    <span style=\"font-weight: bold\">{</span>\n",
       "      <span style=\"color: #008000; text-decoration-color: #008000\">\"created\"</span>: null,\n",
       "      <span style=\"color: #008000; text-decoration-color: #008000\">\"id\"</span>: <span style=\"color: #008000; text-decoration-color: #008000\">\"text-search-babbage-query-001\"</span>,\n",
       "      <span style=\"color: #008000; text-decoration-color: #008000\">\"object\"</span>: <span style=\"color: #008000; text-decoration-color: #008000\">\"engine\"</span>,\n",
       "      <span style=\"color: #008000; text-decoration-color: #008000\">\"owner\"</span>: <span style=\"color: #008000; text-decoration-color: #008000\">\"openai-dev\"</span>,\n",
       "      <span style=\"color: #008000; text-decoration-color: #008000\">\"permissions\"</span>: null,\n",
       "      <span style=\"color: #008000; text-decoration-color: #008000\">\"ready\"</span>: true\n",
       "    <span style=\"font-weight: bold\">}</span>,\n",
       "    <span style=\"font-weight: bold\">{</span>\n",
       "      <span style=\"color: #008000; text-decoration-color: #008000\">\"created\"</span>: null,\n",
       "      <span style=\"color: #008000; text-decoration-color: #008000\">\"id\"</span>: <span style=\"color: #008000; text-decoration-color: #008000\">\"curie-similarity\"</span>,\n",
       "      <span style=\"color: #008000; text-decoration-color: #008000\">\"object\"</span>: <span style=\"color: #008000; text-decoration-color: #008000\">\"engine\"</span>,\n",
       "      <span style=\"color: #008000; text-decoration-color: #008000\">\"owner\"</span>: <span style=\"color: #008000; text-decoration-color: #008000\">\"openai-dev\"</span>,\n",
       "      <span style=\"color: #008000; text-decoration-color: #008000\">\"permissions\"</span>: null,\n",
       "      <span style=\"color: #008000; text-decoration-color: #008000\">\"ready\"</span>: true\n",
       "    <span style=\"font-weight: bold\">}</span>,\n",
       "    <span style=\"font-weight: bold\">{</span>\n",
       "      <span style=\"color: #008000; text-decoration-color: #008000\">\"created\"</span>: null,\n",
       "      <span style=\"color: #008000; text-decoration-color: #008000\">\"id\"</span>: <span style=\"color: #008000; text-decoration-color: #008000\">\"curie\"</span>,\n",
       "      <span style=\"color: #008000; text-decoration-color: #008000\">\"object\"</span>: <span style=\"color: #008000; text-decoration-color: #008000\">\"engine\"</span>,\n",
       "      <span style=\"color: #008000; text-decoration-color: #008000\">\"owner\"</span>: <span style=\"color: #008000; text-decoration-color: #008000\">\"openai\"</span>,\n",
       "      <span style=\"color: #008000; text-decoration-color: #008000\">\"permissions\"</span>: null,\n",
       "      <span style=\"color: #008000; text-decoration-color: #008000\">\"ready\"</span>: true\n",
       "    <span style=\"font-weight: bold\">}</span>,\n",
       "    <span style=\"font-weight: bold\">{</span>\n",
       "      <span style=\"color: #008000; text-decoration-color: #008000\">\"created\"</span>: null,\n",
       "      <span style=\"color: #008000; text-decoration-color: #008000\">\"id\"</span>: <span style=\"color: #008000; text-decoration-color: #008000\">\"text-similarity-davinci-001\"</span>,\n",
       "      <span style=\"color: #008000; text-decoration-color: #008000\">\"object\"</span>: <span style=\"color: #008000; text-decoration-color: #008000\">\"engine\"</span>,\n",
       "      <span style=\"color: #008000; text-decoration-color: #008000\">\"owner\"</span>: <span style=\"color: #008000; text-decoration-color: #008000\">\"openai-dev\"</span>,\n",
       "      <span style=\"color: #008000; text-decoration-color: #008000\">\"permissions\"</span>: null,\n",
       "      <span style=\"color: #008000; text-decoration-color: #008000\">\"ready\"</span>: true\n",
       "    <span style=\"font-weight: bold\">}</span>,\n",
       "    <span style=\"font-weight: bold\">{</span>\n",
       "      <span style=\"color: #008000; text-decoration-color: #008000\">\"created\"</span>: null,\n",
       "      <span style=\"color: #008000; text-decoration-color: #008000\">\"id\"</span>: <span style=\"color: #008000; text-decoration-color: #008000\">\"text-davinci-002\"</span>,\n",
       "      <span style=\"color: #008000; text-decoration-color: #008000\">\"object\"</span>: <span style=\"color: #008000; text-decoration-color: #008000\">\"engine\"</span>,\n",
       "      <span style=\"color: #008000; text-decoration-color: #008000\">\"owner\"</span>: <span style=\"color: #008000; text-decoration-color: #008000\">\"openai\"</span>,\n",
       "      <span style=\"color: #008000; text-decoration-color: #008000\">\"permissions\"</span>: null,\n",
       "      <span style=\"color: #008000; text-decoration-color: #008000\">\"ready\"</span>: true\n",
       "    <span style=\"font-weight: bold\">}</span>,\n",
       "    <span style=\"font-weight: bold\">{</span>\n",
       "      <span style=\"color: #008000; text-decoration-color: #008000\">\"created\"</span>: null,\n",
       "      <span style=\"color: #008000; text-decoration-color: #008000\">\"id\"</span>: <span style=\"color: #008000; text-decoration-color: #008000\">\"davinci-similarity\"</span>,\n",
       "      <span style=\"color: #008000; text-decoration-color: #008000\">\"object\"</span>: <span style=\"color: #008000; text-decoration-color: #008000\">\"engine\"</span>,\n",
       "      <span style=\"color: #008000; text-decoration-color: #008000\">\"owner\"</span>: <span style=\"color: #008000; text-decoration-color: #008000\">\"openai-dev\"</span>,\n",
       "      <span style=\"color: #008000; text-decoration-color: #008000\">\"permissions\"</span>: null,\n",
       "      <span style=\"color: #008000; text-decoration-color: #008000\">\"ready\"</span>: true\n",
       "    <span style=\"font-weight: bold\">}</span>\n",
       "  <span style=\"font-weight: bold\">]</span>,\n",
       "  <span style=\"color: #008000; text-decoration-color: #008000\">\"object\"</span>: <span style=\"color: #008000; text-decoration-color: #008000\">\"list\"</span>\n",
       "<span style=\"font-weight: bold\">}</span>\n",
       "</pre>\n"
      ],
      "text/plain": [
       "\u001b[1m<\u001b[0m\u001b[1;95mOpenAIObject\u001b[0m\u001b[39m list at \u001b[0m\u001b[1;36m0x158992270\u001b[0m\u001b[1m>\u001b[0m JSON: \u001b[1m{\u001b[0m\n",
       "  \u001b[32m\"data\"\u001b[0m: \u001b[1m[\u001b[0m\n",
       "    \u001b[1m{\u001b[0m\n",
       "      \u001b[32m\"created\"\u001b[0m: null,\n",
       "      \u001b[32m\"id\"\u001b[0m: \u001b[32m\"babbage\"\u001b[0m,\n",
       "      \u001b[32m\"object\"\u001b[0m: \u001b[32m\"engine\"\u001b[0m,\n",
       "      \u001b[32m\"owner\"\u001b[0m: \u001b[32m\"openai\"\u001b[0m,\n",
       "      \u001b[32m\"permissions\"\u001b[0m: null,\n",
       "      \u001b[32m\"ready\"\u001b[0m: true\n",
       "    \u001b[1m}\u001b[0m,\n",
       "    \u001b[1m{\u001b[0m\n",
       "      \u001b[32m\"created\"\u001b[0m: null,\n",
       "      \u001b[32m\"id\"\u001b[0m: \u001b[32m\"davinci\"\u001b[0m,\n",
       "      \u001b[32m\"object\"\u001b[0m: \u001b[32m\"engine\"\u001b[0m,\n",
       "      \u001b[32m\"owner\"\u001b[0m: \u001b[32m\"openai\"\u001b[0m,\n",
       "      \u001b[32m\"permissions\"\u001b[0m: null,\n",
       "      \u001b[32m\"ready\"\u001b[0m: true\n",
       "    \u001b[1m}\u001b[0m,\n",
       "    \u001b[1m{\u001b[0m\n",
       "      \u001b[32m\"created\"\u001b[0m: null,\n",
       "      \u001b[32m\"id\"\u001b[0m: \u001b[32m\"text-davinci-edit-001\"\u001b[0m,\n",
       "      \u001b[32m\"object\"\u001b[0m: \u001b[32m\"engine\"\u001b[0m,\n",
       "      \u001b[32m\"owner\"\u001b[0m: \u001b[32m\"openai\"\u001b[0m,\n",
       "      \u001b[32m\"permissions\"\u001b[0m: null,\n",
       "      \u001b[32m\"ready\"\u001b[0m: true\n",
       "    \u001b[1m}\u001b[0m,\n",
       "    \u001b[1m{\u001b[0m\n",
       "      \u001b[32m\"created\"\u001b[0m: null,\n",
       "      \u001b[32m\"id\"\u001b[0m: \u001b[32m\"babbage-code-search-code\"\u001b[0m,\n",
       "      \u001b[32m\"object\"\u001b[0m: \u001b[32m\"engine\"\u001b[0m,\n",
       "      \u001b[32m\"owner\"\u001b[0m: \u001b[32m\"openai-dev\"\u001b[0m,\n",
       "      \u001b[32m\"permissions\"\u001b[0m: null,\n",
       "      \u001b[32m\"ready\"\u001b[0m: true\n",
       "    \u001b[1m}\u001b[0m,\n",
       "    \u001b[1m{\u001b[0m\n",
       "      \u001b[32m\"created\"\u001b[0m: null,\n",
       "      \u001b[32m\"id\"\u001b[0m: \u001b[32m\"text-similarity-babbage-001\"\u001b[0m,\n",
       "      \u001b[32m\"object\"\u001b[0m: \u001b[32m\"engine\"\u001b[0m,\n",
       "      \u001b[32m\"owner\"\u001b[0m: \u001b[32m\"openai-dev\"\u001b[0m,\n",
       "      \u001b[32m\"permissions\"\u001b[0m: null,\n",
       "      \u001b[32m\"ready\"\u001b[0m: true\n",
       "    \u001b[1m}\u001b[0m,\n",
       "    \u001b[1m{\u001b[0m\n",
       "      \u001b[32m\"created\"\u001b[0m: null,\n",
       "      \u001b[32m\"id\"\u001b[0m: \u001b[32m\"gpt-3.5-turbo\"\u001b[0m,\n",
       "      \u001b[32m\"object\"\u001b[0m: \u001b[32m\"engine\"\u001b[0m,\n",
       "      \u001b[32m\"owner\"\u001b[0m: \u001b[32m\"openai\"\u001b[0m,\n",
       "      \u001b[32m\"permissions\"\u001b[0m: null,\n",
       "      \u001b[32m\"ready\"\u001b[0m: true\n",
       "    \u001b[1m}\u001b[0m,\n",
       "    \u001b[1m{\u001b[0m\n",
       "      \u001b[32m\"created\"\u001b[0m: null,\n",
       "      \u001b[32m\"id\"\u001b[0m: \u001b[32m\"code-davinci-edit-001\"\u001b[0m,\n",
       "      \u001b[32m\"object\"\u001b[0m: \u001b[32m\"engine\"\u001b[0m,\n",
       "      \u001b[32m\"owner\"\u001b[0m: \u001b[32m\"openai\"\u001b[0m,\n",
       "      \u001b[32m\"permissions\"\u001b[0m: null,\n",
       "      \u001b[32m\"ready\"\u001b[0m: true\n",
       "    \u001b[1m}\u001b[0m,\n",
       "    \u001b[1m{\u001b[0m\n",
       "      \u001b[32m\"created\"\u001b[0m: null,\n",
       "      \u001b[32m\"id\"\u001b[0m: \u001b[32m\"text-davinci-001\"\u001b[0m,\n",
       "      \u001b[32m\"object\"\u001b[0m: \u001b[32m\"engine\"\u001b[0m,\n",
       "      \u001b[32m\"owner\"\u001b[0m: \u001b[32m\"openai\"\u001b[0m,\n",
       "      \u001b[32m\"permissions\"\u001b[0m: null,\n",
       "      \u001b[32m\"ready\"\u001b[0m: true\n",
       "    \u001b[1m}\u001b[0m,\n",
       "    \u001b[1m{\u001b[0m\n",
       "      \u001b[32m\"created\"\u001b[0m: null,\n",
       "      \u001b[32m\"id\"\u001b[0m: \u001b[32m\"ada\"\u001b[0m,\n",
       "      \u001b[32m\"object\"\u001b[0m: \u001b[32m\"engine\"\u001b[0m,\n",
       "      \u001b[32m\"owner\"\u001b[0m: \u001b[32m\"openai\"\u001b[0m,\n",
       "      \u001b[32m\"permissions\"\u001b[0m: null,\n",
       "      \u001b[32m\"ready\"\u001b[0m: true\n",
       "    \u001b[1m}\u001b[0m,\n",
       "    \u001b[1m{\u001b[0m\n",
       "      \u001b[32m\"created\"\u001b[0m: null,\n",
       "      \u001b[32m\"id\"\u001b[0m: \u001b[32m\"babbage-code-search-text\"\u001b[0m,\n",
       "      \u001b[32m\"object\"\u001b[0m: \u001b[32m\"engine\"\u001b[0m,\n",
       "      \u001b[32m\"owner\"\u001b[0m: \u001b[32m\"openai-dev\"\u001b[0m,\n",
       "      \u001b[32m\"permissions\"\u001b[0m: null,\n",
       "      \u001b[32m\"ready\"\u001b[0m: true\n",
       "    \u001b[1m}\u001b[0m,\n",
       "    \u001b[1m{\u001b[0m\n",
       "      \u001b[32m\"created\"\u001b[0m: null,\n",
       "      \u001b[32m\"id\"\u001b[0m: \u001b[32m\"babbage-similarity\"\u001b[0m,\n",
       "      \u001b[32m\"object\"\u001b[0m: \u001b[32m\"engine\"\u001b[0m,\n",
       "      \u001b[32m\"owner\"\u001b[0m: \u001b[32m\"openai-dev\"\u001b[0m,\n",
       "      \u001b[32m\"permissions\"\u001b[0m: null,\n",
       "      \u001b[32m\"ready\"\u001b[0m: true\n",
       "    \u001b[1m}\u001b[0m,\n",
       "    \u001b[1m{\u001b[0m\n",
       "      \u001b[32m\"created\"\u001b[0m: null,\n",
       "      \u001b[32m\"id\"\u001b[0m: \u001b[32m\"gpt-3.5-turbo-0301\"\u001b[0m,\n",
       "      \u001b[32m\"object\"\u001b[0m: \u001b[32m\"engine\"\u001b[0m,\n",
       "      \u001b[32m\"owner\"\u001b[0m: \u001b[32m\"openai\"\u001b[0m,\n",
       "      \u001b[32m\"permissions\"\u001b[0m: null,\n",
       "      \u001b[32m\"ready\"\u001b[0m: true\n",
       "    \u001b[1m}\u001b[0m,\n",
       "    \u001b[1m{\u001b[0m\n",
       "      \u001b[32m\"created\"\u001b[0m: null,\n",
       "      \u001b[32m\"id\"\u001b[0m: \u001b[32m\"code-search-babbage-text-001\"\u001b[0m,\n",
       "      \u001b[32m\"object\"\u001b[0m: \u001b[32m\"engine\"\u001b[0m,\n",
       "      \u001b[32m\"owner\"\u001b[0m: \u001b[32m\"openai-dev\"\u001b[0m,\n",
       "      \u001b[32m\"permissions\"\u001b[0m: null,\n",
       "      \u001b[32m\"ready\"\u001b[0m: true\n",
       "    \u001b[1m}\u001b[0m,\n",
       "    \u001b[1m{\u001b[0m\n",
       "      \u001b[32m\"created\"\u001b[0m: null,\n",
       "      \u001b[32m\"id\"\u001b[0m: \u001b[32m\"text-curie-001\"\u001b[0m,\n",
       "      \u001b[32m\"object\"\u001b[0m: \u001b[32m\"engine\"\u001b[0m,\n",
       "      \u001b[32m\"owner\"\u001b[0m: \u001b[32m\"openai\"\u001b[0m,\n",
       "      \u001b[32m\"permissions\"\u001b[0m: null,\n",
       "      \u001b[32m\"ready\"\u001b[0m: true\n",
       "    \u001b[1m}\u001b[0m,\n",
       "    \u001b[1m{\u001b[0m\n",
       "      \u001b[32m\"created\"\u001b[0m: null,\n",
       "      \u001b[32m\"id\"\u001b[0m: \u001b[32m\"whisper-1\"\u001b[0m,\n",
       "      \u001b[32m\"object\"\u001b[0m: \u001b[32m\"engine\"\u001b[0m,\n",
       "      \u001b[32m\"owner\"\u001b[0m: \u001b[32m\"openai-internal\"\u001b[0m,\n",
       "      \u001b[32m\"permissions\"\u001b[0m: null,\n",
       "      \u001b[32m\"ready\"\u001b[0m: true\n",
       "    \u001b[1m}\u001b[0m,\n",
       "    \u001b[1m{\u001b[0m\n",
       "      \u001b[32m\"created\"\u001b[0m: null,\n",
       "      \u001b[32m\"id\"\u001b[0m: \u001b[32m\"code-search-babbage-code-001\"\u001b[0m,\n",
       "      \u001b[32m\"object\"\u001b[0m: \u001b[32m\"engine\"\u001b[0m,\n",
       "      \u001b[32m\"owner\"\u001b[0m: \u001b[32m\"openai-dev\"\u001b[0m,\n",
       "      \u001b[32m\"permissions\"\u001b[0m: null,\n",
       "      \u001b[32m\"ready\"\u001b[0m: true\n",
       "    \u001b[1m}\u001b[0m,\n",
       "    \u001b[1m{\u001b[0m\n",
       "      \u001b[32m\"created\"\u001b[0m: null,\n",
       "      \u001b[32m\"id\"\u001b[0m: \u001b[32m\"text-davinci-003\"\u001b[0m,\n",
       "      \u001b[32m\"object\"\u001b[0m: \u001b[32m\"engine\"\u001b[0m,\n",
       "      \u001b[32m\"owner\"\u001b[0m: \u001b[32m\"openai-internal\"\u001b[0m,\n",
       "      \u001b[32m\"permissions\"\u001b[0m: null,\n",
       "      \u001b[32m\"ready\"\u001b[0m: true\n",
       "    \u001b[1m}\u001b[0m,\n",
       "    \u001b[1m{\u001b[0m\n",
       "      \u001b[32m\"created\"\u001b[0m: null,\n",
       "      \u001b[32m\"id\"\u001b[0m: \u001b[32m\"text-ada-001\"\u001b[0m,\n",
       "      \u001b[32m\"object\"\u001b[0m: \u001b[32m\"engine\"\u001b[0m,\n",
       "      \u001b[32m\"owner\"\u001b[0m: \u001b[32m\"openai\"\u001b[0m,\n",
       "      \u001b[32m\"permissions\"\u001b[0m: null,\n",
       "      \u001b[32m\"ready\"\u001b[0m: true\n",
       "    \u001b[1m}\u001b[0m,\n",
       "    \u001b[1m{\u001b[0m\n",
       "      \u001b[32m\"created\"\u001b[0m: null,\n",
       "      \u001b[32m\"id\"\u001b[0m: \u001b[32m\"text-embedding-ada-002\"\u001b[0m,\n",
       "      \u001b[32m\"object\"\u001b[0m: \u001b[32m\"engine\"\u001b[0m,\n",
       "      \u001b[32m\"owner\"\u001b[0m: \u001b[32m\"openai-internal\"\u001b[0m,\n",
       "      \u001b[32m\"permissions\"\u001b[0m: null,\n",
       "      \u001b[32m\"ready\"\u001b[0m: true\n",
       "    \u001b[1m}\u001b[0m,\n",
       "    \u001b[1m{\u001b[0m\n",
       "      \u001b[32m\"created\"\u001b[0m: null,\n",
       "      \u001b[32m\"id\"\u001b[0m: \u001b[32m\"text-similarity-ada-001\"\u001b[0m,\n",
       "      \u001b[32m\"object\"\u001b[0m: \u001b[32m\"engine\"\u001b[0m,\n",
       "      \u001b[32m\"owner\"\u001b[0m: \u001b[32m\"openai-dev\"\u001b[0m,\n",
       "      \u001b[32m\"permissions\"\u001b[0m: null,\n",
       "      \u001b[32m\"ready\"\u001b[0m: true\n",
       "    \u001b[1m}\u001b[0m,\n",
       "    \u001b[1m{\u001b[0m\n",
       "      \u001b[32m\"created\"\u001b[0m: null,\n",
       "      \u001b[32m\"id\"\u001b[0m: \u001b[32m\"curie-instruct-beta\"\u001b[0m,\n",
       "      \u001b[32m\"object\"\u001b[0m: \u001b[32m\"engine\"\u001b[0m,\n",
       "      \u001b[32m\"owner\"\u001b[0m: \u001b[32m\"openai\"\u001b[0m,\n",
       "      \u001b[32m\"permissions\"\u001b[0m: null,\n",
       "      \u001b[32m\"ready\"\u001b[0m: true\n",
       "    \u001b[1m}\u001b[0m,\n",
       "    \u001b[1m{\u001b[0m\n",
       "      \u001b[32m\"created\"\u001b[0m: null,\n",
       "      \u001b[32m\"id\"\u001b[0m: \u001b[32m\"ada-code-search-code\"\u001b[0m,\n",
       "      \u001b[32m\"object\"\u001b[0m: \u001b[32m\"engine\"\u001b[0m,\n",
       "      \u001b[32m\"owner\"\u001b[0m: \u001b[32m\"openai-dev\"\u001b[0m,\n",
       "      \u001b[32m\"permissions\"\u001b[0m: null,\n",
       "      \u001b[32m\"ready\"\u001b[0m: true\n",
       "    \u001b[1m}\u001b[0m,\n",
       "    \u001b[1m{\u001b[0m\n",
       "      \u001b[32m\"created\"\u001b[0m: null,\n",
       "      \u001b[32m\"id\"\u001b[0m: \u001b[32m\"ada-similarity\"\u001b[0m,\n",
       "      \u001b[32m\"object\"\u001b[0m: \u001b[32m\"engine\"\u001b[0m,\n",
       "      \u001b[32m\"owner\"\u001b[0m: \u001b[32m\"openai-dev\"\u001b[0m,\n",
       "      \u001b[32m\"permissions\"\u001b[0m: null,\n",
       "      \u001b[32m\"ready\"\u001b[0m: true\n",
       "    \u001b[1m}\u001b[0m,\n",
       "    \u001b[1m{\u001b[0m\n",
       "      \u001b[32m\"created\"\u001b[0m: null,\n",
       "      \u001b[32m\"id\"\u001b[0m: \u001b[32m\"code-search-ada-text-001\"\u001b[0m,\n",
       "      \u001b[32m\"object\"\u001b[0m: \u001b[32m\"engine\"\u001b[0m,\n",
       "      \u001b[32m\"owner\"\u001b[0m: \u001b[32m\"openai-dev\"\u001b[0m,\n",
       "      \u001b[32m\"permissions\"\u001b[0m: null,\n",
       "      \u001b[32m\"ready\"\u001b[0m: true\n",
       "    \u001b[1m}\u001b[0m,\n",
       "    \u001b[1m{\u001b[0m\n",
       "      \u001b[32m\"created\"\u001b[0m: null,\n",
       "      \u001b[32m\"id\"\u001b[0m: \u001b[32m\"text-search-ada-query-001\"\u001b[0m,\n",
       "      \u001b[32m\"object\"\u001b[0m: \u001b[32m\"engine\"\u001b[0m,\n",
       "      \u001b[32m\"owner\"\u001b[0m: \u001b[32m\"openai-dev\"\u001b[0m,\n",
       "      \u001b[32m\"permissions\"\u001b[0m: null,\n",
       "      \u001b[32m\"ready\"\u001b[0m: true\n",
       "    \u001b[1m}\u001b[0m,\n",
       "    \u001b[1m{\u001b[0m\n",
       "      \u001b[32m\"created\"\u001b[0m: null,\n",
       "      \u001b[32m\"id\"\u001b[0m: \u001b[32m\"davinci-search-document\"\u001b[0m,\n",
       "      \u001b[32m\"object\"\u001b[0m: \u001b[32m\"engine\"\u001b[0m,\n",
       "      \u001b[32m\"owner\"\u001b[0m: \u001b[32m\"openai-dev\"\u001b[0m,\n",
       "      \u001b[32m\"permissions\"\u001b[0m: null,\n",
       "      \u001b[32m\"ready\"\u001b[0m: true\n",
       "    \u001b[1m}\u001b[0m,\n",
       "    \u001b[1m{\u001b[0m\n",
       "      \u001b[32m\"created\"\u001b[0m: null,\n",
       "      \u001b[32m\"id\"\u001b[0m: \u001b[32m\"ada-code-search-text\"\u001b[0m,\n",
       "      \u001b[32m\"object\"\u001b[0m: \u001b[32m\"engine\"\u001b[0m,\n",
       "      \u001b[32m\"owner\"\u001b[0m: \u001b[32m\"openai-dev\"\u001b[0m,\n",
       "      \u001b[32m\"permissions\"\u001b[0m: null,\n",
       "      \u001b[32m\"ready\"\u001b[0m: true\n",
       "    \u001b[1m}\u001b[0m,\n",
       "    \u001b[1m{\u001b[0m\n",
       "      \u001b[32m\"created\"\u001b[0m: null,\n",
       "      \u001b[32m\"id\"\u001b[0m: \u001b[32m\"text-search-ada-doc-001\"\u001b[0m,\n",
       "      \u001b[32m\"object\"\u001b[0m: \u001b[32m\"engine\"\u001b[0m,\n",
       "      \u001b[32m\"owner\"\u001b[0m: \u001b[32m\"openai-dev\"\u001b[0m,\n",
       "      \u001b[32m\"permissions\"\u001b[0m: null,\n",
       "      \u001b[32m\"ready\"\u001b[0m: true\n",
       "    \u001b[1m}\u001b[0m,\n",
       "    \u001b[1m{\u001b[0m\n",
       "      \u001b[32m\"created\"\u001b[0m: null,\n",
       "      \u001b[32m\"id\"\u001b[0m: \u001b[32m\"davinci-instruct-beta\"\u001b[0m,\n",
       "      \u001b[32m\"object\"\u001b[0m: \u001b[32m\"engine\"\u001b[0m,\n",
       "      \u001b[32m\"owner\"\u001b[0m: \u001b[32m\"openai\"\u001b[0m,\n",
       "      \u001b[32m\"permissions\"\u001b[0m: null,\n",
       "      \u001b[32m\"ready\"\u001b[0m: true\n",
       "    \u001b[1m}\u001b[0m,\n",
       "    \u001b[1m{\u001b[0m\n",
       "      \u001b[32m\"created\"\u001b[0m: null,\n",
       "      \u001b[32m\"id\"\u001b[0m: \u001b[32m\"text-similarity-curie-001\"\u001b[0m,\n",
       "      \u001b[32m\"object\"\u001b[0m: \u001b[32m\"engine\"\u001b[0m,\n",
       "      \u001b[32m\"owner\"\u001b[0m: \u001b[32m\"openai-dev\"\u001b[0m,\n",
       "      \u001b[32m\"permissions\"\u001b[0m: null,\n",
       "      \u001b[32m\"ready\"\u001b[0m: true\n",
       "    \u001b[1m}\u001b[0m,\n",
       "    \u001b[1m{\u001b[0m\n",
       "      \u001b[32m\"created\"\u001b[0m: null,\n",
       "      \u001b[32m\"id\"\u001b[0m: \u001b[32m\"code-search-ada-code-001\"\u001b[0m,\n",
       "      \u001b[32m\"object\"\u001b[0m: \u001b[32m\"engine\"\u001b[0m,\n",
       "      \u001b[32m\"owner\"\u001b[0m: \u001b[32m\"openai-dev\"\u001b[0m,\n",
       "      \u001b[32m\"permissions\"\u001b[0m: null,\n",
       "      \u001b[32m\"ready\"\u001b[0m: true\n",
       "    \u001b[1m}\u001b[0m,\n",
       "    \u001b[1m{\u001b[0m\n",
       "      \u001b[32m\"created\"\u001b[0m: null,\n",
       "      \u001b[32m\"id\"\u001b[0m: \u001b[32m\"ada-search-query\"\u001b[0m,\n",
       "      \u001b[32m\"object\"\u001b[0m: \u001b[32m\"engine\"\u001b[0m,\n",
       "      \u001b[32m\"owner\"\u001b[0m: \u001b[32m\"openai-dev\"\u001b[0m,\n",
       "      \u001b[32m\"permissions\"\u001b[0m: null,\n",
       "      \u001b[32m\"ready\"\u001b[0m: true\n",
       "    \u001b[1m}\u001b[0m,\n",
       "    \u001b[1m{\u001b[0m\n",
       "      \u001b[32m\"created\"\u001b[0m: null,\n",
       "      \u001b[32m\"id\"\u001b[0m: \u001b[32m\"text-search-davinci-query-001\"\u001b[0m,\n",
       "      \u001b[32m\"object\"\u001b[0m: \u001b[32m\"engine\"\u001b[0m,\n",
       "      \u001b[32m\"owner\"\u001b[0m: \u001b[32m\"openai-dev\"\u001b[0m,\n",
       "      \u001b[32m\"permissions\"\u001b[0m: null,\n",
       "      \u001b[32m\"ready\"\u001b[0m: true\n",
       "    \u001b[1m}\u001b[0m,\n",
       "    \u001b[1m{\u001b[0m\n",
       "      \u001b[32m\"created\"\u001b[0m: null,\n",
       "      \u001b[32m\"id\"\u001b[0m: \u001b[32m\"curie-search-query\"\u001b[0m,\n",
       "      \u001b[32m\"object\"\u001b[0m: \u001b[32m\"engine\"\u001b[0m,\n",
       "      \u001b[32m\"owner\"\u001b[0m: \u001b[32m\"openai-dev\"\u001b[0m,\n",
       "      \u001b[32m\"permissions\"\u001b[0m: null,\n",
       "      \u001b[32m\"ready\"\u001b[0m: true\n",
       "    \u001b[1m}\u001b[0m,\n",
       "    \u001b[1m{\u001b[0m\n",
       "      \u001b[32m\"created\"\u001b[0m: null,\n",
       "      \u001b[32m\"id\"\u001b[0m: \u001b[32m\"davinci-search-query\"\u001b[0m,\n",
       "      \u001b[32m\"object\"\u001b[0m: \u001b[32m\"engine\"\u001b[0m,\n",
       "      \u001b[32m\"owner\"\u001b[0m: \u001b[32m\"openai-dev\"\u001b[0m,\n",
       "      \u001b[32m\"permissions\"\u001b[0m: null,\n",
       "      \u001b[32m\"ready\"\u001b[0m: true\n",
       "    \u001b[1m}\u001b[0m,\n",
       "    \u001b[1m{\u001b[0m\n",
       "      \u001b[32m\"created\"\u001b[0m: null,\n",
       "      \u001b[32m\"id\"\u001b[0m: \u001b[32m\"babbage-search-document\"\u001b[0m,\n",
       "      \u001b[32m\"object\"\u001b[0m: \u001b[32m\"engine\"\u001b[0m,\n",
       "      \u001b[32m\"owner\"\u001b[0m: \u001b[32m\"openai-dev\"\u001b[0m,\n",
       "      \u001b[32m\"permissions\"\u001b[0m: null,\n",
       "      \u001b[32m\"ready\"\u001b[0m: true\n",
       "    \u001b[1m}\u001b[0m,\n",
       "    \u001b[1m{\u001b[0m\n",
       "      \u001b[32m\"created\"\u001b[0m: null,\n",
       "      \u001b[32m\"id\"\u001b[0m: \u001b[32m\"ada-search-document\"\u001b[0m,\n",
       "      \u001b[32m\"object\"\u001b[0m: \u001b[32m\"engine\"\u001b[0m,\n",
       "      \u001b[32m\"owner\"\u001b[0m: \u001b[32m\"openai-dev\"\u001b[0m,\n",
       "      \u001b[32m\"permissions\"\u001b[0m: null,\n",
       "      \u001b[32m\"ready\"\u001b[0m: true\n",
       "    \u001b[1m}\u001b[0m,\n",
       "    \u001b[1m{\u001b[0m\n",
       "      \u001b[32m\"created\"\u001b[0m: null,\n",
       "      \u001b[32m\"id\"\u001b[0m: \u001b[32m\"text-search-curie-query-001\"\u001b[0m,\n",
       "      \u001b[32m\"object\"\u001b[0m: \u001b[32m\"engine\"\u001b[0m,\n",
       "      \u001b[32m\"owner\"\u001b[0m: \u001b[32m\"openai-dev\"\u001b[0m,\n",
       "      \u001b[32m\"permissions\"\u001b[0m: null,\n",
       "      \u001b[32m\"ready\"\u001b[0m: true\n",
       "    \u001b[1m}\u001b[0m,\n",
       "    \u001b[1m{\u001b[0m\n",
       "      \u001b[32m\"created\"\u001b[0m: null,\n",
       "      \u001b[32m\"id\"\u001b[0m: \u001b[32m\"text-search-babbage-doc-001\"\u001b[0m,\n",
       "      \u001b[32m\"object\"\u001b[0m: \u001b[32m\"engine\"\u001b[0m,\n",
       "      \u001b[32m\"owner\"\u001b[0m: \u001b[32m\"openai-dev\"\u001b[0m,\n",
       "      \u001b[32m\"permissions\"\u001b[0m: null,\n",
       "      \u001b[32m\"ready\"\u001b[0m: true\n",
       "    \u001b[1m}\u001b[0m,\n",
       "    \u001b[1m{\u001b[0m\n",
       "      \u001b[32m\"created\"\u001b[0m: null,\n",
       "      \u001b[32m\"id\"\u001b[0m: \u001b[32m\"curie-search-document\"\u001b[0m,\n",
       "      \u001b[32m\"object\"\u001b[0m: \u001b[32m\"engine\"\u001b[0m,\n",
       "      \u001b[32m\"owner\"\u001b[0m: \u001b[32m\"openai-dev\"\u001b[0m,\n",
       "      \u001b[32m\"permissions\"\u001b[0m: null,\n",
       "      \u001b[32m\"ready\"\u001b[0m: true\n",
       "    \u001b[1m}\u001b[0m,\n",
       "    \u001b[1m{\u001b[0m\n",
       "      \u001b[32m\"created\"\u001b[0m: null,\n",
       "      \u001b[32m\"id\"\u001b[0m: \u001b[32m\"text-search-curie-doc-001\"\u001b[0m,\n",
       "      \u001b[32m\"object\"\u001b[0m: \u001b[32m\"engine\"\u001b[0m,\n",
       "      \u001b[32m\"owner\"\u001b[0m: \u001b[32m\"openai-dev\"\u001b[0m,\n",
       "      \u001b[32m\"permissions\"\u001b[0m: null,\n",
       "      \u001b[32m\"ready\"\u001b[0m: true\n",
       "    \u001b[1m}\u001b[0m,\n",
       "    \u001b[1m{\u001b[0m\n",
       "      \u001b[32m\"created\"\u001b[0m: null,\n",
       "      \u001b[32m\"id\"\u001b[0m: \u001b[32m\"babbage-search-query\"\u001b[0m,\n",
       "      \u001b[32m\"object\"\u001b[0m: \u001b[32m\"engine\"\u001b[0m,\n",
       "      \u001b[32m\"owner\"\u001b[0m: \u001b[32m\"openai-dev\"\u001b[0m,\n",
       "      \u001b[32m\"permissions\"\u001b[0m: null,\n",
       "      \u001b[32m\"ready\"\u001b[0m: true\n",
       "    \u001b[1m}\u001b[0m,\n",
       "    \u001b[1m{\u001b[0m\n",
       "      \u001b[32m\"created\"\u001b[0m: null,\n",
       "      \u001b[32m\"id\"\u001b[0m: \u001b[32m\"text-babbage-001\"\u001b[0m,\n",
       "      \u001b[32m\"object\"\u001b[0m: \u001b[32m\"engine\"\u001b[0m,\n",
       "      \u001b[32m\"owner\"\u001b[0m: \u001b[32m\"openai\"\u001b[0m,\n",
       "      \u001b[32m\"permissions\"\u001b[0m: null,\n",
       "      \u001b[32m\"ready\"\u001b[0m: true\n",
       "    \u001b[1m}\u001b[0m,\n",
       "    \u001b[1m{\u001b[0m\n",
       "      \u001b[32m\"created\"\u001b[0m: null,\n",
       "      \u001b[32m\"id\"\u001b[0m: \u001b[32m\"gpt-4\"\u001b[0m,\n",
       "      \u001b[32m\"object\"\u001b[0m: \u001b[32m\"engine\"\u001b[0m,\n",
       "      \u001b[32m\"owner\"\u001b[0m: \u001b[32m\"openai\"\u001b[0m,\n",
       "      \u001b[32m\"permissions\"\u001b[0m: null,\n",
       "      \u001b[32m\"ready\"\u001b[0m: true\n",
       "    \u001b[1m}\u001b[0m,\n",
       "    \u001b[1m{\u001b[0m\n",
       "      \u001b[32m\"created\"\u001b[0m: null,\n",
       "      \u001b[32m\"id\"\u001b[0m: \u001b[32m\"text-search-davinci-doc-001\"\u001b[0m,\n",
       "      \u001b[32m\"object\"\u001b[0m: \u001b[32m\"engine\"\u001b[0m,\n",
       "      \u001b[32m\"owner\"\u001b[0m: \u001b[32m\"openai-dev\"\u001b[0m,\n",
       "      \u001b[32m\"permissions\"\u001b[0m: null,\n",
       "      \u001b[32m\"ready\"\u001b[0m: true\n",
       "    \u001b[1m}\u001b[0m,\n",
       "    \u001b[1m{\u001b[0m\n",
       "      \u001b[32m\"created\"\u001b[0m: null,\n",
       "      \u001b[32m\"id\"\u001b[0m: \u001b[32m\"gpt-4-0314\"\u001b[0m,\n",
       "      \u001b[32m\"object\"\u001b[0m: \u001b[32m\"engine\"\u001b[0m,\n",
       "      \u001b[32m\"owner\"\u001b[0m: \u001b[32m\"openai\"\u001b[0m,\n",
       "      \u001b[32m\"permissions\"\u001b[0m: null,\n",
       "      \u001b[32m\"ready\"\u001b[0m: true\n",
       "    \u001b[1m}\u001b[0m,\n",
       "    \u001b[1m{\u001b[0m\n",
       "      \u001b[32m\"created\"\u001b[0m: null,\n",
       "      \u001b[32m\"id\"\u001b[0m: \u001b[32m\"text-search-babbage-query-001\"\u001b[0m,\n",
       "      \u001b[32m\"object\"\u001b[0m: \u001b[32m\"engine\"\u001b[0m,\n",
       "      \u001b[32m\"owner\"\u001b[0m: \u001b[32m\"openai-dev\"\u001b[0m,\n",
       "      \u001b[32m\"permissions\"\u001b[0m: null,\n",
       "      \u001b[32m\"ready\"\u001b[0m: true\n",
       "    \u001b[1m}\u001b[0m,\n",
       "    \u001b[1m{\u001b[0m\n",
       "      \u001b[32m\"created\"\u001b[0m: null,\n",
       "      \u001b[32m\"id\"\u001b[0m: \u001b[32m\"curie-similarity\"\u001b[0m,\n",
       "      \u001b[32m\"object\"\u001b[0m: \u001b[32m\"engine\"\u001b[0m,\n",
       "      \u001b[32m\"owner\"\u001b[0m: \u001b[32m\"openai-dev\"\u001b[0m,\n",
       "      \u001b[32m\"permissions\"\u001b[0m: null,\n",
       "      \u001b[32m\"ready\"\u001b[0m: true\n",
       "    \u001b[1m}\u001b[0m,\n",
       "    \u001b[1m{\u001b[0m\n",
       "      \u001b[32m\"created\"\u001b[0m: null,\n",
       "      \u001b[32m\"id\"\u001b[0m: \u001b[32m\"curie\"\u001b[0m,\n",
       "      \u001b[32m\"object\"\u001b[0m: \u001b[32m\"engine\"\u001b[0m,\n",
       "      \u001b[32m\"owner\"\u001b[0m: \u001b[32m\"openai\"\u001b[0m,\n",
       "      \u001b[32m\"permissions\"\u001b[0m: null,\n",
       "      \u001b[32m\"ready\"\u001b[0m: true\n",
       "    \u001b[1m}\u001b[0m,\n",
       "    \u001b[1m{\u001b[0m\n",
       "      \u001b[32m\"created\"\u001b[0m: null,\n",
       "      \u001b[32m\"id\"\u001b[0m: \u001b[32m\"text-similarity-davinci-001\"\u001b[0m,\n",
       "      \u001b[32m\"object\"\u001b[0m: \u001b[32m\"engine\"\u001b[0m,\n",
       "      \u001b[32m\"owner\"\u001b[0m: \u001b[32m\"openai-dev\"\u001b[0m,\n",
       "      \u001b[32m\"permissions\"\u001b[0m: null,\n",
       "      \u001b[32m\"ready\"\u001b[0m: true\n",
       "    \u001b[1m}\u001b[0m,\n",
       "    \u001b[1m{\u001b[0m\n",
       "      \u001b[32m\"created\"\u001b[0m: null,\n",
       "      \u001b[32m\"id\"\u001b[0m: \u001b[32m\"text-davinci-002\"\u001b[0m,\n",
       "      \u001b[32m\"object\"\u001b[0m: \u001b[32m\"engine\"\u001b[0m,\n",
       "      \u001b[32m\"owner\"\u001b[0m: \u001b[32m\"openai\"\u001b[0m,\n",
       "      \u001b[32m\"permissions\"\u001b[0m: null,\n",
       "      \u001b[32m\"ready\"\u001b[0m: true\n",
       "    \u001b[1m}\u001b[0m,\n",
       "    \u001b[1m{\u001b[0m\n",
       "      \u001b[32m\"created\"\u001b[0m: null,\n",
       "      \u001b[32m\"id\"\u001b[0m: \u001b[32m\"davinci-similarity\"\u001b[0m,\n",
       "      \u001b[32m\"object\"\u001b[0m: \u001b[32m\"engine\"\u001b[0m,\n",
       "      \u001b[32m\"owner\"\u001b[0m: \u001b[32m\"openai-dev\"\u001b[0m,\n",
       "      \u001b[32m\"permissions\"\u001b[0m: null,\n",
       "      \u001b[32m\"ready\"\u001b[0m: true\n",
       "    \u001b[1m}\u001b[0m\n",
       "  \u001b[1m]\u001b[0m,\n",
       "  \u001b[32m\"object\"\u001b[0m: \u001b[32m\"list\"\u001b[0m\n",
       "\u001b[1m}\u001b[0m\n"
      ]
     },
     "metadata": {},
     "output_type": "display_data"
    }
   ],
   "source": [
    "import openai\n",
    "from dotenv import load_dotenv\n",
    "import os\n",
    "load_dotenv()  # take environment variables from .env.\n",
    "\n",
    "OPENKEY_API = os.getenv(\"OPENAI_KEY\")\n",
    "\n",
    "#ORGANIZATION_ID = os.getenv(\"ORGANIZATION_ID\")\n",
    "#openai.organization = ORGANIZATION_ID\n",
    "# get this from top-right dropdown on OpenAI under organization > settings\n",
    "openai.api_key = OPENKEY_API\n",
    "# get API key from top-right dropdown on OpenAI website\n",
    "os.environ[\"OPENAI_API_KEY\"] = OPENKEY_API\n",
    "openai.Engine.list()  # check we have authenticated\n",
    "print(openai.Engine.list())\n",
    "## model of choices\n",
    "MODEL = \"text-embedding-ada-002\""
   ]
  },
  {
   "cell_type": "markdown",
   "metadata": {},
   "source": [
    "# Ini the Pinecone Client"
   ]
  },
  {
   "cell_type": "code",
   "execution_count": 7,
   "metadata": {},
   "outputs": [],
   "source": [
    "import pinecone\n",
    "PINECONE_APIKEY = os.getenv(\"PINECONE_APIKEY\")\n",
    "if PINECONE_APIKEY is None:\n",
    "    raise Exception(\"PINECONE_API_KEY not found in environment variables add the Pinecone API key to the .env file\")\n",
    "# initialize connection to pinecone (get API key at app.pinecone.io)\n",
    "pinecone.init(\n",
    "    api_key = PINECONE_APIKEY,\n",
    "    environment=\"us-east-1-aws\"\n",
    ")"
   ]
  },
  {
   "cell_type": "code",
   "execution_count": 8,
   "metadata": {},
   "outputs": [
    {
     "data": {
      "text/html": [
       "<pre style=\"white-space:pre;overflow-x:auto;line-height:normal;font-family:Menlo,'DejaVu Sans Mono',consolas,'Courier New',monospace\"><span style=\"font-weight: bold\">[</span><span style=\"color: #008000; text-decoration-color: #008000\">'faq-dataset'</span><span style=\"font-weight: bold\">]</span>\n",
       "</pre>\n"
      ],
      "text/plain": [
       "\u001b[1m[\u001b[0m\u001b[32m'faq-dataset'\u001b[0m\u001b[1m]\u001b[0m\n"
      ]
     },
     "metadata": {},
     "output_type": "display_data"
    },
    {
     "data": {
      "text/html": [
       "<pre style=\"white-space:pre;overflow-x:auto;line-height:normal;font-family:Menlo,'DejaVu Sans Mono',consolas,'Courier New',monospace\">Please create an index named 'utd-chatbot\n",
       "</pre>\n"
      ],
      "text/plain": [
       "Please create an index named 'utd-chatbot\n"
      ]
     },
     "metadata": {},
     "output_type": "display_data"
    },
    {
     "data": {
      "text/html": [
       "<pre style=\"white-space:pre;overflow-x:auto;line-height:normal;font-family:Menlo,'DejaVu Sans Mono',consolas,'Courier New',monospace\">The list of pinecone index <span style=\"font-weight: bold\">[</span><span style=\"color: #008000; text-decoration-color: #008000\">'faq-dataset'</span><span style=\"font-weight: bold\">]</span>\n",
       "</pre>\n"
      ],
      "text/plain": [
       "The list of pinecone index \u001b[1m[\u001b[0m\u001b[32m'faq-dataset'\u001b[0m\u001b[1m]\u001b[0m\n"
      ]
     },
     "metadata": {},
     "output_type": "display_data"
    },
    {
     "data": {
      "text/html": [
       "<pre style=\"white-space:pre;overflow-x:auto;line-height:normal;font-family:Menlo,'DejaVu Sans Mono',consolas,'Courier New',monospace\">Please create an index named 'utd-chatbot\n",
       "</pre>\n"
      ],
      "text/plain": [
       "Please create an index named 'utd-chatbot\n"
      ]
     },
     "metadata": {},
     "output_type": "display_data"
    }
   ],
   "source": [
    "def set_env():\n",
    "    #setting up OpenAI Api\n",
    "    OPENKEY_API = os.getenv(\"OPENAI_KEY\")\n",
    "    ORGANIZATION_ID = os.getenv(\"ORGANIZATION_ID\")\n",
    "    os.environ[\"OPENAI_API_KEY\"] = OPENKEY_API\n",
    "    openai.organization = ORGANIZATION_ID\n",
    "    # get this from top-right dropdown on OpenAI under organization > settings\n",
    "    openai.api_key = OPENKEY_API\n",
    "    # get API key from top-right dropdown on OpenAI website\n",
    "\n",
    "    openai.Engine.list()  # check we have authenticated\n",
    "\n",
    "    #setting pup pinecon\n",
    "    PINECONE_APIKEY = os.getenv(\"PINECONE_APIKEY\")\n",
    "    # initialize connection to pinecone (get API key at app.pinecone.io)\n",
    "    pinecone.init(\n",
    "        api_key = PINECONE_APIKEY ,\n",
    "        environment=\"us-east1-gcp\" , \n",
    "    )\n",
    "    assert len(pinecone.list_indexes()) > 0, \"No indexes found in your Pinecone account. Please create an index and try again.\"\n",
    "\n",
    "    print(pinecone.list_indexes())\n",
    "    if pinecone.list_indexes()[0] != \"utd-chatbot\":\n",
    "        print(\"Please create an index named 'utd-chatbot\")\n",
    "\n",
    "\n",
    "    print(f'The list of pinecone index {pinecone.list_indexes()}')\n",
    "    if pinecone.list_indexes()[0] != \"utd-chatbot\":\n",
    "        print(\"Please create an index named 'utd-chatbot\")\n",
    "\n",
    "    ## I the name of the vector database\n",
    "    return  pinecone.Index(index_name = pinecone.list_indexes()[0]) , pinecone.list_indexes()[0] , pinecone.describe_index(pinecone.list_indexes()[0])\n",
    "\n",
    "pinecone_index , index_name , index_description = set_env()"
   ]
  },
  {
   "cell_type": "code",
   "execution_count": 9,
   "metadata": {},
   "outputs": [
    {
     "data": {
      "text/plain": [
       "{'dimension': 1536,\n",
       " 'index_fullness': 0.0,\n",
       " 'namespaces': {'': {'vector_count': 176}},\n",
       " 'total_vector_count': 176}"
      ]
     },
     "execution_count": 9,
     "metadata": {},
     "output_type": "execute_result"
    }
   ],
   "source": [
    "pinecone_index.describe_index_stats()"
   ]
  },
  {
   "cell_type": "markdown",
   "metadata": {},
   "source": [
    "# Role Prompt"
   ]
  },
  {
   "cell_type": "code",
   "execution_count": 10,
   "metadata": {},
   "outputs": [],
   "source": [
    "role_prompt = \"\"\"\n",
    "Please act as a University of Texas at Dallas Counselor. I will provide you with an individual \n",
    "looking for guidance at the University of Texas at Dallas, and your task is to help them \n",
    "solve their problem\\n\n",
    "\"\"\""
   ]
  },
  {
   "cell_type": "code",
   "execution_count": 11,
   "metadata": {},
   "outputs": [],
   "source": [
    "def post_process(ans):\n",
    "    if \"ARC\" in ans:\n",
    "        ans = ans.replace(\"ARC\", \"AccessAbility Resource Center\")\n",
    "        ans += \"\"\" \n",
    "        Office location: Administration Building, Room 2.224 \\n\n",
    "        Email: studentaccess@utdallas.edu (Do not email attachments, upload documents to utd.link/arcupload only.) \\n\n",
    "        Phone: (972) 883-2098 \\n\n",
    "        Fax: Please don’t fax, use utd.link/arcupload \\n\n",
    "        Mail: AD 30, 800 West Campbell Rd., Richardson TX 75080    Office location: Administration Building, Room 2.224\\n\n",
    "        \"\"\"\n",
    "    return ans"
   ]
  },
  {
   "cell_type": "code",
   "execution_count": 12,
   "metadata": {},
   "outputs": [],
   "source": [
    "\n",
    "from langchain.embeddings.openai import OpenAIEmbeddings\n",
    "from langchain.vectorstores.pinecone import Pinecone\n",
    "\n",
    "def query_vector_database(query):\n",
    "    embeddings = OpenAIEmbeddings()\n",
    "\n",
    "    # vectorstore = Pinecone.from_documents(documents, embeddings, index_name=INDEX_NAME) # only used for initial index creation, upserts document embeddings as well as the documents themselves\n",
    "    vectorstore = Pinecone( pinecone_index, embeddings.embed_query, \"text\") # use this for subsequent runs\n",
    "\n",
    "    docs = vectorstore.similarity_search_with_score(query)\n",
    "\n",
    "    res = []\n",
    "    for doc in docs:\n",
    "      answer = faq_dataset['train'].filter(lambda x: x['Question'] == doc[0].page_content) # get row with the corresponding question in query\n",
    "      print(answer)\n",
    "      res.append({\"Question\": f\"{answer['Question'][0]}\", \"Answer\": f\"{answer['Answering'][0]}\", \"URL\": f\"{answer['URL'][0]}\"}) # adds a dictionary of the row to list\n",
    "    return res"
   ]
  },
  {
   "cell_type": "code",
   "execution_count": 13,
   "metadata": {},
   "outputs": [
    {
     "data": {
      "text/html": [
       "<pre style=\"white-space:pre;overflow-x:auto;line-height:normal;font-family:Menlo,'DejaVu Sans Mono',consolas,'Courier New',monospace\"><span style=\"font-weight: bold\">[</span>\n",
       "    <span style=\"font-weight: bold\">(</span>\n",
       "        <span style=\"color: #800080; text-decoration-color: #800080; font-weight: bold\">Document</span><span style=\"font-weight: bold\">(</span>\n",
       "            <span style=\"color: #808000; text-decoration-color: #808000\">page_content</span>=<span style=\"color: #008000; text-decoration-color: #008000\">'My professor says they cannot find the space or time for me to take my test with </span>\n",
       "<span style=\"color: #008000; text-decoration-color: #008000\">accommodations. Guess I will just take it with the class and hope for the best?'</span>,\n",
       "            <span style=\"color: #808000; text-decoration-color: #808000\">metadata</span>=<span style=\"font-weight: bold\">{</span>\n",
       "                <span style=\"color: #008000; text-decoration-color: #008000\">'url'</span>: <span style=\"color: #008000; text-decoration-color: #008000\">'https://accessability.utdallas.edu/student-accommodations/frequently-asked-questions/'</span>\n",
       "            <span style=\"font-weight: bold\">}</span>\n",
       "        <span style=\"font-weight: bold\">)</span>,\n",
       "        <span style=\"color: #008080; text-decoration-color: #008080; font-weight: bold\">0.824922323</span>\n",
       "    <span style=\"font-weight: bold\">)</span>,\n",
       "    <span style=\"font-weight: bold\">(</span>\n",
       "        <span style=\"color: #800080; text-decoration-color: #800080; font-weight: bold\">Document</span><span style=\"font-weight: bold\">(</span>\n",
       "            <span style=\"color: #808000; text-decoration-color: #808000\">page_content</span>=<span style=\"color: #008000; text-decoration-color: #008000\">'My professor says they cannot find the space or time for me to take my test with </span>\n",
       "<span style=\"color: #008000; text-decoration-color: #008000\">accommodations. Guess I will just take it with the class and hope for the best?'</span>,\n",
       "            <span style=\"color: #808000; text-decoration-color: #808000\">metadata</span>=<span style=\"font-weight: bold\">{}</span>\n",
       "        <span style=\"font-weight: bold\">)</span>,\n",
       "        <span style=\"color: #008080; text-decoration-color: #008080; font-weight: bold\">0.824862182</span>\n",
       "    <span style=\"font-weight: bold\">)</span>,\n",
       "    <span style=\"font-weight: bold\">(</span>\n",
       "        <span style=\"color: #800080; text-decoration-color: #800080; font-weight: bold\">Document</span><span style=\"font-weight: bold\">(</span>\n",
       "            <span style=\"color: #808000; text-decoration-color: #808000\">page_content</span>=<span style=\"color: #008000; text-decoration-color: #008000\">'My class has attendance requirements because students are graded while I observe what </span>\n",
       "<span style=\"color: #008000; text-decoration-color: #008000\">they are doing and they must access specialized lab equipment that cannot be moved. How can I allow remote </span>\n",
       "<span style=\"color: #008000; text-decoration-color: #008000\">learning? '</span>,\n",
       "            <span style=\"color: #808000; text-decoration-color: #808000\">metadata</span>=<span style=\"font-weight: bold\">{}</span>\n",
       "        <span style=\"font-weight: bold\">)</span>,\n",
       "        <span style=\"color: #008080; text-decoration-color: #008080; font-weight: bold\">0.814331412</span>\n",
       "    <span style=\"font-weight: bold\">)</span>,\n",
       "    <span style=\"font-weight: bold\">(</span><span style=\"color: #800080; text-decoration-color: #800080; font-weight: bold\">Document</span><span style=\"font-weight: bold\">(</span><span style=\"color: #808000; text-decoration-color: #808000\">page_content</span>=<span style=\"color: #008000; text-decoration-color: #008000\">'I would like to change my major. What do I need to do?'</span>, <span style=\"color: #808000; text-decoration-color: #808000\">metadata</span>=<span style=\"font-weight: bold\">{})</span>, <span style=\"color: #008080; text-decoration-color: #008080; font-weight: bold\">0.806986451</span><span style=\"font-weight: bold\">)</span>\n",
       "<span style=\"font-weight: bold\">]</span>\n",
       "</pre>\n"
      ],
      "text/plain": [
       "\u001b[1m[\u001b[0m\n",
       "    \u001b[1m(\u001b[0m\n",
       "        \u001b[1;35mDocument\u001b[0m\u001b[1m(\u001b[0m\n",
       "            \u001b[33mpage_content\u001b[0m=\u001b[32m'My professor says they cannot find the space or time for me to take my test with \u001b[0m\n",
       "\u001b[32maccommodations. Guess I will just take it with the class and hope for the best?'\u001b[0m,\n",
       "            \u001b[33mmetadata\u001b[0m=\u001b[1m{\u001b[0m\n",
       "                \u001b[32m'url'\u001b[0m: \u001b[32m'https://accessability.utdallas.edu/student-accommodations/frequently-asked-questions/'\u001b[0m\n",
       "            \u001b[1m}\u001b[0m\n",
       "        \u001b[1m)\u001b[0m,\n",
       "        \u001b[1;36m0.824922323\u001b[0m\n",
       "    \u001b[1m)\u001b[0m,\n",
       "    \u001b[1m(\u001b[0m\n",
       "        \u001b[1;35mDocument\u001b[0m\u001b[1m(\u001b[0m\n",
       "            \u001b[33mpage_content\u001b[0m=\u001b[32m'My professor says they cannot find the space or time for me to take my test with \u001b[0m\n",
       "\u001b[32maccommodations. Guess I will just take it with the class and hope for the best?'\u001b[0m,\n",
       "            \u001b[33mmetadata\u001b[0m=\u001b[1m{\u001b[0m\u001b[1m}\u001b[0m\n",
       "        \u001b[1m)\u001b[0m,\n",
       "        \u001b[1;36m0.824862182\u001b[0m\n",
       "    \u001b[1m)\u001b[0m,\n",
       "    \u001b[1m(\u001b[0m\n",
       "        \u001b[1;35mDocument\u001b[0m\u001b[1m(\u001b[0m\n",
       "            \u001b[33mpage_content\u001b[0m=\u001b[32m'My class has attendance requirements because students are graded while I observe what \u001b[0m\n",
       "\u001b[32mthey are doing and they must access specialized lab equipment that cannot be moved. How can I allow remote \u001b[0m\n",
       "\u001b[32mlearning? '\u001b[0m,\n",
       "            \u001b[33mmetadata\u001b[0m=\u001b[1m{\u001b[0m\u001b[1m}\u001b[0m\n",
       "        \u001b[1m)\u001b[0m,\n",
       "        \u001b[1;36m0.814331412\u001b[0m\n",
       "    \u001b[1m)\u001b[0m,\n",
       "    \u001b[1m(\u001b[0m\u001b[1;35mDocument\u001b[0m\u001b[1m(\u001b[0m\u001b[33mpage_content\u001b[0m=\u001b[32m'I would like to change my major. What do I need to do?'\u001b[0m, \u001b[33mmetadata\u001b[0m=\u001b[1m{\u001b[0m\u001b[1m}\u001b[0m\u001b[1m)\u001b[0m, \u001b[1;36m0.806986451\u001b[0m\u001b[1m)\u001b[0m\n",
       "\u001b[1m]\u001b[0m\n"
      ]
     },
     "metadata": {},
     "output_type": "display_data"
    }
   ],
   "source": [
    "embeddings = OpenAIEmbeddings()\n",
    "vectorstore = Pinecone( pinecone_index, embeddings.embed_query, \"text\") # use this for subsequent runs\n",
    "docs = vectorstore.similarity_search_with_score(\"I have ADHD and I need help with my classes.\")\n",
    "print(docs)"
   ]
  },
  {
   "cell_type": "code",
   "execution_count": 14,
   "metadata": {},
   "outputs": [],
   "source": [
    "from langchain.prompts.prompt import PromptTemplate\n",
    "from langchain.prompts.few_shot import FewShotPromptTemplate\n",
    "from langchain.prompts.chat import (\n",
    "    ChatPromptTemplate,\n",
    "    SystemMessagePromptTemplate,\n",
    "    AIMessagePromptTemplate,\n",
    "    HumanMessagePromptTemplate,\n",
    ")\n",
    "from langchain.schema import (\n",
    "    AIMessage,\n",
    "    HumanMessage,\n",
    "    SystemMessage\n",
    ")\n",
    "\n",
    "def create_an_standard_qa_prompt(res):\n",
    "    example_prompt = PromptTemplate(\n",
    "        input_variables=[\"Question\", \"Answer\", \"URL\"], \n",
    "        template=\"Question: {Question}\\n{Answer}\\nSource:{URL}\"\n",
    "    )\n",
    "\n",
    "    fewShotPrompt = FewShotPromptTemplate(\n",
    "        examples=res,\n",
    "        example_prompt=example_prompt,\n",
    "        suffix=\"Question: {input}\",\n",
    "        input_variables=[\"input\"]\n",
    "    )\n",
    "\n",
    "    system_message_prompt = SystemMessage(content=role_prompt)\n",
    "    human_message_prompt = HumanMessagePromptTemplate(prompt=fewShotPrompt)\n",
    "    chat_prompt = ChatPromptTemplate.from_messages([system_message_prompt, human_message_prompt])\n",
    "    type(chat_prompt)\n",
    "    return chat_prompt"
   ]
  },
  {
   "cell_type": "code",
   "execution_count": 15,
   "metadata": {},
   "outputs": [],
   "source": [
    "from langchain.chat_models import ChatOpenAI\n",
    "\n",
    "chat = ChatOpenAI(temperature=0)"
   ]
  },
  {
   "cell_type": "code",
   "execution_count": 16,
   "metadata": {},
   "outputs": [],
   "source": [
    "from langchain import LLMChain\n",
    "\n",
    "def called_llm_decoder_model(query, prompt):\n",
    "  chain = LLMChain(llm=chat, prompt=prompt)\n",
    "  output = chain.run(input=query)\n",
    "  return output\n"
   ]
  },
  {
   "cell_type": "markdown",
   "metadata": {},
   "source": [
    "# Gradio"
   ]
  },
  {
   "cell_type": "code",
   "execution_count": 17,
   "metadata": {},
   "outputs": [],
   "source": [
    "import gradio as gr\n",
    "questions = []\n",
    "answers = []\n",
    "import random\n",
    "random_value = random.randint(0, 1000)\n",
    "\n",
    "def utd_chatbot( question ):\n",
    "    ## store the question in the csvs file\n",
    "    #print(question)\n",
    "    res = query_vector_database(question)\n",
    "    #print(res)\n",
    "    propmt = create_an_standard_qa_prompt(res)\n",
    "    #print(propmt)\n",
    "    ans = called_llm_decoder_model(question, propmt)\n",
    "    # post_process(ans)\n",
    "    return ans"
   ]
  },
  {
   "cell_type": "code",
   "execution_count": 18,
   "metadata": {},
   "outputs": [
    {
     "name": "stdout",
     "output_type": "stream",
     "text": [
      "Running on local URL:  http://127.0.0.1:7860\n",
      "Running on public URL: https://efe96472-878c-4ece.gradio.live\n",
      "\n",
      "This share link expires in 72 hours. For free permanent hosting and GPU upgrades (NEW!), check out Spaces: https://huggingface.co/spaces\n"
     ]
    },
    {
     "data": {
      "text/html": [
       "<div><iframe src=\"https://efe96472-878c-4ece.gradio.live\" width=\"100%\" height=\"500\" allow=\"autoplay; camera; microphone; clipboard-read; clipboard-write;\" frameborder=\"0\" allowfullscreen></iframe></div>"
      ],
      "text/plain": [
       "<IPython.core.display.HTML object>"
      ]
     },
     "metadata": {},
     "output_type": "display_data"
    },
    {
     "data": {
      "text/plain": []
     },
     "execution_count": 18,
     "metadata": {},
     "output_type": "execute_result"
    }
   ],
   "source": [
    "## Lauch of Gradio\n",
    "demo = gr.Interface(fn=utd_chatbot, inputs=\"text\", outputs=\"text\")\n",
    "demo.launch( share = True )"
   ]
  },
  {
   "cell_type": "code",
   "execution_count": 19,
   "metadata": {},
   "outputs": [],
   "source": [
    "# Close the a demo\n",
    "#demo.close()"
   ]
  },
  {
   "cell_type": "markdown",
   "metadata": {},
   "source": [
    "# Use Language Chain to Generate one Example"
   ]
  },
  {
   "cell_type": "code",
   "execution_count": 20,
   "metadata": {},
   "outputs": [
    {
     "data": {
      "text/html": [
       "<pre style=\"white-space:pre;overflow-x:auto;line-height:normal;font-family:Menlo,'DejaVu Sans Mono',consolas,'Courier New',monospace\">\n",
       "\n",
       "I'm a recent college graduate with a degree in psychology. I have a passion for helping people and enjoy working \n",
       "with individuals from diverse backgrounds. I'm a hardworking, organized, and creative individual who loves to learn\n",
       "new skills and build relationships. In my spare time, I enjoy cooking, listening to music, and playing board games \n",
       "with friends.\n",
       "</pre>\n"
      ],
      "text/plain": [
       "\n",
       "\n",
       "I'm a recent college graduate with a degree in psychology. I have a passion for helping people and enjoy working \n",
       "with individuals from diverse backgrounds. I'm a hardworking, organized, and creative individual who loves to learn\n",
       "new skills and build relationships. In my spare time, I enjoy cooking, listening to music, and playing board games \n",
       "with friends.\n"
      ]
     },
     "metadata": {},
     "output_type": "display_data"
    },
    {
     "name": "stderr",
     "output_type": "stream",
     "text": [
      "Loading cached processed dataset at /Users/ari/.cache/huggingface/datasets/csv/default-f6363160e39d07a2/0.0.0/6b34fb8fcf56f7c8ba51dc895bfa2bfbe43546f190a60fcf74bb5e8afdcc2317/cache-6de3a9e0af660bb9.arrow\n"
     ]
    },
    {
     "data": {
      "text/html": [
       "<pre style=\"white-space:pre;overflow-x:auto;line-height:normal;font-family:Menlo,'DejaVu Sans Mono',consolas,'Courier New',monospace\"><span style=\"color: #800080; text-decoration-color: #800080; font-weight: bold\">Dataset</span><span style=\"font-weight: bold\">({</span>\n",
       "    features: <span style=\"font-weight: bold\">[</span><span style=\"color: #008000; text-decoration-color: #008000\">'Question'</span>, <span style=\"color: #008000; text-decoration-color: #008000\">'Answering'</span>, <span style=\"color: #008000; text-decoration-color: #008000\">'URL'</span>, <span style=\"color: #008000; text-decoration-color: #008000\">'Label'</span><span style=\"font-weight: bold\">]</span>,\n",
       "    num_rows: <span style=\"color: #008080; text-decoration-color: #008080; font-weight: bold\">1</span>\n",
       "<span style=\"font-weight: bold\">})</span>\n",
       "</pre>\n"
      ],
      "text/plain": [
       "\u001b[1;35mDataset\u001b[0m\u001b[1m(\u001b[0m\u001b[1m{\u001b[0m\n",
       "    features: \u001b[1m[\u001b[0m\u001b[32m'Question'\u001b[0m, \u001b[32m'Answering'\u001b[0m, \u001b[32m'URL'\u001b[0m, \u001b[32m'Label'\u001b[0m\u001b[1m]\u001b[0m,\n",
       "    num_rows: \u001b[1;36m1\u001b[0m\n",
       "\u001b[1m}\u001b[0m\u001b[1m)\u001b[0m\n"
      ]
     },
     "metadata": {},
     "output_type": "display_data"
    },
    {
     "name": "stderr",
     "output_type": "stream",
     "text": [
      "Loading cached processed dataset at /Users/ari/.cache/huggingface/datasets/csv/default-f6363160e39d07a2/0.0.0/6b34fb8fcf56f7c8ba51dc895bfa2bfbe43546f190a60fcf74bb5e8afdcc2317/cache-e56fd98cfe6aafa2.arrow\n"
     ]
    },
    {
     "data": {
      "text/html": [
       "<pre style=\"white-space:pre;overflow-x:auto;line-height:normal;font-family:Menlo,'DejaVu Sans Mono',consolas,'Courier New',monospace\"><span style=\"color: #800080; text-decoration-color: #800080; font-weight: bold\">Dataset</span><span style=\"font-weight: bold\">({</span>\n",
       "    features: <span style=\"font-weight: bold\">[</span><span style=\"color: #008000; text-decoration-color: #008000\">'Question'</span>, <span style=\"color: #008000; text-decoration-color: #008000\">'Answering'</span>, <span style=\"color: #008000; text-decoration-color: #008000\">'URL'</span>, <span style=\"color: #008000; text-decoration-color: #008000\">'Label'</span><span style=\"font-weight: bold\">]</span>,\n",
       "    num_rows: <span style=\"color: #008080; text-decoration-color: #008080; font-weight: bold\">1</span>\n",
       "<span style=\"font-weight: bold\">})</span>\n",
       "</pre>\n"
      ],
      "text/plain": [
       "\u001b[1;35mDataset\u001b[0m\u001b[1m(\u001b[0m\u001b[1m{\u001b[0m\n",
       "    features: \u001b[1m[\u001b[0m\u001b[32m'Question'\u001b[0m, \u001b[32m'Answering'\u001b[0m, \u001b[32m'URL'\u001b[0m, \u001b[32m'Label'\u001b[0m\u001b[1m]\u001b[0m,\n",
       "    num_rows: \u001b[1;36m1\u001b[0m\n",
       "\u001b[1m}\u001b[0m\u001b[1m)\u001b[0m\n"
      ]
     },
     "metadata": {},
     "output_type": "display_data"
    },
    {
     "name": "stderr",
     "output_type": "stream",
     "text": [
      "Loading cached processed dataset at /Users/ari/.cache/huggingface/datasets/csv/default-f6363160e39d07a2/0.0.0/6b34fb8fcf56f7c8ba51dc895bfa2bfbe43546f190a60fcf74bb5e8afdcc2317/cache-bec638d52377d8b4.arrow\n"
     ]
    },
    {
     "data": {
      "text/html": [
       "<pre style=\"white-space:pre;overflow-x:auto;line-height:normal;font-family:Menlo,'DejaVu Sans Mono',consolas,'Courier New',monospace\"><span style=\"color: #800080; text-decoration-color: #800080; font-weight: bold\">Dataset</span><span style=\"font-weight: bold\">({</span>\n",
       "    features: <span style=\"font-weight: bold\">[</span><span style=\"color: #008000; text-decoration-color: #008000\">'Question'</span>, <span style=\"color: #008000; text-decoration-color: #008000\">'Answering'</span>, <span style=\"color: #008000; text-decoration-color: #008000\">'URL'</span>, <span style=\"color: #008000; text-decoration-color: #008000\">'Label'</span><span style=\"font-weight: bold\">]</span>,\n",
       "    num_rows: <span style=\"color: #008080; text-decoration-color: #008080; font-weight: bold\">1</span>\n",
       "<span style=\"font-weight: bold\">})</span>\n",
       "</pre>\n"
      ],
      "text/plain": [
       "\u001b[1;35mDataset\u001b[0m\u001b[1m(\u001b[0m\u001b[1m{\u001b[0m\n",
       "    features: \u001b[1m[\u001b[0m\u001b[32m'Question'\u001b[0m, \u001b[32m'Answering'\u001b[0m, \u001b[32m'URL'\u001b[0m, \u001b[32m'Label'\u001b[0m\u001b[1m]\u001b[0m,\n",
       "    num_rows: \u001b[1;36m1\u001b[0m\n",
       "\u001b[1m}\u001b[0m\u001b[1m)\u001b[0m\n"
      ]
     },
     "metadata": {},
     "output_type": "display_data"
    },
    {
     "name": "stderr",
     "output_type": "stream",
     "text": [
      "Loading cached processed dataset at /Users/ari/.cache/huggingface/datasets/csv/default-f6363160e39d07a2/0.0.0/6b34fb8fcf56f7c8ba51dc895bfa2bfbe43546f190a60fcf74bb5e8afdcc2317/cache-e86c815aa1f9d3e0.arrow\n"
     ]
    },
    {
     "data": {
      "text/html": [
       "<pre style=\"white-space:pre;overflow-x:auto;line-height:normal;font-family:Menlo,'DejaVu Sans Mono',consolas,'Courier New',monospace\"><span style=\"color: #800080; text-decoration-color: #800080; font-weight: bold\">Dataset</span><span style=\"font-weight: bold\">({</span>\n",
       "    features: <span style=\"font-weight: bold\">[</span><span style=\"color: #008000; text-decoration-color: #008000\">'Question'</span>, <span style=\"color: #008000; text-decoration-color: #008000\">'Answering'</span>, <span style=\"color: #008000; text-decoration-color: #008000\">'URL'</span>, <span style=\"color: #008000; text-decoration-color: #008000\">'Label'</span><span style=\"font-weight: bold\">]</span>,\n",
       "    num_rows: <span style=\"color: #008080; text-decoration-color: #008080; font-weight: bold\">1</span>\n",
       "<span style=\"font-weight: bold\">})</span>\n",
       "</pre>\n"
      ],
      "text/plain": [
       "\u001b[1;35mDataset\u001b[0m\u001b[1m(\u001b[0m\u001b[1m{\u001b[0m\n",
       "    features: \u001b[1m[\u001b[0m\u001b[32m'Question'\u001b[0m, \u001b[32m'Answering'\u001b[0m, \u001b[32m'URL'\u001b[0m, \u001b[32m'Label'\u001b[0m\u001b[1m]\u001b[0m,\n",
       "    num_rows: \u001b[1;36m1\u001b[0m\n",
       "\u001b[1m}\u001b[0m\u001b[1m)\u001b[0m\n"
      ]
     },
     "metadata": {},
     "output_type": "display_data"
    },
    {
     "data": {
      "application/vnd.jupyter.widget-view+json": {
       "model_id": "9063bef91a244041b6109b5086ed9dde",
       "version_major": 2,
       "version_minor": 0
      },
      "text/plain": [
       "  0%|          | 0/1 [00:00<?, ?ba/s]"
      ]
     },
     "metadata": {},
     "output_type": "display_data"
    },
    {
     "data": {
      "text/html": [
       "<pre style=\"white-space:pre;overflow-x:auto;line-height:normal;font-family:Menlo,'DejaVu Sans Mono',consolas,'Courier New',monospace\"><span style=\"color: #800080; text-decoration-color: #800080; font-weight: bold\">Dataset</span><span style=\"font-weight: bold\">({</span>\n",
       "    features: <span style=\"font-weight: bold\">[</span><span style=\"color: #008000; text-decoration-color: #008000\">'Question'</span>, <span style=\"color: #008000; text-decoration-color: #008000\">'Answering'</span>, <span style=\"color: #008000; text-decoration-color: #008000\">'URL'</span>, <span style=\"color: #008000; text-decoration-color: #008000\">'Label'</span><span style=\"font-weight: bold\">]</span>,\n",
       "    num_rows: <span style=\"color: #008080; text-decoration-color: #008080; font-weight: bold\">1</span>\n",
       "<span style=\"font-weight: bold\">})</span>\n",
       "</pre>\n"
      ],
      "text/plain": [
       "\u001b[1;35mDataset\u001b[0m\u001b[1m(\u001b[0m\u001b[1m{\u001b[0m\n",
       "    features: \u001b[1m[\u001b[0m\u001b[32m'Question'\u001b[0m, \u001b[32m'Answering'\u001b[0m, \u001b[32m'URL'\u001b[0m, \u001b[32m'Label'\u001b[0m\u001b[1m]\u001b[0m,\n",
       "    num_rows: \u001b[1;36m1\u001b[0m\n",
       "\u001b[1m}\u001b[0m\u001b[1m)\u001b[0m\n"
      ]
     },
     "metadata": {},
     "output_type": "display_data"
    },
    {
     "data": {
      "application/vnd.jupyter.widget-view+json": {
       "model_id": "5001a43be6a44055a036cddd0b077fda",
       "version_major": 2,
       "version_minor": 0
      },
      "text/plain": [
       "  0%|          | 0/1 [00:00<?, ?ba/s]"
      ]
     },
     "metadata": {},
     "output_type": "display_data"
    },
    {
     "data": {
      "text/html": [
       "<pre style=\"white-space:pre;overflow-x:auto;line-height:normal;font-family:Menlo,'DejaVu Sans Mono',consolas,'Courier New',monospace\"><span style=\"color: #800080; text-decoration-color: #800080; font-weight: bold\">Dataset</span><span style=\"font-weight: bold\">({</span>\n",
       "    features: <span style=\"font-weight: bold\">[</span><span style=\"color: #008000; text-decoration-color: #008000\">'Question'</span>, <span style=\"color: #008000; text-decoration-color: #008000\">'Answering'</span>, <span style=\"color: #008000; text-decoration-color: #008000\">'URL'</span>, <span style=\"color: #008000; text-decoration-color: #008000\">'Label'</span><span style=\"font-weight: bold\">]</span>,\n",
       "    num_rows: <span style=\"color: #008080; text-decoration-color: #008080; font-weight: bold\">1</span>\n",
       "<span style=\"font-weight: bold\">})</span>\n",
       "</pre>\n"
      ],
      "text/plain": [
       "\u001b[1;35mDataset\u001b[0m\u001b[1m(\u001b[0m\u001b[1m{\u001b[0m\n",
       "    features: \u001b[1m[\u001b[0m\u001b[32m'Question'\u001b[0m, \u001b[32m'Answering'\u001b[0m, \u001b[32m'URL'\u001b[0m, \u001b[32m'Label'\u001b[0m\u001b[1m]\u001b[0m,\n",
       "    num_rows: \u001b[1;36m1\u001b[0m\n",
       "\u001b[1m}\u001b[0m\u001b[1m)\u001b[0m\n"
      ]
     },
     "metadata": {},
     "output_type": "display_data"
    },
    {
     "data": {
      "application/vnd.jupyter.widget-view+json": {
       "model_id": "95005d092da34c578051ef55cd69f056",
       "version_major": 2,
       "version_minor": 0
      },
      "text/plain": [
       "  0%|          | 0/1 [00:00<?, ?ba/s]"
      ]
     },
     "metadata": {},
     "output_type": "display_data"
    },
    {
     "data": {
      "text/html": [
       "<pre style=\"white-space:pre;overflow-x:auto;line-height:normal;font-family:Menlo,'DejaVu Sans Mono',consolas,'Courier New',monospace\"><span style=\"color: #800080; text-decoration-color: #800080; font-weight: bold\">Dataset</span><span style=\"font-weight: bold\">({</span>\n",
       "    features: <span style=\"font-weight: bold\">[</span><span style=\"color: #008000; text-decoration-color: #008000\">'Question'</span>, <span style=\"color: #008000; text-decoration-color: #008000\">'Answering'</span>, <span style=\"color: #008000; text-decoration-color: #008000\">'URL'</span>, <span style=\"color: #008000; text-decoration-color: #008000\">'Label'</span><span style=\"font-weight: bold\">]</span>,\n",
       "    num_rows: <span style=\"color: #008080; text-decoration-color: #008080; font-weight: bold\">1</span>\n",
       "<span style=\"font-weight: bold\">})</span>\n",
       "</pre>\n"
      ],
      "text/plain": [
       "\u001b[1;35mDataset\u001b[0m\u001b[1m(\u001b[0m\u001b[1m{\u001b[0m\n",
       "    features: \u001b[1m[\u001b[0m\u001b[32m'Question'\u001b[0m, \u001b[32m'Answering'\u001b[0m, \u001b[32m'URL'\u001b[0m, \u001b[32m'Label'\u001b[0m\u001b[1m]\u001b[0m,\n",
       "    num_rows: \u001b[1;36m1\u001b[0m\n",
       "\u001b[1m}\u001b[0m\u001b[1m)\u001b[0m\n"
      ]
     },
     "metadata": {},
     "output_type": "display_data"
    },
    {
     "data": {
      "application/vnd.jupyter.widget-view+json": {
       "model_id": "1d48ef4059d246df86552f8e1c0a0e24",
       "version_major": 2,
       "version_minor": 0
      },
      "text/plain": [
       "  0%|          | 0/1 [00:00<?, ?ba/s]"
      ]
     },
     "metadata": {},
     "output_type": "display_data"
    },
    {
     "data": {
      "text/html": [
       "<pre style=\"white-space:pre;overflow-x:auto;line-height:normal;font-family:Menlo,'DejaVu Sans Mono',consolas,'Courier New',monospace\"><span style=\"color: #800080; text-decoration-color: #800080; font-weight: bold\">Dataset</span><span style=\"font-weight: bold\">({</span>\n",
       "    features: <span style=\"font-weight: bold\">[</span><span style=\"color: #008000; text-decoration-color: #008000\">'Question'</span>, <span style=\"color: #008000; text-decoration-color: #008000\">'Answering'</span>, <span style=\"color: #008000; text-decoration-color: #008000\">'URL'</span>, <span style=\"color: #008000; text-decoration-color: #008000\">'Label'</span><span style=\"font-weight: bold\">]</span>,\n",
       "    num_rows: <span style=\"color: #008080; text-decoration-color: #008080; font-weight: bold\">1</span>\n",
       "<span style=\"font-weight: bold\">})</span>\n",
       "</pre>\n"
      ],
      "text/plain": [
       "\u001b[1;35mDataset\u001b[0m\u001b[1m(\u001b[0m\u001b[1m{\u001b[0m\n",
       "    features: \u001b[1m[\u001b[0m\u001b[32m'Question'\u001b[0m, \u001b[32m'Answering'\u001b[0m, \u001b[32m'URL'\u001b[0m, \u001b[32m'Label'\u001b[0m\u001b[1m]\u001b[0m,\n",
       "    num_rows: \u001b[1;36m1\u001b[0m\n",
       "\u001b[1m}\u001b[0m\u001b[1m)\u001b[0m\n"
      ]
     },
     "metadata": {},
     "output_type": "display_data"
    }
   ],
   "source": [
    "from langchain import PromptTemplate\n",
    "\n",
    "\n",
    "template = \"\"\"\n",
    "I want you to act as a naming consultant for new companies.\n",
    "\n",
    "Here are some examples of good company names:\n",
    "\n",
    "- search engine, Google\n",
    "- social media, Facebook\n",
    "- video sharing, YouTube\n",
    "\n",
    "The name should be short, catchy and easy to remember.\n",
    "\n",
    "What is a good name for a company that makes {product}?\n",
    "\"\"\"\n",
    "\n",
    "prompt = PromptTemplate(\n",
    "    input_variables=[\"product\"],\n",
    "    template=template,\n",
    ")\n",
    "\n",
    "from langchain.llms import OpenAI\n",
    "llm = OpenAI(model_name=\"text-davinci-003\", n=2, best_of=2)\n",
    "from rich import print\n",
    "print( llm(\"Tell me about yourself\") ) "
   ]
  }
 ],
 "metadata": {
  "kernelspec": {
   "display_name": "Python 3.7.16 ('utd_chatbot')",
   "language": "python",
   "name": "python3"
  },
  "language_info": {
   "codemirror_mode": {
    "name": "ipython",
    "version": 3
   },
   "file_extension": ".py",
   "mimetype": "text/x-python",
   "name": "python",
   "nbconvert_exporter": "python",
   "pygments_lexer": "ipython3",
   "version": "3.9.16"
  },
  "orig_nbformat": 4,
  "vscode": {
   "interpreter": {
    "hash": "c9ff9b4d34df2539584901dcbbee8740b4a40a3636c7400fd1d2b55da32052e7"
   }
  }
 },
 "nbformat": 4,
 "nbformat_minor": 2
}
